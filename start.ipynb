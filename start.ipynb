{
 "cells": [
  {
   "cell_type": "code",
   "execution_count": 132,
   "metadata": {},
   "outputs": [],
   "source": [
    "import sys\n",
    "sys.path.insert(0, 'src') \n",
    "import os\n",
    "import json\n",
    "from functools import partial"
   ]
  },
  {
   "cell_type": "code",
   "execution_count": 133,
   "metadata": {},
   "outputs": [],
   "source": [
    "%reload_ext autoreload\n",
    "%autoreload 2"
   ]
  },
  {
   "cell_type": "code",
   "execution_count": 134,
   "metadata": {},
   "outputs": [],
   "source": [
    "import argparse\n",
    "from tot.methods.bfs import solve\n",
    "from tot.tasks.bio_name import Bio_Name"
   ]
  },
  {
   "cell_type": "code",
   "execution_count": 135,
   "metadata": {},
   "outputs": [],
   "source": [
    "# args = argparse.Namespace(backend='gpt-4-1106-preview', temperature=0.7, task='bio_name', naive_run=False, prompt_sample=None, method_generate='sample_bionames', method_evaluate='votes_for_bionames', method_select='greedy', n_generate_sample=3, n_evaluate_sample=2, n_select_sample=2)\n",
    "args = argparse.Namespace(backend='gpt-3.5-turbo-1106', temperature=0.7, task='bio_name', naive_run=False, prompt_sample=None, method_generate='sample_bionames', method_evaluate='votes_for_bionames', method_select='greedy', n_generate_sample=3, n_evaluate_sample=2, n_select_sample=2)\n",
    "task = Bio_Name()"
   ]
  },
  {
   "cell_type": "markdown",
   "metadata": {},
   "source": []
  },
  {
   "cell_type": "code",
   "execution_count": 136,
   "metadata": {},
   "outputs": [],
   "source": [
    "# import pandas as pd\n",
    "# filename = 'src/tot/data/gene_sets/gene_sets.csv'\n",
    "# df = pd.read_csv(filename, header=None, encoding='latin1')\n",
    "# df.dropna(inplace=True)\n",
    "# df.columns = ['_', '_', 'genes', 'count', 'process']"
   ]
  },
  {
   "cell_type": "code",
   "execution_count": 137,
   "metadata": {},
   "outputs": [],
   "source": [
    "# x = df['genes'].tolist()\n",
    "# y = df['process'].tolist()\n",
    "# with open('src/tot/data/gene_sets/x.txt', 'w') as f:\n",
    "#     for el in x:\n",
    "#         f.write(el + '\\n')\n",
    "        \n",
    "# with open('src/tot/data/gene_sets/y.txt', 'w') as f:\n",
    "#     for el in y:\n",
    "#         f.write(el + '\\n')"
   ]
  },
  {
   "cell_type": "code",
   "execution_count": 138,
   "metadata": {},
   "outputs": [],
   "source": [
    "from transformers import AutoTokenizer, AutoModel\n",
    "from sklearn.metrics.pairwise import cosine_similarity\n",
    "import numpy as np\n",
    "import torch\n",
    "\n",
    "SapBERT_tokenizer = AutoTokenizer.from_pretrained('cambridgeltl/SapBERT-from-PubMedBERT-fulltext')\n",
    "SapBERT_model = AutoModel.from_pretrained('cambridgeltl/SapBERT-from-PubMedBERT-fulltext')"
   ]
  },
  {
   "cell_type": "code",
   "execution_count": 139,
   "metadata": {},
   "outputs": [],
   "source": [
    "def mean_pooling(model_output, attention_mask):\n",
    "    token_embeddings = model_output[0] #First element of model_output contains all token embeddings\n",
    "    input_mask_expanded = attention_mask.unsqueeze(-1).expand(token_embeddings.size()).float()\n",
    "    return torch.sum(token_embeddings * input_mask_expanded, 1) / torch.clamp(input_mask_expanded.sum(1), min=1e-9)"
   ]
  },
  {
   "cell_type": "code",
   "execution_count": 140,
   "metadata": {},
   "outputs": [],
   "source": [
    "def getSentenceEmbedding(sentence, tokenizer, model):\n",
    "    # Tokenize sentences\n",
    "    encoded_input = tokenizer(sentence, padding=True, truncation=True, return_tensors='pt')\n",
    "\n",
    "    # Compute token embeddings\n",
    "    with torch.no_grad():\n",
    "        model_output = model(**encoded_input)\n",
    "        \n",
    "    # Perform pooling. In this case, mean pooling.\n",
    "    sentence_embedding = mean_pooling(model_output, encoded_input['attention_mask'])\n",
    "    \n",
    "    return sentence_embedding"
   ]
  },
  {
   "cell_type": "code",
   "execution_count": 141,
   "metadata": {},
   "outputs": [],
   "source": [
    "def getSentenceSimilarity(sentence1, sentence2, tokenizer, model, simMetric):\n",
    "    sentence1_embedding = getSentenceEmbedding(sentence1, tokenizer, model)\n",
    "    sentence2_embedding = getSentenceEmbedding(sentence2, tokenizer, model)\n",
    "    \n",
    "    if simMetric == \"cosine_similarity\":\n",
    "        sentenceSim = cosine_similarity(sentence1_embedding, sentence2_embedding)[0][0]\n",
    "    # ToDo: add other simMetrics\n",
    "    #elif simMetric == \"cosine_similarity_primitive\": # use primitive operations\n",
    "   #     sentenceSim = np.dot(sentence1_embedding, sentence2_embedding)/(norm(sentence1_embedding)*norm(sentence2_embedding))\n",
    "    \n",
    "    return sentenceSim, sentence1_embedding, sentence2_embedding"
   ]
  },
  {
   "cell_type": "code",
   "execution_count": 157,
   "metadata": {},
   "outputs": [],
   "source": [
    "def similarity_score(x, y):\n",
    "    return getSentenceSimilarity(x, y, SapBERT_tokenizer, SapBERT_model, \"cosine_similarity\")[0]"
   ]
  },
  {
   "cell_type": "code",
   "execution_count": 197,
   "metadata": {},
   "outputs": [
    {
     "name": "stdout",
     "output_type": "stream",
     "text": [
      "Length of all process names:  12174\n",
      "Length of all process names:  12174\n"
     ]
    }
   ],
   "source": [
    "def get_all_labels():\n",
    "    all_process_names = []\n",
    "    for idx in range(12174):\n",
    "        label = task.get_label(idx)\n",
    "        all_process_names.append(label)\n",
    "    print('Length of all process names: ', len(all_process_names))\n",
    "    all_process_names = list(set(all_process_names))\n",
    "    print('Length of all process names: ', len(all_process_names))\n",
    "    return all_process_names\n",
    "\n",
    "all_labels = get_all_labels()\n",
    "\n",
    "import random\n",
    "def similarity_quantile(candidate, y):\n",
    "    scores = []\n",
    "    test_labels = random.sample(all_labels, 100)\n",
    "    for label in test_labels:\n",
    "        if label != y:\n",
    "            scores.append(similarity_score(label, y))\n",
    "    scores = np.array(scores)\n",
    "    candidate_score = similarity_score(candidate, y)\n",
    "    # return the fraction of scores that are smaller than the candidate\n",
    "    return (scores < candidate_score).mean()"
   ]
  },
  {
   "cell_type": "code",
   "execution_count": 198,
   "metadata": {},
   "outputs": [],
   "source": [
    "def test_example(args, task, idx):\n",
    "    label = task.get_label(idx)\n",
    "    final_answer, ys, steps = solve(args, task, idx)\n",
    "    return final_answer, ys, steps, label\n"
   ]
  },
  {
   "cell_type": "code",
   "execution_count": 199,
   "metadata": {},
   "outputs": [],
   "source": [
    "def get_all_candidate_bio_processes(steps):\n",
    "    candidate_processes = []\n",
    "    step_count = 0\n",
    "    for step in steps['steps'][:-1]:\n",
    "        step_count += 1\n",
    "        new_ys = [json.loads(step['new_ys'][i]) for i in range(len(step['new_ys']))]\n",
    "        new_bio_processes = [y['Biological Process'] for y in new_ys]\n",
    "        candidate_processes.extend(new_bio_processes)\n",
    "    candidate_processes = list(set(candidate_processes))\n",
    "    return candidate_processes\n",
    "    "
   ]
  },
  {
   "cell_type": "code",
   "execution_count": 200,
   "metadata": {},
   "outputs": [],
   "source": [
    "def get_best_candidate_bio_process(candidate_processes, label):\n",
    "    scores = [similarity_score(candidate_process, label) for candidate_process in candidate_processes]\n",
    "    best_candidate_process = candidate_processes[np.argmax(scores)]\n",
    "    return best_candidate_process, np.max(scores)"
   ]
  },
  {
   "cell_type": "code",
   "execution_count": 201,
   "metadata": {},
   "outputs": [],
   "source": [
    "from tot.models import *\n",
    "gpt = partial(gpt, model=args.backend, temperature=args.temperature)\n",
    "def get_gpt_similarity_score(process1, process2):\n",
    "    system_message, user_message = task.similarity_prompt_wrap(process1, process2)\n",
    "    response = gpt(system_message, user_message)\n",
    "    similarity_score = task.unwrap_similarity(response)\n",
    "    return similarity_score"
   ]
  },
  {
   "cell_type": "code",
   "execution_count": 202,
   "metadata": {},
   "outputs": [],
   "source": [
    "import os\n",
    "os.environ[\"TOKENIZERS_PARALLELISM\"] = \"false\"\n"
   ]
  },
  {
   "cell_type": "code",
   "execution_count": 205,
   "metadata": {},
   "outputs": [],
   "source": [
    "def test_example_wrap(idx):\n",
    "    final_answer, ys, steps, label = test_example(args, task, idx)\n",
    "    candidate_processes = get_all_candidate_bio_processes(steps)\n",
    "    best_candidate_process, best_candidate_similarity_score = get_best_candidate_bio_process(candidate_processes, label)\n",
    "    final_answer_similarity_score = similarity_score(final_answer, label)\n",
    "    final_answer_gpt_similarity_score = get_gpt_similarity_score(final_answer, label)\n",
    "    final_answer_similarity_quantile = similarity_quantile(final_answer, label)\n",
    "    best_candidate_similarity_quantile = similarity_quantile(best_candidate_process, label)\n",
    "    print('Index:', idx)\n",
    "    print('Final answer:', final_answer)\n",
    "    print('True answer:', label.strip())\n",
    "    print('Final answer similarity score:', similarity_score(final_answer, label))\n",
    "    print('Best candidate process:', best_candidate_process)\n",
    "    print('Best candidate similarity score:', best_candidate_similarity_score)\n",
    "    print('GPT final answer similarity score:', final_answer_gpt_similarity_score)\n",
    "    print('GPT best candidate similarity score:', get_gpt_similarity_score(best_candidate_process, label))\n",
    "    print('Final Answer Similarity Quantile:', final_answer_similarity_quantile)\n",
    "    print('Best Candidate Similarity Quantile:', best_candidate_similarity_quantile)\n",
    "    print()\n",
    "    return {'index': idx, 'final answer': final_answer, 'ys': ys, 'steps': steps, 'label': label, 'final answer similarity score': final_answer_similarity_score,'best candidate process': best_candidate_process, 'best similarity score': best_candidate_similarity_score, 'GPT similarity score': final_answer_gpt_similarity_score,\n",
    "            'final answer similarity quantile': final_answer_similarity_quantile, 'best candidate similarity quantile': best_candidate_similarity_quantile}"
   ]
  },
  {
   "cell_type": "code",
   "execution_count": 204,
   "metadata": {},
   "outputs": [
    {
     "name": "stdout",
     "output_type": "stream",
     "text": [
      "0.79\n"
     ]
    }
   ],
   "source": [
    "print(similarity_quantile('Intrinsic Apoptotic Signaling Pathway', 'positive regulation of calcium ion transport into cytosol'))"
   ]
  },
  {
   "cell_type": "code",
   "execution_count": 207,
   "metadata": {},
   "outputs": [
    {
     "name": "stdout",
     "output_type": "stream",
     "text": [
      "Index: 100\n",
      "Final answer: Synaptic GABA receptor signaling\n",
      "True answer: cell surface receptor signaling pathway involved in cell-cell signaling\n",
      "Final answer similarity score: 0.45098972\n",
      "Best candidate process: Cell Signaling\n",
      "Best candidate similarity score: 0.81842685\n",
      "GPT final answer similarity score: 7\n",
      "GPT best candidate similarity score: 9\n",
      "Final Answer Similarity Quantile: 1.0\n",
      "Best Candidate Similarity Quantile: 1.0\n",
      "\n",
      "Index: 101\n",
      "Final answer: Clathrin-coated vesicle formation\n",
      "True answer: transferrin transport\n",
      "Final answer similarity score: 0.4527343\n",
      "Best candidate process: Transferrin transport\n",
      "Best candidate similarity score: 0.9999998\n",
      "GPT final answer similarity score: 8\n",
      "GPT best candidate similarity score: 10\n",
      "Final Answer Similarity Quantile: 0.93\n",
      "Best Candidate Similarity Quantile: 1.0\n",
      "\n",
      "Index: 102\n",
      "Final answer: MDM2-Mediated Ubiquitination of TP53\n",
      "True answer: cellular response to actinomycin D\n",
      "Final answer similarity score: 0.26846898\n",
      "Best candidate process: Cellular Response to Stress\n",
      "Best candidate similarity score: 0.6327927\n",
      "GPT final answer similarity score: 3\n",
      "GPT best candidate similarity score: 8\n",
      "Final Answer Similarity Quantile: 0.27\n",
      "Best Candidate Similarity Quantile: 0.98\n",
      "\n",
      "Index: 103\n",
      "Final answer: Glycine Cleavage System\n",
      "True answer: glycine decarboxylation via glycine cleavage system\n",
      "Final answer similarity score: 0.90342474\n",
      "Best candidate process: Glycine Cleavage System\n",
      "Best candidate similarity score: 0.90342474\n",
      "GPT final answer similarity score: 9\n",
      "GPT best candidate similarity score: 10\n",
      "Final Answer Similarity Quantile: 1.0\n",
      "Best Candidate Similarity Quantile: 1.0\n",
      "\n",
      "Index: 104\n",
      "Final answer: NO-mediated vasodilation\n",
      "True answer: smooth muscle adaptation\n",
      "Final answer similarity score: 0.44841284\n",
      "Best candidate process: Response to oxidative stress in endothelial cells\n",
      "Best candidate similarity score: 0.46422535\n",
      "GPT final answer similarity score: 7\n",
      "GPT best candidate similarity score: 3\n",
      "Final Answer Similarity Quantile: 0.92\n",
      "Best Candidate Similarity Quantile: 0.96\n",
      "\n",
      "Index: 105\n",
      "Final answer: Potassium Ion Channel Signaling\n",
      "True answer: positive regulation of voltage-gated potassium channel activity\n",
      "Final answer similarity score: 0.5897338\n",
      "Best candidate process: Potassium Ion Channel Signaling\n",
      "Best candidate similarity score: 0.5897338\n",
      "GPT final answer similarity score: 9\n",
      "GPT best candidate similarity score: 8\n",
      "Final Answer Similarity Quantile: 1.0\n",
      "Best Candidate Similarity Quantile: 1.0\n",
      "\n",
      "Index: 106\n",
      "Final answer: Regulation of sarcoplasmic reticulum calcium ion transport\n",
      "True answer: regulation of ATPase-coupled calcium transmembrane transporter activity\n",
      "Final answer similarity score: 0.804212\n",
      "Best candidate process: Regulation of sarcoplasmic reticulum calcium ion transport\n",
      "Best candidate similarity score: 0.804212\n",
      "GPT final answer similarity score: 9\n",
      "GPT best candidate similarity score: 8\n",
      "Final Answer Similarity Quantile: 1.0\n",
      "Best Candidate Similarity Quantile: 1.0\n",
      "\n",
      "Index: 107\n",
      "Final answer: Osteoclast Fusion\n",
      "True answer: positive regulation of fever generation by positive regulation of prostaglandin secretion\n",
      "Final answer similarity score: 0.24085234\n",
      "Best candidate process: Osteoclast Activation\n",
      "Best candidate similarity score: 0.29461867\n",
      "GPT final answer similarity score: 2\n",
      "GPT best candidate similarity score: 2\n",
      "Final Answer Similarity Quantile: 0.56\n",
      "Best Candidate Similarity Quantile: 0.75\n",
      "\n",
      "Index: 108\n",
      "Final answer: Pseudouridylation of 18S ribosomal RNA\n",
      "True answer: enzyme-directed rRNA pseudouridine synthesis\n",
      "Final answer similarity score: 0.6528524\n",
      "Best candidate process: rRNA pseudouridylation\n",
      "Best candidate similarity score: 0.76412386\n",
      "GPT final answer similarity score: 9\n",
      "GPT best candidate similarity score: 8\n",
      "Final Answer Similarity Quantile: 1.0\n",
      "Best Candidate Similarity Quantile: 1.0\n",
      "\n",
      "Index: 109\n",
      "Final answer: IL7R-mediated CD4+ T Cell Activation\n",
      "True answer: lymph node development\n",
      "Final answer similarity score: 0.23884591\n",
      "Best candidate process: Lymphocyte Differentiation\n",
      "Best candidate similarity score: 0.71293545\n",
      "GPT final answer similarity score: 5\n",
      "GPT best candidate similarity score: 7\n",
      "Final Answer Similarity Quantile: 0.38\n",
      "Best Candidate Similarity Quantile: 1.0\n",
      "\n"
     ]
    }
   ],
   "source": [
    "results = []\n",
    "for idx in range(100, 110):\n",
    "    results.append(test_example_wrap(idx))"
   ]
  },
  {
   "cell_type": "code",
   "execution_count": 208,
   "metadata": {},
   "outputs": [
    {
     "name": "stdout",
     "output_type": "stream",
     "text": [
      "Index: 110\n",
      "Final answer: HOXB13 modulation of canonical Wnt signaling pathway\n",
      "True answer: epithelial cell differentiation involved in prostate gland development\n",
      "Final answer similarity score: 0.35918865\n",
      "Best candidate process: Prostate Gland Development\n",
      "Best candidate similarity score: 0.84307796\n",
      "GPT final answer similarity score: 7\n",
      "GPT best candidate similarity score: 9\n",
      "Final Answer Similarity Quantile: 0.8\n",
      "Best Candidate Similarity Quantile: 1.0\n",
      "\n",
      "Index: 111\n",
      "Final answer: Cholesterol biosynthesis in the endoplasmic reticulum\n",
      "True answer: regulation of glycoprotein metabolic process\n",
      "Final answer similarity score: 0.21200942\n",
      "Best candidate process: Protein metabolism\n",
      "Best candidate similarity score: 0.511616\n",
      "GPT final answer similarity score: 3\n",
      "GPT best candidate similarity score: 7\n",
      "Final Answer Similarity Quantile: 0.32\n",
      "Best Candidate Similarity Quantile: 0.99\n",
      "\n",
      "Index: 112\n",
      "Final answer: Glucose Phosphorylation\n",
      "True answer: GDP-mannose biosynthetic process\n",
      "Final answer similarity score: 0.34676367\n",
      "Best candidate process: Mannose Metabolism\n",
      "Best candidate similarity score: 0.5724795\n",
      "GPT final answer similarity score: 4\n",
      "GPT best candidate similarity score: 8\n",
      "Final Answer Similarity Quantile: 0.85\n",
      "Best Candidate Similarity Quantile: 1.0\n",
      "\n",
      "Index: 113\n",
      "Final answer: Complex N-Glycan Biosynthetic Process\n",
      "True answer: GDP-L-fucose metabolic process\n",
      "Final answer similarity score: 0.27718055\n",
      "Best candidate process: FUT8-Mediated N-Glycosylation\n",
      "Best candidate similarity score: 0.46654266\n",
      "GPT final answer similarity score: 4\n",
      "GPT best candidate similarity score: 7\n",
      "Final Answer Similarity Quantile: 0.72\n",
      "Best Candidate Similarity Quantile: 0.99\n",
      "\n",
      "Index: 114\n",
      "Final answer: Antigen Presentation\n",
      "True answer: positive regulation of natural killer cell degranulation\n",
      "Final answer similarity score: 0.21674332\n",
      "Best candidate process: Natural Killer Cell Activation\n",
      "Best candidate similarity score: 0.7362524\n",
      "GPT final answer similarity score: 3\n",
      "GPT best candidate similarity score: 9\n",
      "Final Answer Similarity Quantile: 0.76\n",
      "Best Candidate Similarity Quantile: 1.0\n",
      "\n",
      "Index: 115\n",
      "Final answer: Macrophage Activation\n",
      "True answer: positive regulation of microglial cell activation\n",
      "Final answer similarity score: 0.698449\n",
      "Best candidate process: Microglial Activation\n",
      "Best candidate similarity score: 0.8961072\n",
      "GPT final answer similarity score: 8\n",
      "GPT best candidate similarity score: 10\n",
      "Final Answer Similarity Quantile: 1.0\n",
      "Best Candidate Similarity Quantile: 1.0\n",
      "\n",
      "Index: 116\n",
      "Final answer: ERBB4-regulated G1/S Transition\n",
      "True answer: cardiac muscle tissue regeneration\n",
      "Final answer similarity score: 0.33607325\n",
      "Best candidate process: Cardiomyocyte Differentiation\n",
      "Best candidate similarity score: 0.76196694\n",
      "GPT final answer similarity score: 3\n",
      "GPT best candidate similarity score: 9\n",
      "Final Answer Similarity Quantile: 0.65\n",
      "Best Candidate Similarity Quantile: 1.0\n",
      "\n",
      "Index: 117\n",
      "Final answer: Positive regulation of T cell receptor signaling pathway\n",
      "True answer: regulation of cell-cell adhesion\n",
      "Final answer similarity score: 0.18619324\n",
      "Best candidate process: Cell signaling\n",
      "Best candidate similarity score: 0.5700979\n",
      "GPT final answer similarity score: 3\n",
      "GPT best candidate similarity score: 8\n",
      "Final Answer Similarity Quantile: 0.26\n",
      "Best Candidate Similarity Quantile: 1.0\n",
      "\n",
      "Index: 118\n",
      "Final answer: BMP Signaling Pathway-Mediated Osteoblast Differentiation\n",
      "True answer: aldehyde biosynthetic process\n",
      "Final answer similarity score: 0.2454082\n",
      "Best candidate process: Aldosterone Biosynthesis\n",
      "Best candidate similarity score: 0.5724247\n",
      "GPT final answer similarity score: 2\n",
      "GPT best candidate similarity score: 3\n",
      "Final Answer Similarity Quantile: 0.5\n",
      "Best Candidate Similarity Quantile: 1.0\n",
      "\n",
      "Index: 119\n",
      "Final answer: Positive Regulation of TWIST1 Transcription by ASXL1\n",
      "True answer: negative regulation of peroxisome proliferator activated receptor signaling pathway\n",
      "Final answer similarity score: 0.16675691\n",
      "Best candidate process: Adipocyte Differentiation\n",
      "Best candidate similarity score: 0.36739957\n",
      "GPT final answer similarity score: 3\n",
      "GPT best candidate similarity score: 7\n",
      "Final Answer Similarity Quantile: 0.42\n",
      "Best Candidate Similarity Quantile: 0.95\n",
      "\n"
     ]
    }
   ],
   "source": [
    "for idx in range(110, 120):\n",
    "    results.append(test_example_wrap(idx))"
   ]
  },
  {
   "cell_type": "code",
   "execution_count": null,
   "metadata": {},
   "outputs": [],
   "source": [
    "# final_answer, ys, infos = solve(args, task, 0)\n",
    "# print(ys[0])"
   ]
  },
  {
   "cell_type": "code",
   "execution_count": null,
   "metadata": {},
   "outputs": [],
   "source": [
    "# ys, infos = solve(args, task, 0)\n",
    "# print(ys[0])"
   ]
  }
 ],
 "metadata": {
  "kernelspec": {
   "display_name": "Python 3",
   "language": "python",
   "name": "python3"
  },
  "language_info": {
   "codemirror_mode": {
    "name": "ipython",
    "version": 3
   },
   "file_extension": ".py",
   "mimetype": "text/x-python",
   "name": "python",
   "nbconvert_exporter": "python",
   "pygments_lexer": "ipython3",
   "version": "3.11.1"
  }
 },
 "nbformat": 4,
 "nbformat_minor": 2
}
