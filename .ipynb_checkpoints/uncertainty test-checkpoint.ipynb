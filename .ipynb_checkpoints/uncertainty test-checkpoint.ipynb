{
 "cells": [
  {
   "cell_type": "code",
   "execution_count": 9,
   "id": "3e1faaa4",
   "metadata": {},
   "outputs": [
    {
     "name": "stdout",
     "output_type": "stream",
     "text": [
      "Q: whats your name?\n",
      "A1: ethan\n",
      "A2: aiden\n",
      "A3: anita\n",
      "A4: ethan is \n"
     ]
    },
    {
     "data": {
      "text/plain": [
       "'Q: whats your name?\\nA1: ethan\\nA2: aiden\\nA3: anita\\nA4: ethan is \\nAnswer set at the begining: l'"
      ]
     },
     "execution_count": 9,
     "metadata": {},
     "output_type": "execute_result"
    }
   ],
   "source": [
    "q = 'whats your name?'\n",
    "rewrite_answers = ['ethan', 'aiden', 'anita', 'ethan is ']\n",
    "prompt_q = 'Q: ' + q\n",
    "\n",
    "ans2id = {}\n",
    "cleaned_answers = []\n",
    "for cdt_ans in rewrite_answers:\n",
    "    if cdt_ans.startswith('A: '):\n",
    "        cdt_ans = cdt_ans[len('A: '):]\n",
    "    cleaned_answers.append(cdt_ans)\n",
    "    if cdt_ans not in ans2id: ans2id[cdt_ans] = len(ans2id)\n",
    "\n",
    "for ans_id, cdt_ans in enumerate(list(ans2id.keys())):\n",
    "    prompt_q = prompt_q + f'\\nA{ans_id+1}: ' + cdt_ans\n",
    "print(prompt_q)\n",
    "prev_ans_set='l'\n",
    "prompt_q = prompt_q + f'\\nAnswer set at the begining: {prev_ans_set}'\n",
    "user_prompt = prompt_q\n",
    "user_prompt"
   ]
  },
  {
   "cell_type": "code",
   "execution_count": 19,
   "id": "a1116def",
   "metadata": {},
   "outputs": [],
   "source": [
    "\n",
    "from transformers import AutoTokenizer, AutoModel\n",
    "from sklearn.metrics.pairwise import cosine_similarity\n",
    "import torch\n",
    "SapBERT_tokenizer = AutoTokenizer.from_pretrained('cambridgeltl/SapBERT-from-PubMedBERT-fulltext')\n",
    "SapBERT_model = AutoModel.from_pretrained('cambridgeltl/SapBERT-from-PubMedBERT-fulltext')\n"
   ]
  },
  {
   "cell_type": "code",
   "execution_count": 23,
   "id": "2be1e6eb",
   "metadata": {},
   "outputs": [],
   "source": [
    "def get_emb(names):\n",
    "    encoded_input = SapBERT_tokenizer(names, padding=True, truncation=True, return_tensors='pt')\n",
    "    # Compute token embeddings\n",
    "    with torch.no_grad():\n",
    "        model_output = SapBERT_model(**encoded_input)\n",
    "\n",
    "    # Perform pooling. In this case, mean pooling.\n",
    "    sentence_embedding = model_output.last_hidden_state.mean(dim=1)\n",
    "    return sentence_embedding"
   ]
  },
  {
   "cell_type": "code",
   "execution_count": 24,
   "id": "63f12d49",
   "metadata": {},
   "outputs": [],
   "source": [
    "names = ['ethan', 'anita', 'aiden']"
   ]
  },
  {
   "cell_type": "code",
   "execution_count": 28,
   "id": "00f796fe",
   "metadata": {},
   "outputs": [
    {
     "data": {
      "text/plain": [
       "tensor([[ 0.3823,  0.1725, -0.1433,  ...,  0.1912,  1.4871, -0.1506],\n",
       "        [-0.2917, -0.7279, -0.2811,  ...,  0.3248,  1.0667,  0.3110],\n",
       "        [-0.7845,  0.0559, -0.0715,  ...,  0.6758, -0.0391, -0.1651]])"
      ]
     },
     "execution_count": 28,
     "metadata": {},
     "output_type": "execute_result"
    }
   ],
   "source": [
    "emb = get_emb(names)\n",
    "emb"
   ]
  },
  {
   "cell_type": "code",
   "execution_count": 32,
   "id": "bb263a72",
   "metadata": {},
   "outputs": [
    {
     "data": {
      "text/plain": [
       "array([[1.0000002 , 0.49508655, 0.4311275 ],\n",
       "       [0.49508655, 0.99999994, 0.41205308],\n",
       "       [0.4311275 , 0.41205308, 1.0000002 ]], dtype=float32)"
      ]
     },
     "execution_count": 32,
     "metadata": {},
     "output_type": "execute_result"
    }
   ],
   "source": [
    "similarity_score = cosine_similarity(emb)#[0][0]\n",
    "similarity_score"
   ]
  },
  {
   "cell_type": "code",
   "execution_count": null,
   "id": "e0b55573",
   "metadata": {},
   "outputs": [],
   "source": []
  }
 ],
 "metadata": {
  "kernelspec": {
   "display_name": "Python 3 (ipykernel)",
   "language": "python",
   "name": "python3"
  },
  "language_info": {
   "codemirror_mode": {
    "name": "ipython",
    "version": 3
   },
   "file_extension": ".py",
   "mimetype": "text/x-python",
   "name": "python",
   "nbconvert_exporter": "python",
   "pygments_lexer": "ipython3",
   "version": "3.11.4"
  }
 },
 "nbformat": 4,
 "nbformat_minor": 5
}
