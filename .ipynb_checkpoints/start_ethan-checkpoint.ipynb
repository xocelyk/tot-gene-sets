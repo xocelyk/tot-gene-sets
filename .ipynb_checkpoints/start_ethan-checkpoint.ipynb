{
 "cells": [
  {
   "cell_type": "code",
   "execution_count": 1,
   "id": "28dffa56",
   "metadata": {},
   "outputs": [],
   "source": [
    "import sys\n",
    "sys.path.insert(0, 'src') \n",
    "import os\n",
    "import json\n",
    "from functools import partial"
   ]
  },
  {
   "cell_type": "code",
   "execution_count": 2,
   "id": "71033f68",
   "metadata": {},
   "outputs": [],
   "source": [
    "%reload_ext autoreload\n",
    "%autoreload 2"
   ]
  },
  {
   "cell_type": "code",
   "execution_count": 3,
   "id": "b8d09d76",
   "metadata": {},
   "outputs": [],
   "source": [
    "import argparse\n",
    "from tot.methods.bfs import solve\n",
    "from tot.tasks.bio_name import Bio_Name"
   ]
  },
  {
   "cell_type": "code",
   "execution_count": 4,
   "id": "438f8cfe",
   "metadata": {},
   "outputs": [],
   "source": [
    "args = argparse.Namespace(backend='gpt-3.5-turbo-1106', temperature=0.7, task='bio_name', naive_run=False, \\\n",
    "                          prompt_sample=None, method_generate='sample_bionames', \\\n",
    "                          method_evaluate='multi_voters', method_select='greedy', n_generate_sample=3, \\\n",
    "                          n_evaluate_sample=2, n_select_sample=2, \\\n",
    "                          source='GO:BP', bio_type=\"Biological Process\",filter_method='sim', filter_size=5, voting_setting=None)\n",
    "task = Bio_Name()"
   ]
  },
  {
   "cell_type": "code",
   "execution_count": 5,
   "id": "1e506343",
   "metadata": {},
   "outputs": [],
   "source": [
    "def test_example(args, task, idx):\n",
    "    label = task.get_label(idx)\n",
    "    final_answer, ys, steps = solve(args, task, idx)\n",
    "    return final_answer, ys, steps, label\n"
   ]
  },
  {
   "cell_type": "code",
   "execution_count": 6,
   "id": "a2554418",
   "metadata": {},
   "outputs": [],
   "source": [
    "from tot.models import *\n",
    "gpt = partial(gpt, model=args.backend, temperature=args.temperature)\n",
    "def get_gpt_similarity_score(process1, process2):\n",
    "    system_message, user_message = task.similarity_prompt_wrap(process1, process2)\n",
    "    response = gpt(system_message, user_message)\n",
    "    similarity_score = task.unwrap_similarity(response)\n",
    "    return similarity_score"
   ]
  },
  {
   "cell_type": "code",
   "execution_count": 7,
   "id": "60f24952",
   "metadata": {
    "scrolled": false
   },
   "outputs": [
    {
     "name": "stdout",
     "output_type": "stream",
     "text": [
      "Biological Process Apoptosis\n",
      "Biological Process Inflammatory response\n",
      "Biological Process Cell signaling\n"
     ]
    },
    {
     "name": "stderr",
     "output_type": "stream",
     "text": [
      "Asking to truncate to max_length but no maximum length is provided and the model has no predefined maximum length. Default to no truncation.\n"
     ]
    },
    {
     "name": "stdout",
     "output_type": "stream",
     "text": [
      "torch.Size([1, 768])\n",
      "torch.Size([1, 768])\n",
      "torch.Size([1, 768])\n",
      "bio_name -- system_message \n",
      "Given the gene set: BAX BAK1 P2RX7 PLA2G1B CAV1 TRPC3 P2RX5 GRIN1 P2RX3 ADCYAP1R1 P2RX2 LHCGR P2RX4\n",
      "\n",
      "\n",
      "Our model has proposed 1:{'Step': '1', 'Biological Process': 'Apoptosis', 'Reason': 'Many of the genes in the given set, such as BAX and BAK1, are known to be involved in the regulation of apoptosis, which is a fundamental biological process of programmed cell death. Therefore, it is likely that the system involving the expression of these genes may be involved in the process of apoptosis.'}, 2:{'Step': '1', 'Biological Process': 'Inflammatory response', 'Reason': \"Genes such as P2RX7 and PLA2G1B are associated with inflammatory responses. The expression of these genes suggests a potential involvement in the regulation of the inflammatory response, which is a general biological process involving the body's response to injury or infection.\"}, 3:{'Step': '1', 'Biological Process': 'Cell signaling', 'Reason': 'The set of genes includes several receptor genes, such as P2RX2, P2RX3, and LHCGR, as well as signaling molecules like ADCYAP1R1. This suggests that the system involving the expression of these genes may be involved in the general biological process of cell signaling, which is crucial for communication and coordination within biological systems.'},  to be the term of this gene set. \n",
      "\n",
      "We used GProfiler to conduct an enrichment analysis\n",
      "Here are the top 10 results:\n",
      "    source             native                                                      name       p_value  significant                                                                                                                                                                                                                                                                                                                                                                                                                                                  description  term_size  query_size  intersection_size  effective_domain_size  precision    recall    query                                           parents\n",
      "128  GO:BP         GO:0003008                                            system process  1.253112e-03         True                                                                                                                                                                                        \"A multicellular organismal process carried out by any of the organs or tissues in an organ system. An organ system is a regularly interacting or interdependent group of organs or tissues that work together to carry out a biological objective.\" [GOC:mtg_cardio]       2266          13                  9                  21010   0.692308  0.003972  query_1                                      [GO:0032501]\n",
      "129   REAC  REAC:R-HSA-109582                                                Hemostasis  1.337258e-03         True                                                                                                                                                                                                                                                                                                                                                                                                                                                   Hemostasis        672          13                  7                  10835   0.538462  0.010417  query_1                                    [REAC:0000000]\n",
      "136  GO:CC         GO:0097136                              Bcl-2 family protein complex  2.336750e-03         True                                                                             \"A protein complex that consists of members of the Bcl-2 family of anti- and proapoptotic regulators. Bcl-2 proteins respond to cues from various forms of intracellular stress, such as DNA damage or cytokine deprivation, and interact with opposing family members to determine whether or not the caspase proteolytic cascade should be unleashed.\" [GOC:so, PMID:14634621]         12          13                  2                  22090   0.153846  0.166667  query_1                                      [GO:0032991]\n",
      "137  GO:CC         GO:0098794                                               postsynapse  2.441342e-03         True                                                                                                                                                                                                                                                                                                                                                                                    \"The part of a synapse that is part of the post-synaptic cell.\" [GOC:dos]        644          13                  5                  22090   0.384615  0.007764  query_1                          [GO:0045202, GO:0110165]\n",
      "150  GO:BP         GO:0019220                 regulation of phosphate metabolic process  4.644986e-03         True                                                                                                                                                                                                                                                                                                                    \"Any process that modulates the frequency, rate or extent of the chemical reactions and pathways involving phosphates.\" [GOC:go_curators]       1261          13                  7                  21010   0.538462  0.005551  query_1                          [GO:0006796, GO:0051174]\n",
      "154  GO:BP         GO:1902262  apoptotic process involved in blood vessel morphogenesis  4.770969e-03         True                                                                                                                                                                                                                                                                                                                           \"Any apoptotic process that is involved in blood vessel morphogenesis.\" [GOC:dph, GOC:mtg_apoptosis, GOC:TermGenie, PMID:16163358]          5          13                  2                  21010   0.153846  0.400000  query_1                          [GO:0048514, GO:0060561]\n",
      "31    REAC  REAC:R-HSA-139853                        Elevation of cytosolic Ca2+ levels  1.927112e-12         True                                                                                                                                                                                                                                                                                                                                                                                                                           Elevation of cytosolic Ca2+ levels         16          13                  6                  10835   0.461538  0.375000  query_1                               [REAC:R-HSA-418360]\n",
      "160  GO:BP         GO:0071310                    cellular response to organic substance  7.490367e-03         True                                                                                                                                                                                                                                                    \"Any process that results in a change in state or activity of a cell (in terms of movement, secretion, enzyme production, gene expression, etc.) as a result of an organic substance stimulus.\" [GOC:mah]       2001          13                  8                  21010   0.615385  0.003998  query_1                          [GO:0010033, GO:0070887]\n",
      "39   GO:MF         GO:0016502                              nucleotide receptor activity  2.690303e-10         True                                                                                                                                                                                  \"Combining with a nucleotide and transmitting the signal from one side of the membrane to the other to initiate a change in cell activity. A nucleotide is a compound that consists of a nucleoside esterified with a phosphate molecule.\" [GOC:signaling, ISBN:0198506732]         22          13                  5                  20139   0.384615  0.227273  query_1                                      [GO:0004888]\n",
      "43   GO:MF         GO:0022803                passive transmembrane transporter activity  5.453070e-10         True                                                                                                                                                                               \"Enables the transfer of a single solute from one side of a membrane to the other by a mechanism involving conformational change, either by facilitated diffusion or in a membrane potential dependent process if the solute is charged.\" [GOC:mtg_transport, ISBN:0815340729]        507          13                  9                  20139   0.692308  0.017751  query_1                                      [GO:0022857]\n",
      "50   GO:BP         GO:0010033                             response to organic substance  4.909480e-09         True                                                                                                                                                                                                                       \"Any process that results in a change in state or activity of a cell or an organism (in terms of movement, secretion, enzyme production, gene expression, etc.) as a result of an organic substance stimulus.\" [GOC:sm, PMID:23356676]       2775          13                 13                  21010   1.000000  0.004685  query_1                                      [GO:0042221]\n",
      "55   GO:BP         GO:1902533  positive regulation of intracellular signal transduction  1.461814e-08         True                                                                                                                                                                                                                                                                                       \"Any process that activates or increases the frequency, rate or extent of intracellular signal transduction.\" [GOC:BHF, GOC:dph, GOC:signaling, GOC:tb, GOC:TermGenie]        972          13                 10                  21010   0.769231  0.010288  query_1              [GO:0009967, GO:0035556, GO:1902531]\n",
      "57   GO:BP         GO:0060079                         excitatory postsynaptic potential  2.544850e-08         True                                                                                                                                          \"A process that leads to a temporary increase in postsynaptic potential due to the flow of positively charged ions into the postsynaptic cell. The flow of ions that causes an EPSP is an excitatory postsynaptic current (EPSC) and makes it easier for the neuron to fire an action potential.\" [GOC:dph, GOC:ef]        102          13                  6                  21010   0.461538  0.058824  query_1                          [GO:0060078, GO:0099565]\n",
      "59   GO:BP         GO:0050850         positive regulation of calcium-mediated signaling  3.319006e-08         True                                                                                                                                                                                                                                                                                                                                              \"Any process that activates or increases the frequency, rate or extent of calcium-mediated signaling.\" [GOC:ai]         40          13                  5                  21010   0.384615  0.125000  query_1              [GO:0019722, GO:0050848, GO:1902533]\n",
      "74   GO:BP         GO:0048583                        regulation of response to stimulus  4.256188e-07         True                                                                                                                                                                      \"Any process that modulates the frequency, rate or extent of a response to a stimulus. Response to stimulus is a change in state or activity of a cell or an organism (in terms of movement, secretion, enzyme production, gene expression, etc.) as a result of a stimulus.\" [GOC:jid]       3909          13                 13                  21010   1.000000  0.003326  query_1                          [GO:0050789, GO:0050896]\n",
      "78   GO:MF         GO:0022857                        transmembrane transporter activity  6.859061e-07         True                                                                                                                                                                                                                                                                \"Enables the transfer of a substance, usually a specific substance or a group of related substances, from one side of a membrane to the other.\" [GOC:jid, GOC:mtg_transport, ISBN:0815340729]       1130          13                  9                  20139   0.692308  0.007965  query_1                                      [GO:0005215]\n",
      "81   GO:BP         GO:0009966                         regulation of signal transduction  9.662400e-07         True                                                                                                                                                                                                                                                                                                                                                                  \"Any process that modulates the frequency, rate or extent of signal transduction.\" [GOC:sm]       2973          13                 12                  21010   0.923077  0.004036  query_1  [GO:0007165, GO:0010646, GO:0023051, GO:0048583]\n",
      "82   GO:BP         GO:1902074                                          response to salt  1.012219e-06         True                                                                                                                                                                                                                     \"Any process that results in a change in state or activity of a cell or an organism (in terms of movement, secretion, enzyme production, gene expression, etc.) as a result of a salt stimulus.\" [GOC:mls, GOC:TermGenie, PMID:16666921]        368          13                  7                  21010   0.538462  0.019022  query_1                                      [GO:0042221]\n",
      "83   GO:BP         GO:0050848                  regulation of calcium-mediated signaling  1.275619e-06         True                                                                                                                                                                                                                                                         \"Any process that modulates the frequency, rate or extent of calcium-mediated signaling, the process in which a cell uses calcium ions to convert an extracellular signal into a response.\" [GOC:ai]         81          13                  5                  21010   0.384615  0.061728  query_1                          [GO:0019722, GO:1902531]\n",
      "86   GO:BP         GO:1902531           regulation of intracellular signal transduction  3.429933e-06         True                                                                                                                                                                                                                                                                                                             \"Any process that modulates the frequency, rate or extent of intracellular signal transduction.\" [GOC:dph, GOC:signaling, GOC:tb, GOC:TermGenie]       1691          13                 10                  21010   0.769231  0.005914  query_1                          [GO:0009966, GO:0035556]\n",
      "98   GO:CC         GO:0097145                                               BAK complex  3.552306e-05         True                                                                                                                                                                                                                                                                                                                \"An oligomeric protein complex consisting of BAK, a member of the Bcl-2 family of anti- and proapoptotic regulators.\" [GOC:so, PMID:14634621]          2          13                  2                  22090   0.153846  1.000000  query_1                                      [GO:0097136]\n",
      "117  GO:BP         GO:0007166                   cell surface receptor signaling pathway  4.320016e-04         True  \"The series of molecular signals initiated by activation of a receptor on the surface of a cell. The pathway begins with binding of an extracellular ligand to a cell surface receptor, or for receptors that signal in the absence of a ligand, by ligand-withdrawal or the activity of a constitutively active receptor. The pathway ends with regulation of a downstream cellular process, e.g. transcription.\" [GOC:bf, GOC:mah, GOC:pr, GOC:signaling]       2783          13                 10                  21010   0.769231  0.003593  query_1                                      [GO:0007165]\n",
      "119  GO:BP         GO:0006873                  intracellular monoatomic ion homeostasis  4.779710e-04         True                                                                                                                                                                                                                                                    \"A homeostatic process involved in the maintenance of a steady state level of monoatomic ions within a cell. Monatomic ions (also called simple ions) are ions consisting of exactly one atom.\" [GOC:mah]        526          13                  6                  21010   0.461538  0.011407  query_1                          [GO:0050801, GO:0055082]\n",
      "125  GO:CC         GO:0030054                                             cell junction  9.053519e-04         True                                                                                      \"A cellular component that forms a specialized region of connection between two or more cells, or between a cell and the extracellular matrix, or between two membrane-bound components of a cell, such as flagella.\" [GOC:aruk, GOC:bc, GOC:mah, http://www.vivo.colostate.edu/hbooks/cmb/cells/pmemb/junctions_a.html, ISBN:0198506732, PMID:26820516, PMID:28096264]       2214          13                  8                  22090   0.615385  0.003613  query_1                                      [GO:0110165]\n",
      "\n",
      "Would the proposed term be suitable and supported by GProfiler? \n",
      "\n"
     ]
    },
    {
     "ename": "NameError",
     "evalue": "name 'error' is not defined",
     "output_type": "error",
     "traceback": [
      "\u001b[0;31m---------------------------------------------------------------------------\u001b[0m",
      "\u001b[0;31mNameError\u001b[0m                                 Traceback (most recent call last)",
      "Cell \u001b[0;32mIn[7], line 1\u001b[0m\n\u001b[0;32m----> 1\u001b[0m test_example(args, task, \u001b[38;5;241m0\u001b[39m)\n",
      "Cell \u001b[0;32mIn[5], line 3\u001b[0m, in \u001b[0;36mtest_example\u001b[0;34m(args, task, idx)\u001b[0m\n\u001b[1;32m      1\u001b[0m \u001b[38;5;28;01mdef\u001b[39;00m \u001b[38;5;21mtest_example\u001b[39m(args, task, idx):\n\u001b[1;32m      2\u001b[0m     label \u001b[38;5;241m=\u001b[39m task\u001b[38;5;241m.\u001b[39mget_label(idx)\n\u001b[0;32m----> 3\u001b[0m     final_answer, ys, steps \u001b[38;5;241m=\u001b[39m solve(args, task, idx)\n\u001b[1;32m      4\u001b[0m     \u001b[38;5;28;01mreturn\u001b[39;00m final_answer, ys, steps, label\n",
      "File \u001b[0;32m/data/ch52669/gene_interaction/tot-gene-sets/src/tot/methods/bfs.py:214\u001b[0m, in \u001b[0;36msolve\u001b[0;34m(args, task, idx, to_print)\u001b[0m\n\u001b[1;32m    212\u001b[0m     values, vote_outputs \u001b[38;5;241m=\u001b[39m get_votes_for_bionames(task, x, new_ys, args\u001b[38;5;241m.\u001b[39mn_evaluate_sample, step, \u001b[38;5;28;01mNone\u001b[39;00m, args)\n\u001b[1;32m    213\u001b[0m \u001b[38;5;28;01melif\u001b[39;00m args\u001b[38;5;241m.\u001b[39mmethod_evaluate \u001b[38;5;241m==\u001b[39m \u001b[38;5;124m'\u001b[39m\u001b[38;5;124mmulti_voters\u001b[39m\u001b[38;5;124m'\u001b[39m:\n\u001b[0;32m--> 214\u001b[0m     values, vote_outputs \u001b[38;5;241m=\u001b[39m get_multivotes_for_bionames(task, x, new_ys, args\u001b[38;5;241m.\u001b[39mn_evaluate_sample, step, args)\n\u001b[1;32m    216\u001b[0m     \u001b[38;5;66;03m# print(' -- vote outputs --')\u001b[39;00m\n\u001b[1;32m    217\u001b[0m     \u001b[38;5;66;03m# print(vote_outputs)\u001b[39;00m\n\u001b[1;32m    218\u001b[0m     \u001b[38;5;66;03m# print(' -- values --')\u001b[39;00m\n\u001b[0;32m   (...)\u001b[0m\n\u001b[1;32m    223\u001b[0m \n\u001b[1;32m    224\u001b[0m \u001b[38;5;66;03m# selection\u001b[39;00m\n\u001b[1;32m    225\u001b[0m \u001b[38;5;28;01mif\u001b[39;00m args\u001b[38;5;241m.\u001b[39mmethod_select \u001b[38;5;241m==\u001b[39m \u001b[38;5;124m'\u001b[39m\u001b[38;5;124msample\u001b[39m\u001b[38;5;124m'\u001b[39m:\n",
      "File \u001b[0;32m/data/ch52669/gene_interaction/tot-gene-sets/src/tot/methods/bfs.py:46\u001b[0m, in \u001b[0;36mget_multivotes_for_bionames\u001b[0;34m(task, x, ys, n_evaluate_sample, step, args)\u001b[0m\n\u001b[1;32m     45\u001b[0m \u001b[38;5;28;01mdef\u001b[39;00m \u001b[38;5;21mget_multivotes_for_bionames\u001b[39m(task, x, ys, n_evaluate_sample, step, args):\n\u001b[0;32m---> 46\u001b[0m     system_message1, user_message1  \u001b[38;5;241m=\u001b[39m task\u001b[38;5;241m.\u001b[39mvote_w_tool_prompt_wrap(x, ys, args)\n\u001b[1;32m     47\u001b[0m     vote_outputs1 \u001b[38;5;241m=\u001b[39m gpt(system_message1, user_message1, n\u001b[38;5;241m=\u001b[39mn_evaluate_sample, stop\u001b[38;5;241m=\u001b[39m\u001b[38;5;28;01mNone\u001b[39;00m)        \n\u001b[1;32m     48\u001b[0m     values1 \u001b[38;5;241m=\u001b[39m task\u001b[38;5;241m.\u001b[39mvote_outputs_unwrap(vote_outputs1, ys)\n",
      "File \u001b[0;32m/data/ch52669/gene_interaction/tot-gene-sets/src/tot/tasks/bio_name.py:282\u001b[0m, in \u001b[0;36mBio_Name.vote_w_tool_prompt_wrap\u001b[0;34m(x, ys, args)\u001b[0m\n\u001b[1;32m    280\u001b[0m user_message \u001b[38;5;241m=\u001b[39m vote_gprofiler_prompt\u001b[38;5;241m.\u001b[39mformat(\u001b[38;5;28minput\u001b[39m\u001b[38;5;241m=\u001b[39mx, y\u001b[38;5;241m=\u001b[39mproposed_terms, n\u001b[38;5;241m=\u001b[39margs\u001b[38;5;241m.\u001b[39mfilter_size, table\u001b[38;5;241m=\u001b[39msimilar_terms, format_2\u001b[38;5;241m=\u001b[39mjson\u001b[38;5;241m.\u001b[39mdumps(format_2))\n\u001b[1;32m    281\u001b[0m \u001b[38;5;28mprint\u001b[39m(\u001b[38;5;124m'\u001b[39m\u001b[38;5;124mbio_name -- system_message\u001b[39m\u001b[38;5;124m'\u001b[39m,user_message)\n\u001b[0;32m--> 282\u001b[0m error\n\u001b[1;32m    284\u001b[0m \u001b[38;5;28;01mreturn\u001b[39;00m system_message, user_message\n",
      "\u001b[0;31mNameError\u001b[0m: name 'error' is not defined"
     ]
    }
   ],
   "source": [
    "test_example(args, task, 0)"
   ]
  },
  {
   "cell_type": "code",
   "execution_count": null,
   "id": "2ba368c9",
   "metadata": {},
   "outputs": [],
   "source": []
  }
 ],
 "metadata": {
  "kernelspec": {
   "display_name": "Python 3 (ipykernel)",
   "language": "python",
   "name": "python3"
  },
  "language_info": {
   "codemirror_mode": {
    "name": "ipython",
    "version": 3
   },
   "file_extension": ".py",
   "mimetype": "text/x-python",
   "name": "python",
   "nbconvert_exporter": "python",
   "pygments_lexer": "ipython3",
   "version": "3.11.4"
  }
 },
 "nbformat": 4,
 "nbformat_minor": 5
}
