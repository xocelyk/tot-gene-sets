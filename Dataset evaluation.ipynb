{
 "cells": [
  {
   "cell_type": "code",
   "execution_count": 15,
   "id": "57153e6d",
   "metadata": {},
   "outputs": [],
   "source": [
    "import pandas as pd\n",
    "import os\n",
    "api_key = os.getenv(\"OPENAI_API_KEY\", \"\")"
   ]
  },
  {
   "cell_type": "code",
   "execution_count": 12,
   "id": "56408c65",
   "metadata": {},
   "outputs": [],
   "source": [
    "x = '/data/ch52669/gene_interaction/tot-gene-sets/src/tot/data/gene_sets/x_eval.txt'\n",
    "y = '/data/ch52669/gene_interaction/tot-gene-sets/src/tot/data/gene_sets/y_eval.txt'\n",
    "\n",
    "x_data = [pt.strip() for pt in open(x).readlines()]\n",
    "y_data = [pt.strip() for pt in open(y).readlines()]"
   ]
  },
  {
   "cell_type": "code",
   "execution_count": 38,
   "id": "5f05dead",
   "metadata": {},
   "outputs": [
    {
     "data": {
      "text/plain": [
       "1000"
      ]
     },
     "execution_count": 38,
     "metadata": {},
     "output_type": "execute_result"
    }
   ],
   "source": [
    "len(x_data)"
   ]
  },
  {
   "cell_type": "code",
   "execution_count": 14,
   "id": "60e76f77",
   "metadata": {},
   "outputs": [
    {
     "data": {
      "text/plain": [
       "'positive regulation of intracellular cholesterol transport'"
      ]
     },
     "execution_count": 14,
     "metadata": {},
     "output_type": "execute_result"
    }
   ],
   "source": [
    "y_data[0]"
   ]
  },
  {
   "cell_type": "code",
   "execution_count": 97,
   "id": "a9ad7656",
   "metadata": {},
   "outputs": [
    {
     "name": "stderr",
     "output_type": "stream",
     "text": [
      "/tmp/ipykernel_1759760/3387174388.py:5: TqdmDeprecationWarning: This function will be removed in tqdm==5.0.0\n",
      "Please use `tqdm.notebook.tqdm` instead of `tqdm.tqdm_notebook`\n",
      "  for i in tqdm_notebook(range(28,100)):\n"
     ]
    },
    {
     "data": {
      "application/vnd.jupyter.widget-view+json": {
       "model_id": "f345ed13a8304d6fa1bb7711f9863a59",
       "version_major": 2,
       "version_minor": 0
      },
      "text/plain": [
       "  0%|          | 0/72 [00:00<?, ?it/s]"
      ]
     },
     "metadata": {},
     "output_type": "display_data"
    }
   ],
   "source": [
    "import openai\n",
    "from tqdm import tqdm_notebook\n",
    "\n",
    "# responses = []\n",
    "for i in tqdm_notebook(range(28,100)):\n",
    "    # Replace \"your_api_key_here\" with your actual OpenAI API key\n",
    "    openai.api_key = api_key\n",
    "\n",
    "    # System prompt that sets the context or instructions for the AI\n",
    "    system_prompt = '''Introduction: You will be given a list of genes and a name of a biological process. Your task is to evaluate how specific the given biological process name is to the provided set of genes.\n",
    "\n",
    "Input Data: The input will consist of a list of gene names, formatted as a comma-separated list, followed by the name of a biological process. For example: \"Gene1, Gene2, Gene3; Cell Division\".\n",
    "\n",
    "Task Description: Based on the provided genes and biological process name, you are to determine the specificity of the biological process to these genes on a scale from 1 to 10. A score of 1 means the biological process name is very general and not closely related to the genes, while a score of 10 means the biological process name is highly specific and closely related to the genes.\n",
    "\n",
    "Criteria for Evaluation: Consider the following when determining the specificity score:\n",
    "- The relevance of the biological process to the functions of the provided genes.\n",
    "- The uniqueness of the process to these genes.\n",
    "- Any known associations between the genes and the biological process, based on scientific literature up to your last training cut-off.\n",
    "\n",
    "Please answer strictly in the following JSON format:\n",
    "{'Score': 1~10, 'Reason': Your Reason} '''\n",
    "    \n",
    "#     \"Evaluate the specificity of the biological process name to the given genes on a scale from 1 to 10. Respond to questions in JSON format, following this template: {'Score': 1~10, 'Reason': Your Reason} \"\n",
    "\n",
    "    # User prompt with the actual question or task\n",
    "    user_prompt = f\"{x_data[i]}; {y_data[i]}, Evaluate the specificity of the biological process name on a scale from 1 to 10.\"\n",
    "\n",
    "    messages = [{\"role\": \"system\", \"content\": system_prompt}, {\"role\": \"user\", \"content\": user_prompt}]\n",
    "    # Combining both prompts\n",
    "\n",
    "    response = openai.ChatCompletion.create(\n",
    "      model=\"gpt-3.5-turbo-1106\",  # Specify the model you're using; adjust if the model name changes\n",
    "      messages=messages,\n",
    "      temperature=0.7,\n",
    "      response_format={'type': 'json_object'}\n",
    "    )\n",
    "\n",
    "    content = json.loads(response.choices[0].message.content)\n",
    "    responses.append(content)\n"
   ]
  },
  {
   "cell_type": "code",
   "execution_count": 100,
   "id": "8ed19ef5",
   "metadata": {
    "scrolled": true
   },
   "outputs": [
    {
     "data": {
      "text/plain": [
       "100"
      ]
     },
     "execution_count": 100,
     "metadata": {},
     "output_type": "execute_result"
    }
   ],
   "source": [
    "scores = []\n",
    "for r in responses:\n",
    "    if 'Score' not in r:\n",
    "        print(r)\n",
    "    else:\n",
    "        scores.append(r['Score'])\n",
    "len(scores)"
   ]
  },
  {
   "cell_type": "code",
   "execution_count": 101,
   "id": "c8c83405",
   "metadata": {},
   "outputs": [
    {
     "data": {
      "image/png": "[encoded data removed]",
      "text/plain": [
       "<Figure size 640x480 with 1 Axes>"
      ]
     },
     "metadata": {},
     "output_type": "display_data"
    }
   ],
   "source": [
    "import matplotlib.pyplot as plt\n",
    "import seaborn as sns\n",
    "import numpy as np\n",
    "\n",
    "# Generate a random dataset with a normal distribution\n",
    "# data = np.random.normal(loc=0, scale=1, size=1000)  # loc is the mean, scale is the standard deviation\n",
    "\n",
    "# Use seaborn to create a histogram and a kernel density estimate (KDE) plot\n",
    "sns.histplot(scores, kde=True)\n",
    "\n",
    "# Adding titles and labels for clarity\n",
    "plt.title('Distribution')\n",
    "plt.xlabel('Value')\n",
    "plt.ylabel('Frequency')\n",
    "plt.xticks(np.arange(1, 11, 1))\n",
    "\n",
    "# Show the plot\n",
    "plt.show()\n"
   ]
  },
  {
   "cell_type": "code",
   "execution_count": 69,
   "id": "7d2c35fa",
   "metadata": {},
   "outputs": [
    {
     "data": {
      "text/plain": [
       "10"
      ]
     },
     "execution_count": 69,
     "metadata": {},
     "output_type": "execute_result"
    }
   ],
   "source": [
    "max(scores)"
   ]
  },
  {
   "cell_type": "code",
   "execution_count": 87,
   "id": "70e6b302",
   "metadata": {},
   "outputs": [],
   "source": [
    "gene_responses = []\n",
    "for i in range(100):\n",
    "    content = '''How specific do you think the name should be? On a scale from 1 to 10. 1 being generic, and 10 being specific. \n",
    "    Respond to questions in JSON format, following this template: {'Score': '1~10', 'Reason': Your Reason}'''\n",
    "    user_prompt = f\"Genes: {x_data[i]}\"\n",
    "    response = openai.ChatCompletion.create(\n",
    "          model=\"gpt-3.5-turbo-1106\",  # Specify the model you're using; adjust if the model name changes\n",
    "          messages=[{\"role\": \"system\", \"content\": content}, {\"role\": \"user\", \"content\": user_prompt}],\n",
    "          temperature=0.7,\n",
    "          response_format={'type': 'json_object'}\n",
    "        )\n",
    "    gene_responses.append(response)"
   ]
  },
  {
   "cell_type": "code",
   "execution_count": 88,
   "id": "69179012",
   "metadata": {},
   "outputs": [
    {
     "data": {
      "text/plain": [
       "100"
      ]
     },
     "execution_count": 88,
     "metadata": {},
     "output_type": "execute_result"
    }
   ],
   "source": [
    "gene_scores = []\n",
    "for r in gene_responses:\n",
    "    r = json.loads(r.choices[0].message.content)\n",
    "    if 'Score' not in r:\n",
    "        print(r)\n",
    "    else:\n",
    "        gene_scores.append(int(r['Score']))\n",
    "len(gene_scores)"
   ]
  },
  {
   "cell_type": "code",
   "execution_count": null,
   "id": "0877d756",
   "metadata": {
    "scrolled": true
   },
   "outputs": [],
   "source": [
    "# gene_scores"
   ]
  },
  {
   "cell_type": "code",
   "execution_count": 90,
   "id": "34b8d974",
   "metadata": {},
   "outputs": [
    {
     "data": {
      "image/png": "[encoded data removed]",
      "text/plain": [
       "<Figure size 640x480 with 1 Axes>"
      ]
     },
     "metadata": {},
     "output_type": "display_data"
    }
   ],
   "source": [
    "import matplotlib.pyplot as plt\n",
    "import seaborn as sns\n",
    "import numpy as np\n",
    "\n",
    "# Generate a random dataset with a normal distribution\n",
    "# data = np.random.normal(loc=0, scale=1, size=1000)  # loc is the mean, scale is the standard deviation\n",
    "\n",
    "# Use seaborn to create a histogram and a kernel density estimate (KDE) plot\n",
    "sns.histplot(gene_scores, kde=True)\n",
    "\n",
    "# Adding titles and labels for clarity\n",
    "plt.title('Distribution')\n",
    "plt.xlabel('Value')\n",
    "plt.ylabel('Frequency')\n",
    "plt.xticks(np.arange(1, 11, 1))\n",
    "\n",
    "# Show the plot\n",
    "plt.show()\n"
   ]
  },
  {
   "cell_type": "code",
   "execution_count": null,
   "id": "959e8b73",
   "metadata": {},
   "outputs": [],
   "source": []
  }
 ],
 "metadata": {
  "kernelspec": {
   "display_name": "Python 3 (ipykernel)",
   "language": "python",
   "name": "python3"
  },
  "language_info": {
   "codemirror_mode": {
    "name": "ipython",
    "version": 3
   },
   "file_extension": ".py",
   "mimetype": "text/x-python",
   "name": "python",
   "nbconvert_exporter": "python",
   "pygments_lexer": "ipython3",
   "version": "3.11.4"
  }
 },
 "nbformat": 4,
 "nbformat_minor": 5
}
