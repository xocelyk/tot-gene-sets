{
 "cells": [
  {
   "cell_type": "code",
   "execution_count": 3,
   "id": "f86de433",
   "metadata": {},
   "outputs": [],
   "source": [
    "import pickle\n",
    "with open('results2/cot_eval.pkl', 'rb') as f:\n",
    "    cot_results = pickle.load(f)"
   ]
  },
  {
   "cell_type": "code",
   "execution_count": 8,
   "id": "9e29b5ea",
   "metadata": {},
   "outputs": [
    {
     "data": {
      "text/plain": [
       "0.03"
      ]
     },
     "execution_count": 8,
     "metadata": {},
     "output_type": "execute_result"
    }
   ],
   "source": [
    "th = []\n",
    "for i in cot_results:\n",
    "    if i['similarity_percentile'] > 0.95:\n",
    "        th.append(1)\n",
    "    else:\n",
    "        th.append(0)\n",
    "sum(th)/len(th)"
   ]
  },
  {
   "cell_type": "code",
   "execution_count": 6,
   "id": "1b52fd28",
   "metadata": {},
   "outputs": [
    {
     "data": {
      "text/plain": [
       "{'Index': 0,\n",
       " 'x': 'LDLRAP1 SCP2D1 ANXA2 SCP2',\n",
       " 'y_pred': '',\n",
       " 'y_true': 'positive regulation of intracellular cholesterol transport',\n",
       " 'similarity_score': 0.18257824,\n",
       " 'similarity_percentile': 0.09685606680858032}"
      ]
     },
     "execution_count": 6,
     "metadata": {},
     "output_type": "execute_result"
    }
   ],
   "source": [
    "cot_results[0]"
   ]
  },
  {
   "cell_type": "code",
   "execution_count": 9,
   "id": "6911da33",
   "metadata": {},
   "outputs": [],
   "source": [
    "from collections import defaultdict"
   ]
  },
  {
   "cell_type": "code",
   "execution_count": 18,
   "id": "acc4249d",
   "metadata": {},
   "outputs": [
    {
     "name": "stdout",
     "output_type": "stream",
     "text": [
      "\n",
      "    {\n",
      "        \"Votes\": [\n",
      "            {\"Biological Process\": \"Photosynthesis\"},\n",
      "            {\"Biological Process\": \"Cellular Respiration\"},\n",
      "            {\"Biological Process\": \"DNA Replication\"}\n",
      "        ]\n",
      "    }\n",
      "    \n",
      "{'Votes': [{'Biological Process': 'Photosynthesis'}, {'Biological Process': 'Cellular Respiration'}, {'Biological Process': 'DNA Replication'}]}\n",
      "\n",
      "    {\n",
      "        \"Votes\": [\n",
      "            {\"Biological Process\": \"Photosynthesis\"},\n",
      "            {\"Biological Process\": \"Photosynthesis\"},\n",
      "            {\"Biological Process\": \"Cellular Respiration\"}\n",
      "        ]\n",
      "    }\n",
      "    \n",
      "{'Votes': [{'Biological Process': 'Photosynthesis'}, {'Biological Process': 'Photosynthesis'}, {'Biological Process': 'Cellular Respiration'}]}\n",
      "\n",
      "    {\n",
      "        \"Votes\": [\n",
      "            {\"Biological Process\": \"DNA Replication\"},\n",
      "            {\"Biological Process\": \"Photosynthesis\"},\n",
      "            {\"Biological Process\": \"Cellular Respiration\"}\n",
      "        ]\n",
      "    }\n",
      "    \n",
      "{'Votes': [{'Biological Process': 'DNA Replication'}, {'Biological Process': 'Photosynthesis'}, {'Biological Process': 'Cellular Respiration'}]}\n"
     ]
    },
    {
     "data": {
      "text/plain": [
       "defaultdict(int,\n",
       "            {'Photosynthesis': 4,\n",
       "             'Cellular Respiration': 3,\n",
       "             'DNA Replication': 2})"
      ]
     },
     "execution_count": 18,
     "metadata": {},
     "output_type": "execute_result"
    }
   ],
   "source": [
    "import json\n",
    "vote_outputs= [\n",
    "    \"\"\"\n",
    "    {\n",
    "        \"Votes\": [\n",
    "            {\"Biological Process\": \"Photosynthesis\"},\n",
    "            {\"Biological Process\": \"Cellular Respiration\"},\n",
    "            {\"Biological Process\": \"DNA Replication\"}\n",
    "        ]\n",
    "    }\n",
    "    \"\"\",\n",
    "    \"\"\"\n",
    "    {\n",
    "        \"Votes\": [\n",
    "            {\"Biological Process\": \"Photosynthesis\"},\n",
    "            {\"Biological Process\": \"Photosynthesis\"},\n",
    "            {\"Biological Process\": \"Cellular Respiration\"}\n",
    "        ]\n",
    "    }\n",
    "    \"\"\",\n",
    "    \"\"\"\n",
    "    {\n",
    "        \"Votes\": [\n",
    "            {\"Biological Process\": \"DNA Replication\"},\n",
    "            {\"Biological Process\": \"Photosynthesis\"},\n",
    "            {\"Biological Process\": \"Cellular Respiration\"}\n",
    "        ]\n",
    "    }\n",
    "    \"\"\"\n",
    "]\n",
    "\n",
    "vote_results = defaultdict(int)\n",
    "for vote_output in vote_outputs:\n",
    "    print(vote_output)\n",
    "    vote_output = vote_output.replace('\\n','')\n",
    "    vote_output = json.loads(vote_output)\n",
    "    print(vote_output)\n",
    "    for i, y in enumerate(vote_output['Votes']):\n",
    "        vote_results[y['Biological Process']] += 1\n",
    "# values = []\n",
    "# for y in ys:\n",
    "#     values.append(vote_results[y])\n",
    "vote_results"
   ]
  },
  {
   "cell_type": "code",
   "execution_count": null,
   "id": "e711226c",
   "metadata": {},
   "outputs": [],
   "source": []
  }
 ],
 "metadata": {
  "kernelspec": {
   "display_name": "Python 3 (ipykernel)",
   "language": "python",
   "name": "python3"
  },
  "language_info": {
   "codemirror_mode": {
    "name": "ipython",
    "version": 3
   },
   "file_extension": ".py",
   "mimetype": "text/x-python",
   "name": "python",
   "nbconvert_exporter": "python",
   "pygments_lexer": "ipython3",
   "version": "3.11.4"
  }
 },
 "nbformat": 4,
 "nbformat_minor": 5
}
