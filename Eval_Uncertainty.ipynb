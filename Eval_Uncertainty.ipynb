{
 "cells": [
  {
   "cell_type": "code",
   "execution_count": 323,
   "id": "a6a9cc4d",
   "metadata": {},
   "outputs": [],
   "source": [
    "import pickle\n",
    "\n",
    "import sys\n",
    "sys.path.insert(0, 'src') \n",
    "sys.path.insert(0, '/data/ch52669/gene_interaction/tot-gene-sets/MedAgents') \n",
    "import os\n",
    "import json\n",
    "from functools import partial\n",
    "\n",
    "import seaborn as sns\n",
    "import numpy as np"
   ]
  },
  {
   "cell_type": "code",
   "execution_count": null,
   "id": "f62fe0dc",
   "metadata": {},
   "outputs": [],
   "source": []
  },
  {
   "cell_type": "code",
   "execution_count": 335,
   "id": "0d7bf8e7",
   "metadata": {},
   "outputs": [
    {
     "name": "stdout",
     "output_type": "stream",
     "text": [
      "50\n",
      "50\n",
      "50\n",
      "50\n",
      "29\n",
      "50\n",
      "29\n",
      "50\n",
      "50\n",
      "50\n",
      "29\n",
      "50\n",
      "30\n",
      "23\n",
      "30\n",
      "30\n"
     ]
    }
   ],
   "source": [
    "data_size = 50\n",
    "with open('results2/tot_eval_1_gen_1_voter_5steps.pkl', 'rb') as f:\n",
    "    tot_results_ori = pickle.load(f)\n",
    "    tot_results_ori = tot_results_ori[:data_size]\n",
    "    print(len(tot_results_ori))\n",
    "    \n",
    "with open('results2/tot_eval_uncertainty_5steps_abla_uncertain_False.pkl', 'rb') as f:\n",
    "    tot_results_gpt3_abla = pickle.load(f)\n",
    "    tot_results_gpt3_abla = tot_results_gpt3_abla[:data_size]\n",
    "    print(len(tot_results_gpt3_abla))\n",
    "    \n",
    "with open('results2/tot_eval_uncertainty_5steps_abla_uncertain_False_th08.pkl', 'rb') as f:\n",
    "    tot_results_gpt3_abla08 = pickle.load(f)\n",
    "    tot_results_gpt3_abla08 = tot_results_gpt3_abla08[:data_size]\n",
    "    print(len(tot_results_gpt3_abla08))\n",
    "    \n",
    "with open('results2/tot_eval_uncertainty_5steps_abla_uncertain_False_th05.pkl', 'rb') as f:\n",
    "    tot_results_gpt3_abla05 = pickle.load(f)\n",
    "    tot_results_gpt3_abla05 = tot_results_gpt3_abla05[:data_size]\n",
    "    print(len(tot_results_gpt3_abla05))\n",
    "    \n",
    "with open('results2/tot_eval_uncertainty_5steps_explore_stop_expand.pkl', 'rb') as f:\n",
    "    tot_results_gpt3_explore_stop_expand = pickle.load(f)\n",
    "    tot_results_gpt3_explore_stop_expand = tot_results_gpt3_explore_stop_expand[:data_size]\n",
    "    print(len(tot_results_gpt3_explore_stop_expand))\n",
    "    \n",
    "with open('results2/tot_eval_uncertainty_5steps_abla_uncertain_False_th098.pkl', 'rb') as f:\n",
    "    tot_results_gpt3_abla098 = pickle.load(f)\n",
    "    tot_results_gpt3_abla098 = tot_results_gpt3_abla098[:data_size]\n",
    "    print(len(tot_results_gpt3_abla098))\n",
    "    \n",
    "with open('results2/tot_eval_uncertainty_5steps_explore.pkl', 'rb') as f:\n",
    "    tot_results_gpt3_explore = pickle.load(f)\n",
    "    tot_results_gpt3_explore = tot_results_gpt3_explore[:data_size]\n",
    "    print(len(tot_results_gpt3_explore))\n",
    "    \n",
    "with open('results2/tot_eval_uncertainty_5steps_3.pkl', 'rb') as f:\n",
    "    tot_results_gpt3 = pickle.load(f)\n",
    "    tot_results_gpt3 = tot_results_gpt3[:data_size]\n",
    "    print(len(tot_results_gpt3))\n",
    "    \n",
    "with open('results2/tot_eval_uncertainty_5steps_gpt4.pkl', 'rb') as f:\n",
    "    tot_results_gpt4 = pickle.load(f)\n",
    "    tot_results_gpt4 = tot_results_gpt4[:data_size]\n",
    "    print(len(tot_results_gpt4))\n",
    "\n",
    "with open('results2/tot_eval_uncertainty_5steps_abla_uncertain_15gen_False_th09.pkl', 'rb') as f:\n",
    "    tot_results_abla_uncertain_False_15gen_th09 = pickle.load(f)\n",
    "    tot_results_abla_uncertain_False_15gen_th09 = tot_results_abla_uncertain_False_15gen_th09[:data_size]\n",
    "    print(len(tot_results_abla_uncertain_False_15gen_th09))\n",
    "\n",
    "with open('results2/tot_eval_uncertainty_5steps_15gen_th09.pkl', 'rb') as f:\n",
    "    tot_results_abla_15gen_th09 = pickle.load(f)\n",
    "    tot_results_abla_15gen_th09 = tot_results_abla_15gen_th09[:data_size]\n",
    "    print(len(tot_results_abla_15gen_th09))\n",
    "    \n",
    "with open('results2/tot_eval_uncertainty_5steps_abla_uncertain_15gen_False_th09_9nodes.pkl', 'rb') as f:\n",
    "    tot_results_abla_uncertain_False_15gen_False_th09_9nodes = pickle.load(f)\n",
    "    tot_results_abla_uncertain_False_15gen_False_th09_9nodes = tot_results_abla_uncertain_False_15gen_False_th09_9nodes[:data_size]\n",
    "    print(len(tot_results_abla_uncertain_False_15gen_th09))\n",
    "    \n",
    "# with open('results2/tot_eval_uncertainty_5steps_stop_expand.pkl', 'rb') as f:\n",
    "#     tot_results_5steps_stop_expand = pickle.load(f)\n",
    "#     tot_results_5steps_stop_expand = tot_results_5steps_stop_expand[:data_size]\n",
    "#     print(len(tot_results_5steps_stop_expand))    \n",
    "\n",
    "with open('results2/tot2_eval_5steps_no_certainty_stop_expand.pkl', 'rb') as f:\n",
    "    tot2_eval_5steps_no_certainty_stop_expand = pickle.load(f)\n",
    "    tot2_eval_5steps_no_certainty_stop_expand = tot2_eval_5steps_no_certainty_stop_expand[:data_size]\n",
    "    print(len(tot2_eval_5steps_no_certainty_stop_expand))  \n",
    "with open('results2/tot2_eval_5steps_no_certainty_9nodes.pkl', 'rb') as f:\n",
    "    tot2_eval_5steps_no_certainty_9nodes = pickle.load(f)\n",
    "    tot2_eval_5steps_no_certainty_9nodes = tot2_eval_5steps_no_certainty_9nodes[:5] + tot2_eval_5steps_no_certainty_9nodes[6:24]\n",
    "    tot2_eval_5steps_no_certainty_9nodes = tot2_eval_5steps_no_certainty_9nodes[:data_size]\n",
    "    print(len(tot2_eval_5steps_no_certainty_9nodes))  \n",
    "with open('results2/tot2_eval_uncertainty_5steps_stop_expand.pkl', 'rb') as f:\n",
    "    tot2_eval_uncertainty_5steps_stop_expand = pickle.load(f)\n",
    "    tot2_eval_uncertainty_5steps_stop_expand = tot2_eval_uncertainty_5steps_stop_expand[:data_size]\n",
    "    print(len(tot2_eval_uncertainty_5steps_stop_expand))  \n",
    "    \n",
    "    \n",
    "medagent_results = []\n",
    "with open(f'medagents_results/eval_medagents_gprofiler_step3_5.pkl', 'rb') as f:\n",
    "    text_file = pickle.load(f)\n",
    "with open(f'medagents_results/eval_medagents_gprofiler_step3_29.pkl', 'rb') as f:\n",
    "    text_file2 = pickle.load(f)\n",
    "medagent_results = text_file + text_file2\n",
    "medagent_results = medagent_results[:data_size]\n",
    "\n",
    "# for i in range(0, len(medagent_results)):\n",
    "print(len(medagent_results))"
   ]
  },
  {
   "cell_type": "code",
   "execution_count": 336,
   "id": "3754bd0f",
   "metadata": {
    "scrolled": true
   },
   "outputs": [
    {
     "name": "stdout",
     "output_type": "stream",
     "text": [
      "0\n",
      "1\n",
      "2\n",
      "3\n",
      "4\n",
      "5\n",
      "6\n",
      "7\n",
      "8\n",
      "9\n",
      "10\n",
      "11\n",
      "12\n",
      "13\n",
      "14\n",
      "15\n",
      "16\n",
      "17\n",
      "18\n",
      "19\n",
      "20\n",
      "21\n",
      "22\n"
     ]
    }
   ],
   "source": [
    "for i in tot2_eval_5steps_no_certainty_9nodes:\n",
    "    print(i['index'])"
   ]
  },
  {
   "cell_type": "markdown",
   "id": "63b59614",
   "metadata": {},
   "source": [
    "## GPT-3.5 vs GPT-4\n",
    "## Five run vs. One run"
   ]
  },
  {
   "cell_type": "code",
   "execution_count": 337,
   "id": "38f18b8e",
   "metadata": {},
   "outputs": [
    {
     "name": "stdout",
     "output_type": "stream",
     "text": [
      "One run GPT-3.5\n",
      "Best - Average: 0.6352, Average Quantile: 0.9845\n",
      "Final - Average: 0.4103, Average Quantile: 0.7645\n",
      "\n",
      "Five run GPT-3.5\n",
      "Best - Average: 0.6271, Average Quantile: 0.9581\n",
      "Final - Average: 0.4366, Average Quantile: 0.8073\n",
      "\n",
      "Five run and uncertainty GPT-3.5\n",
      "Best - Average: 0.6290, Average Quantile: 0.9463\n",
      "Final - Average: 0.4008, Average Quantile: 0.7598\n",
      "\n",
      "Five run and uncertainty GPT-4\n",
      "Best - Average: 0.6832, Average Quantile: 0.9706\n",
      "Final - Average: 0.4660, Average Quantile: 0.7990\n",
      "\n",
      "medagent GPT-4 (30 data samples only)\n",
      "Best - Average: 0.6466, Average Quantile: 0.9533\n",
      "Final - Average: 0.4968, Average Quantile: 0.8338\n",
      "\n",
      "Five run GPT-3.5 - th 0.5\n",
      "Best - Average: 0.6090, Average Quantile: 0.9453\n",
      "Final - Average: 0.4269, Average Quantile: 0.7632\n",
      "\n",
      "Five run GPT-3.5 - th 0.8\n",
      "Best - Average: 0.6370, Average Quantile: 0.9708\n",
      "Final - Average: 0.4006, Average Quantile: 0.7519\n",
      "\n",
      "Five run GPT-3.5 - th 0.98\n",
      "Best - Average: 0.6392, Average Quantile: 0.9699\n",
      "Final - Average: 0.4068, Average Quantile: 0.7696\n",
      "\n",
      "Five run and uncertainty metrics GPT-3.5 explore\n",
      "Best - Average: 0.6327, Average Quantile: 0.9489\n",
      "Final - Average: 0.3908, Average Quantile: 0.7418\n",
      "\n",
      "Five run and uncertainty metrics GPT-3.5 explore and stop_expand\n",
      "Best - Average: 0.4517, Average Quantile: 0.7194\n",
      "Final - Average: 0.3419, Average Quantile: 0.5912\n",
      "\n",
      "Fifteen run GPT-3.5 - th09\n",
      "Best - Average: 0.5925, Average Quantile: 0.9577\n",
      "Final - Average: 0.3990, Average Quantile: 0.7304\n",
      "\n",
      "Fifteen run GPT-3.5 and uncertainty - th09\n",
      "Best - Average: 0.5791, Average Quantile: 0.9338\n",
      "Final - Average: 0.4135, Average Quantile: 0.7534\n",
      "\n",
      "Fifteen run GPT-3.5 and uncertainty and nine nodes - th09\n",
      "Best - Average: 0.5944, Average Quantile: 0.9444\n",
      "Final - Average: 0.3705, Average Quantile: 0.6465\n",
      "\n",
      "tot_results_5steps_stop_expand\n",
      "Best - Average: 0.5825, Average Quantile: 0.9002\n",
      "Final - Average: 0.3892, Average Quantile: 0.6853\n",
      "\n",
      "tot2_eval_5steps_no_certainty_stop_expand\n",
      "Best - Average: 0.5978, Average Quantile: 0.9099\n",
      "Final - Average: 0.4315, Average Quantile: 0.6704\n",
      "\n",
      "tot2_eval_5steps_no_certainty_9nodes\n",
      "Best - Average: 0.6350, Average Quantile: 0.9435\n",
      "Final - Average: 0.4545, Average Quantile: 0.7307\n",
      "\n",
      "tot2_eval_uncertainty_5steps_stop_expand\n",
      "Best - Average: 0.5825, Average Quantile: 0.9002\n",
      "Final - Average: 0.3892, Average Quantile: 0.6853\n",
      "\n"
     ]
    }
   ],
   "source": [
    "def prediction_report(sims, quantile):\n",
    "    # Calculate averages\n",
    "    avg_sim = sum(sims) / len(sims)\n",
    "    avg_quan = sum(quantile) / len(quantile)\n",
    "\n",
    "    # Return calculated averages\n",
    "    return avg_sim, avg_quan\n",
    "\n",
    "# Iterate over the results\n",
    "for i, n in enumerate([tot_results_ori, tot_results_gpt3_abla, tot_results_gpt3, \\\n",
    "                       tot_results_gpt4, medagent_results, tot_results_gpt3_abla05, \\\n",
    "                       tot_results_gpt3_abla08, tot_results_gpt3_abla098, \\\n",
    "                       tot_results_gpt3_explore, tot_results_gpt3_explore_stop_expand,\\\n",
    "                       tot_results_abla_uncertain_False_15gen_th09, \\\n",
    "                       tot_results_abla_15gen_th09, tot_results_abla_uncertain_False_15gen_False_th09_9nodes,\\\n",
    "                       tot_results_5steps_stop_expand, tot2_eval_5steps_no_certainty_stop_expand, \\\n",
    "                       tot2_eval_5steps_no_certainty_9nodes, tot2_eval_uncertainty_5steps_stop_expand\n",
    "                      \n",
    "                      ]):\n",
    "    # Define lists to store scores and quantiles\n",
    "    best_sim = []\n",
    "    final_sim = []\n",
    "    best_sim_quan = []\n",
    "    final_sim_quan = []\n",
    "\n",
    "    # Extract scores and quantiles\n",
    "    for r in n:\n",
    "        best_sim.append(r['best similarity score'])\n",
    "        final_sim.append(r['final answer similarity score'])\n",
    "        best_sim_quan.append(r['best candidate similarity quantile'])\n",
    "        final_sim_quan.append(r['final answer similarity quantile'])\n",
    "\n",
    "    # Configuration titles\n",
    "    config_titles = ['One run GPT-3.5', 'Five run GPT-3.5', \n",
    "                     'Five run and uncertainty GPT-3.5', \n",
    "                     'Five run and uncertainty GPT-4', 'medagent GPT-4 (30 data samples only)',\\\n",
    "                     'Five run GPT-3.5 - th 0.5', 'Five run GPT-3.5 - th 0.8', 'Five run GPT-3.5 - th 0.98',\\\n",
    "                    'Five run and uncertainty metrics GPT-3.5 explore', 'Five run and uncertainty metrics GPT-3.5 explore and stop_expand',\\\n",
    "                     'Fifteen run GPT-3.5 - th09',\\\n",
    "                     'Fifteen run GPT-3.5 and uncertainty - th09',\\\n",
    "                     'Fifteen run GPT-3.5 and uncertainty and nine nodes - th09',\n",
    "                     'tot_results_5steps_stop_expand',\\\n",
    "                     'tot2_eval_5steps_no_certainty_stop_expand',\\\n",
    "                     'tot2_eval_5steps_no_certainty_9nodes',\\\n",
    "                     'tot2_eval_uncertainty_5steps_stop_expand',\n",
    "                    ]\n",
    "    \n",
    "    # Print configuration title\n",
    "    print(f'{config_titles[i]}')\n",
    "    \n",
    "    # Calculate and print averages for best\n",
    "    best_avg_sim, best_avg_quan = prediction_report(best_sim, best_sim_quan)\n",
    "    print(f'Best - Average: {best_avg_sim:.4f}, Average Quantile: {best_avg_quan:.4f}')\n",
    "    \n",
    "    # Calculate and print averages for final\n",
    "    final_avg_sim, final_avg_quan = prediction_report(final_sim, final_sim_quan)\n",
    "    print(f'Final - Average: {final_avg_sim:.4f}, Average Quantile: {final_avg_quan:.4f}')\n",
    "    print()  # For spacing between configurations"
   ]
  },
  {
   "cell_type": "markdown",
   "id": "db56a8bf",
   "metadata": {},
   "source": [
    "## Answer Uncertainty vs Model Uncertainty vs Similarity\n",
    "\n",
    "1. Does the answer uncertainty leads to worse similarity?\n",
    "2. Does the higher model uncertainty leads to worse decision-making?\n",
    "3. Overall model uncertainty?\n",
    "4. Voter Uncertainty"
   ]
  },
  {
   "cell_type": "code",
   "execution_count": 274,
   "id": "40ed2e7c",
   "metadata": {},
   "outputs": [
    {
     "data": {
      "text/plain": [
       "array([[0.7881689]], dtype=float32)"
      ]
     },
     "execution_count": 274,
     "metadata": {},
     "output_type": "execute_result"
    }
   ],
   "source": [
    "def getSentenceEmbedding(sentence, tokenizer, model):\n",
    "    # Tokenize sentences\n",
    "    encoded_input = tokenizer(sentence, padding=True, truncation=True, return_tensors='pt')\n",
    "\n",
    "    # Compute token embeddings\n",
    "    with torch.no_grad():\n",
    "        model_output = model(**encoded_input)\n",
    "        \n",
    "    # Perform pooling. In this case, mean pooling.\n",
    "    sentence_embedding = model_output.last_hidden_state.mean(dim=1)#mean_pooling(model_output, encoded_input['attention_mask'])\n",
    "    \n",
    "    return sentence_embedding\n",
    "\n",
    "emb_1 = getSentenceEmbedding('Anion transmembrane transport', SapBERT_tokenizer, SapBERT_model)\n",
    "emb_1_1 = getSentenceEmbedding('Intestinal oligopeptide absorption', SapBERT_tokenizer, SapBERT_model)\n",
    "emb_1_2 = getSentenceEmbedding('Renal oligopeptide reabsorption', SapBERT_tokenizer, SapBERT_model)\n",
    "\n",
    "emb_2 = getSentenceEmbedding('Oligopeptide transmembrane transport', SapBERT_tokenizer, SapBERT_model)\n",
    "\n",
    "cosine_similarity(emb_1_1, emb_1_2)"
   ]
  },
  {
   "cell_type": "code",
   "execution_count": null,
   "id": "562d8bc8",
   "metadata": {},
   "outputs": [],
   "source": []
  },
  {
   "cell_type": "code",
   "execution_count": 92,
   "id": "618ca543",
   "metadata": {},
   "outputs": [],
   "source": [
    "import math\n",
    "def normalized_compute_entropy(vec: np.ndarray):\n",
    "#     print(vec)\n",
    "    vec = vec + 1e-10\n",
    "    vec = vec / np.sum(vec)\n",
    "    entropy = -np.sum(vec * np.log2(vec))\n",
    "    n_classes = len(vec)\n",
    "#     print('n_classes',n_classes)\n",
    "    normalization = math.log2(n_classes)\n",
    "    \n",
    "#     print(f'entropy: {entropy}, normalization: {normalization}')\n",
    "    return entropy/normalization\n",
    "\n",
    "def getSentenceEmbedding(sentence, tokenizer, model):\n",
    "    # Tokenize sentences\n",
    "    encoded_input = tokenizer(sentence, padding=True, truncation=True, return_tensors='pt')\n",
    "\n",
    "    # Compute token embeddings\n",
    "    with torch.no_grad():\n",
    "        model_output = model(**encoded_input)\n",
    "        \n",
    "    # Perform pooling. In this case, mean pooling.\n",
    "    sentence_embedding = model_output.last_hidden_state.mean(dim=1)#mean_pooling(model_output, encoded_input['attention_mask'])\n",
    "    \n",
    "    return sentence_embedding\n"
   ]
  },
  {
   "cell_type": "code",
   "execution_count": 150,
   "id": "e7854ff3",
   "metadata": {
    "scrolled": true
   },
   "outputs": [
    {
     "name": "stderr",
     "output_type": "stream",
     "text": [
      "/tmp/ipykernel_3470697/4055154392.py:3: TqdmDeprecationWarning: This function will be removed in tqdm==5.0.0\n",
      "Please use `tqdm.notebook.tqdm` instead of `tqdm.tqdm_notebook`\n",
      "  for result in tqdm_notebook(tot_results_gpt3_abla):\n"
     ]
    },
    {
     "data": {
      "application/vnd.jupyter.widget-view+json": {
       "model_id": "daea31744d68492f8c91967f320bd9ec",
       "version_major": 2,
       "version_minor": 0
      },
      "text/plain": [
       "  0%|          | 0/50 [00:00<?, ?it/s]"
      ]
     },
     "metadata": {},
     "output_type": "display_data"
    }
   ],
   "source": [
    "from tqdm import tqdm_notebook\n",
    "all_list = []\n",
    "for result in tqdm_notebook(tot_results_gpt3):\n",
    "    label = result['label']\n",
    "    name_all_list = {'layer':[], 'label':label}\n",
    "    for i, t in enumerate(result['steps']['steps']):\n",
    "        x = t['x']\n",
    "        if i == len(result['steps']['steps'])-1:\n",
    "            break\n",
    "        name_all_list['layer'].append({'names':[]})\n",
    "        freqeuncy = []\n",
    "        for item in t['sorted_grouped_items']:\n",
    "            names = list(item[1])[0]\n",
    "            names = names.split(', ')\n",
    "            occur = len(names)\n",
    "            name = names[0]\n",
    "            name_all_list['layer'][i]['names'].append(name)\n",
    "            freqeuncy.append(occur)\n",
    "        freqeuncy = [f/sum(freqeuncy) for f in freqeuncy]\n",
    "        votes = t['votes']\n",
    "        values = t['values']\n",
    "        name_all_list['layer'][i].update({'frequency':freqeuncy})\n",
    "        entropy = normalized_compute_entropy(np.array(freqeuncy))\n",
    "        name_all_list['layer'][i].update({'entropy':entropy})\n",
    "        name_all_list['layer'][i].update({'genes':x})\n",
    "        name_all_list['layer'][i].update({'votes':votes})\n",
    "        name_all_list['layer'][i].update({'values':values})\n",
    "    all_list.append(name_all_list)\n",
    "#     name_all_list"
   ]
  },
  {
   "cell_type": "code",
   "execution_count": 151,
   "id": "546858df",
   "metadata": {},
   "outputs": [],
   "source": [
    "import json\n",
    "from transformers import AutoTokenizer, AutoModel\n",
    "from sklearn.metrics.pairwise import cosine_similarity\n",
    "import torch\n",
    "from scipy.stats import pearsonr, spearmanr\n",
    "\n",
    "    \n",
    "SapBERT_tokenizer = AutoTokenizer.from_pretrained('cambridgeltl/SapBERT-from-PubMedBERT-fulltext')\n",
    "SapBERT_model = AutoModel.from_pretrained('cambridgeltl/SapBERT-from-PubMedBERT-fulltext')"
   ]
  },
  {
   "cell_type": "markdown",
   "id": "1d185495",
   "metadata": {},
   "source": [
    "### Average Entropy and Frequency\n",
    "\n",
    "- Need to be revised. this only works when there's one answer"
   ]
  },
  {
   "cell_type": "code",
   "execution_count": 152,
   "id": "c8e756ab",
   "metadata": {},
   "outputs": [
    {
     "name": "stdout",
     "output_type": "stream",
     "text": [
      "Layer_1\n",
      "average all_entropy 0.9077288850238527\n",
      "average all_freq 0.24266666666666636\n",
      "Layer_2\n",
      "average all_entropy 0.9280406493437978\n",
      "average all_freq 0.12688888888888886\n",
      "Layer_3\n",
      "average all_entropy 0.9261171125927489\n",
      "average all_freq 0.11284967320261427\n",
      "Layer_4\n",
      "average all_entropy 0.9207487900079602\n",
      "average all_freq 0.10399999999999979\n",
      "Layer_5\n",
      "average all_entropy 0.9201317625175737\n",
      "average all_freq 0.10578787878787857\n"
     ]
    }
   ],
   "source": [
    "for i in range(5):\n",
    "    all_entropy = []\n",
    "    all_freq = []\n",
    "    print(f'Layer_{i+1}')\n",
    "    list_to_eval = [[],[]]\n",
    "    for name_all_list in all_list:\n",
    "        label = name_all_list['label']\n",
    "        n = name_all_list['layer'][i]\n",
    "        entropy = n['entropy']\n",
    "        freq = n['frequency'][:3]\n",
    "        all_entropy.append(entropy)\n",
    "        all_freq.extend(freq)\n",
    "    print(f'average all_entropy {sum(all_entropy)/len(all_entropy)}')\n",
    "    print(f'average all_freq {sum(all_freq)/len(all_freq)}')"
   ]
  },
  {
   "cell_type": "markdown",
   "id": "013f7ca9",
   "metadata": {},
   "source": [
    "#### Key take away\n",
    "- Layer 1 should be viewed separated from 2~5, becuase layer 1 only has 3 candidates, while others have 6. \n",
    "- Regardless, the avg freq keeps decreasing, and the entropy keeps increasing"
   ]
  },
  {
   "cell_type": "markdown",
   "id": "a88253b9",
   "metadata": {},
   "source": [
    "## 1. Does the frequent answer = better similarity?"
   ]
  },
  {
   "cell_type": "code",
   "execution_count": 153,
   "id": "3db9c3c3",
   "metadata": {},
   "outputs": [
    {
     "name": "stderr",
     "output_type": "stream",
     "text": [
      "Asking to truncate to max_length but no maximum length is provided and the model has no predefined maximum length. Default to no truncation.\n"
     ]
    },
    {
     "name": "stdout",
     "output_type": "stream",
     "text": [
      "Layer_1\n",
      "Pearson correlation: 0.093, P-value: 0.095\n",
      "Spearman correlation: 0.047, P-value: 0.396\n",
      "\n",
      "Layer_2\n",
      "Pearson correlation: 0.076, P-value: 0.054\n",
      "Spearman correlation: 0.074, P-value: 0.060\n",
      "\n",
      "Layer_3\n",
      "Pearson correlation: 0.084, P-value: 0.021\n",
      "Spearman correlation: 0.051, P-value: 0.160\n",
      "\n",
      "Layer_4\n",
      "Pearson correlation: 0.064, P-value: 0.072\n",
      "Spearman correlation: 0.065, P-value: 0.066\n",
      "\n",
      "Layer_5\n",
      "Pearson correlation: 0.078, P-value: 0.026\n",
      "Spearman correlation: 0.053, P-value: 0.131\n",
      "\n"
     ]
    }
   ],
   "source": [
    "for i in range(5):\n",
    "    print(f'Layer_{i+1}')\n",
    "    list_to_eval = [[],[]]\n",
    "    for name_all_list in all_list:\n",
    "        label = name_all_list['label']\n",
    "    #     for n in name_all_list['layer']:\n",
    "        n = name_all_list['layer'][i]\n",
    "        names = n['names']\n",
    "        name_eval = names + [label]\n",
    "        # Get embeddings for all items, considering duplicates \n",
    "        all_items_embeddings = getSentenceEmbedding(name_eval, SapBERT_tokenizer, SapBERT_model)\n",
    "        # Calculate cosine similarity between all items\n",
    "        similarity_matrix = cosine_similarity(all_items_embeddings)[-1][:-1]\n",
    "        list_to_eval[0].extend(similarity_matrix)\n",
    "        list_to_eval[1].extend(n['frequency'])\n",
    "\n",
    "    # Calculate Pearson correlation\n",
    "    pearson_corr, pearson_p_value = pearsonr(list_to_eval[0], list_to_eval[1])\n",
    "    print(f'Pearson correlation: {pearson_corr:.3f}, P-value: {pearson_p_value:.3f}')\n",
    "\n",
    "    # Calculate Spearman correlation\n",
    "    spearman_corr, spearman_p_value = spearmanr(list_to_eval[0], list_to_eval[1])\n",
    "    print(f'Spearman correlation: {spearman_corr:.3f}, P-value: {spearman_p_value:.3f}')\n",
    "    print()"
   ]
  },
  {
   "cell_type": "markdown",
   "id": "5bb80f5f",
   "metadata": {},
   "source": [
    "#### Key take away\n",
    "- The frequency of the answer does not correlate with the similairty of the ground-truth\n",
    "--> if one answer is generated more often then the others, it doesn't mean it is the correct answer. "
   ]
  },
  {
   "cell_type": "code",
   "execution_count": null,
   "id": "3c220436",
   "metadata": {},
   "outputs": [],
   "source": []
  },
  {
   "cell_type": "markdown",
   "id": "6ee252cf",
   "metadata": {},
   "source": [
    "## 2. Does the higher model uncertainty =  worse answer quality?"
   ]
  },
  {
   "cell_type": "markdown",
   "id": "b4b021fe",
   "metadata": {},
   "source": [
    "-- Need to be revisted, top answer doesn't really indicate answer quality"
   ]
  },
  {
   "cell_type": "code",
   "execution_count": 97,
   "id": "7f916d5b",
   "metadata": {},
   "outputs": [
    {
     "name": "stdout",
     "output_type": "stream",
     "text": [
      "Pearson correlation: 0.009, P-value: 0.893\n",
      "Spearman correlation: -0.017, P-value: 0.789\n",
      "\n"
     ]
    }
   ],
   "source": [
    "list_to_eval = [[],[]]\n",
    "for name_all_list in all_list:\n",
    "    label = name_all_list['label']\n",
    "    for n in name_all_list['layer']:\n",
    "        names = n['names'][:1] #the first answer is the best quality answer. \n",
    "        name_eval = names + [label]\n",
    "        # Get embeddings for all items, considering duplicates \n",
    "        all_items_embeddings = getSentenceEmbedding(name_eval, SapBERT_tokenizer, SapBERT_model)\n",
    "        # Calculate cosine similarity between all items\n",
    "        similarity_matrix = cosine_similarity(all_items_embeddings)[-1][:-1]\n",
    "        list_to_eval[0].extend(similarity_matrix)\n",
    "        list_to_eval[1].append(n['entropy'])\n",
    "#         print('entropy', n['entropy'])\n",
    "#         print('frequency', n['frequency'])\n",
    "#     error\n",
    "# Calculate Pearson correlation\n",
    "pearson_corr, pearson_p_value = pearsonr(list_to_eval[0], list_to_eval[1])\n",
    "print(f'Pearson correlation: {pearson_corr:.3f}, P-value: {pearson_p_value:.3f}')\n",
    "\n",
    "# Calculate Spearman correlation\n",
    "spearman_corr, spearman_p_value = spearmanr(list_to_eval[0], list_to_eval[1])\n",
    "print(f'Spearman correlation: {spearman_corr:.3f}, P-value: {spearman_p_value:.3f}')\n",
    "print()"
   ]
  },
  {
   "cell_type": "code",
   "execution_count": 98,
   "id": "75345e7e",
   "metadata": {},
   "outputs": [
    {
     "name": "stdout",
     "output_type": "stream",
     "text": [
      "max 1.0\n",
      "min 0.7569126347717308\n",
      "mean 0.9238304282429407\n"
     ]
    },
    {
     "data": {
      "image/png": "[encoded data removed]",
      "text/plain": [
       "<Figure size 1200x600 with 2 Axes>"
      ]
     },
     "metadata": {},
     "output_type": "display_data"
    }
   ],
   "source": [
    "import matplotlib.pyplot as plt\n",
    "import seaborn as sns\n",
    "\n",
    "# Example data list\n",
    "data = list_to_eval[1]\n",
    "print('max', max(data))\n",
    "print('min', min(data))\n",
    "print('mean', sum(data)/len(data))\n",
    "# Set up the matplotlib figure\n",
    "plt.figure(figsize=(12, 6))\n",
    "\n",
    "# Create a subplot for the violin plot\n",
    "plt.subplot(1, 2, 1)  # 1 row, 2 columns, 1st subplot\n",
    "sns.violinplot(data=data)\n",
    "plt.title('Violin Plot')\n",
    "\n",
    "# Create a subplot for the histogram\n",
    "plt.subplot(1, 2, 2)  # 1 row, 2 columns, 2nd subplot\n",
    "plt.hist(data, bins='auto')  # 'auto' lets matplotlib decide the number of bins\n",
    "plt.title('Histogram')\n",
    "\n",
    "# Show the plots\n",
    "plt.tight_layout()  # Adjusts subplot params so that subplots are nicely fit in the figure area.\n",
    "plt.show()\n"
   ]
  },
  {
   "cell_type": "markdown",
   "id": "e9fd927d",
   "metadata": {},
   "source": [
    "#### Key take away\n",
    "- The overall entropy is high. Meaning given one geneset, LLM generates many different kinds of answers. \n",
    "    - There can be two different interpretations. 1) many BPs are associated with one gene set. 2) LLM lacks knowledge about this one gene set and starts to hallucinate. "
   ]
  },
  {
   "cell_type": "markdown",
   "id": "4f5bedac",
   "metadata": {},
   "source": [
    "## Voter Disagreement"
   ]
  },
  {
   "cell_type": "code",
   "execution_count": 99,
   "id": "f3b9d0d7",
   "metadata": {},
   "outputs": [],
   "source": [
    "def cal_inverse_agreement_score(votes):\n",
    "    votes = [v for v in votes if v != 0]\n",
    "    # Calculate the mean of the votes for this new distribution\n",
    "    mean_votes = np.mean(votes)\n",
    "\n",
    "    # Calculate the standard deviation of the votes for this new distribution\n",
    "    std_deviation = np.std(votes)\n",
    "\n",
    "    # Using the same method of calculating the inverse agreement score\n",
    "    normalized_std_deviation = std_deviation / mean_votes\n",
    "    inverse_agreement_score = 1 - normalized_std_deviation\n",
    "\n",
    "    return mean_votes, std_deviation, inverse_agreement_score"
   ]
  },
  {
   "cell_type": "code",
   "execution_count": 154,
   "id": "61280802",
   "metadata": {
    "scrolled": false
   },
   "outputs": [
    {
     "name": "stdout",
     "output_type": "stream",
     "text": [
      "Layer_1\n"
     ]
    },
    {
     "ename": "KeyError",
     "evalue": "'votes'",
     "output_type": "error",
     "traceback": [
      "\u001b[0;31m---------------------------------------------------------------------------\u001b[0m",
      "\u001b[0;31mKeyError\u001b[0m                                  Traceback (most recent call last)",
      "Cell \u001b[0;32mIn[154], line 15\u001b[0m\n\u001b[1;32m     13\u001b[0m \u001b[38;5;66;03m# Calculate cosine similarity between all items\u001b[39;00m\n\u001b[1;32m     14\u001b[0m similarity_matrix \u001b[38;5;241m=\u001b[39m cosine_similarity(all_items_embeddings)[\u001b[38;5;241m-\u001b[39m\u001b[38;5;241m1\u001b[39m][:\u001b[38;5;241m-\u001b[39m\u001b[38;5;241m1\u001b[39m]\n\u001b[0;32m---> 15\u001b[0m \u001b[38;5;28;01massert\u001b[39;00m \u001b[38;5;28mlen\u001b[39m(n[\u001b[38;5;124m'\u001b[39m\u001b[38;5;124mvotes\u001b[39m\u001b[38;5;124m'\u001b[39m]) \u001b[38;5;241m==\u001b[39m \u001b[38;5;28mlen\u001b[39m(n[\u001b[38;5;124m'\u001b[39m\u001b[38;5;124mvalues\u001b[39m\u001b[38;5;124m'\u001b[39m]), (n[\u001b[38;5;124m'\u001b[39m\u001b[38;5;124mvotes\u001b[39m\u001b[38;5;124m'\u001b[39m], n[\u001b[38;5;124m'\u001b[39m\u001b[38;5;124mvalues\u001b[39m\u001b[38;5;124m'\u001b[39m])\n\u001b[1;32m     16\u001b[0m votes \u001b[38;5;241m=\u001b[39m n[\u001b[38;5;124m'\u001b[39m\u001b[38;5;124mvotes\u001b[39m\u001b[38;5;124m'\u001b[39m][:\u001b[38;5;28mlen\u001b[39m(similarity_matrix)]\n\u001b[1;32m     17\u001b[0m values \u001b[38;5;241m=\u001b[39m n[\u001b[38;5;124m'\u001b[39m\u001b[38;5;124mvalues\u001b[39m\u001b[38;5;124m'\u001b[39m][:\u001b[38;5;28mlen\u001b[39m(similarity_matrix)]\n",
      "\u001b[0;31mKeyError\u001b[0m: 'votes'"
     ]
    }
   ],
   "source": [
    "for i in range(5):\n",
    "    print(f'Layer_{i+1}')\n",
    "    list_to_eval = [[],[],[], []]\n",
    "    for name_all_list in all_list:\n",
    "        label = name_all_list['label']\n",
    "    #     for n in name_all_list['layer']:\n",
    "        n = name_all_list['layer'][i]\n",
    "#         print(n)\n",
    "        names = n['names']\n",
    "        name_eval = names + [label]\n",
    "        # Get embeddings for all items, considering duplicates \n",
    "        all_items_embeddings = getSentenceEmbedding(name_eval, SapBERT_tokenizer, SapBERT_model)\n",
    "        # Calculate cosine similarity between all items\n",
    "        similarity_matrix = cosine_similarity(all_items_embeddings)[-1][:-1]\n",
    "        assert len(n['votes']) == len(n['values']), (n['votes'], n['values'])\n",
    "        votes = n['votes'][:len(similarity_matrix)]\n",
    "        values = n['values'][:len(similarity_matrix)]\n",
    "        similarity_matrix = similarity_matrix[:len(n['votes'])]\n",
    "        assert len(similarity_matrix) == len(votes), n \n",
    "        list_to_eval[0].extend(similarity_matrix)\n",
    "        list_to_eval[1].extend(votes)\n",
    "        list_to_eval[2].extend(values)\n",
    "        \n",
    "        normalized_votes = np.array([v/sum(n['votes']) for v in n['votes']])\n",
    "#         print(normalized_votes)\n",
    "        mean_votes, std_deviation, agreement_score = cal_inverse_agreement_score(normalized_votes)\n",
    "        list_to_eval[3].append(agreement_score)\n",
    "        \n",
    "    print(f'vote agreement: {sum(list_to_eval[3])/len(list_to_eval[3])}')\n",
    "\n",
    "    # Calculate Pearson correlation\n",
    "    pearson_corr, pearson_p_value = pearsonr(list_to_eval[0], list_to_eval[1])\n",
    "    print(f'Pearson correlation: {pearson_corr:.3f}, P-value: {pearson_p_value:.8f}')\n",
    "    \n",
    "    pearson_corr, pearson_p_value = pearsonr(list_to_eval[0], list_to_eval[2])\n",
    "    print(f'Pearson correlation: {pearson_corr:.3f}, P-value: {pearson_p_value:.8f}')\n",
    "    print()\n",
    "    \n",
    "    # Calculate Spearman correlation\n",
    "    spearman_corr, spearman_p_value = spearmanr(list_to_eval[0], list_to_eval[1])\n",
    "    print(f'Spearman correlation: {spearman_corr:.3f}, P-value: {spearman_p_value:.8f}')\n",
    "    \n",
    "    spearman_corr, spearman_p_value = spearmanr(list_to_eval[0], list_to_eval[2])\n",
    "    print(f'Spearman correlation: {spearman_corr:.3f}, P-value: {spearman_p_value:.8f}')\n",
    "    print()"
   ]
  },
  {
   "cell_type": "markdown",
   "id": "7fb8e592",
   "metadata": {},
   "source": [
    "#### Key take away\n",
    "- Voters have bigger disagreement as it go deeper in the layer"
   ]
  },
  {
   "cell_type": "code",
   "execution_count": 101,
   "id": "17d71ad9",
   "metadata": {},
   "outputs": [],
   "source": [
    "### Are voters making the right decision?\n",
    "### With weighted uncertainty?"
   ]
  },
  {
   "cell_type": "markdown",
   "id": "60e58aa5",
   "metadata": {},
   "source": [
    "## Distribution of Best Similarity\n",
    "Aim to understand where's the best layer. \n",
    "1. Which layer gets hit the most?\n",
    "2. Which layer has the best similarity?\n",
    "3. Are we going too deep? Should we set a stopping criteria"
   ]
  },
  {
   "cell_type": "code",
   "execution_count": 155,
   "id": "a5bf3f54",
   "metadata": {},
   "outputs": [
    {
     "name": "stdout",
     "output_type": "stream",
     "text": [
      "Layer_1\n",
      "avg: 0.33658958631264907\n",
      "Layer_2\n",
      "avg: 0.38030710415597485\n",
      "Layer_3\n",
      "avg: 0.41101281026637315\n",
      "Layer_4\n",
      "avg: 0.4185557723723531\n",
      "Layer_5\n",
      "avg: 0.41812831789181737\n"
     ]
    }
   ],
   "source": [
    "## need to fixed --> are we taking all sim or the best sim? why is it 191? \n",
    "\n",
    "all_sim_list = []\n",
    "all_best_sim_list = []\n",
    "all_gene_list = []\n",
    "for i in range(5):\n",
    "    print(f'Layer_{i+1}')\n",
    "    list_to_eval = [[],[],[],[]]\n",
    "    for name_all_list in all_list:\n",
    "        label = name_all_list['label']\n",
    "    #     for n in name_all_list['layer']:\n",
    "        n = name_all_list['layer'][i]\n",
    "        names = n['names']\n",
    "        name_eval = names + [label]\n",
    "        # Get embeddings for all items, considering duplicates \n",
    "        all_items_embeddings = getSentenceEmbedding(name_eval, SapBERT_tokenizer, SapBERT_model)\n",
    "        # Calculate cosine similarity between all items\n",
    "        similarity_matrix = cosine_similarity(all_items_embeddings)[-1][:-1]\n",
    "        gene_count = len(n['genes'].split(' '))\n",
    "        list_to_eval[0].extend(similarity_matrix)\n",
    "        list_to_eval[1].extend(n['frequency'])\n",
    "        list_to_eval[2].append(gene_count)\n",
    "        list_to_eval[3].append(max(similarity_matrix))\n",
    "    all_sim_list.append(list_to_eval[0])\n",
    "    all_gene_list.append(list_to_eval[2])\n",
    "    all_best_sim_list.append(list_to_eval[3])\n",
    "    print(f'avg: {sum(list_to_eval[0])/len(list_to_eval[0])}')"
   ]
  },
  {
   "cell_type": "code",
   "execution_count": 103,
   "id": "4de869d9",
   "metadata": {},
   "outputs": [],
   "source": [
    "# all_best_sim_list[-1]"
   ]
  },
  {
   "cell_type": "code",
   "execution_count": 159,
   "id": "2f5b092c",
   "metadata": {},
   "outputs": [
    {
     "data": {
      "image/png": "[encoded data removed]",
      "text/plain": [
       "<Figure size 1200x600 with 1 Axes>"
      ]
     },
     "metadata": {},
     "output_type": "display_data"
    },
    {
     "data": {
      "image/png": "[encoded data removed]",
      "text/plain": [
       "<Figure size 1200x600 with 1 Axes>"
      ]
     },
     "metadata": {},
     "output_type": "display_data"
    }
   ],
   "source": [
    "# Creating box and violin plots\n",
    "plt.figure(figsize=(12, 6))\n",
    "\n",
    "# Box plot\n",
    "plt.subplot(1, 2, 1)\n",
    "sns.boxplot(data=all_sim_list)\n",
    "plt.title('Box Plot of Similarity Scores by Layer')\n",
    "plt.xlabel('Layer')\n",
    "plt.ylabel('Similarity Score')\n",
    "\n",
    "# Violin plot\n",
    "# plt.subplot(1, 2, 2)\n",
    "# sns.violinplot(data=all_sim_list)\n",
    "# plt.title('Violin Plot of Similarity Scores by Layer')\n",
    "# plt.xlabel('Layer')\n",
    "# plt.ylabel('Similarity Score')\n",
    "# Adjust x-axis labels from 0~4 to 1~5\n",
    "plt.xticks([0,1,2,3,4], [1,2,3,4,5])  # Set new labels\n",
    "# Adjust layout and display the plots\n",
    "plt.tight_layout()\n",
    "plt.show()\n",
    "\n",
    "plt.figure(figsize=(12, 6))\n",
    "# Box plot\n",
    "plt.subplot(1, 2, 1)\n",
    "sns.boxplot(data=all_best_sim_list)\n",
    "plt.title('Box Plot of Best Similarity Scores by Layer')\n",
    "plt.xlabel('Layer')\n",
    "plt.ylabel('Similarity Score')\n",
    "\n",
    "# Violin plot\n",
    "# plt.subplot(1, 2, 2)\n",
    "# sns.violinplot(data=all_sim_list)\n",
    "# plt.title('Violin Plot of Similarity Scores by Layer')\n",
    "# plt.xlabel('Layer')\n",
    "# plt.ylabel('Similarity Score')\n",
    "# Adjust x-axis labels from 0~4 to 1~5\n",
    "plt.xticks([0,1,2,3,4], [1,2,3,4,5])  # Set new labels\n",
    "# Adjust layout and display the plots\n",
    "plt.tight_layout()\n",
    "plt.show()"
   ]
  },
  {
   "cell_type": "code",
   "execution_count": 105,
   "id": "aa144148",
   "metadata": {},
   "outputs": [
    {
     "data": {
      "text/plain": [
       "50"
      ]
     },
     "execution_count": 105,
     "metadata": {},
     "output_type": "execute_result"
    }
   ],
   "source": [
    "len(all_best_sim_list[0])"
   ]
  },
  {
   "cell_type": "code",
   "execution_count": 156,
   "id": "0144d5b5",
   "metadata": {},
   "outputs": [
    {
     "data": {
      "image/png": "[encoded data removed]",
      "text/plain": [
       "<Figure size 800x600 with 2 Axes>"
      ]
     },
     "metadata": {},
     "output_type": "display_data"
    }
   ],
   "source": [
    "#change, average of each best. not best of each layer. \n",
    "best_sim_if_hit = [[] for _ in range(len(all_best_sim_list))]\n",
    "highest_indices = []\n",
    "for items in zip(*all_best_sim_list):\n",
    "#     print(items)\n",
    "#     errro\n",
    "    highest_value = 0\n",
    "    highest_index = 0\n",
    "#     items = items[:4]\n",
    "    highest_index = items.index(max(items))\n",
    "    highest_indices.append(highest_index)\n",
    "    best_sim_if_hit[highest_index].append(max(items))\n",
    "\n",
    "best_sim_if_hit_avg = [sum(i)/len(i) for i in best_sim_if_hit]\n",
    "\n",
    "import matplotlib.pyplot as plt\n",
    "\n",
    "# Assuming highest_indices is populated as per your code snippet\n",
    "# highest_indices = [...]\n",
    "# print(len(highest_indices))\n",
    "\n",
    "# # Plotting the histogram\n",
    "# a = plt.hist(highest_indices, bins=range(min(highest_indices), max(highest_indices) + 2), align='left', rwidth=0.8)\n",
    "# # plt.title('Distribution of Indices with Highest Similarity Score')\n",
    "# plt.ylabel('Samples having layer N as optimal')\n",
    "# plt.xlabel('Layer number')\n",
    "# # Adjust x-axis labels from 0~4 to 1~5\n",
    "# plt.xticks([0,1,2,3,4], [1,2,3,4,5])  # Set new labels\n",
    "# # plt.ylim(1, 5)\n",
    "# plt.show()\n",
    "# print(a)\n",
    "\n",
    "fig, ax1 = plt.subplots(figsize=(8, 6))\n",
    "\n",
    "# Bar plot for the amount of data samples\n",
    "colors = ['skyblue', 'orange', 'lightgreen']\n",
    "ax1.bar([1,2,3,4,5], a[0], color=colors, label='Sample Count', alpha=0.6)\n",
    "ax1.set_xlabel('Data Types')\n",
    "ax1.set_ylabel('Sample Count', color='b')\n",
    "ax1.tick_params(axis='y', labelcolor='b')\n",
    "\n",
    "# Create a twin axis to overlay the means\n",
    "ax2 = ax1.twinx()\n",
    "ax2.plot([1,2,3,4,5], best_sim_if_hit_avg, 'ko-', label='Sample Mean', linewidth=2, markersize=10)\n",
    "ax2.set_ylabel('Mean Value', color='k')\n",
    "ax2.tick_params(axis='y', labelcolor='k')\n",
    "\n",
    "# Adding titles and legend\n",
    "plt.title('Data Samples Count and Their Means')\n",
    "fig.tight_layout()\n",
    "plt.show()"
   ]
  },
  {
   "cell_type": "markdown",
   "id": "21f8f877",
   "metadata": {},
   "source": [
    "there is no such thing as optimal layer, it's dependent to each data sample\n",
    "\n",
    "The way I would interpret it is:\n",
    "There are a lot of data samples that prefer specific ones (layer 4), instead of ealier --> meaning making the BP name more specifc does help, in terms of the similarity. \n",
    "\n",
    "But for the reason that the performance is still low (64%), My hypotheses are:\n",
    "1. But those are usually difficult genes, hard to make names for them. \n",
    "2. It's not specific enough, need to dive deeper. "
   ]
  },
  {
   "cell_type": "markdown",
   "id": "dda3063d",
   "metadata": {},
   "source": [
    "### Gene Count vs Optimal Layer"
   ]
  },
  {
   "cell_type": "code",
   "execution_count": 111,
   "id": "2a566959",
   "metadata": {},
   "outputs": [],
   "source": [
    "highest_indices = [[],[]]\n",
    "for items, gene in zip(zip(*all_best_sim_list),zip(*all_gene_list)) :\n",
    "    highest_value = 0\n",
    "    highest_index = 0\n",
    "    for i, tem in enumerate(items):\n",
    "        if tem > highest_value:\n",
    "            highest_value = tem\n",
    "            highest_index = i\n",
    "    highest_indices[0].append(highest_index)\n",
    "    highest_indices[1].append(gene[0])"
   ]
  },
  {
   "cell_type": "code",
   "execution_count": 112,
   "id": "e8242660",
   "metadata": {},
   "outputs": [
    {
     "data": {
      "image/png": "[encoded data removed]",
      "text/plain": [
       "<Figure size 800x400 with 1 Axes>"
      ]
     },
     "metadata": {},
     "output_type": "display_data"
    }
   ],
   "source": [
    "# print(highest_indices[0])\n",
    "import matplotlib.pyplot as plt\n",
    "# Assuming highest_indices is a list of tuples or two lists\n",
    "# For demonstration, let's assume it's two lists:\n",
    "# highest_indices[0] contains the layer indices\n",
    "# highest_indices[1] contains the gene counts\n",
    "\n",
    "# Apply jittering\n",
    "# Define the amount of jitter\n",
    "jitter_amount = 0.1\n",
    "# Apply jitter to the x-axis values\n",
    "x_values_jittered = np.array(highest_indices[0]) + np.random.normal(0, jitter_amount, size=len(highest_indices[0]))\n",
    "\n",
    "# Create dot plot with jittered values\n",
    "plt.figure(figsize=(8, 4))\n",
    "plt.scatter(x_values_jittered, highest_indices[1], color='blue')\n",
    "\n",
    "# Adding titles and labels\n",
    "plt.title('Dot Plot Example with Jitter')\n",
    "plt.xlabel('Optimal Layer')\n",
    "plt.ylabel('Gene Count')\n",
    "\n",
    "# Adjust x-axis labels from 0~4 to 1~5\n",
    "# It's crucial that these labels reflect the intended categories accurately\n",
    "plt.xticks([0, 1, 2, 3, 4], [1, 2, 3, 4, 5])  # Assuming your original intent was to map these directly\n",
    "\n",
    "# Show grid (optional)\n",
    "plt.grid(True, which='major', linestyle='--', linewidth=0.5)\n",
    "\n",
    "# Display the plot\n",
    "plt.show()\n"
   ]
  },
  {
   "cell_type": "markdown",
   "id": "15f33d6b",
   "metadata": {},
   "source": [
    "### In each step, are the answers similarity to each other?"
   ]
  },
  {
   "cell_type": "code",
   "execution_count": null,
   "id": "12bcb6f3",
   "metadata": {},
   "outputs": [],
   "source": []
  },
  {
   "cell_type": "code",
   "execution_count": 174,
   "id": "5d651739",
   "metadata": {},
   "outputs": [
    {
     "data": {
      "text/plain": [
       "0.75"
      ]
     },
     "execution_count": 174,
     "metadata": {},
     "output_type": "execute_result"
    }
   ],
   "source": []
  },
  {
   "cell_type": "code",
   "execution_count": 188,
   "id": "678d4c1a",
   "metadata": {},
   "outputs": [
    {
     "data": {
      "text/plain": [
       "[2, 1]"
      ]
     },
     "execution_count": 188,
     "metadata": {},
     "output_type": "execute_result"
    }
   ],
   "source": [
    "ids = [0,1,2]\n",
    "values = [0,1,2]\n",
    "select_ids = sorted([x for x in ids if values[x] != 0], key=lambda x: values[x], reverse=True)[:3]\n",
    "select_ids"
   ]
  },
  {
   "cell_type": "code",
   "execution_count": 213,
   "id": "a0e3a4ed",
   "metadata": {},
   "outputs": [],
   "source": [
    "import argparse\n",
    "args = argparse.Namespace(backend='gpt-3.5-turbo-1106', stop_expansion=True, exploration_rate=0.1)\n",
    "\n",
    "stop_expansion = getattr(args, 'stop_expansion', False)"
   ]
  },
  {
   "cell_type": "code",
   "execution_count": 214,
   "id": "26cf04ca",
   "metadata": {},
   "outputs": [
    {
     "data": {
      "text/plain": [
       "0.1"
      ]
     },
     "execution_count": 214,
     "metadata": {},
     "output_type": "execute_result"
    }
   ],
   "source": [
    "getattr(args, 'exploration_rate', 0)"
   ]
  },
  {
   "cell_type": "code",
   "execution_count": 217,
   "id": "bd44a935",
   "metadata": {},
   "outputs": [],
   "source": [
    "tttttt = '''DEGS2 PIGG SGPP1 SERINC5 SMPDL3B ACER2 VPS54 DEGS1 SERINC2 ST8SIA3 PIGB HACD3 AGMO FUT3 ELOVL5 PIGO ALOX12B PIGU NAAA ST6GALNAC5 ST6GALNAC6 FUT7 BAX HACD4 PNLIPRP2 AGK CLN6 NEU2 GAL3ST4 P2RX7 PIGF ELOVL4 CERS2 ORMDL1 MPPE1 CERS1 SPTLC1 VAPA ZPBP2 FUT9 MGST2 SMPD2 ORMDL3 SFTPB PLPP2 B3GALT4 ALOXE3 PSAPL1 ORMDL2 B4GALT3 GBA1 LCT FUT5 SPHK1 B4GALT6 PIGT PIGX ABCA2 ST8SIA4 PLPP3 SMPD4 PRKD1 KIT CERK GLTP CERS6 SGMS2 ARV1 PSAP PIGS GALC ELOVL6 SPTLC2 PLA2G6 DPM3 PIGP CPTP PIGK TM9SF2 SGPL1 B3GNT5 NAGA SERINC1 B3GALNT1 ABCA12 ST3GAL4 LARGE1 CCN1 SPTSSB GAL3ST2 GLA ASAH2B TECR ST3GAL1 B4GALNT1 ASAH1 ELOVL1 NEU3 PIGZ A3GALT2 SPTSSA SPHK2 B3GALT2 KDSR SAMD8 ST8SIA1 SCCPDH CERT1 PRKAA1 PGAP2 ABCA8 TH PIGA HEXA NEU4 PGAP4 PPP2R1A PGAP1 SGMS1 PIGY PPT1 ST3GAL5 FA2H ST8SIA2 PIGH PPP2CA ALDH3B1 PIGW FUCA1 GPAA1 ACER1 GLB1 B4GALT4 PIGQ SMPDL3A CYP4F22 PRKD3 SIRT3 SMPD1 ELOVL7 ST3GAL6 PIGV PIGM B4GALT5 GPLD1 DPM1 ST3GAL3 ITGB8 ST8SIA5 PPM1L GAL3ST3 UGT8 ST8SIA6 SERINC3 FADS3 PGAP3 CERKL CERS5 PIGN SUMF1 PRKD2 ASAH2 B3GALT1 GBA3 GBGT1 SPNS2 ELOVL3 SLC30A5 ST6GALNAC3 PLPP1 PNPLA1 CLN8 SGPP2 ENPP2 GAL3ST1 SMPD3 HACD1 GBA2 DPM2 PEMT CSNK1G2 HACD2 TLCD3B ENPP7 TEX2 NSMAF UGCG ELOVL2 FUT6 CERS3 SPTLC3 P2RX1 ACER3 CERS4 CYP1B1 HTRA2 NEU1 OSBP ST6GALNAC4 PLA2G15 FUT2 A4GALT HEXB ST3GAL2 PRKCD CWH43 C20orf173 PIGC GM2A PIGL'''"
   ]
  },
  {
   "cell_type": "code",
   "execution_count": 218,
   "id": "128d2a9d",
   "metadata": {},
   "outputs": [
    {
     "data": {
      "text/plain": [
       "'DEGS2, PIGG, SGPP1, SERINC5, SMPDL3B, ACER2, VPS54, DEGS1, SERINC2, ST8SIA3, PIGB, HACD3, AGMO, FUT3, ELOVL5, PIGO, ALOX12B, PIGU, NAAA, ST6GALNAC5, ST6GALNAC6, FUT7, BAX, HACD4, PNLIPRP2, AGK, CLN6, NEU2, GAL3ST4, P2RX7, PIGF, ELOVL4, CERS2, ORMDL1, MPPE1, CERS1, SPTLC1, VAPA, ZPBP2, FUT9, MGST2, SMPD2, ORMDL3, SFTPB, PLPP2, B3GALT4, ALOXE3, PSAPL1, ORMDL2, B4GALT3, GBA1, LCT, FUT5, SPHK1, B4GALT6, PIGT, PIGX, ABCA2, ST8SIA4, PLPP3, SMPD4, PRKD1, KIT, CERK, GLTP, CERS6, SGMS2, ARV1, PSAP, PIGS, GALC, ELOVL6, SPTLC2, PLA2G6, DPM3, PIGP, CPTP, PIGK, TM9SF2, SGPL1, B3GNT5, NAGA, SERINC1, B3GALNT1, ABCA12, ST3GAL4, LARGE1, CCN1, SPTSSB, GAL3ST2, GLA, ASAH2B, TECR, ST3GAL1, B4GALNT1, ASAH1, ELOVL1, NEU3, PIGZ, A3GALT2, SPTSSA, SPHK2, B3GALT2, KDSR, SAMD8, ST8SIA1, SCCPDH, CERT1, PRKAA1, PGAP2, ABCA8, TH, PIGA, HEXA, NEU4, PGAP4, PPP2R1A, PGAP1, SGMS1, PIGY, PPT1, ST3GAL5, FA2H, ST8SIA2, PIGH, PPP2CA, ALDH3B1, PIGW, FUCA1, GPAA1, ACER1, GLB1, B4GALT4, PIGQ, SMPDL3A, CYP4F22, PRKD3, SIRT3, SMPD1, ELOVL7, ST3GAL6, PIGV, PIGM, B4GALT5, GPLD1, DPM1, ST3GAL3, ITGB8, ST8SIA5, PPM1L, GAL3ST3, UGT8, ST8SIA6, SERINC3, FADS3, PGAP3, CERKL, CERS5, PIGN, SUMF1, PRKD2, ASAH2, B3GALT1, GBA3, GBGT1, SPNS2, ELOVL3, SLC30A5, ST6GALNAC3, PLPP1, PNPLA1, CLN8, SGPP2, ENPP2, GAL3ST1, SMPD3, HACD1, GBA2, DPM2, PEMT, CSNK1G2, HACD2, TLCD3B, ENPP7, TEX2, NSMAF, UGCG, ELOVL2, FUT6, CERS3, SPTLC3, P2RX1, ACER3, CERS4, CYP1B1, HTRA2, NEU1, OSBP, ST6GALNAC4, PLA2G15, FUT2, A4GALT, HEXB, ST3GAL2, PRKCD, CWH43, C20orf173, PIGC, GM2A, PIGL'"
      ]
     },
     "execution_count": 218,
     "metadata": {},
     "output_type": "execute_result"
    }
   ],
   "source": [
    "', '.join(tttttt.split(' '))"
   ]
  },
  {
   "cell_type": "code",
   "execution_count": 228,
   "id": "a41e942e",
   "metadata": {},
   "outputs": [],
   "source": [
    "true = True\n",
    "false = False\n",
    "ttttt = [\n",
    "  {\n",
    "    \"Answer\": [\n",
    "      {\n",
    "        \"Biological Process\": \"Intracellular Trafficking\",\n",
    "        \"Specific Enough\": true,\n",
    "        \"Reason\": \"The gene set is involved in intracellular transport of LDLRAP1 and SCP2D1, indicating a specific involvement in intracellular trafficking.\"\n",
    "      },\n",
    "      {\n",
    "        \"Biological Process\": \"Lipid Metabolism\",\n",
    "        \"Specific Enough\": true,\n",
    "        \"Reason\": \"The gene set includes LDLRAP1 and SCP2 which are involved in lipid metabolism, indicating a specific involvement in lipid metabolism.\"\n",
    "      },\n",
    "      {\n",
    "        \"Biological Process\": \"Cellular Signaling\",\n",
    "        \"Specific Enough\": false,\n",
    "        \"Reason\": \"The gene set does not provide specific evidence of involvement in cellular signaling, so the biological process name is not specific enough.\"\n",
    "      }\n",
    "    ]\n",
    "  },\n",
    "  {\n",
    "    \"Answer\": [\n",
    "      {\n",
    "        \"Biological Process\": \"Intracellular Trafficking\",\n",
    "        \"Specific Enough\": true,\n",
    "        \"Reason\": \"The gene set includes genes related to intracellular trafficking, such as LDLRAP1, which is involved in endocytosis and intracellular transport of LDL.\"\n",
    "      },\n",
    "      {\n",
    "        \"Biological Process\": \"Lipid Metabolism\",\n",
    "        \"Specific Enough\": true,\n",
    "        \"Reason\": \"The gene set includes genes related to lipid metabolism, such as SCP2D1 and SCP2, which are involved in cholesterol and lipid transport.\"\n",
    "      },\n",
    "      {\n",
    "        \"Biological Process\": \"Cellular Signaling\",\n",
    "        \"Specific Enough\": false,\n",
    "        \"Reason\": \"The gene set does not specifically include genes known for their direct involvement in cellular signaling pathways. A more specific biological process related to the function of these genes would be required.\"\n",
    "      }\n",
    "    ]\n",
    "  },\n",
    "  {\n",
    "    \"Answer\": [\n",
    "      {\n",
    "        \"Biological Process\": \"Intracellular Trafficking\",\n",
    "        \"Specific Enough\": true,\n",
    "        \"Reason\": \"The biological process 'Intracellular Trafficking' accurately represents the function of the gene set, which is involved in the transport of molecules and organelles within the cell.\"\n",
    "      },\n",
    "      {\n",
    "        \"Biological Process\": \"Lipid Metabolism\",\n",
    "        \"Specific Enough\": true,\n",
    "        \"Reason\": \"The biological process 'Lipid Metabolism' is specific enough as the gene set is involved in lipid metabolism and related functions.\"\n",
    "      },\n",
    "      {\n",
    "        \"Biological Process\": \"Cellular Signaling\",\n",
    "        \"Specific Enough\": false,\n",
    "        \"Reason\": \"The biological process 'Cellular Signaling' is not specific enough as it could encompass a wide range of specific signaling pathways. A more specific description of the signaling process would be required.\"\n",
    "      }\n",
    "    ]\n",
    "  },\n",
    "  {\n",
    "    \"Answer\": [\n",
    "      {\n",
    "        \"Biological Process\": \"Intracellular Trafficking\",\n",
    "        \"Specific Enough\": true,\n",
    "        \"Reason\": \"The gene set involves genes associated with intracellular trafficking, making the process name specific enough.\"\n",
    "      },\n",
    "      {\n",
    "        \"Biological Process\": \"Lipid Metabolism\",\n",
    "        \"Specific Enough\": true,\n",
    "        \"Reason\": \"The gene set involves genes associated with lipid metabolism, making the process name specific enough.\"\n",
    "      },\n",
    "      {\n",
    "        \"Biological Process\": \"Cellular Signaling\",\n",
    "        \"Specific Enough\": false,\n",
    "        \"Reason\": \"The gene set involves a specific subset of genes, and a more specific cellular signaling process should be identified based on the functions of these genes.\"\n",
    "      }\n",
    "    ]\n",
    "  },\n",
    "  {\n",
    "    \"Answer\": [\n",
    "      {\n",
    "        \"Biological Process\": \"Intracellular Trafficking\",\n",
    "        \"Specific Enough\": true,\n",
    "        \"Reason\": \"The gene set is associated with intracellular transport and trafficking of molecules within the cell.\"\n",
    "      },\n",
    "      {\n",
    "        \"Biological Process\": \"Lipid Metabolism\",\n",
    "        \"Specific Enough\": true,\n",
    "        \"Reason\": \"The gene set is associated with lipid metabolism processes, including the transport and metabolism of lipids.\"\n",
    "      },\n",
    "      {\n",
    "        \"Biological Process\": \"Cellular Signaling\",\n",
    "        \"Specific Enough\": false,\n",
    "        \"Reason\": \"The gene set does not provide specific evidence of involvement in cellular signaling processes. A more specific description of the signaling pathway or molecule involved is needed.\"\n",
    "      }\n",
    "    ]\n",
    "  }\n",
    "]\n"
   ]
  },
  {
   "cell_type": "code",
   "execution_count": 235,
   "id": "c13ebaa7",
   "metadata": {},
   "outputs": [
    {
     "data": {
      "text/plain": [
       "{'Answer': [{'Biological Process': 'Intracellular Trafficking',\n",
       "   'Specific Enough': True,\n",
       "   'Reason': 'The gene set is associated with intracellular transport and trafficking of molecules within the cell.'},\n",
       "  {'Biological Process': 'Lipid Metabolism',\n",
       "   'Specific Enough': True,\n",
       "   'Reason': 'The gene set is associated with lipid metabolism processes, including the transport and metabolism of lipids.'},\n",
       "  {'Biological Process': 'Cellular Signaling',\n",
       "   'Specific Enough': False,\n",
       "   'Reason': 'The gene set does not provide specific evidence of involvement in cellular signaling processes. A more specific description of the signaling pathway or molecule involved is needed.'}]}"
      ]
     },
     "execution_count": 235,
     "metadata": {},
     "output_type": "execute_result"
    }
   ],
   "source": [
    "ttttt[4]"
   ]
  },
  {
   "cell_type": "code",
   "execution_count": 238,
   "id": "dd895966",
   "metadata": {},
   "outputs": [
    {
     "data": {
      "text/plain": [
       "[2]"
      ]
     },
     "execution_count": 238,
     "metadata": {},
     "output_type": "execute_result"
    }
   ],
   "source": [
    "# Your input lists\n",
    "ids = [0, 1, 2]\n",
    "values = [0.6666666666666666, 0.8, 1.6666666666666665]\n",
    "stop_metrics = [0, 0, 1]\n",
    "\n",
    "# Step 1 & 2: Sort values in descending order and select top 2, keeping track of original indexes\n",
    "sorted_indexes = sorted(range(len(values)), key=lambda i: values[i], reverse=True)[:2]\n",
    "\n",
    "# Step 3 & 4: Check if the top 2 values have corresponding stop_metrics >= 1 and return their ids\n",
    "result_ids = [ids[i] for i in sorted_indexes if stop_metrics[i] >= 1]\n",
    "\n",
    "result_ids"
   ]
  },
  {
   "cell_type": "code",
   "execution_count": 295,
   "id": "0b922fee",
   "metadata": {},
   "outputs": [],
   "source": [
    "sample = ['\\n{\\n  \"Answer\": [\\n    {\\n      \"Biological Process\": \"Cell Cycle\",\\n      \"Specificity Score\": 7,\\n      \"Specific Enough\": false,\\n      \"Evaluation\": \"The biological process of \\'Cell Cycle\\' is highly relevant to the provided genes as it involves the series of events that take place in a cell leading to its division and duplication. Many of the provided genes are likely involved in regulating various stages of the cell cycle. However, the term \\'Cell Cycle\\' is not unique to these genes as it is a broad process that applies to most cell types and may not exclusively encompass the functions of the provided genes. There are established scientific associations between these genes and the cell cycle, but the term is not specific enough based on the threshold score of 8.\"\\n    },\\n    {\\n      \"Biological Process\": \"Apoptosis\",\\n      \"Specificity Score\": 9,\\n      \"Specific Enough\": true,\\n      \"Evaluation\": \"The biological process of \\'Apoptosis\\' is highly relevant to the provided genes as it involves programmed cell death, which is a crucial mechanism in development, homeostasis, and the immune response. Many of the provided genes are likely involved in regulating or executing apoptosis. The term \\'Apoptosis\\' is relatively unique to these genes as it specifically describes a distinct cellular process. There are well-established scientific associations between these genes and apoptosis, indicating a high level of specificity. Therefore, the term is specific enough based on the threshold score of 8.\"\\n    },\\n    {\\n      \"Biological Process\": \"Glycolysis\",\\n      \"Specificity Score\": 6,\\n      \"Specific Enough\": false,\\n      \"Evaluation\": \"The biological process of \\'Glycolysis\\' involves the breakdown of glucose to produce energy and intermediate metabolites. While some of the provided genes may be involved in regulating or participating in glycolysis, the term is not highly specific to these genes as it is a fundamental metabolic pathway present in most cells. Additionally, \\'Glycolysis\\' may not fully capture the primary functions of all the provided genes. There are scientific associations between some of the genes and glycolysis, but the term is not specific enough based on the threshold score of 8.\"\\n    }\\n  ]\\n}', '\\n{\\n  \"Answer\": [\\n    {\\n      \"Biological Process\": \"Cell cycle regulation\",\\n      \"Specificity Score\": 7,\\n      \"Specific Enough\": false,\\n      \"Evaluation\": \"The biological process of cell cycle regulation is highly relevant to the provided genes, as they are involved in controlling the cell division and proliferation. However, this process is not unique to these genes, as it is a fundamental process that applies to many other genes. Scientific literature indicates direct associations between the provided genes and cell cycle regulation, but the process is not specific enough to warrant a score of 8 or above.\"\\n    },\\n    {\\n      \"Biological Process\": \"Apoptosis\",\\n      \"Specificity Score\": 9,\\n      \"Specific Enough\": true,\\n      \"Evaluation\": \"The biological process of apoptosis is highly relevant to the provided genes, as they are involved in programmed cell death and related pathways. This process is relatively unique to these genes, as they are specifically implicated in apoptotic pathways. Scientific literature strongly supports direct associations between the provided genes and apoptosis, justifying a high specificity score of 9. Therefore, the biological process name is specific enough with a score above 8.\"\\n    },\\n    {\\n      \"Biological Process\": \"DNA repair\",\\n      \"Specificity Score\": 8,\\n      \"Specific Enough\": true,\\n      \"Evaluation\": \"The biological process of DNA repair is highly relevant to the provided genes, as they are involved in repairing DNA damage and maintaining genomic integrity. This process is relatively unique to these genes, as they are specifically implicated in DNA repair pathways. Scientific literature supports direct associations between the provided genes and DNA repair, justifying a specificity score of 8. Therefore, the biological process name is specific enough with a score of 8.\"\\n    }\\n  ]\\n}', '\\n{\\n  \"Answer\": [\\n    {\\n      \"Biological Process\": \"Cell Cycle Regulation\",\\n      \"Specificity Score\": 9,\\n      \"Specific Enough\": true,\\n      \"Evaluation\": \"The biological process of cell cycle regulation is highly relevant to the provided genes as they are known to be involved in regulating various stages of the cell cycle, such as G1/S transition, S phase, and mitosis. This process is quite unique to these genes as they are specifically linked to cell cycle checkpoints and control mechanisms. There are numerous scientific associations between the provided genes and cell cycle regulation, with studies demonstrating their roles in cell cycle progression and maintenance.\",\\n    \"Specific Enough\": true\\n    },\\n    {\\n      \"Biological Process\": \"Oxidative Phosphorylation\",\\n      \"Specificity Score\": 7,\\n      \"Specific Enough\": false,\\n      \"Evaluation\": \"While oxidative phosphorylation is relevant to energy production and ATP synthesis, which involves several of the provided genes, it is not unique to this gene set as it is a fundamental cellular process present in various cell types. Scientific associations between the genes and oxidative phosphorylation are well-established, but the process is not specific enough to warrant a score above 8.\",\\n      \"Specific Enough\": false\\n    },\\n    {\\n      \"Biological Process\": \"DNA Repair\",\\n      \"Specificity Score\": 8,\\n      \"Specific Enough\": true,\\n      \"Evaluation\": \"DNA repair is highly relevant to the provided genes, as they play crucial roles in maintaining genomic stability and repairing DNA damage. This process is relatively unique to these genes due to their specific involvement in DNA repair pathways. There are numerous scientific associations between the provided genes and DNA repair, with extensive research highlighting their functions in DNA damage response and repair mechanisms.\",\\n      \"Specific Enough\": true\\n    }\\n  ]\\n}', '\\n{\\n  \"Answer\": [\\n    {\\n      \"Biological Process\": \"Cell Cycle Regulation\",\\n      \"Specificity Score\": 8,\\n      \"Specific Enough\": true,\\n      \"Evaluation\": \"The biological process of cell cycle regulation is highly relevant to the provided genes as they are involved in controlling the progression of the cell cycle. This process is relatively unique to these genes as they have specific functions related to cell cycle checkpoints, DNA replication, and cell division. Scientific literature shows direct associations between these genes and cell cycle regulation, with studies demonstrating their roles in regulating various phases of the cell cycle. Therefore, the specificity score of 8 indicates that the biological process name is specific enough for the provided genes.\"\\n    },\\n    {\\n      \"Biological Process\": \"Oxidative Phosphorylation\",\\n      \"Specificity Score\": 7,\\n      \"Specific Enough\": false,\\n      \"Evaluation\": \"The biological process of oxidative phosphorylation is relevant to the provided genes as they are involved in mitochondrial function and energy production, which are essential for oxidative phosphorylation. However, this process is not entirely unique to these genes as many other genes are also involved in oxidative phosphorylation. Scientific literature has established strong associations between these genes and oxidative phosphorylation, highlighting their roles in mitochondrial respiration. While the relevance is high, the lack of uniqueness leads to a specificity score of 7, indicating that the biological process name is not specific enough for the provided genes.\"\\n    },\\n    {\\n      \"Biological Process\": \"Immune Response\",\\n      \"Specificity Score\": 6,\\n      \"Specific Enough\": false,\\n      \"Evaluation\": \"The biological process of immune response is somewhat relevant to the provided genes as some of them are associated with immune function and response to pathogens. However, this process is not unique to these genes as immune response involves a wide array of genes across the immune system. Scientific literature demonstrates associations between these genes and immune response, particularly in the context of inflammatory pathways and immune cell activation. Due to the broad nature of immune response and its involvement with numerous genes, the specificity score of 6 indicates that the biological process name is not specific enough for the provided genes.\"\\n    }\\n  ]\\n}', '\\n{\\n  \"Answer\": [\\n    {\\n      \"Biological Process\": \"Cell Cycle\",\\n      \"Specificity Score\": 7,\\n      \"Specific Enough\": false,\\n      \"Evaluation\": \"The biological process of the cell cycle is relevant to the provided genes as it encompasses the series of events that take place in a cell leading to its division and duplication. However, the cell cycle is a broad process that applies to many genes, and while the genes may be involved in specific phases or regulation of the cell cycle, the association is not unique to these genes. There are known scientific associations between some of the provided genes and the cell cycle, but the overall specificity is not high enough to warrant a score of 8 or above.\"\\n    },\\n    {\\n      \"Biological Process\": \"DNA Replication\",\\n      \"Specificity Score\": 9,\\n      \"Specific Enough\": true,\\n      \"Evaluation\": \"The biological process of DNA replication is highly relevant to the provided genes as it involves the process of producing two identical replicas from one original DNA molecule. This process is directly related to the functions of the provided genes, and their known scientific associations with DNA replication are well-documented in the literature. The uniqueness of this process to these genes is also high. Therefore, with a specificity score of 9, the biological process name is specific enough for the provided genes.\"\\n    },\\n    {\\n      \"Biological Process\": \"Apoptosis\",\\n      \"Specificity Score\": 8,\\n      \"Specific Enough\": true,\\n      \"Evaluation\": \"The biological process of apoptosis, or programmed cell death, is highly relevant to the provided genes as it is a fundamental process that eliminates damaged, superfluous, or harmful cells. There are known scientific associations between some of the provided genes and apoptosis, and the uniqueness of this process to these genes is significant. With a specificity score of 8, the biological process name is specific enough for the provided genes.\"\\n    }\\n  ]\\n}']"
   ]
  },
  {
   "cell_type": "code",
   "execution_count": 300,
   "id": "d6b3f350",
   "metadata": {},
   "outputs": [
    {
     "name": "stdout",
     "output_type": "stream",
     "text": [
      "{'Biological Process': 'Cell Cycle', 'Specificity Score': 7, 'Specific Enough': False, 'Evaluation': \"The biological process of 'Cell Cycle' is highly relevant to the provided genes as it involves the series of events that take place in a cell leading to its division and duplication. Many of the provided genes are likely involved in regulating various stages of the cell cycle. However, the term 'Cell Cycle' is not unique to these genes as it is a broad process that applies to most cell types and may not exclusively encompass the functions of the provided genes. There are established scientific associations between these genes and the cell cycle, but the term is not specific enough based on the threshold score of 8.\"}\n",
      "{'Biological Process': 'Apoptosis', 'Specificity Score': 9, 'Specific Enough': True, 'Evaluation': \"The biological process of 'Apoptosis' is highly relevant to the provided genes as it involves programmed cell death, which is a crucial mechanism in development, homeostasis, and the immune response. Many of the provided genes are likely involved in regulating or executing apoptosis. The term 'Apoptosis' is relatively unique to these genes as it specifically describes a distinct cellular process. There are well-established scientific associations between these genes and apoptosis, indicating a high level of specificity. Therefore, the term is specific enough based on the threshold score of 8.\"}\n",
      "{'Biological Process': 'Glycolysis', 'Specificity Score': 6, 'Specific Enough': False, 'Evaluation': \"The biological process of 'Glycolysis' involves the breakdown of glucose to produce energy and intermediate metabolites. While some of the provided genes may be involved in regulating or participating in glycolysis, the term is not highly specific to these genes as it is a fundamental metabolic pathway present in most cells. Additionally, 'Glycolysis' may not fully capture the primary functions of all the provided genes. There are scientific associations between some of the genes and glycolysis, but the term is not specific enough based on the threshold score of 8.\"}\n",
      "{'Biological Process': 'Cell cycle regulation', 'Specificity Score': 7, 'Specific Enough': False, 'Evaluation': 'The biological process of cell cycle regulation is highly relevant to the provided genes, as they are involved in controlling the cell division and proliferation. However, this process is not unique to these genes, as it is a fundamental process that applies to many other genes. Scientific literature indicates direct associations between the provided genes and cell cycle regulation, but the process is not specific enough to warrant a score of 8 or above.'}\n",
      "{'Biological Process': 'Apoptosis', 'Specificity Score': 9, 'Specific Enough': True, 'Evaluation': 'The biological process of apoptosis is highly relevant to the provided genes, as they are involved in programmed cell death and related pathways. This process is relatively unique to these genes, as they are specifically implicated in apoptotic pathways. Scientific literature strongly supports direct associations between the provided genes and apoptosis, justifying a high specificity score of 9. Therefore, the biological process name is specific enough with a score above 8.'}\n",
      "{'Biological Process': 'DNA repair', 'Specificity Score': 8, 'Specific Enough': True, 'Evaluation': 'The biological process of DNA repair is highly relevant to the provided genes, as they are involved in repairing DNA damage and maintaining genomic integrity. This process is relatively unique to these genes, as they are specifically implicated in DNA repair pathways. Scientific literature supports direct associations between the provided genes and DNA repair, justifying a specificity score of 8. Therefore, the biological process name is specific enough with a score of 8.'}\n",
      "{'Biological Process': 'Cell Cycle Regulation', 'Specificity Score': 9, 'Specific Enough': True, 'Evaluation': 'The biological process of cell cycle regulation is highly relevant to the provided genes as they are known to be involved in regulating various stages of the cell cycle, such as G1/S transition, S phase, and mitosis. This process is quite unique to these genes as they are specifically linked to cell cycle checkpoints and control mechanisms. There are numerous scientific associations between the provided genes and cell cycle regulation, with studies demonstrating their roles in cell cycle progression and maintenance.'}\n",
      "{'Biological Process': 'Oxidative Phosphorylation', 'Specificity Score': 7, 'Specific Enough': False, 'Evaluation': 'While oxidative phosphorylation is relevant to energy production and ATP synthesis, which involves several of the provided genes, it is not unique to this gene set as it is a fundamental cellular process present in various cell types. Scientific associations between the genes and oxidative phosphorylation are well-established, but the process is not specific enough to warrant a score above 8.'}\n",
      "{'Biological Process': 'DNA Repair', 'Specificity Score': 8, 'Specific Enough': True, 'Evaluation': 'DNA repair is highly relevant to the provided genes, as they play crucial roles in maintaining genomic stability and repairing DNA damage. This process is relatively unique to these genes due to their specific involvement in DNA repair pathways. There are numerous scientific associations between the provided genes and DNA repair, with extensive research highlighting their functions in DNA damage response and repair mechanisms.'}\n",
      "{'Biological Process': 'Cell Cycle Regulation', 'Specificity Score': 8, 'Specific Enough': True, 'Evaluation': 'The biological process of cell cycle regulation is highly relevant to the provided genes as they are involved in controlling the progression of the cell cycle. This process is relatively unique to these genes as they have specific functions related to cell cycle checkpoints, DNA replication, and cell division. Scientific literature shows direct associations between these genes and cell cycle regulation, with studies demonstrating their roles in regulating various phases of the cell cycle. Therefore, the specificity score of 8 indicates that the biological process name is specific enough for the provided genes.'}\n",
      "{'Biological Process': 'Oxidative Phosphorylation', 'Specificity Score': 7, 'Specific Enough': False, 'Evaluation': 'The biological process of oxidative phosphorylation is relevant to the provided genes as they are involved in mitochondrial function and energy production, which are essential for oxidative phosphorylation. However, this process is not entirely unique to these genes as many other genes are also involved in oxidative phosphorylation. Scientific literature has established strong associations between these genes and oxidative phosphorylation, highlighting their roles in mitochondrial respiration. While the relevance is high, the lack of uniqueness leads to a specificity score of 7, indicating that the biological process name is not specific enough for the provided genes.'}\n",
      "{'Biological Process': 'Immune Response', 'Specificity Score': 6, 'Specific Enough': False, 'Evaluation': 'The biological process of immune response is somewhat relevant to the provided genes as some of them are associated with immune function and response to pathogens. However, this process is not unique to these genes as immune response involves a wide array of genes across the immune system. Scientific literature demonstrates associations between these genes and immune response, particularly in the context of inflammatory pathways and immune cell activation. Due to the broad nature of immune response and its involvement with numerous genes, the specificity score of 6 indicates that the biological process name is not specific enough for the provided genes.'}\n",
      "{'Biological Process': 'Cell Cycle', 'Specificity Score': 7, 'Specific Enough': False, 'Evaluation': 'The biological process of the cell cycle is relevant to the provided genes as it encompasses the series of events that take place in a cell leading to its division and duplication. However, the cell cycle is a broad process that applies to many genes, and while the genes may be involved in specific phases or regulation of the cell cycle, the association is not unique to these genes. There are known scientific associations between some of the provided genes and the cell cycle, but the overall specificity is not high enough to warrant a score of 8 or above.'}\n",
      "{'Biological Process': 'DNA Replication', 'Specificity Score': 9, 'Specific Enough': True, 'Evaluation': 'The biological process of DNA replication is highly relevant to the provided genes as it involves the process of producing two identical replicas from one original DNA molecule. This process is directly related to the functions of the provided genes, and their known scientific associations with DNA replication are well-documented in the literature. The uniqueness of this process to these genes is also high. Therefore, with a specificity score of 9, the biological process name is specific enough for the provided genes.'}\n",
      "{'Biological Process': 'Apoptosis', 'Specificity Score': 8, 'Specific Enough': True, 'Evaluation': 'The biological process of apoptosis, or programmed cell death, is highly relevant to the provided genes as it is a fundamental process that eliminates damaged, superfluous, or harmful cells. There are known scientific associations between some of the provided genes and apoptosis, and the uniqueness of this process to these genes is significant. With a specificity score of 8, the biological process name is specific enough for the provided genes.'}\n",
      "defaultdict(<class 'int'>, {'Cell Cycle': 2, 'Glycolysis': 1, 'Cell cycle regulation': 1, 'Oxidative Phosphorylation': 2, 'Immune Response': 1})\n"
     ]
    }
   ],
   "source": [
    "from collections import defaultdict\n",
    "stop_results = defaultdict(int)\n",
    "for stop_output in sample:\n",
    "    stop_output = stop_output.replace('\\n','')\n",
    "    stop_output = json.loads(stop_output)\n",
    "    for i, a in enumerate(stop_output['Answer']):\n",
    "        print(a)\n",
    "        if type(a['Specific Enough']) == bool:\n",
    "            if a['Specific Enough'] == False :\n",
    "#                 print('in')\n",
    "                stop_results[a['Biological Process']] += 1\n",
    "        elif type(a['Specific Enough']) == str:\n",
    "            if a['Specific Enough'].lower == 'false' :\n",
    "#                 print('in')\n",
    "                stop_results[a['Biological Process']] += 1\n",
    "print(stop_results)\n"
   ]
  },
  {
   "cell_type": "code",
   "execution_count": 304,
   "id": "1b1b6227",
   "metadata": {},
   "outputs": [],
   "source": [
    "a = [['{\"Step\": \"1\", \"Biological Process\": \"Lipid Metabolism\", \"Reason\": \"Given the presence of genes like SCP2D1 and ANXA2, both of which are involved in lipid metabolism, it is likely that the system involving the expression of these genes is participating in the broader biological process of lipid metabolism. This process involves the synthesis, degradation, and transport of lipids, which is in line with the functions of the provided genes.\"}', '{\"Step\": \"1\", \"Biological Process\": \"Endocytosis\", \"Reason\": \"The presence of the LDLRAP1 gene indicates a potential involvement in endocytosis, a fundamental cellular process involving the uptake of external materials by cells. LDLRAP1 is known for its role in clathrin-mediated endocytosis of low-density lipoprotein (LDL) particles, making endocytosis a likely high-level biological process related to the expression of these genes.\"}', '{\"Step\": \"1\", \"Biological Process\": \"Intracellular Transport\", \"Reason\": \"With the inclusion of genes like ANXA2 and SCP2, which are associated with intracellular transport and vesicle-mediated transport, it is reasonable to propose the general biological process of intracellular transport. This process encompasses the movement of molecules, organelles, and other cellular components within the cell, aligning with the functions of the provided genes.\"}'], ['{\"Step\": \"1\", \"Biological Process\": \"Lipid Metabolism\", \"Reason\": \"The presence of genes like SCP2 and SCP2D1 suggests involvement in lipid metabolism, which is a fundamental biological process that involves the synthesis, degradation, and transport of lipids in the body.\"}', '{\"Step\": \"2\", \"Biological Process\": \"Intracellular Transport\", \"Reason\": \"Genes like ANXA2 are involved in intracellular transport processes, including the movement of vesicles and organelles within the cell, which is a fundamental process in cellular function and signaling.\"}', '{\"Step\": \"3\", \"Biological Process\": \"Cellular Uptake\", \"Reason\": \"LDLRAP1 is associated with LDL receptor activity and cellular uptake of lipoproteins, indicating involvement in the fundamental process of cellular uptake of essential nutrients and molecules.\"}'], ['{\"Step\": \"1\", \"Biological Process\": \"Lipid Metabolism\", \"Reason\": \"The presence of genes like SCP2D1 and ANXA2 suggests involvement in lipid metabolism, which is a fundamental biological process related to the synthesis, degradation, and transport of lipids.\"}', '{\"Step\": \"1\", \"Biological Process\": \"Intracellular Transport\", \"Reason\": \"Genes like LDLRAP1 and ANXA2 are associated with intracellular transport, a general process involved in the movement of molecules and organelles within the cell, which is crucial for various cellular functions.\"}', '{\"Step\": \"1\", \"Biological Process\": \"Cellular Signaling\", \"Reason\": \"The presence of genes like ANXA2 suggests involvement in cellular signaling, a broad process encompassing communication within and between cells, which is essential for coordinating various cellular activities.\"}'], ['{\"Step\": \"1\", \"Biological Process\": \"Lipid Metabolism\", \"Reason\": \"This process involves the synthesis, degradation, and transport of lipids, which may be related to the expression of genes such as SCP2D1 and SCP2, which are associated with lipid metabolism.\"}', '{\"Step\": \"2\", \"Biological Process\": \"Intracellular Transport\", \"Reason\": \"This process involves the movement of molecules and organelles within the cell, which may be related to the expression of genes such as ANXA2, which is involved in membrane trafficking and vesicle transport.\"}', '{\"Step\": \"3\", \"Biological Process\": \"Endocytosis\", \"Reason\": \"This process involves the uptake of external materials by cells, which may be related to the expression of genes such as LDLRAP1, which is involved in the endocytic pathway for cholesterol uptake.\"}'], ['{\"Step\": \"1\", \"Biological Process\": \"Lipid Metabolism\", \"Reason\": \"The genes LDLRAP1, SCP2D1, and SCP2 are all associated with lipid metabolism. Lipid metabolism is a fundamental biological process involving the synthesis, degradation, and transport of lipids within cells and tissues.\"}', '{\"Step\": \"1\", \"Biological Process\": \"Intracellular Transport\", \"Reason\": \"ANXA2 is involved in intracellular transport processes, including vesicle trafficking and membrane fusion. Intracellular transport is a broad biological process essential for the movement of molecules and organelles within the cell.\"}', '{\"Step\": \"1\", \"Biological Process\": \"Cellular Homeostasis\", \"Reason\": \"The expression of these genes likely contributes to cellular homeostasis, which involves the maintenance of stable internal conditions within the cell, including regulation of lipid levels and intracellular trafficking to support cellular function and health.\"}']]"
   ]
  },
  {
   "cell_type": "code",
   "execution_count": 307,
   "id": "fb992a02",
   "metadata": {},
   "outputs": [
    {
     "data": {
      "text/plain": [
       "5"
      ]
     },
     "execution_count": 307,
     "metadata": {},
     "output_type": "execute_result"
    }
   ],
   "source": [
    "len(a)"
   ]
  },
  {
   "cell_type": "code",
   "execution_count": null,
   "id": "250f6dc2",
   "metadata": {},
   "outputs": [],
   "source": []
  }
 ],
 "metadata": {
  "kernelspec": {
   "display_name": "Python 3 (ipykernel)",
   "language": "python",
   "name": "python3"
  },
  "language_info": {
   "codemirror_mode": {
    "name": "ipython",
    "version": 3
   },
   "file_extension": ".py",
   "mimetype": "text/x-python",
   "name": "python",
   "nbconvert_exporter": "python",
   "pygments_lexer": "ipython3",
   "version": "3.11.4"
  }
 },
 "nbformat": 4,
 "nbformat_minor": 5
}
