{
 "cells": [
  {
   "cell_type": "code",
   "execution_count": 4,
   "id": "85ea1476",
   "metadata": {},
   "outputs": [],
   "source": [
    "import sys\n",
    "sys.path.insert(0, 'src') \n",
    "sys.path.insert(0, '/data/ch52669/gene_interaction/tot-gene-sets/MedAgents') \n",
    "import os\n",
    "import json\n",
    "from functools import partial"
   ]
  },
  {
   "cell_type": "code",
   "execution_count": 5,
   "id": "390931af",
   "metadata": {},
   "outputs": [],
   "source": [
    "%reload_ext autoreload\n",
    "%autoreload 2"
   ]
  },
  {
   "cell_type": "code",
   "execution_count": 6,
   "id": "7f31dd9d",
   "metadata": {},
   "outputs": [
    {
     "ename": "AttributeError",
     "evalue": "partially initialized module 'nltk' has no attribute 'internals' (most likely due to a circular import)",
     "output_type": "error",
     "traceback": [
      "\u001b[0;31m---------------------------------------------------------------------------\u001b[0m",
      "\u001b[0;31mAttributeError\u001b[0m                            Traceback (most recent call last)",
      "Cell \u001b[0;32mIn[6], line 2\u001b[0m\n\u001b[1;32m      1\u001b[0m \u001b[38;5;28;01mimport\u001b[39;00m \u001b[38;5;21;01margparse\u001b[39;00m\n\u001b[0;32m----> 2\u001b[0m \u001b[38;5;28;01mfrom\u001b[39;00m \u001b[38;5;21;01mtot\u001b[39;00m\u001b[38;5;21;01m.\u001b[39;00m\u001b[38;5;21;01mmethods\u001b[39;00m\u001b[38;5;21;01m.\u001b[39;00m\u001b[38;5;21;01mbfs\u001b[39;00m \u001b[38;5;28;01mimport\u001b[39;00m solve\n\u001b[1;32m      3\u001b[0m \u001b[38;5;28;01mfrom\u001b[39;00m \u001b[38;5;21;01mtot\u001b[39;00m\u001b[38;5;21;01m.\u001b[39;00m\u001b[38;5;21;01mtasks\u001b[39;00m\u001b[38;5;21;01m.\u001b[39;00m\u001b[38;5;21;01mbio_name\u001b[39;00m \u001b[38;5;28;01mimport\u001b[39;00m Bio_Name\n",
      "File \u001b[0;32m/data/ch52669/gene_interaction/tot-gene-sets/src/tot/methods/bfs.py:7\u001b[0m\n\u001b[1;32m      5\u001b[0m \u001b[38;5;28;01mimport\u001b[39;00m \u001b[38;5;21;01mjson\u001b[39;00m\n\u001b[1;32m      6\u001b[0m \u001b[38;5;28;01mfrom\u001b[39;00m \u001b[38;5;21;01mgraphviz\u001b[39;00m \u001b[38;5;28;01mimport\u001b[39;00m Digraph\n\u001b[0;32m----> 7\u001b[0m \u001b[38;5;28;01mfrom\u001b[39;00m \u001b[38;5;21;01mMedAgents\u001b[39;00m\u001b[38;5;21;01m.\u001b[39;00m\u001b[38;5;21;01mdata_utils\u001b[39;00m \u001b[38;5;28;01mimport\u001b[39;00m MyDataset\n\u001b[1;32m      8\u001b[0m \u001b[38;5;28;01mfrom\u001b[39;00m \u001b[38;5;21;01mMedAgents\u001b[39;00m\u001b[38;5;21;01m.\u001b[39;00m\u001b[38;5;21;01mapi_utils\u001b[39;00m \u001b[38;5;28;01mimport\u001b[39;00m api_handler\n\u001b[1;32m      9\u001b[0m \u001b[38;5;28;01mfrom\u001b[39;00m \u001b[38;5;21;01mstring\u001b[39;00m \u001b[38;5;28;01mimport\u001b[39;00m punctuation\n",
      "File \u001b[0;32m/data/ch52669/gene_interaction/tot-gene-sets/MedAgents/data_utils.py:4\u001b[0m\n\u001b[1;32m      2\u001b[0m \u001b[38;5;28;01mimport\u001b[39;00m \u001b[38;5;21;01mjsonlines\u001b[39;00m\n\u001b[1;32m      3\u001b[0m \u001b[38;5;28;01mimport\u001b[39;00m \u001b[38;5;21;01mre\u001b[39;00m\n\u001b[0;32m----> 4\u001b[0m \u001b[38;5;28;01mfrom\u001b[39;00m \u001b[38;5;21;01mnltk\u001b[39;00m\u001b[38;5;21;01m.\u001b[39;00m\u001b[38;5;21;01mtokenize\u001b[39;00m \u001b[38;5;28;01mimport\u001b[39;00m sent_tokenize\n\u001b[1;32m      5\u001b[0m \u001b[38;5;28;01mfrom\u001b[39;00m \u001b[38;5;21;01mrouge_score\u001b[39;00m \u001b[38;5;28;01mimport\u001b[39;00m rouge_scorer\n\u001b[1;32m      7\u001b[0m \u001b[38;5;28;01mclass\u001b[39;00m \u001b[38;5;21;01mMyDataset\u001b[39;00m:\n",
      "File \u001b[0;32m/data/ch52669/anaconda3/lib/python3.11/site-packages/nltk/__init__.py:180\u001b[0m\n\u001b[1;32m    177\u001b[0m \u001b[38;5;28;01melse\u001b[39;00m:\n\u001b[1;32m    178\u001b[0m     \u001b[38;5;28;01mfrom\u001b[39;00m \u001b[38;5;21;01mnltk\u001b[39;00m \u001b[38;5;28;01mimport\u001b[39;00m cluster\n\u001b[0;32m--> 180\u001b[0m \u001b[38;5;28;01mfrom\u001b[39;00m \u001b[38;5;21;01mnltk\u001b[39;00m\u001b[38;5;21;01m.\u001b[39;00m\u001b[38;5;21;01mdownloader\u001b[39;00m \u001b[38;5;28;01mimport\u001b[39;00m download, download_shell\n\u001b[1;32m    182\u001b[0m \u001b[38;5;28;01mtry\u001b[39;00m:\n\u001b[1;32m    183\u001b[0m     \u001b[38;5;28;01mimport\u001b[39;00m \u001b[38;5;21;01mtkinter\u001b[39;00m\n",
      "File \u001b[0;32m/data/ch52669/anaconda3/lib/python3.11/site-packages/nltk/downloader.py:2479\u001b[0m\n\u001b[1;32m   2469\u001b[0m             \u001b[38;5;28;01mpass\u001b[39;00m\n\u001b[1;32m   2472\u001b[0m \u001b[38;5;66;03m######################################################################\u001b[39;00m\n\u001b[1;32m   2473\u001b[0m \u001b[38;5;66;03m# Main:\u001b[39;00m\n\u001b[1;32m   2474\u001b[0m \u001b[38;5;66;03m######################################################################\u001b[39;00m\n\u001b[0;32m   (...)\u001b[0m\n\u001b[1;32m   2477\u001b[0m \n\u001b[1;32m   2478\u001b[0m \u001b[38;5;66;03m# Aliases\u001b[39;00m\n\u001b[0;32m-> 2479\u001b[0m _downloader \u001b[38;5;241m=\u001b[39m Downloader()\n\u001b[1;32m   2480\u001b[0m download \u001b[38;5;241m=\u001b[39m _downloader\u001b[38;5;241m.\u001b[39mdownload\n\u001b[1;32m   2483\u001b[0m \u001b[38;5;28;01mdef\u001b[39;00m \u001b[38;5;21mdownload_shell\u001b[39m():\n",
      "File \u001b[0;32m/data/ch52669/anaconda3/lib/python3.11/site-packages/nltk/downloader.py:515\u001b[0m, in \u001b[0;36mDownloader.__init__\u001b[0;34m(self, server_index_url, download_dir)\u001b[0m\n\u001b[1;32m    513\u001b[0m \u001b[38;5;66;03m# decide where we're going to save things to.\u001b[39;00m\n\u001b[1;32m    514\u001b[0m \u001b[38;5;28;01mif\u001b[39;00m \u001b[38;5;28mself\u001b[39m\u001b[38;5;241m.\u001b[39m_download_dir \u001b[38;5;129;01mis\u001b[39;00m \u001b[38;5;28;01mNone\u001b[39;00m:\n\u001b[0;32m--> 515\u001b[0m     \u001b[38;5;28mself\u001b[39m\u001b[38;5;241m.\u001b[39m_download_dir \u001b[38;5;241m=\u001b[39m \u001b[38;5;28mself\u001b[39m\u001b[38;5;241m.\u001b[39mdefault_download_dir()\n",
      "File \u001b[0;32m/data/ch52669/anaconda3/lib/python3.11/site-packages/nltk/downloader.py:1072\u001b[0m, in \u001b[0;36mDownloader.default_download_dir\u001b[0;34m(self)\u001b[0m\n\u001b[1;32m   1069\u001b[0m \u001b[38;5;66;03m# Check if we have sufficient permissions to install in a\u001b[39;00m\n\u001b[1;32m   1070\u001b[0m \u001b[38;5;66;03m# variety of system-wide locations.\u001b[39;00m\n\u001b[1;32m   1071\u001b[0m \u001b[38;5;28;01mfor\u001b[39;00m nltkdir \u001b[38;5;129;01min\u001b[39;00m nltk\u001b[38;5;241m.\u001b[39mdata\u001b[38;5;241m.\u001b[39mpath:\n\u001b[0;32m-> 1072\u001b[0m     \u001b[38;5;28;01mif\u001b[39;00m os\u001b[38;5;241m.\u001b[39mpath\u001b[38;5;241m.\u001b[39mexists(nltkdir) \u001b[38;5;129;01mand\u001b[39;00m nltk\u001b[38;5;241m.\u001b[39minternals\u001b[38;5;241m.\u001b[39mis_writable(nltkdir):\n\u001b[1;32m   1073\u001b[0m         \u001b[38;5;28;01mreturn\u001b[39;00m nltkdir\n\u001b[1;32m   1075\u001b[0m \u001b[38;5;66;03m# On Windows, use %APPDATA%\u001b[39;00m\n",
      "\u001b[0;31mAttributeError\u001b[0m: partially initialized module 'nltk' has no attribute 'internals' (most likely due to a circular import)"
     ]
    }
   ],
   "source": [
    "import argparse\n",
    "from tot.methods.bfs import solve\n",
    "from tot.tasks.bio_name import Bio_Name"
   ]
  },
  {
   "cell_type": "code",
   "execution_count": null,
   "id": "247d3cfd",
   "metadata": {},
   "outputs": [],
   "source": [
    "import argparse\n",
    "\n",
    "medagents_config = {'model_name':'gpt-3.5-turbo-1106', \\\n",
    "                    'method':'syn_verif', \\\n",
    "                    'max_attempt_vote':3,\\\n",
    "                    'ans_num':2,\\\n",
    "                    'numerical':True\n",
    "                   }\n",
    "\n",
    "tot_config = {'backend':'gpt-3.5-turbo-1106', 'temperature':0.7, 'task':'bio_name', 'naive_run':False, \\\n",
    "              'prompt_sample':None, 'method_generate':'sample_bionames', \\\n",
    "              'method_evaluate':'medagents_w_tools', 'method_select':'greedy', \\\n",
    "              'n_generate_sample':3, 'n_evaluate_sample':2, 'n_select_sample':2, \\\n",
    "              'source':'GO:BP', 'bio_type':\"Biological Process\",'filter_method':'sim', \\\n",
    "              'filter_size':5, 'voting_setting':None}\n",
    "\n",
    "args_config = {**medagents_config, **tot_config}\n",
    "\n",
    "\n",
    "args = argparse.Namespace(**args_config)\n",
    "print('args', args)\n",
    "task = Bio_Name()"
   ]
  },
  {
   "cell_type": "code",
   "execution_count": null,
   "id": "4f4acfb9",
   "metadata": {},
   "outputs": [],
   "source": [
    "def test_example(args, task, idx):\n",
    "    label = task.get_label(idx)\n",
    "    final_answer, ys, steps, trie = solve(args, task, idx)\n",
    "    return final_answer, ys, steps, label, trie"
   ]
  },
  {
   "cell_type": "code",
   "execution_count": null,
   "id": "46f14641",
   "metadata": {
    "scrolled": false
   },
   "outputs": [],
   "source": [
    "final_answer, ys, steps, label, trie = test_example(args, task, 1)"
   ]
  },
  {
   "cell_type": "code",
   "execution_count": null,
   "id": "5315a6e7",
   "metadata": {},
   "outputs": [],
   "source": [
    "dot = trie.visualize()"
   ]
  },
  {
   "cell_type": "code",
   "execution_count": null,
   "id": "6a02fdfb",
   "metadata": {},
   "outputs": [],
   "source": [
    "ids = [0,1,2]\n",
    "values = [1,0,0]\n",
    "sorted(ids, key=lambda x: values[x], reverse=True)[:1]"
   ]
  },
  {
   "cell_type": "code",
   "execution_count": 8,
   "id": "4f432ccf",
   "metadata": {},
   "outputs": [
    {
     "data": {
      "image/svg+xml": [
       "<?xml version=\"1.0\" encoding=\"UTF-8\" standalone=\"no\"?>\n",
       "<!DOCTYPE svg PUBLIC \"-//W3C//DTD SVG 1.1//EN\"\n",
       " \"http://www.w3.org/Graphics/SVG/1.1/DTD/svg11.dtd\">\n",
       "<!-- Generated by graphviz version 2.50.0 (0)\n",
       " -->\n",
       "<!-- Pages: 1 -->\n",
       "<svg width=\"2862pt\" height=\"1320pt\"\n",
       " viewBox=\"0.00 0.00 2862.12 1320.40\" xmlns=\"http://www.w3.org/2000/svg\" xmlns:xlink=\"http://www.w3.org/1999/xlink\">\n",
       "<g id=\"graph0\" class=\"graph\" transform=\"scale(1 1) rotate(0) translate(4 1316.4)\">\n",
       "<polygon fill=\"white\" stroke=\"transparent\" points=\"-4,4 -4,-1316.4 2858.12,-1316.4 2858.12,4 -4,4\"/>\n",
       "<!-- Biological Process_140665114638992 -->\n",
       "<g id=\"node1\" class=\"node\">\n",
       "<title>Biological Process_140665114638992</title>\n",
       "<ellipse fill=\"none\" stroke=\"black\" cx=\"2314.93\" cy=\"-1294.4\" rx=\"94.78\" ry=\"18\"/>\n",
       "<text text-anchor=\"middle\" x=\"2314.93\" y=\"-1290.7\" font-family=\"Times,serif\" font-size=\"14.00\">Biological Process</text>\n",
       "</g>\n",
       "<!-- Biological Process_140665114638992Embryonic Development_140665111804304 -->\n",
       "<g id=\"node2\" class=\"node\">\n",
       "<title>Biological Process_140665114638992Embryonic Development_140665111804304</title>\n",
       "<ellipse fill=\"none\" stroke=\"black\" cx=\"1636.93\" cy=\"-1098.36\" rx=\"141.07\" ry=\"141.07\"/>\n",
       "<text text-anchor=\"middle\" x=\"1636.93\" y=\"-1094.66\" font-family=\"Times,serif\" font-size=\"14.00\">Embryonic Development (1)</text>\n",
       "</g>\n",
       "<!-- Biological Process_140665114638992&#45;&gt;Biological Process_140665114638992Embryonic Development_140665111804304 -->\n",
       "<g id=\"edge1\" class=\"edge\">\n",
       "<title>Biological Process_140665114638992&#45;&gt;Biological Process_140665114638992Embryonic Development_140665111804304</title>\n",
       "<path fill=\"none\" stroke=\"black\" d=\"M2264.8,-1279.05C2164.15,-1250.25 1934.15,-1184.42 1782.24,-1140.95\"/>\n",
       "<polygon fill=\"black\" stroke=\"black\" points=\"1782.93,-1137.5 1772.35,-1138.12 1781,-1144.23 1782.93,-1137.5\"/>\n",
       "</g>\n",
       "<!-- Biological Process_140665114638992Cell Proliferation_140665081302544 -->\n",
       "<g id=\"node12\" class=\"node\">\n",
       "<title>Biological Process_140665114638992Cell Proliferation_140665081302544</title>\n",
       "<ellipse fill=\"none\" stroke=\"black\" cx=\"2314.93\" cy=\"-1098.36\" rx=\"105.88\" ry=\"105.88\"/>\n",
       "<text text-anchor=\"middle\" x=\"2314.93\" y=\"-1094.66\" font-family=\"Times,serif\" font-size=\"14.00\">Cell Proliferation (1)</text>\n",
       "</g>\n",
       "<!-- Biological Process_140665114638992&#45;&gt;Biological Process_140665114638992Cell Proliferation_140665081302544 -->\n",
       "<g id=\"edge11\" class=\"edge\">\n",
       "<title>Biological Process_140665114638992&#45;&gt;Biological Process_140665114638992Cell Proliferation_140665081302544</title>\n",
       "<path fill=\"none\" stroke=\"black\" d=\"M2314.93,-1276.18C2314.93,-1261.42 2314.93,-1238.77 2314.93,-1214.55\"/>\n",
       "<polygon fill=\"black\" stroke=\"black\" points=\"2318.43,-1214.46 2314.93,-1204.46 2311.43,-1214.46 2318.43,-1214.46\"/>\n",
       "</g>\n",
       "<!-- Biological Process_140665114638992Bone Development_140665100143440 -->\n",
       "<g id=\"node16\" class=\"node\">\n",
       "<title>Biological Process_140665114638992Bone Development_140665100143440</title>\n",
       "<ellipse fill=\"none\" stroke=\"black\" cx=\"2537.93\" cy=\"-1098.36\" rx=\"98.58\" ry=\"98.58\"/>\n",
       "<text text-anchor=\"middle\" x=\"2537.93\" y=\"-1094.66\" font-family=\"Times,serif\" font-size=\"14.00\">Bone Development</text>\n",
       "</g>\n",
       "<!-- Biological Process_140665114638992&#45;&gt;Biological Process_140665114638992Bone Development_140665100143440 -->\n",
       "<g id=\"edge15\" class=\"edge\">\n",
       "<title>Biological Process_140665114638992&#45;&gt;Biological Process_140665114638992Bone Development_140665100143440</title>\n",
       "<path fill=\"none\" stroke=\"black\" d=\"M2359.22,-1278.35C2381.85,-1269.3 2408.95,-1256.24 2429.93,-1239.4 2447.48,-1225.32 2463.82,-1207.82 2478.23,-1190.02\"/>\n",
       "<polygon fill=\"black\" stroke=\"black\" points=\"2481.24,-1191.85 2484.7,-1181.83 2475.75,-1187.5 2481.24,-1191.85\"/>\n",
       "</g>\n",
       "<!-- Biological Process_140665114638992Embryonic Development_140665111804304Neural Tube Formation_140665141284176 -->\n",
       "<g id=\"node3\" class=\"node\">\n",
       "<title>Biological Process_140665114638992Embryonic Development_140665111804304Neural Tube Formation_140665141284176</title>\n",
       "<ellipse fill=\"none\" stroke=\"black\" cx=\"743.93\" cy=\"-702.24\" rx=\"134.58\" ry=\"134.58\"/>\n",
       "<text text-anchor=\"middle\" x=\"743.93\" y=\"-698.54\" font-family=\"Times,serif\" font-size=\"14.00\">Neural Tube Formation (1)</text>\n",
       "</g>\n",
       "<!-- Biological Process_140665114638992Embryonic Development_140665111804304&#45;&gt;Biological Process_140665114638992Embryonic Development_140665111804304Neural Tube Formation_140665141284176 -->\n",
       "<g id=\"edge2\" class=\"edge\">\n",
       "<title>Biological Process_140665114638992Embryonic Development_140665111804304&#45;&gt;Biological Process_140665114638992Embryonic Development_140665111804304Neural Tube Formation_140665141284176</title>\n",
       "<path fill=\"none\" stroke=\"black\" d=\"M1508.04,-1040.47C1339.55,-966.11 1045.96,-836.54 875.94,-761.51\"/>\n",
       "<polygon fill=\"black\" stroke=\"black\" points=\"877.25,-758.26 866.69,-757.42 874.42,-764.66 877.25,-758.26\"/>\n",
       "<text text-anchor=\"middle\" x=\"1283.43\" y=\"-928.12\" font-family=\"Times,serif\" font-size=\"14.00\">is a</text>\n",
       "</g>\n",
       "<!-- Biological Process_140665114638992Embryonic Development_140665111804304Limb Bud Initiation_140665103410896 -->\n",
       "<g id=\"node7\" class=\"node\">\n",
       "<title>Biological Process_140665114638992Embryonic Development_140665111804304Limb Bud Initiation_140665103410896</title>\n",
       "<ellipse fill=\"none\" stroke=\"black\" cx=\"1467.93\" cy=\"-702.24\" rx=\"116.18\" ry=\"116.18\"/>\n",
       "<text text-anchor=\"middle\" x=\"1467.93\" y=\"-698.54\" font-family=\"Times,serif\" font-size=\"14.00\">Limb Bud Initiation (1)</text>\n",
       "</g>\n",
       "<!-- Biological Process_140665114638992Embryonic Development_140665111804304&#45;&gt;Biological Process_140665114638992Embryonic Development_140665111804304Limb Bud Initiation_140665103410896 -->\n",
       "<g id=\"edge6\" class=\"edge\">\n",
       "<title>Biological Process_140665114638992Embryonic Development_140665111804304&#45;&gt;Biological Process_140665114638992Embryonic Development_140665111804304Limb Bud Initiation_140665103410896</title>\n",
       "<path fill=\"none\" stroke=\"black\" d=\"M1581.59,-968.31C1560.93,-920.12 1537.61,-865.73 1517.49,-818.83\"/>\n",
       "<polygon fill=\"black\" stroke=\"black\" points=\"1520.67,-817.36 1513.52,-809.55 1514.24,-820.12 1520.67,-817.36\"/>\n",
       "<text text-anchor=\"middle\" x=\"1580.43\" y=\"-928.12\" font-family=\"Times,serif\" font-size=\"14.00\">is a</text>\n",
       "</g>\n",
       "<!-- Biological Process_140665114638992Embryonic Development_140665111804304Epithelial&#45;Mesenchymal Transition (EMT)_140665098207504 -->\n",
       "<g id=\"node11\" class=\"node\">\n",
       "<title>Biological Process_140665114638992Embryonic Development_140665111804304Epithelial&#45;Mesenchymal Transition (EMT)_140665098207504</title>\n",
       "<ellipse fill=\"none\" stroke=\"black\" cx=\"1805.93\" cy=\"-702.24\" rx=\"204.16\" ry=\"204.16\"/>\n",
       "<text text-anchor=\"middle\" x=\"1805.93\" y=\"-698.54\" font-family=\"Times,serif\" font-size=\"14.00\">Epithelial&#45;Mesenchymal Transition (EMT)</text>\n",
       "</g>\n",
       "<!-- Biological Process_140665114638992Embryonic Development_140665111804304&#45;&gt;Biological Process_140665114638992Embryonic Development_140665111804304Epithelial&#45;Mesenchymal Transition (EMT)_140665098207504 -->\n",
       "<g id=\"edge10\" class=\"edge\">\n",
       "<title>Biological Process_140665114638992Embryonic Development_140665111804304&#45;&gt;Biological Process_140665114638992Embryonic Development_140665111804304Epithelial&#45;Mesenchymal Transition (EMT)_140665098207504</title>\n",
       "<path fill=\"none\" stroke=\"black\" d=\"M1692.27,-968.31C1701.74,-946.21 1711.78,-922.82 1721.8,-899.43\"/>\n",
       "<polygon fill=\"black\" stroke=\"black\" points=\"1725.07,-900.7 1725.79,-890.13 1718.64,-897.94 1725.07,-900.7\"/>\n",
       "<text text-anchor=\"middle\" x=\"1740.93\" y=\"-928.12\" font-family=\"Times,serif\" font-size=\"14.00\">regulates</text>\n",
       "</g>\n",
       "<!-- Biological Process_140665114638992Embryonic Development_140665111804304Neural Tube Formation_140665141284176Dorsoventral Patterning of Neural Tube_140665097043600 -->\n",
       "<g id=\"node4\" class=\"node\">\n",
       "<title>Biological Process_140665114638992Embryonic Development_140665111804304Neural Tube Formation_140665141284176Dorsoventral Patterning of Neural Tube_140665097043600</title>\n",
       "<ellipse fill=\"none\" stroke=\"black\" cx=\"209.93\" cy=\"-223.58\" rx=\"209.86\" ry=\"209.86\"/>\n",
       "<text text-anchor=\"middle\" x=\"209.93\" y=\"-219.88\" font-family=\"Times,serif\" font-size=\"14.00\">Dorsoventral Patterning of Neural Tube (*)</text>\n",
       "</g>\n",
       "<!-- Biological Process_140665114638992Embryonic Development_140665111804304Neural Tube Formation_140665141284176&#45;&gt;Biological Process_140665114638992Embryonic Development_140665111804304Neural Tube Formation_140665141284176Dorsoventral Patterning of Neural Tube_140665097043600 -->\n",
       "<g id=\"edge3\" class=\"edge\">\n",
       "<title>Biological Process_140665114638992Embryonic Development_140665111804304Neural Tube Formation_140665141284176&#45;&gt;Biological Process_140665114638992Embryonic Development_140665111804304Neural Tube Formation_140665141284176Dorsoventral Patterning of Neural Tube_140665097043600</title>\n",
       "<path fill=\"none\" stroke=\"black\" d=\"M637.14,-620.06C574.94,-571.56 495.84,-507.78 428.93,-447.16 406.64,-426.96 383.72,-405.06 361.49,-383.14\"/>\n",
       "<polygon fill=\"black\" stroke=\"black\" points=\"363.87,-380.58 354.3,-376.03 358.95,-385.55 363.87,-380.58\"/>\n",
       "<text text-anchor=\"middle\" x=\"486.43\" y=\"-468.96\" font-family=\"Times,serif\" font-size=\"14.00\">part of</text>\n",
       "</g>\n",
       "<!-- Biological Process_140665114638992Embryonic Development_140665111804304Neural Tube Formation_140665141284176Neural Crest Cell Migration_140665090456208 -->\n",
       "<g id=\"node5\" class=\"node\">\n",
       "<title>Biological Process_140665114638992Embryonic Development_140665111804304Neural Tube Formation_140665141284176Neural Crest Cell Migration_140665090456208</title>\n",
       "<ellipse fill=\"none\" stroke=\"black\" cx=\"593.93\" cy=\"-223.58\" rx=\"155.97\" ry=\"155.97\"/>\n",
       "<text text-anchor=\"middle\" x=\"593.93\" y=\"-219.88\" font-family=\"Times,serif\" font-size=\"14.00\">Neural Crest Cell Migration (1)</text>\n",
       "</g>\n",
       "<!-- Biological Process_140665114638992Embryonic Development_140665111804304Neural Tube Formation_140665141284176&#45;&gt;Biological Process_140665114638992Embryonic Development_140665111804304Neural Tube Formation_140665141284176Neural Crest Cell Migration_140665090456208 -->\n",
       "<g id=\"edge4\" class=\"edge\">\n",
       "<title>Biological Process_140665114638992Embryonic Development_140665111804304Neural Tube Formation_140665141284176&#45;&gt;Biological Process_140665114638992Embryonic Development_140665111804304Neural Tube Formation_140665141284176Neural Crest Cell Migration_140665090456208</title>\n",
       "<path fill=\"none\" stroke=\"black\" d=\"M703.83,-573.82C685.34,-515.05 663.2,-444.7 643.66,-382.6\"/>\n",
       "<polygon fill=\"black\" stroke=\"black\" points=\"646.88,-381.19 640.54,-372.7 640.21,-383.29 646.88,-381.19\"/>\n",
       "<text text-anchor=\"middle\" x=\"698.43\" y=\"-468.96\" font-family=\"Times,serif\" font-size=\"14.00\">part of</text>\n",
       "</g>\n",
       "<!-- Biological Process_140665114638992Embryonic Development_140665111804304Neural Tube Formation_140665141284176Floor Plate Development_140665090611856 -->\n",
       "<g id=\"node6\" class=\"node\">\n",
       "<title>Biological Process_140665114638992Embryonic Development_140665111804304Neural Tube Formation_140665141284176Floor Plate Development_140665090611856</title>\n",
       "<ellipse fill=\"none\" stroke=\"black\" cx=\"893.93\" cy=\"-223.58\" rx=\"126.18\" ry=\"126.18\"/>\n",
       "<text text-anchor=\"middle\" x=\"893.93\" y=\"-219.88\" font-family=\"Times,serif\" font-size=\"14.00\">Floor Plate Development</text>\n",
       "</g>\n",
       "<!-- Biological Process_140665114638992Embryonic Development_140665111804304Neural Tube Formation_140665141284176&#45;&gt;Biological Process_140665114638992Embryonic Development_140665111804304Neural Tube Formation_140665141284176Floor Plate Development_140665090611856 -->\n",
       "<g id=\"edge5\" class=\"edge\">\n",
       "<title>Biological Process_140665114638992Embryonic Development_140665111804304Neural Tube Formation_140665141284176&#45;&gt;Biological Process_140665114638992Embryonic Development_140665111804304Neural Tube Formation_140665141284176Floor Plate Development_140665090611856</title>\n",
       "<path fill=\"none\" stroke=\"black\" d=\"M784.03,-573.82C805.46,-505.73 831.77,-422.1 853.28,-353.75\"/>\n",
       "<polygon fill=\"black\" stroke=\"black\" points=\"856.62,-354.8 856.28,-344.21 849.94,-352.7 856.62,-354.8\"/>\n",
       "<text text-anchor=\"middle\" x=\"848.93\" y=\"-468.96\" font-family=\"Times,serif\" font-size=\"14.00\">regulates</text>\n",
       "</g>\n",
       "<!-- Biological Process_140665114638992Embryonic Development_140665111804304Limb Bud Initiation_140665103410896Apical Ectodermal Ridge (AER) Formation_140665107563280 -->\n",
       "<g id=\"node8\" class=\"node\">\n",
       "<title>Biological Process_140665114638992Embryonic Development_140665111804304Limb Bud Initiation_140665103410896Apical Ectodermal Ridge (AER) Formation_140665107563280</title>\n",
       "<ellipse fill=\"none\" stroke=\"black\" cx=\"1243.93\" cy=\"-223.58\" rx=\"206.06\" ry=\"206.06\"/>\n",
       "<text text-anchor=\"middle\" x=\"1243.93\" y=\"-219.88\" font-family=\"Times,serif\" font-size=\"14.00\">Apical Ectodermal Ridge (AER) Formation</text>\n",
       "</g>\n",
       "<!-- Biological Process_140665114638992Embryonic Development_140665111804304Limb Bud Initiation_140665103410896&#45;&gt;Biological Process_140665114638992Embryonic Development_140665111804304Limb Bud Initiation_140665103410896Apical Ectodermal Ridge (AER) Formation_140665107563280 -->\n",
       "<g id=\"edge7\" class=\"edge\">\n",
       "<title>Biological Process_140665114638992Embryonic Development_140665111804304Limb Bud Initiation_140665103410896&#45;&gt;Biological Process_140665114638992Embryonic Development_140665111804304Limb Bud Initiation_140665103410896Apical Ectodermal Ridge (AER) Formation_140665107563280</title>\n",
       "<path fill=\"none\" stroke=\"black\" d=\"M1418.77,-596.64C1394.4,-544.76 1364.15,-480.39 1335.7,-419.86\"/>\n",
       "<polygon fill=\"black\" stroke=\"black\" points=\"1338.75,-418.13 1331.33,-410.57 1332.42,-421.11 1338.75,-418.13\"/>\n",
       "<text text-anchor=\"middle\" x=\"1387.43\" y=\"-468.96\" font-family=\"Times,serif\" font-size=\"14.00\">part of</text>\n",
       "</g>\n",
       "<!-- Biological Process_140665114638992Embryonic Development_140665111804304Limb Bud Initiation_140665103410896Zone of Polarizing Activity (ZPA) Specification_140665141872656 -->\n",
       "<g id=\"node9\" class=\"node\">\n",
       "<title>Biological Process_140665114638992Embryonic Development_140665111804304Limb Bud Initiation_140665103410896Zone of Polarizing Activity (ZPA) Specification_140665141872656</title>\n",
       "<ellipse fill=\"none\" stroke=\"black\" cx=\"1691.93\" cy=\"-223.58\" rx=\"223.66\" ry=\"223.66\"/>\n",
       "<text text-anchor=\"middle\" x=\"1691.93\" y=\"-219.88\" font-family=\"Times,serif\" font-size=\"14.00\">Zone of Polarizing Activity (ZPA) Specification</text>\n",
       "</g>\n",
       "<!-- Biological Process_140665114638992Embryonic Development_140665111804304Limb Bud Initiation_140665103410896&#45;&gt;Biological Process_140665114638992Embryonic Development_140665111804304Limb Bud Initiation_140665103410896Zone of Polarizing Activity (ZPA) Specification_140665141872656 -->\n",
       "<g id=\"edge8\" class=\"edge\">\n",
       "<title>Biological Process_140665114638992Embryonic Development_140665111804304Limb Bud Initiation_140665103410896&#45;&gt;Biological Process_140665114638992Embryonic Development_140665111804304Limb Bud Initiation_140665103410896Zone of Polarizing Activity (ZPA) Specification_140665141872656</title>\n",
       "<path fill=\"none\" stroke=\"black\" d=\"M1517.09,-596.64C1539.35,-549.26 1566.52,-491.46 1592.73,-435.68\"/>\n",
       "<polygon fill=\"black\" stroke=\"black\" points=\"1596.01,-436.92 1597.1,-426.38 1589.68,-433.94 1596.01,-436.92\"/>\n",
       "<text text-anchor=\"middle\" x=\"1607.93\" y=\"-468.96\" font-family=\"Times,serif\" font-size=\"14.00\">regulates</text>\n",
       "</g>\n",
       "<!-- Biological Process_140665114638992Embryonic Development_140665111804304Limb Bud Initiation_140665103410896Mesenchymal Condensation_140665097874960 -->\n",
       "<g id=\"node10\" class=\"node\">\n",
       "<title>Biological Process_140665114638992Embryonic Development_140665111804304Limb Bud Initiation_140665103410896Mesenchymal Condensation_140665097874960</title>\n",
       "<ellipse fill=\"none\" stroke=\"black\" cx=\"2074.93\" cy=\"-223.58\" rx=\"141.07\" ry=\"141.07\"/>\n",
       "<text text-anchor=\"middle\" x=\"2074.93\" y=\"-219.88\" font-family=\"Times,serif\" font-size=\"14.00\">Mesenchymal Condensation</text>\n",
       "</g>\n",
       "<!-- Biological Process_140665114638992Embryonic Development_140665111804304Limb Bud Initiation_140665103410896&#45;&gt;Biological Process_140665114638992Embryonic Development_140665111804304Limb Bud Initiation_140665103410896Mesenchymal Condensation_140665097874960 -->\n",
       "<g id=\"edge9\" class=\"edge\">\n",
       "<title>Biological Process_140665114638992Embryonic Development_140665111804304Limb Bud Initiation_140665103410896&#45;&gt;Biological Process_140665114638992Embryonic Development_140665111804304Limb Bud Initiation_140665103410896Mesenchymal Condensation_140665097874960</title>\n",
       "<path fill=\"none\" stroke=\"black\" d=\"M1511.3,-594C1531.01,-558.12 1557.91,-521.39 1592.93,-498.16 1655.13,-456.9 1861.89,-487.13 1924.93,-447.16 1958.94,-425.59 1987.09,-393.22 2009.45,-359.8\"/>\n",
       "<polygon fill=\"black\" stroke=\"black\" points=\"2012.47,-361.57 2015.01,-351.28 2006.61,-357.74 2012.47,-361.57\"/>\n",
       "<text text-anchor=\"middle\" x=\"1888.93\" y=\"-468.96\" font-family=\"Times,serif\" font-size=\"14.00\">has part</text>\n",
       "</g>\n",
       "<!-- Biological Process_140665114638992Cell Proliferation_140665081302544Epidermal Cell Proliferation_140665092321680 -->\n",
       "<g id=\"node13\" class=\"node\">\n",
       "<title>Biological Process_140665114638992Cell Proliferation_140665081302544Epidermal Cell Proliferation_140665092321680</title>\n",
       "<ellipse fill=\"none\" stroke=\"black\" cx=\"2169.93\" cy=\"-702.24\" rx=\"141.88\" ry=\"141.88\"/>\n",
       "<text text-anchor=\"middle\" x=\"2169.93\" y=\"-698.54\" font-family=\"Times,serif\" font-size=\"14.00\">Epidermal Cell Proliferation</text>\n",
       "</g>\n",
       "<!-- Biological Process_140665114638992Cell Proliferation_140665081302544&#45;&gt;Biological Process_140665114638992Cell Proliferation_140665081302544Epidermal Cell Proliferation_140665092321680 -->\n",
       "<g id=\"edge12\" class=\"edge\">\n",
       "<title>Biological Process_140665114638992Cell Proliferation_140665081302544&#45;&gt;Biological Process_140665114638992Cell Proliferation_140665081302544Epidermal Cell Proliferation_140665092321680</title>\n",
       "<path fill=\"none\" stroke=\"black\" d=\"M2278.62,-998.67C2261.53,-952.2 2240.82,-895.91 2222.08,-844.99\"/>\n",
       "<polygon fill=\"black\" stroke=\"black\" points=\"2225.34,-843.72 2218.61,-835.54 2218.77,-846.14 2225.34,-843.72\"/>\n",
       "<text text-anchor=\"middle\" x=\"2268.43\" y=\"-928.12\" font-family=\"Times,serif\" font-size=\"14.00\">is a</text>\n",
       "</g>\n",
       "<!-- Biological Process_140665114638992Cell Proliferation_140665081302544Chondrocyte Proliferation_140665097443728 -->\n",
       "<g id=\"node14\" class=\"node\">\n",
       "<title>Biological Process_140665114638992Cell Proliferation_140665081302544Chondrocyte Proliferation_140665097443728</title>\n",
       "<ellipse fill=\"none\" stroke=\"black\" cx=\"2460.93\" cy=\"-702.24\" rx=\"131.08\" ry=\"131.08\"/>\n",
       "<text text-anchor=\"middle\" x=\"2460.93\" y=\"-698.54\" font-family=\"Times,serif\" font-size=\"14.00\">Chondrocyte Proliferation</text>\n",
       "</g>\n",
       "<!-- Biological Process_140665114638992Cell Proliferation_140665081302544&#45;&gt;Biological Process_140665114638992Cell Proliferation_140665081302544Chondrocyte Proliferation_140665097443728 -->\n",
       "<g id=\"edge13\" class=\"edge\">\n",
       "<title>Biological Process_140665114638992Cell Proliferation_140665081302544&#45;&gt;Biological Process_140665114638992Cell Proliferation_140665081302544Chondrocyte Proliferation_140665097443728</title>\n",
       "<path fill=\"none\" stroke=\"black\" d=\"M2351.49,-998.67C2369.82,-949.2 2392.27,-888.6 2412.05,-835.19\"/>\n",
       "<polygon fill=\"black\" stroke=\"black\" points=\"2415.39,-836.25 2415.58,-825.66 2408.83,-833.82 2415.39,-836.25\"/>\n",
       "<text text-anchor=\"middle\" x=\"2387.43\" y=\"-928.12\" font-family=\"Times,serif\" font-size=\"14.00\">is a</text>\n",
       "</g>\n",
       "<!-- Biological Process_140665114638992Cell Proliferation_140665081302544Osteoblast Proliferation_140665098348880 -->\n",
       "<g id=\"node15\" class=\"node\">\n",
       "<title>Biological Process_140665114638992Cell Proliferation_140665081302544Osteoblast Proliferation_140665098348880</title>\n",
       "<ellipse fill=\"none\" stroke=\"black\" cx=\"2731.93\" cy=\"-702.24\" rx=\"122.38\" ry=\"122.38\"/>\n",
       "<text text-anchor=\"middle\" x=\"2731.93\" y=\"-698.54\" font-family=\"Times,serif\" font-size=\"14.00\">Osteoblast Proliferation</text>\n",
       "</g>\n",
       "<!-- Biological Process_140665114638992Cell Proliferation_140665081302544&#45;&gt;Biological Process_140665114638992Cell Proliferation_140665081302544Osteoblast Proliferation_140665098348880 -->\n",
       "<g id=\"edge14\" class=\"edge\">\n",
       "<title>Biological Process_140665114638992Cell Proliferation_140665081302544&#45;&gt;Biological Process_140665114638992Cell Proliferation_140665081302544Osteoblast Proliferation_140665098348880</title>\n",
       "<path fill=\"none\" stroke=\"black\" d=\"M2373.54,-1009.56C2389.88,-990.15 2408.97,-971.25 2429.93,-957.32 2495.98,-913.43 2537.5,-953.93 2600.93,-906.32 2630.53,-884.11 2655.28,-853.09 2675.02,-821.98\"/>\n",
       "<polygon fill=\"black\" stroke=\"black\" points=\"2678.16,-823.55 2680.45,-813.21 2672.21,-819.86 2678.16,-823.55\"/>\n",
       "<text text-anchor=\"middle\" x=\"2581.43\" y=\"-928.12\" font-family=\"Times,serif\" font-size=\"14.00\">is a</text>\n",
       "</g>\n",
       "</g>\n",
       "</svg>\n"
      ],
      "text/plain": [
       "<graphviz.graphs.Digraph at 0x7fef25c4cb50>"
      ]
     },
     "execution_count": 8,
     "metadata": {},
     "output_type": "execute_result"
    }
   ],
   "source": [
    "dot"
   ]
  },
  {
   "cell_type": "code",
   "execution_count": 9,
   "id": "8a8592c0",
   "metadata": {},
   "outputs": [
    {
     "data": {
      "text/plain": [
       "'Dorsoventral Patterning of Neural Tube'"
      ]
     },
     "execution_count": 9,
     "metadata": {},
     "output_type": "execute_result"
    }
   ],
   "source": [
    "final_answer"
   ]
  },
  {
   "cell_type": "code",
   "execution_count": 10,
   "id": "ad9e078c",
   "metadata": {},
   "outputs": [
    {
     "data": {
      "text/plain": [
       "'morphogenesis of an epithelial fold\\n'"
      ]
     },
     "execution_count": 10,
     "metadata": {},
     "output_type": "execute_result"
    }
   ],
   "source": [
    "label"
   ]
  },
  {
   "cell_type": "code",
   "execution_count": 15,
   "id": "59d96aef",
   "metadata": {},
   "outputs": [
    {
     "data": {
      "text/plain": [
       "'E'"
      ]
     },
     "execution_count": 15,
     "metadata": {},
     "output_type": "execute_result"
    }
   ],
   "source": [
    "chr(65+4)"
   ]
  },
  {
   "cell_type": "code",
   "execution_count": 17,
   "id": "866ecee4",
   "metadata": {},
   "outputs": [
    {
     "data": {
      "text/plain": [
       "2"
      ]
     },
     "execution_count": 17,
     "metadata": {},
     "output_type": "execute_result"
    }
   ],
   "source": [
    "len({'f':2, 'g':3})"
   ]
  },
  {
   "cell_type": "code",
   "execution_count": null,
   "id": "1686603e",
   "metadata": {},
   "outputs": [],
   "source": []
  }
 ],
 "metadata": {
  "kernelspec": {
   "display_name": "Python 3 (ipykernel)",
   "language": "python",
   "name": "python3"
  },
  "language_info": {
   "codemirror_mode": {
    "name": "ipython",
    "version": 3
   },
   "file_extension": ".py",
   "mimetype": "text/x-python",
   "name": "python",
   "nbconvert_exporter": "python",
   "pygments_lexer": "ipython3",
   "version": "3.11.4"
  }
 },
 "nbformat": 4,
 "nbformat_minor": 5
}
