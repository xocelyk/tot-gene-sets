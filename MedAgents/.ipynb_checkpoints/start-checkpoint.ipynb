{
 "cells": [
  {
   "cell_type": "code",
   "execution_count": 5,
   "id": "036879d1",
   "metadata": {},
   "outputs": [
    {
     "name": "stdout",
     "output_type": "stream",
     "text": [
      "Namespace(model_name='gpt4', dataset_name='MedQA', dataset_dir='./datasets/MedQA/', start_pos=21, end_pos=50, output_files_folder='./outputs/MedQA', method='syn_verif', max_attempt_vote=3)\n",
      "<data_utils.MyDataset object at 0x7f88d420a290>\n"
     ]
    }
   ],
   "source": [
    "from data_utils import MyDataset\n",
    "from api_utils import api_handler\n",
    "from string import punctuation\n",
    "import argparse\n",
    "import tqdm\n",
    "import json\n",
    "from utils import *\n",
    "\n",
    "\n",
    "# if __name__ == '__main__':\n",
    "# parser = argparse.ArgumentParser()\n",
    "# parser.add_argument('--model_name', default='chatgpt')\n",
    "# parser.add_argument('--dataset_name', default='MedQA')\n",
    "# parser.add_argument('--dataset_dir', default='./datasets/MedQA/')\n",
    "# parser.add_argument('--start_pos', type=int, default=21)\n",
    "# parser.add_argument('--end_pos', type=int, default=50)\n",
    "# parser.add_argument('--output_files_folder', default='./outputs/MedQA')\n",
    "\n",
    "# parser.add_argument('--method', type=str, default='syn_verif', choices=['syn_verif', 'syn_only', 'anal_only', 'base_direct', 'base_cot'])\n",
    "# parser.add_argument('--max_attempt_vote', type=int, default=3)\n",
    "# args = parser.parse_args()\n",
    "args = argparse.Namespace(model_name='gpt4', \\\n",
    "                          dataset_name='MedQA', \\\n",
    "                          dataset_dir='./datasets/MedQA/', \\\n",
    "                          start_pos=21, \\\n",
    "                          end_pos=50, \\\n",
    "                          output_files_folder='./outputs/MedQA', \\\n",
    "                          method='syn_verif', \\\n",
    "                          max_attempt_vote=3,\\\n",
    "                          ans_num=2,\n",
    "                          numerical=True\n",
    "                         )\n",
    "\n",
    "\n",
    "print(args)\n",
    "\n",
    "### get handler\n",
    "if args.model_name in ['instructgpt', 'newinstructgpt', 'chatgpt', 'gpt4']: # select the model\n",
    "    handler = api_handler(args.model_name)\n",
    "else:\n",
    "    raise ValueError\n",
    "\n",
    "### get dataobj\n",
    "dataobj = MyDataset('bio_name', args, traindata_obj=None)\n",
    "print(dataobj)"
   ]
  },
  {
   "cell_type": "code",
   "execution_count": 6,
   "id": "f4e0b593",
   "metadata": {},
   "outputs": [
    {
     "data": {
      "text/plain": [
       "{'question': 'Here is a gene set: BARD1 BCL11B BRD4 CHD4 CREBBP DNMT1 DNMT3A DNMT3B E2F1 EMSY EZH2 HDAC1 HDAC2 HDAC3 HIST3H3 ING1 IRF2 KDM5A MTA1 PALB2 PARP1 PHF6 PRDM1 RB1 RUNX1 SMARCA1 TERT TP53 ZBTB2 ZNF217 Goal: What is the most prominent biological process performed by the system?',\n",
       " 'answer': '',\n",
       " 'options': {'A': '', 'B': '', 'C': '', 'D': '', 'E': ''},\n",
       " 'meta_info': 'step1',\n",
       " 'answer_idx': 'C'}"
      ]
     },
     "execution_count": 6,
     "metadata": {},
     "output_type": "execute_result"
    }
   ],
   "source": [
    "dataobj.get_by_idx(0)"
   ]
  },
  {
   "cell_type": "code",
   "execution_count": 7,
   "id": "be1e2185",
   "metadata": {},
   "outputs": [],
   "source": [
    "# raw_sample"
   ]
  },
  {
   "cell_type": "code",
   "execution_count": 8,
   "id": "7343d55b",
   "metadata": {},
   "outputs": [
    {
     "data": {
      "text/plain": [
       "{'question': 'Here is the set of genes: BARD1 BCL11B BRD4 CHD4 CREBBP DNMT1 DNMT3A DNMT3B E2F1 EMSY EZH2 HDAC1 HDAC2 HDAC3 HIST3H3 ING1 IRF2 KDM5A MTA1 PALB2 PARP1 PHF6 PRDM1 RB1 RUNX1 SMARCA1 TERT TP53 ZBTB2 ZNF217. What are the two best biological processes performed by the system?.',\n",
       " 'answer': '',\n",
       " 'options': {'A': 'Chromatin Remodeling and Modification.',\n",
       "  'B': 'DNA Damage Response and Repair',\n",
       "  'C': 'Transcriptional Regulation and Gene Expression.'},\n",
       " 'meta_info': 'step1',\n",
       " 'answer_idx': ''}"
      ]
     },
     "execution_count": 8,
     "metadata": {},
     "output_type": "execute_result"
    }
   ],
   "source": [
    "raw_sample_2= {'question':\"Here is the set of genes: BARD1 BCL11B BRD4 CHD4 CREBBP DNMT1 DNMT3A DNMT3B E2F1 EMSY EZH2 HDAC1 HDAC2 HDAC3 HIST3H3 ING1 IRF2 KDM5A MTA1 PALB2 PARP1 PHF6 PRDM1 RB1 RUNX1 SMARCA1 TERT TP53 ZBTB2 ZNF217. What are the two best biological processes performed by the system?.\",\n",
    "              'answer':'',\n",
    "               'options': {'A': \"Chromatin Remodeling and Modification.\", 'B':'DNA Damage Response and Repair', 'C':'Transcriptional Regulation and Gene Expression.'},\\\n",
    "               'meta_info':'step1',\n",
    "               'answer_idx':''\n",
    "              }\n",
    "raw_sample_2"
   ]
  },
  {
   "cell_type": "code",
   "execution_count": 9,
   "id": "7b2bac5c",
   "metadata": {
    "scrolled": false
   },
   "outputs": [
    {
     "name": "stderr",
     "output_type": "stream",
     "text": [
      "\r",
      "  0%|                                                                                             | 0/1 [00:00<?, ?it/s]"
     ]
    },
    {
     "name": "stdout",
     "output_type": "stream",
     "text": [
      "question_classifier You are a medical expert who specializes in categorizing a specific medical scenario into specific areas of medicine.\n",
      "Generating response for engine:  gpt-4\n",
      "Finish!\n",
      "Time taken:  1.1114068031311035\n",
      "raw_question_domain Medical Field: Genetics | Molecular Biology | Oncology | Hematology | Bioinformatics\n",
      "question_domains ['Genetics', 'Molecular Biology', 'Oncology', 'Hematology', 'Bioinformatics']\n",
      "move one to next analysis\n",
      "Generating response for engine:  gpt-4\n",
      "Finish!\n",
      "Time taken:  0.4705939292907715\n",
      "options_domains ['Genetics', 'Molecular Biology']\n",
      "Generating response for engine:  gpt-4\n",
      "Finish!\n",
      "Time taken:  9.825426578521729\n",
      "Generating response for engine:  gpt-4\n",
      "Finish!\n",
      "Time taken:  8.252546072006226\n",
      "Generating response for engine:  gpt-4\n",
      "Finish!\n",
      "Time taken:  10.730138063430786\n",
      "Generating response for engine:  gpt-4\n",
      "Finish!\n",
      "Time taken:  12.246208667755127\n",
      "Generating response for engine:  gpt-4\n",
      "Finish!\n",
      "Time taken:  10.76980996131897\n",
      "tmp_question_analysis [\"The set of genes listed in the question are involved in a variety of biological processes. However, two key processes that many of these genes are involved in are:\\n\\n1. DNA Methylation: This is a process by which methyl groups are added to the DNA molecule. It is crucial for normal development and is associated with several key processes including genomic imprinting, X-chromosome inactivation, repression of transposable elements, aging and carcinogenesis. Genes like DNMT1, DNMT3A, and DNMT3B are directly involved in this process.\\n\\n2. Chromatin Remodeling: This is a process that is crucial for the regulation of gene expression. It involves the dynamic modification of chromatin architecture to allow access of condensed genomic DNA to the regulatory transcription machinery proteins, and thereby control gene expression. Genes like CHD4, SMARCA1, and BRD4 are involved in this process.\\n\\nIt's important to note that these genes also play roles in other processes and their functions can be context-dependent. For example, TP53 is a well-known tumor suppressor gene involved in cell cycle regulation and apoptosis, while TERT is involved in telomere maintenance and cellular aging.\", 'The set of genes provided in the question are involved in a variety of biological processes. However, two key processes that stand out are:\\n\\n1. DNA Methylation: This is a process by which methyl groups are added to the DNA molecule. It is crucial for cellular development and helps in maintaining gene expression. The genes DNMT1, DNMT3A, and DNMT3B are directly involved in this process. DNA methylation can influence the transcription of genes and is a key process in epigenetic regulation of gene expression.\\n\\n2. Chromatin Remodeling: This is a process that is crucial for the regulation of gene expression. Chromatin remodeling involves the restructuring of chromatin, the material that makes up chromosomes, to allow access to genes and DNA sequences. The genes CHD4, SMARCA1, and BRD4 are involved in this process. Chromatin remodeling is essential for a variety of processes including DNA replication, DNA repair, and gene transcription.\\n\\nThese two processes are fundamental to the functioning of cells and the overall organism. They play a crucial role in gene expression and regulation, cellular development, and response to environmental changes.', \"The question is asking about the primary biological processes that are performed by the system, given a set of genes. These genes are involved in various biological processes, but two of the most significant ones are DNA repair and transcription regulation.\\n\\n1. DNA Repair: Several genes in the list are involved in the DNA repair process. For instance, BARD1, PALB2, and TP53 are known to play crucial roles in DNA repair mechanisms. DNA repair is essential for maintaining the integrity of the genetic material in cells, preventing mutations that can lead to cancer.\\n\\n2. Transcription Regulation: Many of these genes, such as BRD4, CHD4, CREBBP, E2F1, EZH2, HDAC1, HDAC2, HDAC3, and RB1, are involved in the regulation of transcription. Transcription is the process by which the information in a strand of DNA is copied into a new molecule of messenger RNA (mRNA). Dysregulation of this process can also lead to cancer.\\n\\nIt's important to note that these genes can be involved in multiple biological processes, and their roles can vary depending on the context. For example, TP53 is a well-known tumor suppressor gene that plays roles in cell cycle regulation, apoptosis, and senescence in addition to DNA repair.\", \"The question is asking about the primary biological processes that the listed genes are involved in. These genes are associated with a variety of functions, but two key processes that many of them are involved in are:\\n\\n1. DNA Methylation: This is a process by which methyl groups are added to the DNA molecule. It is crucial for normal development and is associated with several key processes including genomic imprinting, X-chromosome inactivation, repression of transposable elements, aging and carcinogenesis. Genes like DNMT1, DNMT3A, and DNMT3B are directly involved in this process.\\n\\n2. Chromatin Remodeling: This is a process that is crucial for the regulation of gene expression. It involves the dynamic modification of chromatin architecture to allow access of condensed genomic DNA to the regulatory transcription machinery proteins, and thereby control gene expression. Genes like CHD4, SMARCA1, and BRD4 are involved in this process. \\n\\nIt's important to note that these genes also play roles in other processes and their functions can be context-dependent. For example, TP53 is a well-known tumor suppressor gene involved in cell cycle regulation and apoptosis, while TERT is involved in telomere maintenance and cellular aging.\", \"The question is asking about the primary biological processes that are performed by the system, given the set of genes listed. These genes are involved in a variety of biological processes, but two of the most significant ones are DNA methylation and chromatin remodeling.\\n\\n1. DNA Methylation: This is a process by which methyl groups are added to the DNA molecule. It is crucial for cellular development and helps in maintaining gene expression. The genes DNMT1, DNMT3A, and DNMT3B are directly involved in this process. They code for DNA methyltransferases, enzymes that catalyze the transfer of a methyl group to DNA.\\n\\n2. Chromatin Remodeling: This is a process that is essential for the transcription of DNA into RNA, DNA replication and DNA repair. It involves the restructuring of chromatin, which is a complex of DNA and protein, to allow these processes to occur. The genes CHD4, SMARCA1, and BRD4 are involved in this process. They code for proteins that are part of the chromatin remodeling complex.\\n\\nIt's important to note that these genes also play roles in other biological processes, and many are implicated in various diseases when mutated, including cancer.\"]\n",
      "Generating response for engine:  gpt-4\n",
      "Finish!\n",
      "Time taken:  14.58118486404419\n",
      "Generating response for engine:  gpt-4\n",
      "Finish!\n",
      "Time taken:  12.436293840408325\n",
      "q_analyses_text Report0 \n",
      "Question: Here is the set of genes: BARD1 BCL11B BRD4 CHD4 CREBBP DNMT1 DNMT3A DNMT3B E2F1 EMSY EZH2 HDAC1 HDAC2 HDAC3 HIST3H3 ING1 IRF2 KDM5A MTA1 PALB2 PARP1 PHF6 PRDM1 RB1 RUNX1 SMARCA1 TERT TP53 ZBTB2 ZNF217. What are the two best biological processes performed by the system?. \n",
      "Domain: Genetics \n",
      "Analysis: The set of genes listed in the question are involved in a variety of biological processes. However, two key processes that many of these genes are involved in are:\n",
      "\n",
      "1. DNA Methylation: This is a process by which methyl groups are added to the DNA molecule. It is crucial for normal development and is associated with several key processes including genomic imprinting, X-chromosome inactivation, repression of transposable elements, aging and carcinogenesis. Genes like DNMT1, DNMT3A, and DNMT3B are directly involved in this process.\n",
      "\n",
      "2. Chromatin Remodeling: This is a process that is crucial for the regulation of gene expression. It involves the dynamic modification of chromatin architecture to allow access of condensed genomic DNA to the regulatory transcription machinery proteins, and thereby control gene expression. Genes like CHD4, SMARCA1, and BRD4 are involved in this process.\n",
      "\n",
      "It's important to note that these genes also play roles in other processes and their functions can be context-dependent. For example, TP53 is a well-known tumor suppressor gene involved in cell cycle regulation and apoptosis, while TERT is involved in telomere maintenance and cellular aging. \n",
      "\n",
      "Report1 \n",
      "Question: Here is the set of genes: BARD1 BCL11B BRD4 CHD4 CREBBP DNMT1 DNMT3A DNMT3B E2F1 EMSY EZH2 HDAC1 HDAC2 HDAC3 HIST3H3 ING1 IRF2 KDM5A MTA1 PALB2 PARP1 PHF6 PRDM1 RB1 RUNX1 SMARCA1 TERT TP53 ZBTB2 ZNF217. What are the two best biological processes performed by the system?. \n",
      "Domain: Molecular Biology \n",
      "Analysis: The set of genes provided in the question are involved in a variety of biological processes. However, two key processes that stand out are:\n",
      "\n",
      "1. DNA Methylation: This is a process by which methyl groups are added to the DNA molecule. It is crucial for cellular development and helps in maintaining gene expression. The genes DNMT1, DNMT3A, and DNMT3B are directly involved in this process. DNA methylation can influence the transcription of genes and is a key process in epigenetic regulation of gene expression.\n",
      "\n",
      "2. Chromatin Remodeling: This is a process that is crucial for the regulation of gene expression. Chromatin remodeling involves the restructuring of chromatin, the material that makes up chromosomes, to allow access to genes and DNA sequences. The genes CHD4, SMARCA1, and BRD4 are involved in this process. Chromatin remodeling is essential for a variety of processes including DNA replication, DNA repair, and gene transcription.\n",
      "\n",
      "These two processes are fundamental to the functioning of cells and the overall organism. They play a crucial role in gene expression and regulation, cellular development, and response to environmental changes. \n",
      "\n",
      "Report2 \n",
      "Question: Here is the set of genes: BARD1 BCL11B BRD4 CHD4 CREBBP DNMT1 DNMT3A DNMT3B E2F1 EMSY EZH2 HDAC1 HDAC2 HDAC3 HIST3H3 ING1 IRF2 KDM5A MTA1 PALB2 PARP1 PHF6 PRDM1 RB1 RUNX1 SMARCA1 TERT TP53 ZBTB2 ZNF217. What are the two best biological processes performed by the system?. \n",
      "Domain: Oncology \n",
      "Analysis: The question is asking about the primary biological processes that are performed by the system, given a set of genes. These genes are involved in various biological processes, but two of the most significant ones are DNA repair and transcription regulation.\n",
      "\n",
      "1. DNA Repair: Several genes in the list are involved in the DNA repair process. For instance, BARD1, PALB2, and TP53 are known to play crucial roles in DNA repair mechanisms. DNA repair is essential for maintaining the integrity of the genetic material in cells, preventing mutations that can lead to cancer.\n",
      "\n",
      "2. Transcription Regulation: Many of these genes, such as BRD4, CHD4, CREBBP, E2F1, EZH2, HDAC1, HDAC2, HDAC3, and RB1, are involved in the regulation of transcription. Transcription is the process by which the information in a strand of DNA is copied into a new molecule of messenger RNA (mRNA). Dysregulation of this process can also lead to cancer.\n",
      "\n",
      "It's important to note that these genes can be involved in multiple biological processes, and their roles can vary depending on the context. For example, TP53 is a well-known tumor suppressor gene that plays roles in cell cycle regulation, apoptosis, and senescence in addition to DNA repair. \n",
      "\n",
      "Report3 \n",
      "Question: Here is the set of genes: BARD1 BCL11B BRD4 CHD4 CREBBP DNMT1 DNMT3A DNMT3B E2F1 EMSY EZH2 HDAC1 HDAC2 HDAC3 HIST3H3 ING1 IRF2 KDM5A MTA1 PALB2 PARP1 PHF6 PRDM1 RB1 RUNX1 SMARCA1 TERT TP53 ZBTB2 ZNF217. What are the two best biological processes performed by the system?. \n",
      "Domain: Hematology \n",
      "Analysis: The question is asking about the primary biological processes that the listed genes are involved in. These genes are associated with a variety of functions, but two key processes that many of them are involved in are:\n",
      "\n",
      "1. DNA Methylation: This is a process by which methyl groups are added to the DNA molecule. It is crucial for normal development and is associated with several key processes including genomic imprinting, X-chromosome inactivation, repression of transposable elements, aging and carcinogenesis. Genes like DNMT1, DNMT3A, and DNMT3B are directly involved in this process.\n",
      "\n",
      "2. Chromatin Remodeling: This is a process that is crucial for the regulation of gene expression. It involves the dynamic modification of chromatin architecture to allow access of condensed genomic DNA to the regulatory transcription machinery proteins, and thereby control gene expression. Genes like CHD4, SMARCA1, and BRD4 are involved in this process. \n",
      "\n",
      "It's important to note that these genes also play roles in other processes and their functions can be context-dependent. For example, TP53 is a well-known tumor suppressor gene involved in cell cycle regulation and apoptosis, while TERT is involved in telomere maintenance and cellular aging. \n",
      "\n",
      "Report4 \n",
      "Question: Here is the set of genes: BARD1 BCL11B BRD4 CHD4 CREBBP DNMT1 DNMT3A DNMT3B E2F1 EMSY EZH2 HDAC1 HDAC2 HDAC3 HIST3H3 ING1 IRF2 KDM5A MTA1 PALB2 PARP1 PHF6 PRDM1 RB1 RUNX1 SMARCA1 TERT TP53 ZBTB2 ZNF217. What are the two best biological processes performed by the system?. \n",
      "Domain: Bioinformatics \n",
      "Analysis: The question is asking about the primary biological processes that are performed by the system, given the set of genes listed. These genes are involved in a variety of biological processes, but two of the most significant ones are DNA methylation and chromatin remodeling.\n",
      "\n",
      "1. DNA Methylation: This is a process by which methyl groups are added to the DNA molecule. It is crucial for cellular development and helps in maintaining gene expression. The genes DNMT1, DNMT3A, and DNMT3B are directly involved in this process. They code for DNA methyltransferases, enzymes that catalyze the transfer of a methyl group to DNA.\n",
      "\n",
      "2. Chromatin Remodeling: This is a process that is essential for the transcription of DNA into RNA, DNA replication and DNA repair. It involves the restructuring of chromatin, which is a complex of DNA and protein, to allow these processes to occur. The genes CHD4, SMARCA1, and BRD4 are involved in this process. They code for proteins that are part of the chromatin remodeling complex.\n",
      "\n",
      "It's important to note that these genes also play roles in other biological processes, and many are implicated in various diseases when mutated, including cancer. \n",
      "\n",
      "\n",
      "o_analyses_text Report0: \n",
      "Options: {'A': 'Chromatin Remodeling and Modification.', 'B': 'DNA Damage Response and Repair', 'C': 'Transcriptional Regulation and Gene Expression.'} \n",
      "Domain: Genetics \n",
      "Analysis: Option A: 'Chromatin Remodeling and Modification.' This option is plausible. As per the expert analysis, several genes in the list are involved in chromatin remodeling and modification. This process is crucial for the regulation of gene expression and involves the dynamic modification of chromatin architecture to allow access of condensed genomic DNA to the regulatory transcription machinery proteins. Genes like CHD4, SMARCA1, and BRD4 are directly involved in this process. Option B: 'DNA Damage Response and Repair'\n",
      "This option is partially correct. While some genes in the list, such as BARD1, PALB2, and TP53, are involved in DNA repair mechanisms, the majority of the genes listed are not primarily associated with DNA damage response and repair. Therefore, this option might not represent the best biological processes performed by the system. Option C: 'Transcriptional Regulation and Gene Expression.' This option is plausible but not the most accurate. While many of the genes listed are involved in transcriptional regulation and gene expression, the two most prominent processes performed by the system, as per the expert analysis, are DNA methylation and chromatin remodeling. Therefore, while this option is not incorrect, it might not be the best answer to the question. In conclusion, based on the expert analysis, the most accurate answer to the question would be 'Chromatin Remodeling and Modification' and 'DNA Methylation'.. \n",
      "\n",
      "Report1: \n",
      "Options: {'A': 'Chromatin Remodeling and Modification.', 'B': 'DNA Damage Response and Repair', 'C': 'Transcriptional Regulation and Gene Expression.'} \n",
      "Domain: Molecular Biology \n",
      "Analysis: Option A: 'Chromatin Remodeling and Modification.' - This option is plausible. As per the analysis from the Genetics, Molecular Biology, Hematology, and Bioinformatics experts, several genes in the list are involved in chromatin remodeling and modification. This process is crucial for the regulation of gene expression and involves the dynamic modification of chromatin architecture to allow access of condensed genomic DNA to the regulatory transcription machinery proteins. Genes like CHD4, SMARCA1, and BRD4 are involved in this process. Option B: 'DNA Damage Response and Repair' - This option is partially correct. While some genes in the list are involved in DNA damage response and repair, such as TP53, BARD1, and PALB2, the majority of the genes listed are more directly involved in processes like DNA methylation and chromatin remodeling. Therefore, while DNA damage response and repair is a significant biological process, it may not be the \"best\" or most representative process for this particular set of genes. Option C: 'Transcriptional Regulation and Gene Expression.' - This option is plausible but not the most accurate. While many of the genes listed do play a role in transcriptional regulation and gene expression, the processes of DNA methylation and chromatin remodeling, which are more specific and directly related to the functions of the listed genes, are not explicitly mentioned in this option.. \n",
      "\n",
      "\n",
      "Generating response for engine:  gpt-4\n"
     ]
    },
    {
     "name": "stdout",
     "output_type": "stream",
     "text": [
      "Finish!\n",
      "Time taken:  20.251983165740967\n",
      "syn_report Question: Here is the set of genes: BARD1 BCL11B BRD4 CHD4 CREBBP DNMT1 DNMT3A DNMT3B E2F1 EMSY EZH2 HDAC1 HDAC2 HDAC3 HIST3H3 ING1 IRF2 KDM5A MTA1 PALB2 PARP1 PHF6 PRDM1 RB1 RUNX1 SMARCA1 TERT TP53 ZBTB2 ZNF217. What are the two best biological processes performed by the system?. \n",
      "Options: {'A': 'Chromatin Remodeling and Modification.', 'B': 'DNA Damage Response and Repair', 'C': 'Transcriptional Regulation and Gene Expression.'} \n",
      "Total Analysis: [The set of genes provided are involved in a variety of biological processes, but the two most significant ones are DNA Methylation and Chromatin Remodeling. DNA Methylation is a process by which methyl groups are added to the DNA molecule, crucial for cellular development and helps in maintaining gene expression. The genes DNMT1, DNMT3A, and DNMT3B are directly involved in this process. DNA methylation can influence the transcription of genes and is a key process in epigenetic regulation of gene expression. Chromatin Remodeling is a process that is crucial for the regulation of gene expression. Chromatin remodeling involves the restructuring of chromatin, the material that makes up chromosomes, to allow access to genes and DNA sequences. The genes CHD4, SMARCA1, and BRD4 are involved in this process. Chromatin remodeling is essential for a variety of processes including DNA replication, DNA repair, and gene transcription. These two processes are fundamental to the functioning of cells and the overall organism. They play a crucial role in gene expression and regulation, cellular development, and response to environmental changes.] \n",
      "\n",
      "Generating response for engine:  gpt-4\n",
      "Finish!\n",
      "Time taken:  0.40606141090393066\n",
      "Genetics domain_opinion yes\n",
      "Generating response for engine:  gpt-4\n",
      "Finish!\n",
      "Time taken:  0.4586145877838135\n",
      "Molecular Biology domain_opinion yes\n",
      "Generating response for engine:  gpt-4\n",
      "Finish!\n",
      "Time taken:  0.4628322124481201\n",
      "Oncology domain_opinion yes\n",
      "Generating response for engine:  gpt-4\n",
      "Finish!\n",
      "Time taken:  0.4765923023223877\n",
      "Hematology domain_opinion yes\n",
      "Generating response for engine:  gpt-4\n",
      "Finish!\n",
      "Time taken:  0.49244141578674316\n",
      "Bioinformatics domain_opinion yes\n",
      "Generating response for engine:  gpt-4\n",
      "Finish!\n",
      "Time taken:  0.3850743770599365\n",
      "Genetics domain_opinion yes\n",
      "Generating response for engine:  gpt-4\n",
      "Finish!\n",
      "Time taken:  0.25363636016845703\n",
      "Molecular Biology domain_opinion yes\n",
      "Generating response for engine:  gpt-4\n"
     ]
    },
    {
     "name": "stderr",
     "output_type": "stream",
     "text": [
      "100%|████████████████████████████████████████████████████████████████████████████████████| 1/1 [01:44<00:00, 104.24s/it]"
     ]
    },
    {
     "name": "stdout",
     "output_type": "stream",
     "text": [
      "Finish!\n",
      "Time taken:  0.602057695388794\n"
     ]
    },
    {
     "name": "stderr",
     "output_type": "stream",
     "text": [
      "\n"
     ]
    }
   ],
   "source": [
    "### set test range\n",
    "# end_pos = len(dataobj) if args.end_pos == -1 else args.end_pos\n",
    "# test_range = range(args.start_pos, end_pos)  # closed interval\n",
    "\n",
    "# ### set output_file_name\n",
    "# exact_output_file = f\"{args.output_files_folder}/{args.model_name}-{args.method}\"\n",
    "#print(exact_output_file)\n",
    "\n",
    "\n",
    "input_prompt = {}\n",
    "for idx in tqdm.tqdm(range(0,1)):\n",
    "    raw_sample = raw_sample_2#dataobj.get_by_idx(idx)\n",
    "    question = raw_sample['question'] if raw_sample['question'][-1] in punctuation else raw_sample['question'] + '?'\n",
    "\n",
    "    realqid = idx\n",
    "    if args.dataset_name in ['MedQA', 'MedMCQA'] or 'MMLU' in args.dataset_name:\n",
    "        options = raw_sample['options']\n",
    "        gold_answer = raw_sample['answer_idx']\n",
    "        data_info = fully_decode(idx, realqid, question, options, gold_answer, handler, args, dataobj)\n",
    "    elif args.dataset_name == 'PubMedQA':\n",
    "        question = raw_sample['context'] + ' ' + question\n",
    "        options = raw_sample['options']\n",
    "        gold_answer = raw_sample['answer_idx']\n",
    "        data_info = fully_decode(idx, realqid, question, options, gold_answer, handler, args, dataobj)\n",
    "    elif args.dataset_name in ['MedicationQA']:\n",
    "        options = ''\n",
    "        gold_answer = raw_sample['answer_idx']\n",
    "        data_info = fully_decode(idx, realqid, question, options, gold_answer, handler, args, dataobj)\n",
    "\n",
    "#     record = json.dumps(data_info)\n",
    "#     with open(exact_output_file, 'a') as f:\n",
    "#         f.write(record + '\\n')"
   ]
  },
  {
   "cell_type": "code",
   "execution_count": 23,
   "id": "53f023f3",
   "metadata": {
    "scrolled": false
   },
   "outputs": [
    {
     "data": {
      "text/plain": [
       "{'question': 'Here is the set of genes: BARD1 BCL11B BRD4 CHD4 CREBBP DNMT1 DNMT3A DNMT3B E2F1 EMSY EZH2 HDAC1 HDAC2 HDAC3 HIST3H3 ING1 IRF2 KDM5A MTA1 PALB2 PARP1 PHF6 PRDM1 RB1 RUNX1 SMARCA1 TERT TP53 ZBTB2 ZNF217. What are the two best biological processes performed by the system?.',\n",
       " 'options': {'A': 'Chromatin Remodeling and Modification.',\n",
       "  'B': 'DNA Damage Response and Repair',\n",
       "  'C': 'Transcriptional Regulation and Gene Expression.'},\n",
       " 'pred_answer': 'A',\n",
       " 'gold_answer': '',\n",
       " 'question_domains': ['Genetics',\n",
       "  'Molecular Biology',\n",
       "  'Oncology',\n",
       "  'Hematology',\n",
       "  'Bioinformatics'],\n",
       " 'option_domains': ['Genetics', 'Molecular Biology'],\n",
       " 'question_analyses': {'Genetics': \"The set of genes listed in the question are involved in a variety of biological processes. However, two key processes that many of these genes are involved in are:\\n\\n1. DNA Methylation: This is a process by which methyl groups are added to the DNA molecule. It is crucial for normal development and is associated with several key processes including genomic imprinting, X-chromosome inactivation, repression of transposable elements, aging and carcinogenesis. Genes like DNMT1, DNMT3A, and DNMT3B are directly involved in this process.\\n\\n2. Chromatin Remodeling: This is a process that is crucial for the regulation of gene expression. It involves the dynamic modification of chromatin architecture to allow access of condensed genomic DNA to the regulatory transcription machinery proteins, and thereby control gene expression. Genes like CHD4, SMARCA1, and BRD4 are involved in this process.\\n\\nIt's important to note that these genes also play roles in other processes and their functions can be context-dependent. For example, TP53 is a well-known tumor suppressor gene involved in cell cycle regulation and apoptosis, while TERT is involved in telomere maintenance and cellular aging.\",\n",
       "  'Molecular Biology': 'The set of genes provided in the question are involved in a variety of biological processes. However, two key processes that stand out are:\\n\\n1. DNA Methylation: This is a process by which methyl groups are added to the DNA molecule. It is crucial for cellular development and helps in maintaining gene expression. The genes DNMT1, DNMT3A, and DNMT3B are directly involved in this process. DNA methylation can influence the transcription of genes and is a key process in epigenetic regulation of gene expression.\\n\\n2. Chromatin Remodeling: This is a process that is crucial for the regulation of gene expression. Chromatin remodeling involves the restructuring of chromatin, the material that makes up chromosomes, to allow access to genes and DNA sequences. The genes CHD4, SMARCA1, and BRD4 are involved in this process. Chromatin remodeling is essential for a variety of processes including DNA replication, DNA repair, and gene transcription.\\n\\nThese two processes are fundamental to the functioning of cells and the overall organism. They play a crucial role in gene expression and regulation, cellular development, and response to environmental changes.',\n",
       "  'Oncology': \"The question is asking about the primary biological processes that are performed by the system, given a set of genes. These genes are involved in various biological processes, but two of the most significant ones are DNA repair and transcription regulation.\\n\\n1. DNA Repair: Several genes in the list are involved in the DNA repair process. For instance, BARD1, PALB2, and TP53 are known to play crucial roles in DNA repair mechanisms. DNA repair is essential for maintaining the integrity of the genetic material in cells, preventing mutations that can lead to cancer.\\n\\n2. Transcription Regulation: Many of these genes, such as BRD4, CHD4, CREBBP, E2F1, EZH2, HDAC1, HDAC2, HDAC3, and RB1, are involved in the regulation of transcription. Transcription is the process by which the information in a strand of DNA is copied into a new molecule of messenger RNA (mRNA). Dysregulation of this process can also lead to cancer.\\n\\nIt's important to note that these genes can be involved in multiple biological processes, and their roles can vary depending on the context. For example, TP53 is a well-known tumor suppressor gene that plays roles in cell cycle regulation, apoptosis, and senescence in addition to DNA repair.\",\n",
       "  'Hematology': \"The question is asking about the primary biological processes that the listed genes are involved in. These genes are associated with a variety of functions, but two key processes that many of them are involved in are:\\n\\n1. DNA Methylation: This is a process by which methyl groups are added to the DNA molecule. It is crucial for normal development and is associated with several key processes including genomic imprinting, X-chromosome inactivation, repression of transposable elements, aging and carcinogenesis. Genes like DNMT1, DNMT3A, and DNMT3B are directly involved in this process.\\n\\n2. Chromatin Remodeling: This is a process that is crucial for the regulation of gene expression. It involves the dynamic modification of chromatin architecture to allow access of condensed genomic DNA to the regulatory transcription machinery proteins, and thereby control gene expression. Genes like CHD4, SMARCA1, and BRD4 are involved in this process. \\n\\nIt's important to note that these genes also play roles in other processes and their functions can be context-dependent. For example, TP53 is a well-known tumor suppressor gene involved in cell cycle regulation and apoptosis, while TERT is involved in telomere maintenance and cellular aging.\",\n",
       "  'Bioinformatics': \"The question is asking about the primary biological processes that are performed by the system, given the set of genes listed. These genes are involved in a variety of biological processes, but two of the most significant ones are DNA methylation and chromatin remodeling.\\n\\n1. DNA Methylation: This is a process by which methyl groups are added to the DNA molecule. It is crucial for cellular development and helps in maintaining gene expression. The genes DNMT1, DNMT3A, and DNMT3B are directly involved in this process. They code for DNA methyltransferases, enzymes that catalyze the transfer of a methyl group to DNA.\\n\\n2. Chromatin Remodeling: This is a process that is essential for the transcription of DNA into RNA, DNA replication and DNA repair. It involves the restructuring of chromatin, which is a complex of DNA and protein, to allow these processes to occur. The genes CHD4, SMARCA1, and BRD4 are involved in this process. They code for proteins that are part of the chromatin remodeling complex.\\n\\nIt's important to note that these genes also play roles in other biological processes, and many are implicated in various diseases when mutated, including cancer.\"},\n",
       " 'option_analyses': {'Genetics': \"Option A: 'Chromatin Remodeling and Modification.' This option is plausible. As per the expert analysis, several genes in the list are involved in chromatin remodeling and modification. This process is crucial for the regulation of gene expression and involves the dynamic modification of chromatin architecture to allow access of condensed genomic DNA to the regulatory transcription machinery proteins. Genes like CHD4, SMARCA1, and BRD4 are directly involved in this process. Option B: 'DNA Damage Response and Repair'\\nThis option is partially correct. While some genes in the list, such as BARD1, PALB2, and TP53, are involved in DNA repair mechanisms, the majority of the genes listed are not primarily associated with DNA damage response and repair. Therefore, this option might not represent the best biological processes performed by the system. Option C: 'Transcriptional Regulation and Gene Expression.' This option is plausible but not the most accurate. While many of the genes listed are involved in transcriptional regulation and gene expression, the two most prominent processes performed by the system, as per the expert analysis, are DNA methylation and chromatin remodeling. Therefore, while this option is not incorrect, it might not be the best answer to the question. In conclusion, based on the expert analysis, the most accurate answer to the question would be 'Chromatin Remodeling and Modification' and 'DNA Methylation'..\",\n",
       "  'Molecular Biology': 'Option A: \\'Chromatin Remodeling and Modification.\\' - This option is plausible. As per the analysis from the Genetics, Molecular Biology, Hematology, and Bioinformatics experts, several genes in the list are involved in chromatin remodeling and modification. This process is crucial for the regulation of gene expression and involves the dynamic modification of chromatin architecture to allow access of condensed genomic DNA to the regulatory transcription machinery proteins. Genes like CHD4, SMARCA1, and BRD4 are involved in this process. Option B: \\'DNA Damage Response and Repair\\' - This option is partially correct. While some genes in the list are involved in DNA damage response and repair, such as TP53, BARD1, and PALB2, the majority of the genes listed are more directly involved in processes like DNA methylation and chromatin remodeling. Therefore, while DNA damage response and repair is a significant biological process, it may not be the \"best\" or most representative process for this particular set of genes. Option C: \\'Transcriptional Regulation and Gene Expression.\\' - This option is plausible but not the most accurate. While many of the genes listed do play a role in transcriptional regulation and gene expression, the processes of DNA methylation and chromatin remodeling, which are more specific and directly related to the functions of the listed genes, are not explicitly mentioned in this option..'},\n",
       " 'syn_report': \"Question: Here is the set of genes: BARD1 BCL11B BRD4 CHD4 CREBBP DNMT1 DNMT3A DNMT3B E2F1 EMSY EZH2 HDAC1 HDAC2 HDAC3 HIST3H3 ING1 IRF2 KDM5A MTA1 PALB2 PARP1 PHF6 PRDM1 RB1 RUNX1 SMARCA1 TERT TP53 ZBTB2 ZNF217. What are the two best biological processes performed by the system?. \\nOptions: {'A': 'Chromatin Remodeling and Modification.', 'B': 'DNA Damage Response and Repair', 'C': 'Transcriptional Regulation and Gene Expression.'} \\nTotal Analysis: [The set of genes provided are involved in a variety of biological processes, but the two most significant ones are DNA Methylation and Chromatin Remodeling. DNA Methylation is a process by which methyl groups are added to the DNA molecule, crucial for cellular development and helps in maintaining gene expression. The genes DNMT1, DNMT3A, and DNMT3B are directly involved in this process. DNA methylation can influence the transcription of genes and is a key process in epigenetic regulation of gene expression. Chromatin Remodeling is a process that is crucial for the regulation of gene expression. Chromatin remodeling involves the restructuring of chromatin, the material that makes up chromosomes, to allow access to genes and DNA sequences. The genes CHD4, SMARCA1, and BRD4 are involved in this process. Chromatin remodeling is essential for a variety of processes including DNA replication, DNA repair, and gene transcription. These two processes are fundamental to the functioning of cells and the overall organism. They play a crucial role in gene expression and regulation, cellular development, and response to environmental changes.] \\n\",\n",
       " 'vote_history': [{'Genetics': 'yes',\n",
       "   'Molecular Biology': 'yes',\n",
       "   'Oncology': 'yes',\n",
       "   'Hematology': 'yes',\n",
       "   'Bioinformatics': 'yes'}],\n",
       " 'revision_history': [],\n",
       " 'syn_repo_history': [\"Question: Here is the set of genes: BARD1 BCL11B BRD4 CHD4 CREBBP DNMT1 DNMT3A DNMT3B E2F1 EMSY EZH2 HDAC1 HDAC2 HDAC3 HIST3H3 ING1 IRF2 KDM5A MTA1 PALB2 PARP1 PHF6 PRDM1 RB1 RUNX1 SMARCA1 TERT TP53 ZBTB2 ZNF217. What are the two best biological processes performed by the system?. \\nOptions: {'A': 'Chromatin Remodeling and Modification.', 'B': 'DNA Damage Response and Repair', 'C': 'Transcriptional Regulation and Gene Expression.'} \\nTotal Analysis: [The set of genes provided are involved in a variety of biological processes, but the two most significant ones are DNA Methylation and Chromatin Remodeling. DNA Methylation is a process by which methyl groups are added to the DNA molecule, crucial for cellular development and helps in maintaining gene expression. The genes DNMT1, DNMT3A, and DNMT3B are directly involved in this process. DNA methylation can influence the transcription of genes and is a key process in epigenetic regulation of gene expression. Chromatin Remodeling is a process that is crucial for the regulation of gene expression. Chromatin remodeling involves the restructuring of chromatin, the material that makes up chromosomes, to allow access to genes and DNA sequences. The genes CHD4, SMARCA1, and BRD4 are involved in this process. Chromatin remodeling is essential for a variety of processes including DNA replication, DNA repair, and gene transcription. These two processes are fundamental to the functioning of cells and the overall organism. They play a crucial role in gene expression and regulation, cellular development, and response to environmental changes.] \\n\"],\n",
       " 'raw_output': 'Option: A, B'}"
      ]
     },
     "execution_count": 23,
     "metadata": {},
     "output_type": "execute_result"
    }
   ],
   "source": [
    "data_info"
   ]
  },
  {
   "cell_type": "code",
   "execution_count": 21,
   "id": "56954607",
   "metadata": {},
   "outputs": [],
   "source": [
    "def cleansing_final_output(output, ans_num, numerical=True):\n",
    "    try:\n",
    "        ans = output.split(\":\")[-1]\n",
    "        ans = re.findall(r'A|B|C|D|E', ans)\n",
    "        if len(ans) == 0:\n",
    "            ans = \"\"\n",
    "        else:\n",
    "            ans = ans[:ans_num]\n",
    "            if numerical:\n",
    "                ans = [ord(char) - ord('A') for char in ans]\n",
    "    except:\n",
    "        ans = re.findall(r'A|B|C|D|E', ans)\n",
    "        if len(ans) == 0:\n",
    "            ans = \"\"\n",
    "        else:\n",
    "            ans = ans[:-ans_num]\n",
    "            if numerical:\n",
    "                ans = [ord(char) - ord('A') for char in ans]\n",
    "    return ans, output"
   ]
  },
  {
   "cell_type": "code",
   "execution_count": 22,
   "id": "8658b4c3",
   "metadata": {},
   "outputs": [
    {
     "data": {
      "text/plain": [
       "([0, 1], 'Option: A, B')"
      ]
     },
     "execution_count": 22,
     "metadata": {},
     "output_type": "execute_result"
    }
   ],
   "source": [
    "cleansing_final_output('Option: A, B', 2)"
   ]
  },
  {
   "cell_type": "code",
   "execution_count": 20,
   "id": "993b18ee",
   "metadata": {},
   "outputs": [
    {
     "data": {
      "text/plain": [
       "[0, 1]"
      ]
     },
     "execution_count": 20,
     "metadata": {},
     "output_type": "execute_result"
    }
   ],
   "source": [
    "mapped_values = [ord(char) - ord('A') for char in ['A', 'B']]\n",
    "mapped_values"
   ]
  },
  {
   "cell_type": "code",
   "execution_count": 1,
   "id": "55b1d5cf",
   "metadata": {},
   "outputs": [],
   "source": [
    "import openai\n",
    "import sys\n",
    "sys.path.insert(0, 'src') \n",
    "import os\n",
    "import json\n",
    "from functools import partial\n",
    "# Generating response for engine:  gpt-35-turbo-16k\n",
    "engine = 'gpt-4'\n",
    "%reload_ext autoreload\n",
    "%autoreload 2"
   ]
  },
  {
   "cell_type": "code",
   "execution_count": 2,
   "id": "ef22f1a8",
   "metadata": {
    "scrolled": true
   },
   "outputs": [
    {
     "name": "stdout",
     "output_type": "stream",
     "text": [
      "gpt-4\n"
     ]
    }
   ],
   "source": [
    "#                 temperature=temperature,\n",
    "#                 max_tokens=max_tokens,\n",
    "#                 top_p=1, # top_p的意思是选择概率质量值之和达到top_p的概率分布采样结果\n",
    "#                 frequency_penalty=frequency_penalty,\n",
    "#                 presence_penalty=presence_penalty,\n",
    "#                 stop=stop,\n",
    "print(engine)\n",
    "response = openai.ChatCompletion.create(\n",
    "                model=engine, # engine is the name of the deployment\n",
    "                messages=[{'role': 'system', 'content': 'You are a intelligent assistant.'},\\\n",
    "                          {'role': 'user', 'content': \"You're smart\"}],\n",
    "            )"
   ]
  },
  {
   "cell_type": "code",
   "execution_count": 5,
   "id": "3764d9ab",
   "metadata": {},
   "outputs": [
    {
     "name": "stdout",
     "output_type": "stream",
     "text": [
      "User : you're smart\n",
      "[{'role': 'system', 'content': 'You are a intelligent assistant.'}, {'role': 'user', 'content': \"you're smart\"}]\n",
      "ChatGPT: Thank you! I'm designed to provide intelligent responses. How may I assist you today?\n"
     ]
    }
   ],
   "source": [
    "messages = [ {\"role\": \"system\", \"content\": \"You are a intelligent assistant.\"} ]\n",
    "\n",
    "# chatgpt(messages=messages)\n",
    "# while True: \n",
    "message = input(\"User : \") \n",
    "if message: \n",
    "    messages.append( \n",
    "        {\"role\": \"user\", \"content\": message}, \n",
    "    ) \n",
    "    print(messages)\n",
    "    chat = openai.ChatCompletion.create( \n",
    "        model=\"gpt-4\", messages=messages \n",
    "    ) \n",
    "\n",
    "reply = chat.choices[0].message.content \n",
    "print(f\"ChatGPT: {reply}\") \n",
    "messages.append({\"role\": \"assistant\", \"content\": reply})"
   ]
  },
  {
   "cell_type": "code",
   "execution_count": 2,
   "id": "c36cb759",
   "metadata": {},
   "outputs": [],
   "source": [
    "messages=[{'role': 'system', 'content': 'You are a intelligent assistant.'},\n",
    " {'role': 'user', 'content': \"You're smart\"}]"
   ]
  },
  {
   "cell_type": "code",
   "execution_count": 3,
   "id": "75ceb04b",
   "metadata": {},
   "outputs": [],
   "source": [
    "chat = openai.ChatCompletion.create(model=\"gpt-4\", messages=messages)"
   ]
  },
  {
   "cell_type": "code",
   "execution_count": 4,
   "id": "60cb7f86",
   "metadata": {},
   "outputs": [
    {
     "data": {
      "text/plain": [
       "<OpenAIObject chat.completion id=chatcmpl-8iHJ2nOowzu88ZX2tYWH4zXfT8Emu at 0x7f429a649df0> JSON: {\n",
       "  \"choices\": [\n",
       "    {\n",
       "      \"finish_reason\": \"stop\",\n",
       "      \"index\": 0,\n",
       "      \"logprobs\": null,\n",
       "      \"message\": {\n",
       "        \"content\": \"Thank you for your compliment. I'm designed to assist and learn as efficiently as possible. How can I help you today?\",\n",
       "        \"role\": \"assistant\"\n",
       "      }\n",
       "    }\n",
       "  ],\n",
       "  \"created\": 1705563648,\n",
       "  \"id\": \"chatcmpl-8iHJ2nOowzu88ZX2tYWH4zXfT8Emu\",\n",
       "  \"model\": \"gpt-4-0613\",\n",
       "  \"object\": \"chat.completion\",\n",
       "  \"system_fingerprint\": null,\n",
       "  \"usage\": {\n",
       "    \"completion_tokens\": 25,\n",
       "    \"prompt_tokens\": 20,\n",
       "    \"total_tokens\": 45\n",
       "  }\n",
       "}"
      ]
     },
     "execution_count": 4,
     "metadata": {},
     "output_type": "execute_result"
    }
   ],
   "source": [
    "chat"
   ]
  },
  {
   "cell_type": "code",
   "execution_count": 11,
   "id": "6b5fb924",
   "metadata": {},
   "outputs": [],
   "source": [
    "import json\n",
    "a= {\"question\": '''You are an efficient and insightful assistant to a molecular biologist. Be concise; do not use unnecessary words. Be specific; avoid overly general statements, such as \"the proteins are involved in various cellular processes.\" Be factual; do not editorialize. Be inclusive; be sure to include all proteins. Be comprehensive, but don't overgeneralize. Stay on the subject; do not deviate from the goal. (Goal: Propose a brief name for the most prominent biological process performed by the system.) Here are the interacting proteins: Proteins: BARD1 BCL11B BRD4 CHD4 CREBBP DNMT1 DNMT3A DNMT3B E2F1 EMSY EZH2 HDAC1 HDAC2 HDAC3 HIST3H3 ING1 IRF2 KDM5A MTA1 PALB2 PARP1 PHF6 PRDM1 RB1 RUNX1 SMARCA1 TERT TP53 ZBTB2 ZNF217 Goal: Propose a brief name for the most prominent biological process performed by the system. You should write your thought process in steps. For now, please give me only Step 1 and as many potential biological perspectives as possible (at least three) for this set of genes.''', \"answer\": \"\", \"options\": {\"A\": \"\", \"B\": \"\", \"C\": \"\", \"D\": \"\", \"E\": \"\"}, \"meta_info\": \"step1\", \"answer_idx\": \"C\"}"
   ]
  },
  {
   "cell_type": "code",
   "execution_count": 8,
   "id": "4545565a",
   "metadata": {},
   "outputs": [
    {
     "data": {
      "text/plain": [
       "{'question': 'You are an efficient and insightful assistant to a molecular biologist. Be concise; do not use unnecessary words. Be specific; avoid overly general statements, such as \"the proteins are involved in various cellular processes.\" Be factual; do not editorialize. Be inclusive; be sure to include all proteins. Be comprehensive, but don\\'t overgeneralize. Stay on the subject; do not deviate from the goal. (Goal: Propose a brief name for the most prominent biological process performed by the system.) Here are the interacting proteins: Proteins: BARD1 BCL11B BRD4 CHD4 CREBBP DNMT1 DNMT3A DNMT3B E2F1 EMSY EZH2 HDAC1 HDAC2 HDAC3 HIST3H3 ING1 IRF2 KDM5A MTA1 PALB2 PARP1 PHF6 PRDM1 RB1 RUNX1 SMARCA1 TERT TP53 ZBTB2 ZNF217 Goal: Propose a brief name for the most prominent biological process performed by the system. You should write your thought process in steps. For now, please give me only Step 1 and as many potential biological perspectives as possible (at least three) for this set of genes.',\n",
       " 'answer': '',\n",
       " 'options': {'A': '', 'B': '', 'C': '', 'D': '', 'E': ''},\n",
       " 'meta_info': 'step1',\n",
       " 'answer_idx': 'C'}"
      ]
     },
     "execution_count": 8,
     "metadata": {},
     "output_type": "execute_result"
    }
   ],
   "source": [
    "a"
   ]
  },
  {
   "cell_type": "code",
   "execution_count": 9,
   "id": "e6722cd6",
   "metadata": {},
   "outputs": [
    {
     "data": {
      "text/plain": [
       "{'A': '', 'B': '', 'C': '', 'D': '', 'E': ''}"
      ]
     },
     "execution_count": 9,
     "metadata": {},
     "output_type": "execute_result"
    }
   ],
   "source": [
    "a['options']"
   ]
  },
  {
   "cell_type": "code",
   "execution_count": 6,
   "id": "dfeccf2d",
   "metadata": {},
   "outputs": [
    {
     "data": {
      "text/plain": [
       "<jsonlines.Reader at 0x7fec991a46d0 wrapping './datasets/MedQA/bio_name.jsonl'>"
      ]
     },
     "execution_count": 6,
     "metadata": {},
     "output_type": "execute_result"
    }
   ],
   "source": [
    "jsonlines.Reader(open('./datasets/MedQA/bio_name.jsonl'))"
   ]
  },
  {
   "cell_type": "code",
   "execution_count": 28,
   "id": "2c2c7815",
   "metadata": {},
   "outputs": [
    {
     "ename": "InvalidLineError",
     "evalue": "line contains invalid json: Expected object or value (line 1)",
     "output_type": "error",
     "traceback": [
      "\u001b[0;31m---------------------------------------------------------------------------\u001b[0m",
      "\u001b[0;31mJSONDecodeError\u001b[0m                           Traceback (most recent call last)",
      "File \u001b[0;32m/data/ch52669/anaconda3/lib/python3.11/site-packages/jsonlines/jsonlines.py:326\u001b[0m, in \u001b[0;36mReader.read\u001b[0;34m(self, type, allow_none, skip_empty)\u001b[0m\n\u001b[1;32m    325\u001b[0m \u001b[38;5;28;01mtry\u001b[39;00m:\n\u001b[0;32m--> 326\u001b[0m     value: JSONValue \u001b[38;5;241m=\u001b[39m \u001b[38;5;28mself\u001b[39m\u001b[38;5;241m.\u001b[39m_loads(line)\n\u001b[1;32m    327\u001b[0m \u001b[38;5;28;01mexcept\u001b[39;00m \u001b[38;5;167;01mValueError\u001b[39;00m \u001b[38;5;28;01mas\u001b[39;00m orig_exc:\n",
      "\u001b[0;31mJSONDecodeError\u001b[0m: Expected object or value",
      "\nThe above exception was the direct cause of the following exception:\n",
      "\u001b[0;31mInvalidLineError\u001b[0m                          Traceback (most recent call last)",
      "Cell \u001b[0;32mIn[28], line 2\u001b[0m\n\u001b[1;32m      1\u001b[0m \u001b[38;5;28;01mwith\u001b[39;00m \u001b[38;5;28mopen\u001b[39m(\u001b[38;5;124m'\u001b[39m\u001b[38;5;124m./datasets/MedQA/bio_name.jsonl\u001b[39m\u001b[38;5;124m'\u001b[39m) \u001b[38;5;28;01mas\u001b[39;00m f:\n\u001b[0;32m----> 2\u001b[0m     \u001b[38;5;28;01mfor\u001b[39;00m item \u001b[38;5;129;01min\u001b[39;00m jsonlines\u001b[38;5;241m.\u001b[39mReader(f):\n\u001b[1;32m      3\u001b[0m         \u001b[38;5;28mself\u001b[39m\u001b[38;5;241m.\u001b[39mdata\u001b[38;5;241m.\u001b[39mappend(item)\n",
      "File \u001b[0;32m/data/ch52669/anaconda3/lib/python3.11/site-packages/jsonlines/jsonlines.py:434\u001b[0m, in \u001b[0;36mReader.iter\u001b[0;34m(self, type, allow_none, skip_empty, skip_invalid)\u001b[0m\n\u001b[1;32m    432\u001b[0m \u001b[38;5;28;01mwhile\u001b[39;00m \u001b[38;5;28;01mTrue\u001b[39;00m:\n\u001b[1;32m    433\u001b[0m     \u001b[38;5;28;01mtry\u001b[39;00m:\n\u001b[0;32m--> 434\u001b[0m         \u001b[38;5;28;01myield\u001b[39;00m \u001b[38;5;28mself\u001b[39m\u001b[38;5;241m.\u001b[39mread(\n\u001b[1;32m    435\u001b[0m             \u001b[38;5;28mtype\u001b[39m\u001b[38;5;241m=\u001b[39m\u001b[38;5;28mtype\u001b[39m, allow_none\u001b[38;5;241m=\u001b[39mallow_none, skip_empty\u001b[38;5;241m=\u001b[39mskip_empty\n\u001b[1;32m    436\u001b[0m         )\n\u001b[1;32m    437\u001b[0m     \u001b[38;5;28;01mexcept\u001b[39;00m InvalidLineError:\n\u001b[1;32m    438\u001b[0m         \u001b[38;5;28;01mif\u001b[39;00m \u001b[38;5;129;01mnot\u001b[39;00m skip_invalid:\n",
      "File \u001b[0;32m/data/ch52669/anaconda3/lib/python3.11/site-packages/jsonlines/jsonlines.py:331\u001b[0m, in \u001b[0;36mReader.read\u001b[0;34m(self, type, allow_none, skip_empty)\u001b[0m\n\u001b[1;32m    327\u001b[0m \u001b[38;5;28;01mexcept\u001b[39;00m \u001b[38;5;167;01mValueError\u001b[39;00m \u001b[38;5;28;01mas\u001b[39;00m orig_exc:\n\u001b[1;32m    328\u001b[0m     exc \u001b[38;5;241m=\u001b[39m InvalidLineError(\n\u001b[1;32m    329\u001b[0m         \u001b[38;5;124mf\u001b[39m\u001b[38;5;124m\"\u001b[39m\u001b[38;5;124mline contains invalid json: \u001b[39m\u001b[38;5;132;01m{\u001b[39;00morig_exc\u001b[38;5;132;01m}\u001b[39;00m\u001b[38;5;124m\"\u001b[39m, line, lineno\n\u001b[1;32m    330\u001b[0m     )\n\u001b[0;32m--> 331\u001b[0m     \u001b[38;5;28;01mraise\u001b[39;00m exc \u001b[38;5;28;01mfrom\u001b[39;00m \u001b[38;5;21;01morig_exc\u001b[39;00m\n\u001b[1;32m    333\u001b[0m \u001b[38;5;28;01mif\u001b[39;00m value \u001b[38;5;129;01mis\u001b[39;00m \u001b[38;5;28;01mNone\u001b[39;00m:\n\u001b[1;32m    334\u001b[0m     \u001b[38;5;28;01mif\u001b[39;00m allow_none:\n",
      "\u001b[0;31mInvalidLineError\u001b[0m: line contains invalid json: Expected object or value (line 1)"
     ]
    }
   ],
   "source": [
    "with open('./datasets/MedQA/bio_name.jsonl') as f:\n",
    "    for item in jsonlines.Reader(f):\n",
    "        self.data.append(item)"
   ]
  },
  {
   "cell_type": "code",
   "execution_count": 7,
   "id": "75eb1d45",
   "metadata": {},
   "outputs": [],
   "source": [
    "b = {\"question\": \"A junior orthopaedic surgery resident is completing a carpal tunnel repair with the department chairman as the attending physician. During the case, the resident inadvertently cuts a flexor tendon. The tendon is repaired without complication. The attending tells the resident that the patient will do fine, and there is no need to report this minor complication that will not harm the patient, as he does not want to make the patient worry unnecessarily. He tells the resident to leave this complication out of the operative report. Which of the following is the correct next action for the resident to take?\", \"answer\": \"Tell the attending that he cannot fail to disclose this mistake\", \"options\": {\"A\": \"Disclose the error to the patient but leave it out of the operative report\", \"B\": \"Disclose the error to the patient and put it in the operative report\", \"C\": \"Tell the attending that he cannot fail to disclose this mistake\", \"D\": \"Report the physician to the ethics committee\", \"E\": \"Refuse to dictate the operative report\"}, \"meta_info\": \"step1\", \"answer_idx\": \"C\"}"
   ]
  },
  {
   "cell_type": "code",
   "execution_count": 9,
   "id": "6ce65779",
   "metadata": {},
   "outputs": [
    {
     "data": {
      "text/plain": [
       "{'question': 'A junior orthopaedic surgery resident is completing a carpal tunnel repair with the department chairman as the attending physician. During the case, the resident inadvertently cuts a flexor tendon. The tendon is repaired without complication. The attending tells the resident that the patient will do fine, and there is no need to report this minor complication that will not harm the patient, as he does not want to make the patient worry unnecessarily. He tells the resident to leave this complication out of the operative report. Which of the following is the correct next action for the resident to take?',\n",
       " 'answer': 'Tell the attending that he cannot fail to disclose this mistake',\n",
       " 'options': {'A': 'Disclose the error to the patient but leave it out of the operative report',\n",
       "  'B': 'Disclose the error to the patient and put it in the operative report',\n",
       "  'C': 'Tell the attending that he cannot fail to disclose this mistake',\n",
       "  'D': 'Report the physician to the ethics committee',\n",
       "  'E': 'Refuse to dictate the operative report'},\n",
       " 'meta_info': 'step1',\n",
       " 'answer_idx': 'C'}"
      ]
     },
     "execution_count": 9,
     "metadata": {},
     "output_type": "execute_result"
    }
   ],
   "source": [
    "b"
   ]
  },
  {
   "cell_type": "code",
   "execution_count": 19,
   "id": "65f9b4fe",
   "metadata": {},
   "outputs": [
    {
     "data": {
      "text/plain": [
       "'step1'"
      ]
     },
     "execution_count": 19,
     "metadata": {},
     "output_type": "execute_result"
    }
   ],
   "source": [
    "a['meta_info']"
   ]
  },
  {
   "cell_type": "code",
   "execution_count": 27,
   "id": "05410d04",
   "metadata": {},
   "outputs": [
    {
     "ename": "InvalidLineError",
     "evalue": "line contains invalid json: Expected object or value (line 1)",
     "output_type": "error",
     "traceback": [
      "\u001b[0;31m---------------------------------------------------------------------------\u001b[0m",
      "\u001b[0;31mJSONDecodeError\u001b[0m                           Traceback (most recent call last)",
      "File \u001b[0;32m/data/ch52669/anaconda3/lib/python3.11/site-packages/jsonlines/jsonlines.py:326\u001b[0m, in \u001b[0;36mReader.read\u001b[0;34m(self, type, allow_none, skip_empty)\u001b[0m\n\u001b[1;32m    325\u001b[0m \u001b[38;5;28;01mtry\u001b[39;00m:\n\u001b[0;32m--> 326\u001b[0m     value: JSONValue \u001b[38;5;241m=\u001b[39m \u001b[38;5;28mself\u001b[39m\u001b[38;5;241m.\u001b[39m_loads(line)\n\u001b[1;32m    327\u001b[0m \u001b[38;5;28;01mexcept\u001b[39;00m \u001b[38;5;167;01mValueError\u001b[39;00m \u001b[38;5;28;01mas\u001b[39;00m orig_exc:\n",
      "\u001b[0;31mJSONDecodeError\u001b[0m: Expected object or value",
      "\nThe above exception was the direct cause of the following exception:\n",
      "\u001b[0;31mInvalidLineError\u001b[0m                          Traceback (most recent call last)",
      "Cell \u001b[0;32mIn[27], line 6\u001b[0m\n\u001b[1;32m      4\u001b[0m \u001b[38;5;28;01mwith\u001b[39;00m \u001b[38;5;28mopen\u001b[39m(\u001b[38;5;124m'\u001b[39m\u001b[38;5;124m./datasets/MedQA/bio_name.jsonl\u001b[39m\u001b[38;5;124m'\u001b[39m, \u001b[38;5;124m'\u001b[39m\u001b[38;5;124mr\u001b[39m\u001b[38;5;124m'\u001b[39m) \u001b[38;5;28;01mas\u001b[39;00m f:\n\u001b[1;32m      5\u001b[0m     reader \u001b[38;5;241m=\u001b[39m jsonlines\u001b[38;5;241m.\u001b[39mReader(f)\n\u001b[0;32m----> 6\u001b[0m     \u001b[38;5;28;01mfor\u001b[39;00m item \u001b[38;5;129;01min\u001b[39;00m reader:\n\u001b[1;32m      7\u001b[0m         \u001b[38;5;28mprint\u001b[39m(item)\n\u001b[1;32m      8\u001b[0m     \u001b[38;5;28;01mfor\u001b[39;00m item \u001b[38;5;129;01min\u001b[39;00m reader\u001b[38;5;241m.\u001b[39miter(\u001b[38;5;28mtype\u001b[39m\u001b[38;5;241m=\u001b[39m\u001b[38;5;28mdict\u001b[39m, skip_invalid\u001b[38;5;241m=\u001b[39m\u001b[38;5;28;01mTrue\u001b[39;00m):\n",
      "File \u001b[0;32m/data/ch52669/anaconda3/lib/python3.11/site-packages/jsonlines/jsonlines.py:434\u001b[0m, in \u001b[0;36mReader.iter\u001b[0;34m(self, type, allow_none, skip_empty, skip_invalid)\u001b[0m\n\u001b[1;32m    432\u001b[0m \u001b[38;5;28;01mwhile\u001b[39;00m \u001b[38;5;28;01mTrue\u001b[39;00m:\n\u001b[1;32m    433\u001b[0m     \u001b[38;5;28;01mtry\u001b[39;00m:\n\u001b[0;32m--> 434\u001b[0m         \u001b[38;5;28;01myield\u001b[39;00m \u001b[38;5;28mself\u001b[39m\u001b[38;5;241m.\u001b[39mread(\n\u001b[1;32m    435\u001b[0m             \u001b[38;5;28mtype\u001b[39m\u001b[38;5;241m=\u001b[39m\u001b[38;5;28mtype\u001b[39m, allow_none\u001b[38;5;241m=\u001b[39mallow_none, skip_empty\u001b[38;5;241m=\u001b[39mskip_empty\n\u001b[1;32m    436\u001b[0m         )\n\u001b[1;32m    437\u001b[0m     \u001b[38;5;28;01mexcept\u001b[39;00m InvalidLineError:\n\u001b[1;32m    438\u001b[0m         \u001b[38;5;28;01mif\u001b[39;00m \u001b[38;5;129;01mnot\u001b[39;00m skip_invalid:\n",
      "File \u001b[0;32m/data/ch52669/anaconda3/lib/python3.11/site-packages/jsonlines/jsonlines.py:331\u001b[0m, in \u001b[0;36mReader.read\u001b[0;34m(self, type, allow_none, skip_empty)\u001b[0m\n\u001b[1;32m    327\u001b[0m \u001b[38;5;28;01mexcept\u001b[39;00m \u001b[38;5;167;01mValueError\u001b[39;00m \u001b[38;5;28;01mas\u001b[39;00m orig_exc:\n\u001b[1;32m    328\u001b[0m     exc \u001b[38;5;241m=\u001b[39m InvalidLineError(\n\u001b[1;32m    329\u001b[0m         \u001b[38;5;124mf\u001b[39m\u001b[38;5;124m\"\u001b[39m\u001b[38;5;124mline contains invalid json: \u001b[39m\u001b[38;5;132;01m{\u001b[39;00morig_exc\u001b[38;5;132;01m}\u001b[39;00m\u001b[38;5;124m\"\u001b[39m, line, lineno\n\u001b[1;32m    330\u001b[0m     )\n\u001b[0;32m--> 331\u001b[0m     \u001b[38;5;28;01mraise\u001b[39;00m exc \u001b[38;5;28;01mfrom\u001b[39;00m \u001b[38;5;21;01morig_exc\u001b[39;00m\n\u001b[1;32m    333\u001b[0m \u001b[38;5;28;01mif\u001b[39;00m value \u001b[38;5;129;01mis\u001b[39;00m \u001b[38;5;28;01mNone\u001b[39;00m:\n\u001b[1;32m    334\u001b[0m     \u001b[38;5;28;01mif\u001b[39;00m allow_none:\n",
      "\u001b[0;31mInvalidLineError\u001b[0m: line contains invalid json: Expected object or value (line 1)"
     ]
    }
   ],
   "source": [
    "import jsonlines\n",
    "\n",
    "problematic_lines = []\n",
    "with open('./datasets/MedQA/bio_name.jsonl', 'r') as f:\n",
    "    reader = jsonlines.Reader(f)\n",
    "    for item in reader:\n",
    "        print(item)\n",
    "    for item in reader.iter(type=dict, skip_invalid=True):\n",
    "        try:\n",
    "            # Attempt to parse the line\n",
    "            data = item\n",
    "        except jsonlines.JSONDecodeError:\n",
    "            # Record the line number of the problematic line\n",
    "            problematic_lines.append(reader.line_num)\n",
    "print(f\"Problematic lines: {problematic_lines}\")"
   ]
  },
  {
   "cell_type": "code",
   "execution_count": null,
   "id": "7b076425",
   "metadata": {},
   "outputs": [],
   "source": []
  }
 ],
 "metadata": {
  "kernelspec": {
   "display_name": "Python 3 (ipykernel)",
   "language": "python",
   "name": "python3"
  },
  "language_info": {
   "codemirror_mode": {
    "name": "ipython",
    "version": 3
   },
   "file_extension": ".py",
   "mimetype": "text/x-python",
   "name": "python",
   "nbconvert_exporter": "python",
   "pygments_lexer": "ipython3",
   "version": "3.11.4"
  }
 },
 "nbformat": 4,
 "nbformat_minor": 5
}
