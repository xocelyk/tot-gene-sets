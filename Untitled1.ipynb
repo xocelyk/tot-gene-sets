{
 "cells": [
  {
   "cell_type": "code",
   "execution_count": 1,
   "id": "f3a5ab94",
   "metadata": {},
   "outputs": [],
   "source": [
    "import pickle\n",
    "\n",
    "import sys\n",
    "sys.path.insert(0, 'src') \n",
    "sys.path.insert(0, '/data/ch52669/gene_interaction/tot-gene-sets/MedAgents') \n",
    "import os\n",
    "import json\n",
    "from functools import partial\n",
    "\n",
    "import seaborn as sns\n",
    "import numpy as np"
   ]
  },
  {
   "cell_type": "code",
   "execution_count": 2,
   "id": "7c4e0a01",
   "metadata": {},
   "outputs": [
    {
     "name": "stdout",
     "output_type": "stream",
     "text": [
      "tot2_eval_15gen_5steps_no_certainty_9nodes 216\n"
     ]
    }
   ],
   "source": [
    "with open('/data/ch52669/gene_interaction/tot-gene-sets/results2/tot2_eval_15gen_5steps_no_certainty_9nodes.pkl', 'rb') as f:\n",
    "    tot2_eval_15gen_5steps_no_certainty_9nodes = pickle.load(f)\n",
    "    tot2_eval_15gen_5steps_no_certainty_9nodes = tot2_eval_15gen_5steps_no_certainty_9nodes[:]\n",
    "    print('tot2_eval_15gen_5steps_no_certainty_9nodes',len(tot2_eval_15gen_5steps_no_certainty_9nodes))  "
   ]
  },
  {
   "cell_type": "markdown",
   "id": "cfe10ec8",
   "metadata": {},
   "source": []
  },
  {
   "cell_type": "code",
   "execution_count": 29,
   "id": "d06133ca",
   "metadata": {},
   "outputs": [],
   "source": [
    "df_list = []\n",
    "for result in tot2_eval_15gen_5steps_no_certainty_9nodes:\n",
    "    index = result['index']\n",
    "    y_true = result['label']\n",
    "    for index_in_sample, t in enumerate(result['steps']['steps']): \n",
    "        x = t['x']\n",
    "        for node_index, node in enumerate(t['sorted_grouped_items']):\n",
    "            y_preds = node[1]['grouped_names'].split(', ')\n",
    "            for index_in_layer, y_pred in enumerate(y_preds):\n",
    "                df_list.append([index, index_in_sample, index_in_layer, node_index, x, y_pred, y_true])"
   ]
  },
  {
   "cell_type": "code",
   "execution_count": 30,
   "id": "0ab1b84a",
   "metadata": {},
   "outputs": [
    {
     "data": {
      "text/plain": [
       "[0,\n",
       " 0,\n",
       " 0,\n",
       " 0,\n",
       " 'LDLRAP1 SCP2D1 ANXA2 SCP2',\n",
       " 'Gene expression',\n",
       " 'positive regulation of intracellular cholesterol transport']"
      ]
     },
     "execution_count": 30,
     "metadata": {},
     "output_type": "execute_result"
    }
   ],
   "source": [
    "df_list[0]"
   ]
  },
  {
   "cell_type": "code",
   "execution_count": 32,
   "id": "27f23743",
   "metadata": {},
   "outputs": [],
   "source": [
    "import pandas as pd\n",
    "\n",
    "# Your list of lists\n",
    "\n",
    "columns = ['Index', 'Index in Sample', 'Index in Layer', 'Node Index', 'x' , 'y_pred', 'y_true']\n",
    "# Creating a DataFrame\n",
    "df = pd.DataFrame(df_list, columns=columns)"
   ]
  },
  {
   "cell_type": "code",
   "execution_count": 34,
   "id": "5bfcb27d",
   "metadata": {},
   "outputs": [],
   "source": [
    "df.to_csv('test.csv')"
   ]
  },
  {
   "cell_type": "code",
   "execution_count": null,
   "id": "161529ba",
   "metadata": {},
   "outputs": [],
   "source": []
  }
 ],
 "metadata": {
  "kernelspec": {
   "display_name": "Python 3 (ipykernel)",
   "language": "python",
   "name": "python3"
  },
  "language_info": {
   "codemirror_mode": {
    "name": "ipython",
    "version": 3
   },
   "file_extension": ".py",
   "mimetype": "text/x-python",
   "name": "python",
   "nbconvert_exporter": "python",
   "pygments_lexer": "ipython3",
   "version": "3.11.4"
  }
 },
 "nbformat": 4,
 "nbformat_minor": 5
}
