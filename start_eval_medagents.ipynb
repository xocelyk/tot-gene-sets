{
 "cells": [
  {
   "cell_type": "code",
   "execution_count": 1,
   "metadata": {},
   "outputs": [],
   "source": [
    "import sys\n",
    "sys.path.insert(0, 'src') \n",
    "import os\n",
    "import json\n",
    "from functools import partial\n",
    "import numpy as np\n",
    "import pandas as pd\n",
    "import matplotlib.pyplot as plt\n",
    "import seaborn as sns\n",
    "import pickle\n",
    "import time\n",
    "import pickle\n",
    "from tqdm import tqdm"
   ]
  },
  {
   "cell_type": "markdown",
   "metadata": {},
   "source": [
    "TODO:\n",
    "- Pickle all of the trees that are generated (so we can retroactively do different evals)\n",
    "- Cache BP embeddings, pass list of embeddings to BERT to generate background distribution\n",
    "- Increase number of layers to 5\n",
    "- Zero-shot and few-shot"
   ]
  },
  {
   "cell_type": "code",
   "execution_count": 2,
   "metadata": {},
   "outputs": [],
   "source": [
    "%reload_ext autoreload\n",
    "%autoreload 2"
   ]
  },
  {
   "cell_type": "code",
   "execution_count": 3,
   "metadata": {},
   "outputs": [],
   "source": [
    "import argparse\n",
    "from tot.methods.bfs import solve\n",
    "from tot.tasks.bio_name import Bio_Name"
   ]
  },
  {
   "cell_type": "code",
   "execution_count": 4,
   "metadata": {},
   "outputs": [],
   "source": [
    "args = argparse.Namespace(backend='gpt-4-1106-preview', temperature=0.7, task='bio_name', naive_run=False, prompt_sample=None, method_generate='sample_bionames', method_evaluate='votes_for_bionames', method_select='greedy', n_generate_sample=3, n_evaluate_sample=2, n_select_sample=2)\n",
    "# args = argparse.Namespace(backend='gpt-3.5-turbo-1106', temperature=0.7, task='bio_name', naive_run=False, prompt_sample=None, method_generate='sample_bionames', method_evaluate='votes_for_bionames', method_select='greedy', n_generate_sample=3, n_evaluate_sample=2, n_select_sample=2)\n",
    "task = Bio_Name()"
   ]
  },
  {
   "cell_type": "markdown",
   "metadata": {},
   "source": []
  },
  {
   "cell_type": "code",
   "execution_count": 5,
   "metadata": {},
   "outputs": [],
   "source": [
    "# import pandas as pd\n",
    "# filename = '/data/bio_process_project/kyle_ethan/go_terms.csv'\n",
    "# df = pd.read_csv(filename, header=None, encoding='latin1')\n",
    "# df.dropna(inplace=True)\n",
    "# df.columns = ['_', '_', 'genes', 'count', 'process']\n",
    "# df.head()"
   ]
  },
  {
   "cell_type": "code",
   "execution_count": 6,
   "metadata": {},
   "outputs": [],
   "source": [
    "# x = df['genes'].tolist()\n",
    "# y = df['process'].tolist()\n",
    "# with open('src/tot/data/gene_sets/x.txt', 'w') as f:\n",
    "#     for el in x:\n",
    "#         f.write(el + '\\n')\n",
    "        \n",
    "# with open('src/tot/data/gene_sets/y.txt', 'w') as f:\n",
    "#     for el in y:\n",
    "#         f.write(el + '\\n')"
   ]
  },
  {
   "cell_type": "code",
   "execution_count": 7,
   "metadata": {},
   "outputs": [],
   "source": [
    "# import pandas as pd\n",
    "# filename = 'src/tot/data/gene_sets/1000_selected_go_terms.csv'\n",
    "# df = pd.read_csv(filename, header=0, encoding='latin1')\n",
    "# print(df.head())\n",
    "# df.dropna(inplace=True)\n",
    "# df.columns = ['_', 'genes', 'count', 'process']\n",
    "# df.head()"
   ]
  },
  {
   "cell_type": "code",
   "execution_count": 8,
   "metadata": {},
   "outputs": [],
   "source": [
    "# x = df['genes'].tolist()\n",
    "# y = df['process'].tolist()\n",
    "# with open('src/tot/data/gene_sets/x_eval.txt', 'w') as f:\n",
    "#     for el in x:\n",
    "#         f.write(el + '\\n')\n",
    "        \n",
    "# with open('src/tot/data/gene_sets/y_eval.txt', 'w') as f:\n",
    "#     for el in y:\n",
    "#         f.write(el + '\\n')"
   ]
  },
  {
   "cell_type": "code",
   "execution_count": 13,
   "metadata": {},
   "outputs": [],
   "source": [
    "from transformers import AutoTokenizer, AutoModel\n",
    "from sklearn.metrics.pairwise import cosine_similarity\n",
    "import numpy as np\n",
    "import torch\n",
    "\n",
    "SapBERT_tokenizer = AutoTokenizer.from_pretrained('cambridgeltl/SapBERT-from-PubMedBERT-fulltext')\n",
    "SapBERT_model = AutoModel.from_pretrained('cambridgeltl/SapBERT-from-PubMedBERT-fulltext')"
   ]
  },
  {
   "cell_type": "code",
   "execution_count": 14,
   "metadata": {},
   "outputs": [],
   "source": [
    "def mean_pooling(model_output, attention_mask):\n",
    "    token_embeddings = model_output[0] #First element of model_output contains all token embeddings\n",
    "    input_mask_expanded = attention_mask.unsqueeze(-1).expand(token_embeddings.size()).float()\n",
    "    return torch.sum(token_embeddings * input_mask_expanded, 1) / torch.clamp(input_mask_expanded.sum(1), min=1e-9)"
   ]
  },
  {
   "cell_type": "code",
   "execution_count": 15,
   "metadata": {},
   "outputs": [],
   "source": [
    "def getSentenceEmbedding(sentence, tokenizer, model):\n",
    "    # Tokenize sentences\n",
    "    encoded_input = tokenizer(sentence, padding=True, truncation=True, return_tensors='pt')\n",
    "\n",
    "    # Compute token embeddings\n",
    "    with torch.no_grad():\n",
    "        model_output = model(**encoded_input)\n",
    "        \n",
    "    # Perform pooling. In this case, mean pooling.\n",
    "    sentence_embedding = mean_pooling(model_output, encoded_input['attention_mask'])\n",
    "    \n",
    "    return sentence_embedding"
   ]
  },
  {
   "cell_type": "code",
   "execution_count": 16,
   "metadata": {},
   "outputs": [],
   "source": [
    "# filename = 'src/tot/data/gene_sets/go_terms.csv'\n",
    "# all_terms_df = pd.read_csv(filename, header=None, encoding='latin1')\n",
    "# all_terms_df.dropna(inplace=True)\n",
    "# all_terms_df.columns = ['_', '_', 'genes', 'count', 'process']"
   ]
  },
  {
   "cell_type": "code",
   "execution_count": 13,
   "metadata": {},
   "outputs": [],
   "source": [
    "# # get embedding for all biological processes\n",
    "# from tqdm import tqdm\n",
    "# all_go_terms = all_terms_df['process'].unique().tolist()\n",
    "# all_go_terms_embeddings_dict = {}\n",
    "# for term in tqdm(all_go_terms):\n",
    "#     all_go_terms_embeddings_dict[term] = getSentenceEmbedding(term, SapBERT_tokenizer, SapBERT_model).numpy()"
   ]
  },
  {
   "cell_type": "code",
   "execution_count": 14,
   "metadata": {},
   "outputs": [],
   "source": [
    "# import pickle\n",
    "# with open('src/tot/data/gene_sets/all_go_terms_embeddings_dict.pkl', 'wb') as f:\n",
    "#     pickle.dump(all_go_terms_embeddings_dict, f)"
   ]
  },
  {
   "cell_type": "code",
   "execution_count": 17,
   "metadata": {},
   "outputs": [],
   "source": [
    "all_go_terms_embeddings_dict = pickle.load(open('src/tot/data/gene_sets/all_go_terms_embeddings_dict.pkl', 'rb'))"
   ]
  },
  {
   "cell_type": "code",
   "execution_count": 16,
   "metadata": {},
   "outputs": [],
   "source": [
    "# def getSentenceSimilarity(sentence1, sentence2, tokenizer, model, simMetric):\n",
    "#     if sentence1 in embeddings_dict.keys():\n",
    "#         sentence1_embedding = embeddings_dict[sentence1]\n",
    "#     else:\n",
    "#         sentence1_embedding = getSentenceEmbedding(sentence1, tokenizer, model)\n",
    "#     if sentence2 not in embeddings_dict.keys():\n",
    "#         sentence2_embedding = embeddings_dict[sentence2]\n",
    "#     else:\n",
    "#         sentence2_embedding = getSentenceEmbedding(sentence2, tokenizer, model)\n",
    "    \n",
    "#     if simMetric == \"cosine_similarity\":\n",
    "#         sentenceSim = cosine_similarity(sentence1_embedding, sentence2_embedding)[0][0]\n",
    "#     # ToDo: add other simMetrics\n",
    "#     #elif simMetric == \"cosine_similarity_primitive\": # use primitive operations\n",
    "#    #     sentenceSim = np.dot(sentence1_embedding, sentence2_embedding)/(norm(sentence1_embedding)*norm(sentence2_embedding))\n",
    "    \n",
    "#     return sentenceSim, sentence1_embedding, sentence2_embedding"
   ]
  },
  {
   "cell_type": "code",
   "execution_count": 17,
   "metadata": {},
   "outputs": [],
   "source": [
    "# def similarity_score(x, y):\n",
    "#     return getSentenceSimilarity(x, y, SapBERT_tokenizer, SapBERT_model, \"cosine_similarity\")[0]"
   ]
  },
  {
   "cell_type": "code",
   "execution_count": 18,
   "metadata": {},
   "outputs": [],
   "source": [
    "def similarity_score(pred, label):\n",
    "    pred_embedding = getSentenceEmbedding(pred, SapBERT_tokenizer, SapBERT_model)\n",
    "    label_embedding = all_go_terms_embeddings_dict[label]\n",
    "    similarity_score = cosine_similarity(pred_embedding, label_embedding)[0][0]\n",
    "    return similarity_score\n",
    "\n",
    "def similarity_percentile(similarity_score, pred):\n",
    "    pred_embedding = getSentenceEmbedding(pred, SapBERT_tokenizer, SapBERT_model)\n",
    "    null_dist = []\n",
    "    for term in all_go_terms_embeddings_dict.keys():\n",
    "        term_embedding = all_go_terms_embeddings_dict[term]\n",
    "        sentenceSim = cosine_similarity(pred_embedding, term_embedding)[0][0]\n",
    "        null_dist.append(sentenceSim)\n",
    "    # get similarity percentile\n",
    "    null_dist = np.array(null_dist)\n",
    "    # return the fraction of scores that are smaller than the candidate\n",
    "    percentile = (null_dist < similarity_score).mean()\n",
    "    return percentile"
   ]
  },
  {
   "cell_type": "markdown",
   "metadata": {},
   "source": [
    "null distribution of sim scores: random assignment of different pairs of labels\n",
    "compare the sim score of the answer to true label to null distribution -> p value (sim score greater than 98% of random sim scores for example)\n",
    "500/1000 had p > .98"
   ]
  },
  {
   "cell_type": "code",
   "execution_count": 19,
   "metadata": {},
   "outputs": [],
   "source": [
    "def test_example(args, task, idx):\n",
    "    label = task.get_label(idx)\n",
    "    final_answer, ys, steps, trie = solve(args, task, idx)\n",
    "    return final_answer, ys, steps, trie, label\n"
   ]
  },
  {
   "cell_type": "code",
   "execution_count": 20,
   "metadata": {},
   "outputs": [],
   "source": [
    "def get_all_candidate_bio_processes(steps):\n",
    "    candidate_processes = []\n",
    "    step_count = 0\n",
    "    for step in steps['steps'][:-1]:\n",
    "        step_count += 1\n",
    "        new_ys = [json.loads(step['new_ys'][i]) for i in range(len(step['new_ys']))]\n",
    "        new_bio_processes = [y['Biological Process'] for y in new_ys]\n",
    "        candidate_processes.extend(new_bio_processes)\n",
    "    candidate_processes = list(set(candidate_processes))\n",
    "    return candidate_processes\n",
    "    "
   ]
  },
  {
   "cell_type": "code",
   "execution_count": 21,
   "metadata": {},
   "outputs": [],
   "source": [
    "def get_best_candidate_bio_process(candidate_processes, label):\n",
    "    scores = [similarity_score(candidate_process, label) for candidate_process in candidate_processes]\n",
    "    best_candidate_process = candidate_processes[np.argmax(scores)]\n",
    "    return best_candidate_process, np.max(scores)"
   ]
  },
  {
   "cell_type": "code",
   "execution_count": 22,
   "metadata": {},
   "outputs": [],
   "source": [
    "from tot.models import *\n",
    "gpt = partial(gpt, model=args.backend, temperature=args.temperature)\n",
    "def get_gpt_similarity_score(process1, process2):\n",
    "    system_message, user_message = task.similarity_prompt_wrap(process1, process2)\n",
    "    response = gpt(system_message, user_message)\n",
    "    similarity_score = task.unwrap_similarity(response)\n",
    "    return similarity_score"
   ]
  },
  {
   "cell_type": "code",
   "execution_count": 23,
   "metadata": {},
   "outputs": [],
   "source": [
    "import os\n",
    "os.environ[\"TOKENIZERS_PARALLELISM\"] = \"false\"\n"
   ]
  },
  {
   "cell_type": "code",
   "execution_count": 24,
   "metadata": {},
   "outputs": [],
   "source": [
    "def test_example_wrap(idx, task, args):\n",
    "    final_answer, ys, steps, trie, label = test_example(args, task, idx)\n",
    "    print(f'idx: {idx} done')\n",
    "    candidate_processes = get_all_candidate_bio_processes(steps)\n",
    "    best_candidate_process, best_candidate_similarity_score = get_best_candidate_bio_process(candidate_processes, label)\n",
    "    final_answer_similarity_score = similarity_score(final_answer, label)\n",
    "    final_answer_similarity_quantile = similarity_percentile(final_answer_similarity_score, final_answer)\n",
    "    best_candidate_similarity_quantile = similarity_percentile(best_candidate_similarity_score, best_candidate_process)\n",
    "    print('Index:', idx)\n",
    "    print('Final answer:', final_answer)\n",
    "    print('True answer:', label.strip())\n",
    "    print('Final answer similarity score:', similarity_score(final_answer, label))\n",
    "    print('Best candidate process:', best_candidate_process)\n",
    "    print('Best candidate similarity score:', best_candidate_similarity_score)\n",
    "    print('Final Answer Similarity Quantile:', final_answer_similarity_quantile)\n",
    "    print('Best Candidate Similarity Quantile:', best_candidate_similarity_quantile)\n",
    "    print()\n",
    "    return {'index': idx, 'final answer': final_answer, 'ys': ys, 'steps': steps, 'label': label, 'final answer similarity score': final_answer_similarity_score,'best candidate process': best_candidate_process, 'best similarity score': best_candidate_similarity_score,\n",
    "            'final answer similarity quantile': final_answer_similarity_quantile, 'best candidate similarity quantile': best_candidate_similarity_quantile, 'trie': trie}"
   ]
  },
  {
   "cell_type": "code",
   "execution_count": 25,
   "metadata": {},
   "outputs": [],
   "source": [
    "# save_file = 'results/eval_tot_0_99.pkl'\n",
    "# eval_indices = range(12, 50)\n",
    "# results = []\n",
    "# for idx in tqdm(eval_indices):\n",
    "#     start = time.time()\n",
    "#     results.append(test_example_wrap(idx, task_tot))\n",
    "#     with open(save_file, 'wb') as f:\n",
    "#         pickle.dump(results, f)\n",
    "#     print('Time taken:', time.time() - start)\n",
    "#     print()"
   ]
  },
  {
   "cell_type": "code",
   "execution_count": 32,
   "metadata": {},
   "outputs": [],
   "source": [
    "def eval_100(task, save_filename, args, start_index, end_index):\n",
    "    eval_indices = range(start_index, end_index)\n",
    "    results = []\n",
    "    for idx in tqdm(eval_indices):\n",
    "        start = time.time()\n",
    "        results.append(test_example_wrap(idx, task, args))\n",
    "        filename = save_filename + f'_{idx}.pkl'#f'_{idx}.pkl'\n",
    "        with open(filename, 'wb') as f:\n",
    "            pickle.dump(results, f)\n",
    "        print('Time taken:', time.time() - start)\n",
    "        print()"
   ]
  },
  {
   "cell_type": "code",
   "execution_count": 33,
   "metadata": {},
   "outputs": [],
   "source": [
    "# args = argparse.Namespace(backend='gpt-4-1106-preview', temperature=0.7, \\\n",
    "#                           task='bio_name', naive_run=False, prompt_sample=None, \\\n",
    "#                           method_generate='sample_bionames', method_evaluate='votes_for_bionames', \\\n",
    "#                           method_select='greedy', n_generate_sample=3, n_evaluate_sample=2, n_select_sample=2)\n",
    "# # args = argparse.Namespace(backend='gpt-3.5-turbo-1106', temperature=0.7, task='bio_name', naive_run=False, prompt_sample=None, method_generate='sample_bionames', method_evaluate='votes_for_bionames', method_select='greedy', n_generate_sample=3, n_evaluate_sample=2, n_select_sample=2)\n",
    "# task_tot = Bio_Name()\n",
    "# save_file = 'results/eval_tot_0_99.pkl'\n",
    "# eval_100(task_tot, save_file)"
   ]
  },
  {
   "cell_type": "code",
   "execution_count": 34,
   "metadata": {},
   "outputs": [],
   "source": [
    "# args = argparse.Namespace(backend='gpt-4-1106-preview', temperature=0.7, task='bio_name', naive_run=False, \\\n",
    "#                           prompt_sample=None, method_generate='sample_bionames', \\\n",
    "#                           method_evaluate='multi_voters', method_select='greedy', n_generate_sample=3, \\\n",
    "#                           n_evaluate_sample=2, n_select_sample=2, \\\n",
    "#                           source='GO:BP', bio_type=\"Biological Process\",filter_method='sim', filter_size=5, voting_setting=None,\\\n",
    "#                          )\n",
    "            \n",
    "# task_gprofiler = Bio_Name()\n",
    "# save_file = 'results/eval_gprofiler_0_99.pkl'\n",
    "# eval_100(task_gprofiler, save_file, args)"
   ]
  },
  {
   "cell_type": "code",
   "execution_count": 35,
   "metadata": {
    "scrolled": true
   },
   "outputs": [
    {
     "name": "stderr",
     "output_type": "stream",
     "text": [
      "\r",
      "  0%|                                                                                                                                                                    | 0/20 [00:00<?, ?it/s]"
     ]
    },
    {
     "name": "stdout",
     "output_type": "stream",
     "text": [
      "running 1/5 step\n"
     ]
    },
    {
     "name": "stderr",
     "output_type": "stream",
     "text": [
      "  0%|                                                                                                                                                                    | 0/20 [00:12<?, ?it/s]\n"
     ]
    },
    {
     "ename": "KeyboardInterrupt",
     "evalue": "",
     "output_type": "error",
     "traceback": [
      "\u001b[0;31m---------------------------------------------------------------------------\u001b[0m",
      "\u001b[0;31mKeyboardInterrupt\u001b[0m                         Traceback (most recent call last)",
      "Cell \u001b[0;32mIn[35], line 21\u001b[0m\n\u001b[1;32m     19\u001b[0m task_medagents_gprofiler \u001b[38;5;241m=\u001b[39m Bio_Name()\n\u001b[1;32m     20\u001b[0m save_file \u001b[38;5;241m=\u001b[39m \u001b[38;5;124m'\u001b[39m\u001b[38;5;124mmedagents_results/eval_medagents_gprofiler_step3\u001b[39m\u001b[38;5;124m'\u001b[39m\n\u001b[0;32m---> 21\u001b[0m eval_100(task_medagents_gprofiler, save_file, args, \u001b[38;5;241m30\u001b[39m, \u001b[38;5;241m50\u001b[39m)\n",
      "Cell \u001b[0;32mIn[32], line 6\u001b[0m, in \u001b[0;36meval_100\u001b[0;34m(task, save_filename, args, start_index, end_index)\u001b[0m\n\u001b[1;32m      4\u001b[0m \u001b[38;5;28;01mfor\u001b[39;00m idx \u001b[38;5;129;01min\u001b[39;00m tqdm(eval_indices):\n\u001b[1;32m      5\u001b[0m     start \u001b[38;5;241m=\u001b[39m time\u001b[38;5;241m.\u001b[39mtime()\n\u001b[0;32m----> 6\u001b[0m     results\u001b[38;5;241m.\u001b[39mappend(test_example_wrap(idx, task, args))\n\u001b[1;32m      7\u001b[0m     filename \u001b[38;5;241m=\u001b[39m save_filename \u001b[38;5;241m+\u001b[39m \u001b[38;5;124mf\u001b[39m\u001b[38;5;124m'\u001b[39m\u001b[38;5;124m_\u001b[39m\u001b[38;5;132;01m{\u001b[39;00midx\u001b[38;5;132;01m}\u001b[39;00m\u001b[38;5;124m.pkl\u001b[39m\u001b[38;5;124m'\u001b[39m\u001b[38;5;66;03m#f'_{idx}.pkl'\u001b[39;00m\n\u001b[1;32m      8\u001b[0m     \u001b[38;5;28;01mwith\u001b[39;00m \u001b[38;5;28mopen\u001b[39m(filename, \u001b[38;5;124m'\u001b[39m\u001b[38;5;124mwb\u001b[39m\u001b[38;5;124m'\u001b[39m) \u001b[38;5;28;01mas\u001b[39;00m f:\n",
      "Cell \u001b[0;32mIn[24], line 2\u001b[0m, in \u001b[0;36mtest_example_wrap\u001b[0;34m(idx, task, args)\u001b[0m\n\u001b[1;32m      1\u001b[0m \u001b[38;5;28;01mdef\u001b[39;00m \u001b[38;5;21mtest_example_wrap\u001b[39m(idx, task, args):\n\u001b[0;32m----> 2\u001b[0m     final_answer, ys, steps, trie, label \u001b[38;5;241m=\u001b[39m test_example(args, task, idx)\n\u001b[1;32m      3\u001b[0m     \u001b[38;5;28mprint\u001b[39m(\u001b[38;5;124mf\u001b[39m\u001b[38;5;124m'\u001b[39m\u001b[38;5;124midx: \u001b[39m\u001b[38;5;132;01m{\u001b[39;00midx\u001b[38;5;132;01m}\u001b[39;00m\u001b[38;5;124m done\u001b[39m\u001b[38;5;124m'\u001b[39m)\n\u001b[1;32m      4\u001b[0m     candidate_processes \u001b[38;5;241m=\u001b[39m get_all_candidate_bio_processes(steps)\n",
      "Cell \u001b[0;32mIn[19], line 3\u001b[0m, in \u001b[0;36mtest_example\u001b[0;34m(args, task, idx)\u001b[0m\n\u001b[1;32m      1\u001b[0m \u001b[38;5;28;01mdef\u001b[39;00m \u001b[38;5;21mtest_example\u001b[39m(args, task, idx):\n\u001b[1;32m      2\u001b[0m     label \u001b[38;5;241m=\u001b[39m task\u001b[38;5;241m.\u001b[39mget_label(idx)\n\u001b[0;32m----> 3\u001b[0m     final_answer, ys, steps, trie \u001b[38;5;241m=\u001b[39m solve(args, task, idx)\n\u001b[1;32m      4\u001b[0m     \u001b[38;5;28;01mreturn\u001b[39;00m final_answer, ys, steps, trie, label\n",
      "File \u001b[0;32m/data/ch52669/gene_interaction/tot-gene-sets/src/tot/methods/bfs.py:325\u001b[0m, in \u001b[0;36msolve\u001b[0;34m(args, task, idx, to_print)\u001b[0m\n\u001b[1;32m    322\u001b[0m if to_print: \n\u001b[1;32m    323\u001b[0m     sorted_new_ys, sorted_values = zip(*sorted(zip(new_ys, values), key=lambda x: x[1], reverse=True))\n\u001b[1;32m    324\u001b[0m     # bp_y_paths = [[json.loads(y)['Biological Process'] for y in y_path] for y_path in new_y_paths]\n\u001b[0;32m--> 325\u001b[0m     # print(f'-- new_ys --: {[json.loads(y)[\"Biological Process\"] for y in sorted_new_ys]}\\n-- sol values --: {sorted_values}\\n-- choices --: {[json.loads(y)[\"Biological Process\"] for y in select_new_ys]}\\n')\n\u001b[1;32m    326\u001b[0m     # print('-- y paths --: {}\\n'.format([' -> '.join(path) for path in bp_y_paths]))\n\u001b[1;32m    327\u001b[0m     # if step > 0:\n\u001b[1;32m    328\u001b[0m     #     print('-- Relations --')\n\u001b[1;32m    329\u001b[0m     #     print([json.loads(y)[\"Relation\"] for y in select_new_ys])\n\u001b[1;32m    331\u001b[0m infos.append({'step': step, 'x': x, 'ys': ys, 'new_ys': new_ys, 'values': values, 'select_new_ys': select_new_ys})\n\u001b[1;32m    332\u001b[0m ys = select_new_ys\n",
      "File \u001b[0;32m/data/ch52669/gene_interaction/tot-gene-sets/src/tot/methods/bfs.py:133\u001b[0m, in \u001b[0;36mget_samples_for_bionames\u001b[0;34m(task, x, y, n_generate_sample, prompt_sample, step, use_uncertainty)\u001b[0m\n\u001b[1;32m    130\u001b[0m \u001b[38;5;28;01mdef\u001b[39;00m \u001b[38;5;21mget_criticism_for_bionames\u001b[39m(task, x, omit_y_path):\n\u001b[1;32m    131\u001b[0m     \u001b[38;5;66;03m# TODO: fix\u001b[39;00m\n\u001b[1;32m    132\u001b[0m     system_message, user_message \u001b[38;5;241m=\u001b[39m task\u001b[38;5;241m.\u001b[39mprompt_criticism_wrap(x, omit_y_path)\n\u001b[0;32m--> 133\u001b[0m     sample \u001b[38;5;241m=\u001b[39m gpt(system_message, user_message, n\u001b[38;5;241m=\u001b[39m\u001b[38;5;241m1\u001b[39m)\n\u001b[1;32m    134\u001b[0m     sample \u001b[38;5;241m=\u001b[39m task\u001b[38;5;241m.\u001b[39mprocess_criticism(sample[\u001b[38;5;241m0\u001b[39m])\n\u001b[1;32m    135\u001b[0m     sample \u001b[38;5;241m=\u001b[39m {\u001b[38;5;124m'\u001b[39m\u001b[38;5;124mGenes\u001b[39m\u001b[38;5;124m'\u001b[39m: x, \u001b[38;5;124m'\u001b[39m\u001b[38;5;124mPath\u001b[39m\u001b[38;5;124m'\u001b[39m: omit_y_path, \u001b[38;5;124m'\u001b[39m\u001b[38;5;124mCriticism\u001b[39m\u001b[38;5;124m'\u001b[39m: sample}\n",
      "File \u001b[0;32m/data/ch52669/gene_interaction/tot-gene-sets/src/tot/models.py:29\u001b[0m, in \u001b[0;36mgpt\u001b[0;34m(system_prompt, prompt, model, temperature, max_tokens, n, stop)\u001b[0m\n\u001b[1;32m     27\u001b[0m \u001b[38;5;28;01melse\u001b[39;00m:\n\u001b[1;32m     28\u001b[0m     messages \u001b[38;5;241m=\u001b[39m [{\u001b[38;5;124m\"\u001b[39m\u001b[38;5;124mrole\u001b[39m\u001b[38;5;124m\"\u001b[39m: \u001b[38;5;124m\"\u001b[39m\u001b[38;5;124muser\u001b[39m\u001b[38;5;124m\"\u001b[39m, \u001b[38;5;124m\"\u001b[39m\u001b[38;5;124mcontent\u001b[39m\u001b[38;5;124m\"\u001b[39m: prompt}]\n\u001b[0;32m---> 29\u001b[0m \u001b[38;5;28;01mreturn\u001b[39;00m chatgpt(messages, model\u001b[38;5;241m=\u001b[39mmodel, temperature\u001b[38;5;241m=\u001b[39mtemperature, max_tokens\u001b[38;5;241m=\u001b[39mmax_tokens, n\u001b[38;5;241m=\u001b[39mn, stop\u001b[38;5;241m=\u001b[39mstop)\n",
      "File \u001b[0;32m/data/ch52669/gene_interaction/tot-gene-sets/src/tot/models.py:38\u001b[0m, in \u001b[0;36mchatgpt\u001b[0;34m(messages, model, temperature, max_tokens, n, stop, json)\u001b[0m\n\u001b[1;32m     36\u001b[0m n \u001b[38;5;241m-\u001b[39m\u001b[38;5;241m=\u001b[39m cnt\n\u001b[1;32m     37\u001b[0m \u001b[38;5;28;01mif\u001b[39;00m json:\n\u001b[0;32m---> 38\u001b[0m     res \u001b[38;5;241m=\u001b[39m completions_with_backoff(model\u001b[38;5;241m=\u001b[39mmodel, messages\u001b[38;5;241m=\u001b[39mmessages, temperature\u001b[38;5;241m=\u001b[39mtemperature, max_tokens\u001b[38;5;241m=\u001b[39mmax_tokens, n\u001b[38;5;241m=\u001b[39mcnt, stop\u001b[38;5;241m=\u001b[39mstop,  response_format\u001b[38;5;241m=\u001b[39m{\u001b[38;5;124m'\u001b[39m\u001b[38;5;124mtype\u001b[39m\u001b[38;5;124m'\u001b[39m: \u001b[38;5;124m'\u001b[39m\u001b[38;5;124mjson_object\u001b[39m\u001b[38;5;124m'\u001b[39m})\n\u001b[1;32m     39\u001b[0m \u001b[38;5;28;01melse\u001b[39;00m:\n\u001b[1;32m     40\u001b[0m     res \u001b[38;5;241m=\u001b[39m completions_with_backoff(model\u001b[38;5;241m=\u001b[39mmodel, messages\u001b[38;5;241m=\u001b[39mmessages, temperature\u001b[38;5;241m=\u001b[39mtemperature, max_tokens\u001b[38;5;241m=\u001b[39mmax_tokens, n\u001b[38;5;241m=\u001b[39mcnt, stop\u001b[38;5;241m=\u001b[39mstop)\n",
      "File \u001b[0;32m/data/ch52669/gene_interaction/tot-gene-sets/src/tot/models.py:22\u001b[0m, in \u001b[0;36mcompletions_with_backoff\u001b[0;34m(**kwargs)\u001b[0m\n\u001b[1;32m     21\u001b[0m \u001b[38;5;28;01mdef\u001b[39;00m \u001b[38;5;21mcompletions_with_backoff\u001b[39m(\u001b[38;5;241m*\u001b[39m\u001b[38;5;241m*\u001b[39mkwargs):\n\u001b[0;32m---> 22\u001b[0m     \u001b[38;5;28;01mreturn\u001b[39;00m openai\u001b[38;5;241m.\u001b[39mChatCompletion\u001b[38;5;241m.\u001b[39mcreate(\u001b[38;5;241m*\u001b[39m\u001b[38;5;241m*\u001b[39mkwargs)\n",
      "File \u001b[0;32m/data/ch52669/anaconda3/lib/python3.11/site-packages/openai/api_resources/chat_completion.py:25\u001b[0m, in \u001b[0;36mChatCompletion.create\u001b[0;34m(cls, *args, **kwargs)\u001b[0m\n\u001b[1;32m     23\u001b[0m \u001b[38;5;28;01mwhile\u001b[39;00m \u001b[38;5;28;01mTrue\u001b[39;00m:\n\u001b[1;32m     24\u001b[0m     \u001b[38;5;28;01mtry\u001b[39;00m:\n\u001b[0;32m---> 25\u001b[0m         \u001b[38;5;28;01mreturn\u001b[39;00m \u001b[38;5;28msuper\u001b[39m()\u001b[38;5;241m.\u001b[39mcreate(\u001b[38;5;241m*\u001b[39margs, \u001b[38;5;241m*\u001b[39m\u001b[38;5;241m*\u001b[39mkwargs)\n\u001b[1;32m     26\u001b[0m     \u001b[38;5;28;01mexcept\u001b[39;00m TryAgain \u001b[38;5;28;01mas\u001b[39;00m e:\n\u001b[1;32m     27\u001b[0m         \u001b[38;5;28;01mif\u001b[39;00m timeout \u001b[38;5;129;01mis\u001b[39;00m \u001b[38;5;129;01mnot\u001b[39;00m \u001b[38;5;28;01mNone\u001b[39;00m \u001b[38;5;129;01mand\u001b[39;00m time\u001b[38;5;241m.\u001b[39mtime() \u001b[38;5;241m>\u001b[39m start \u001b[38;5;241m+\u001b[39m timeout:\n",
      "File \u001b[0;32m/data/ch52669/anaconda3/lib/python3.11/site-packages/openai/api_resources/abstract/engine_api_resource.py:153\u001b[0m, in \u001b[0;36mEngineAPIResource.create\u001b[0;34m(cls, api_key, api_base, api_type, request_id, api_version, organization, **params)\u001b[0m\n\u001b[1;32m    127\u001b[0m \u001b[38;5;129m@classmethod\u001b[39m\n\u001b[1;32m    128\u001b[0m \u001b[38;5;28;01mdef\u001b[39;00m \u001b[38;5;21mcreate\u001b[39m(\n\u001b[1;32m    129\u001b[0m     \u001b[38;5;28mcls\u001b[39m,\n\u001b[0;32m   (...)\u001b[0m\n\u001b[1;32m    136\u001b[0m     \u001b[38;5;241m*\u001b[39m\u001b[38;5;241m*\u001b[39mparams,\n\u001b[1;32m    137\u001b[0m ):\n\u001b[1;32m    138\u001b[0m     (\n\u001b[1;32m    139\u001b[0m         deployment_id,\n\u001b[1;32m    140\u001b[0m         engine,\n\u001b[0;32m   (...)\u001b[0m\n\u001b[1;32m    150\u001b[0m         api_key, api_base, api_type, api_version, organization, \u001b[38;5;241m*\u001b[39m\u001b[38;5;241m*\u001b[39mparams\n\u001b[1;32m    151\u001b[0m     )\n\u001b[0;32m--> 153\u001b[0m     response, _, api_key \u001b[38;5;241m=\u001b[39m requestor\u001b[38;5;241m.\u001b[39mrequest(\n\u001b[1;32m    154\u001b[0m         \u001b[38;5;124m\"\u001b[39m\u001b[38;5;124mpost\u001b[39m\u001b[38;5;124m\"\u001b[39m,\n\u001b[1;32m    155\u001b[0m         url,\n\u001b[1;32m    156\u001b[0m         params\u001b[38;5;241m=\u001b[39mparams,\n\u001b[1;32m    157\u001b[0m         headers\u001b[38;5;241m=\u001b[39mheaders,\n\u001b[1;32m    158\u001b[0m         stream\u001b[38;5;241m=\u001b[39mstream,\n\u001b[1;32m    159\u001b[0m         request_id\u001b[38;5;241m=\u001b[39mrequest_id,\n\u001b[1;32m    160\u001b[0m         request_timeout\u001b[38;5;241m=\u001b[39mrequest_timeout,\n\u001b[1;32m    161\u001b[0m     )\n\u001b[1;32m    163\u001b[0m     \u001b[38;5;28;01mif\u001b[39;00m stream:\n\u001b[1;32m    164\u001b[0m         \u001b[38;5;66;03m# must be an iterator\u001b[39;00m\n\u001b[1;32m    165\u001b[0m         \u001b[38;5;28;01massert\u001b[39;00m \u001b[38;5;129;01mnot\u001b[39;00m \u001b[38;5;28misinstance\u001b[39m(response, OpenAIResponse)\n",
      "File \u001b[0;32m/data/ch52669/anaconda3/lib/python3.11/site-packages/openai/api_requestor.py:216\u001b[0m, in \u001b[0;36mAPIRequestor.request\u001b[0;34m(self, method, url, params, headers, files, stream, request_id, request_timeout)\u001b[0m\n\u001b[1;32m    205\u001b[0m \u001b[38;5;28;01mdef\u001b[39;00m \u001b[38;5;21mrequest\u001b[39m(\n\u001b[1;32m    206\u001b[0m     \u001b[38;5;28mself\u001b[39m,\n\u001b[1;32m    207\u001b[0m     method,\n\u001b[0;32m   (...)\u001b[0m\n\u001b[1;32m    214\u001b[0m     request_timeout: Optional[Union[\u001b[38;5;28mfloat\u001b[39m, Tuple[\u001b[38;5;28mfloat\u001b[39m, \u001b[38;5;28mfloat\u001b[39m]]] \u001b[38;5;241m=\u001b[39m \u001b[38;5;28;01mNone\u001b[39;00m,\n\u001b[1;32m    215\u001b[0m ) \u001b[38;5;241m-\u001b[39m\u001b[38;5;241m>\u001b[39m Tuple[Union[OpenAIResponse, Iterator[OpenAIResponse]], \u001b[38;5;28mbool\u001b[39m, \u001b[38;5;28mstr\u001b[39m]:\n\u001b[0;32m--> 216\u001b[0m     result \u001b[38;5;241m=\u001b[39m \u001b[38;5;28mself\u001b[39m\u001b[38;5;241m.\u001b[39mrequest_raw(\n\u001b[1;32m    217\u001b[0m         method\u001b[38;5;241m.\u001b[39mlower(),\n\u001b[1;32m    218\u001b[0m         url,\n\u001b[1;32m    219\u001b[0m         params\u001b[38;5;241m=\u001b[39mparams,\n\u001b[1;32m    220\u001b[0m         supplied_headers\u001b[38;5;241m=\u001b[39mheaders,\n\u001b[1;32m    221\u001b[0m         files\u001b[38;5;241m=\u001b[39mfiles,\n\u001b[1;32m    222\u001b[0m         stream\u001b[38;5;241m=\u001b[39mstream,\n\u001b[1;32m    223\u001b[0m         request_id\u001b[38;5;241m=\u001b[39mrequest_id,\n\u001b[1;32m    224\u001b[0m         request_timeout\u001b[38;5;241m=\u001b[39mrequest_timeout,\n\u001b[1;32m    225\u001b[0m     )\n\u001b[1;32m    226\u001b[0m     resp, got_stream \u001b[38;5;241m=\u001b[39m \u001b[38;5;28mself\u001b[39m\u001b[38;5;241m.\u001b[39m_interpret_response(result, stream)\n\u001b[1;32m    227\u001b[0m     \u001b[38;5;28;01mreturn\u001b[39;00m resp, got_stream, \u001b[38;5;28mself\u001b[39m\u001b[38;5;241m.\u001b[39mapi_key\n",
      "File \u001b[0;32m/data/ch52669/anaconda3/lib/python3.11/site-packages/openai/api_requestor.py:516\u001b[0m, in \u001b[0;36mAPIRequestor.request_raw\u001b[0;34m(self, method, url, params, supplied_headers, files, stream, request_id, request_timeout)\u001b[0m\n\u001b[1;32m    514\u001b[0m     _thread_context\u001b[38;5;241m.\u001b[39msession \u001b[38;5;241m=\u001b[39m _make_session()\n\u001b[1;32m    515\u001b[0m \u001b[38;5;28;01mtry\u001b[39;00m:\n\u001b[0;32m--> 516\u001b[0m     result \u001b[38;5;241m=\u001b[39m _thread_context\u001b[38;5;241m.\u001b[39msession\u001b[38;5;241m.\u001b[39mrequest(\n\u001b[1;32m    517\u001b[0m         method,\n\u001b[1;32m    518\u001b[0m         abs_url,\n\u001b[1;32m    519\u001b[0m         headers\u001b[38;5;241m=\u001b[39mheaders,\n\u001b[1;32m    520\u001b[0m         data\u001b[38;5;241m=\u001b[39mdata,\n\u001b[1;32m    521\u001b[0m         files\u001b[38;5;241m=\u001b[39mfiles,\n\u001b[1;32m    522\u001b[0m         stream\u001b[38;5;241m=\u001b[39mstream,\n\u001b[1;32m    523\u001b[0m         timeout\u001b[38;5;241m=\u001b[39mrequest_timeout \u001b[38;5;28;01mif\u001b[39;00m request_timeout \u001b[38;5;28;01melse\u001b[39;00m TIMEOUT_SECS,\n\u001b[1;32m    524\u001b[0m         proxies\u001b[38;5;241m=\u001b[39m_thread_context\u001b[38;5;241m.\u001b[39msession\u001b[38;5;241m.\u001b[39mproxies,\n\u001b[1;32m    525\u001b[0m     )\n\u001b[1;32m    526\u001b[0m \u001b[38;5;28;01mexcept\u001b[39;00m requests\u001b[38;5;241m.\u001b[39mexceptions\u001b[38;5;241m.\u001b[39mTimeout \u001b[38;5;28;01mas\u001b[39;00m e:\n\u001b[1;32m    527\u001b[0m     \u001b[38;5;28;01mraise\u001b[39;00m error\u001b[38;5;241m.\u001b[39mTimeout(\u001b[38;5;124m\"\u001b[39m\u001b[38;5;124mRequest timed out: \u001b[39m\u001b[38;5;132;01m{}\u001b[39;00m\u001b[38;5;124m\"\u001b[39m\u001b[38;5;241m.\u001b[39mformat(e)) \u001b[38;5;28;01mfrom\u001b[39;00m \u001b[38;5;21;01me\u001b[39;00m\n",
      "File \u001b[0;32m/data/ch52669/anaconda3/lib/python3.11/site-packages/requests/sessions.py:589\u001b[0m, in \u001b[0;36mSession.request\u001b[0;34m(self, method, url, params, data, headers, cookies, files, auth, timeout, allow_redirects, proxies, hooks, stream, verify, cert, json)\u001b[0m\n\u001b[1;32m    584\u001b[0m send_kwargs \u001b[38;5;241m=\u001b[39m {\n\u001b[1;32m    585\u001b[0m     \u001b[38;5;124m\"\u001b[39m\u001b[38;5;124mtimeout\u001b[39m\u001b[38;5;124m\"\u001b[39m: timeout,\n\u001b[1;32m    586\u001b[0m     \u001b[38;5;124m\"\u001b[39m\u001b[38;5;124mallow_redirects\u001b[39m\u001b[38;5;124m\"\u001b[39m: allow_redirects,\n\u001b[1;32m    587\u001b[0m }\n\u001b[1;32m    588\u001b[0m send_kwargs\u001b[38;5;241m.\u001b[39mupdate(settings)\n\u001b[0;32m--> 589\u001b[0m resp \u001b[38;5;241m=\u001b[39m \u001b[38;5;28mself\u001b[39m\u001b[38;5;241m.\u001b[39msend(prep, \u001b[38;5;241m*\u001b[39m\u001b[38;5;241m*\u001b[39msend_kwargs)\n\u001b[1;32m    591\u001b[0m \u001b[38;5;28;01mreturn\u001b[39;00m resp\n",
      "File \u001b[0;32m/data/ch52669/anaconda3/lib/python3.11/site-packages/requests/sessions.py:703\u001b[0m, in \u001b[0;36mSession.send\u001b[0;34m(self, request, **kwargs)\u001b[0m\n\u001b[1;32m    700\u001b[0m start \u001b[38;5;241m=\u001b[39m preferred_clock()\n\u001b[1;32m    702\u001b[0m \u001b[38;5;66;03m# Send the request\u001b[39;00m\n\u001b[0;32m--> 703\u001b[0m r \u001b[38;5;241m=\u001b[39m adapter\u001b[38;5;241m.\u001b[39msend(request, \u001b[38;5;241m*\u001b[39m\u001b[38;5;241m*\u001b[39mkwargs)\n\u001b[1;32m    705\u001b[0m \u001b[38;5;66;03m# Total elapsed time of the request (approximately)\u001b[39;00m\n\u001b[1;32m    706\u001b[0m elapsed \u001b[38;5;241m=\u001b[39m preferred_clock() \u001b[38;5;241m-\u001b[39m start\n",
      "File \u001b[0;32m/data/ch52669/anaconda3/lib/python3.11/site-packages/requests/adapters.py:486\u001b[0m, in \u001b[0;36mHTTPAdapter.send\u001b[0;34m(self, request, stream, timeout, verify, cert, proxies)\u001b[0m\n\u001b[1;32m    483\u001b[0m     timeout \u001b[38;5;241m=\u001b[39m TimeoutSauce(connect\u001b[38;5;241m=\u001b[39mtimeout, read\u001b[38;5;241m=\u001b[39mtimeout)\n\u001b[1;32m    485\u001b[0m \u001b[38;5;28;01mtry\u001b[39;00m:\n\u001b[0;32m--> 486\u001b[0m     resp \u001b[38;5;241m=\u001b[39m conn\u001b[38;5;241m.\u001b[39murlopen(\n\u001b[1;32m    487\u001b[0m         method\u001b[38;5;241m=\u001b[39mrequest\u001b[38;5;241m.\u001b[39mmethod,\n\u001b[1;32m    488\u001b[0m         url\u001b[38;5;241m=\u001b[39murl,\n\u001b[1;32m    489\u001b[0m         body\u001b[38;5;241m=\u001b[39mrequest\u001b[38;5;241m.\u001b[39mbody,\n\u001b[1;32m    490\u001b[0m         headers\u001b[38;5;241m=\u001b[39mrequest\u001b[38;5;241m.\u001b[39mheaders,\n\u001b[1;32m    491\u001b[0m         redirect\u001b[38;5;241m=\u001b[39m\u001b[38;5;28;01mFalse\u001b[39;00m,\n\u001b[1;32m    492\u001b[0m         assert_same_host\u001b[38;5;241m=\u001b[39m\u001b[38;5;28;01mFalse\u001b[39;00m,\n\u001b[1;32m    493\u001b[0m         preload_content\u001b[38;5;241m=\u001b[39m\u001b[38;5;28;01mFalse\u001b[39;00m,\n\u001b[1;32m    494\u001b[0m         decode_content\u001b[38;5;241m=\u001b[39m\u001b[38;5;28;01mFalse\u001b[39;00m,\n\u001b[1;32m    495\u001b[0m         retries\u001b[38;5;241m=\u001b[39m\u001b[38;5;28mself\u001b[39m\u001b[38;5;241m.\u001b[39mmax_retries,\n\u001b[1;32m    496\u001b[0m         timeout\u001b[38;5;241m=\u001b[39mtimeout,\n\u001b[1;32m    497\u001b[0m         chunked\u001b[38;5;241m=\u001b[39mchunked,\n\u001b[1;32m    498\u001b[0m     )\n\u001b[1;32m    500\u001b[0m \u001b[38;5;28;01mexcept\u001b[39;00m (ProtocolError, \u001b[38;5;167;01mOSError\u001b[39;00m) \u001b[38;5;28;01mas\u001b[39;00m err:\n\u001b[1;32m    501\u001b[0m     \u001b[38;5;28;01mraise\u001b[39;00m \u001b[38;5;167;01mConnectionError\u001b[39;00m(err, request\u001b[38;5;241m=\u001b[39mrequest)\n",
      "File \u001b[0;32m/data/ch52669/anaconda3/lib/python3.11/site-packages/urllib3/connectionpool.py:790\u001b[0m, in \u001b[0;36mHTTPConnectionPool.urlopen\u001b[0;34m(self, method, url, body, headers, retries, redirect, assert_same_host, timeout, pool_timeout, release_conn, chunked, body_pos, preload_content, decode_content, **response_kw)\u001b[0m\n\u001b[1;32m    787\u001b[0m response_conn \u001b[38;5;241m=\u001b[39m conn \u001b[38;5;28;01mif\u001b[39;00m \u001b[38;5;129;01mnot\u001b[39;00m release_conn \u001b[38;5;28;01melse\u001b[39;00m \u001b[38;5;28;01mNone\u001b[39;00m\n\u001b[1;32m    789\u001b[0m \u001b[38;5;66;03m# Make the request on the HTTPConnection object\u001b[39;00m\n\u001b[0;32m--> 790\u001b[0m response \u001b[38;5;241m=\u001b[39m \u001b[38;5;28mself\u001b[39m\u001b[38;5;241m.\u001b[39m_make_request(\n\u001b[1;32m    791\u001b[0m     conn,\n\u001b[1;32m    792\u001b[0m     method,\n\u001b[1;32m    793\u001b[0m     url,\n\u001b[1;32m    794\u001b[0m     timeout\u001b[38;5;241m=\u001b[39mtimeout_obj,\n\u001b[1;32m    795\u001b[0m     body\u001b[38;5;241m=\u001b[39mbody,\n\u001b[1;32m    796\u001b[0m     headers\u001b[38;5;241m=\u001b[39mheaders,\n\u001b[1;32m    797\u001b[0m     chunked\u001b[38;5;241m=\u001b[39mchunked,\n\u001b[1;32m    798\u001b[0m     retries\u001b[38;5;241m=\u001b[39mretries,\n\u001b[1;32m    799\u001b[0m     response_conn\u001b[38;5;241m=\u001b[39mresponse_conn,\n\u001b[1;32m    800\u001b[0m     preload_content\u001b[38;5;241m=\u001b[39mpreload_content,\n\u001b[1;32m    801\u001b[0m     decode_content\u001b[38;5;241m=\u001b[39mdecode_content,\n\u001b[1;32m    802\u001b[0m     \u001b[38;5;241m*\u001b[39m\u001b[38;5;241m*\u001b[39mresponse_kw,\n\u001b[1;32m    803\u001b[0m )\n\u001b[1;32m    805\u001b[0m \u001b[38;5;66;03m# Everything went great!\u001b[39;00m\n\u001b[1;32m    806\u001b[0m clean_exit \u001b[38;5;241m=\u001b[39m \u001b[38;5;28;01mTrue\u001b[39;00m\n",
      "File \u001b[0;32m/data/ch52669/anaconda3/lib/python3.11/site-packages/urllib3/connectionpool.py:536\u001b[0m, in \u001b[0;36mHTTPConnectionPool._make_request\u001b[0;34m(self, conn, method, url, body, headers, retries, timeout, chunked, response_conn, preload_content, decode_content, enforce_content_length)\u001b[0m\n\u001b[1;32m    534\u001b[0m \u001b[38;5;66;03m# Receive the response from the server\u001b[39;00m\n\u001b[1;32m    535\u001b[0m \u001b[38;5;28;01mtry\u001b[39;00m:\n\u001b[0;32m--> 536\u001b[0m     response \u001b[38;5;241m=\u001b[39m conn\u001b[38;5;241m.\u001b[39mgetresponse()\n\u001b[1;32m    537\u001b[0m \u001b[38;5;28;01mexcept\u001b[39;00m (BaseSSLError, \u001b[38;5;167;01mOSError\u001b[39;00m) \u001b[38;5;28;01mas\u001b[39;00m e:\n\u001b[1;32m    538\u001b[0m     \u001b[38;5;28mself\u001b[39m\u001b[38;5;241m.\u001b[39m_raise_timeout(err\u001b[38;5;241m=\u001b[39me, url\u001b[38;5;241m=\u001b[39murl, timeout_value\u001b[38;5;241m=\u001b[39mread_timeout)\n",
      "File \u001b[0;32m/data/ch52669/anaconda3/lib/python3.11/site-packages/urllib3/connection.py:454\u001b[0m, in \u001b[0;36mHTTPConnection.getresponse\u001b[0;34m(self)\u001b[0m\n\u001b[1;32m    451\u001b[0m \u001b[38;5;28;01mfrom\u001b[39;00m \u001b[38;5;21;01m.\u001b[39;00m\u001b[38;5;21;01mresponse\u001b[39;00m \u001b[38;5;28;01mimport\u001b[39;00m HTTPResponse\n\u001b[1;32m    453\u001b[0m \u001b[38;5;66;03m# Get the response from http.client.HTTPConnection\u001b[39;00m\n\u001b[0;32m--> 454\u001b[0m httplib_response \u001b[38;5;241m=\u001b[39m \u001b[38;5;28msuper\u001b[39m()\u001b[38;5;241m.\u001b[39mgetresponse()\n\u001b[1;32m    456\u001b[0m \u001b[38;5;28;01mtry\u001b[39;00m:\n\u001b[1;32m    457\u001b[0m     assert_header_parsing(httplib_response\u001b[38;5;241m.\u001b[39mmsg)\n",
      "File \u001b[0;32m/data/ch52669/anaconda3/lib/python3.11/http/client.py:1378\u001b[0m, in \u001b[0;36mHTTPConnection.getresponse\u001b[0;34m(self)\u001b[0m\n\u001b[1;32m   1376\u001b[0m \u001b[38;5;28;01mtry\u001b[39;00m:\n\u001b[1;32m   1377\u001b[0m     \u001b[38;5;28;01mtry\u001b[39;00m:\n\u001b[0;32m-> 1378\u001b[0m         response\u001b[38;5;241m.\u001b[39mbegin()\n\u001b[1;32m   1379\u001b[0m     \u001b[38;5;28;01mexcept\u001b[39;00m \u001b[38;5;167;01mConnectionError\u001b[39;00m:\n\u001b[1;32m   1380\u001b[0m         \u001b[38;5;28mself\u001b[39m\u001b[38;5;241m.\u001b[39mclose()\n",
      "File \u001b[0;32m/data/ch52669/anaconda3/lib/python3.11/http/client.py:318\u001b[0m, in \u001b[0;36mHTTPResponse.begin\u001b[0;34m(self)\u001b[0m\n\u001b[1;32m    316\u001b[0m \u001b[38;5;66;03m# read until we get a non-100 response\u001b[39;00m\n\u001b[1;32m    317\u001b[0m \u001b[38;5;28;01mwhile\u001b[39;00m \u001b[38;5;28;01mTrue\u001b[39;00m:\n\u001b[0;32m--> 318\u001b[0m     version, status, reason \u001b[38;5;241m=\u001b[39m \u001b[38;5;28mself\u001b[39m\u001b[38;5;241m.\u001b[39m_read_status()\n\u001b[1;32m    319\u001b[0m     \u001b[38;5;28;01mif\u001b[39;00m status \u001b[38;5;241m!=\u001b[39m CONTINUE:\n\u001b[1;32m    320\u001b[0m         \u001b[38;5;28;01mbreak\u001b[39;00m\n",
      "File \u001b[0;32m/data/ch52669/anaconda3/lib/python3.11/http/client.py:279\u001b[0m, in \u001b[0;36mHTTPResponse._read_status\u001b[0;34m(self)\u001b[0m\n\u001b[1;32m    278\u001b[0m \u001b[38;5;28;01mdef\u001b[39;00m \u001b[38;5;21m_read_status\u001b[39m(\u001b[38;5;28mself\u001b[39m):\n\u001b[0;32m--> 279\u001b[0m     line \u001b[38;5;241m=\u001b[39m \u001b[38;5;28mstr\u001b[39m(\u001b[38;5;28mself\u001b[39m\u001b[38;5;241m.\u001b[39mfp\u001b[38;5;241m.\u001b[39mreadline(_MAXLINE \u001b[38;5;241m+\u001b[39m \u001b[38;5;241m1\u001b[39m), \u001b[38;5;124m\"\u001b[39m\u001b[38;5;124miso-8859-1\u001b[39m\u001b[38;5;124m\"\u001b[39m)\n\u001b[1;32m    280\u001b[0m     \u001b[38;5;28;01mif\u001b[39;00m \u001b[38;5;28mlen\u001b[39m(line) \u001b[38;5;241m>\u001b[39m _MAXLINE:\n\u001b[1;32m    281\u001b[0m         \u001b[38;5;28;01mraise\u001b[39;00m LineTooLong(\u001b[38;5;124m\"\u001b[39m\u001b[38;5;124mstatus line\u001b[39m\u001b[38;5;124m\"\u001b[39m)\n",
      "File \u001b[0;32m/data/ch52669/anaconda3/lib/python3.11/socket.py:706\u001b[0m, in \u001b[0;36mSocketIO.readinto\u001b[0;34m(self, b)\u001b[0m\n\u001b[1;32m    704\u001b[0m \u001b[38;5;28;01mwhile\u001b[39;00m \u001b[38;5;28;01mTrue\u001b[39;00m:\n\u001b[1;32m    705\u001b[0m     \u001b[38;5;28;01mtry\u001b[39;00m:\n\u001b[0;32m--> 706\u001b[0m         \u001b[38;5;28;01mreturn\u001b[39;00m \u001b[38;5;28mself\u001b[39m\u001b[38;5;241m.\u001b[39m_sock\u001b[38;5;241m.\u001b[39mrecv_into(b)\n\u001b[1;32m    707\u001b[0m     \u001b[38;5;28;01mexcept\u001b[39;00m timeout:\n\u001b[1;32m    708\u001b[0m         \u001b[38;5;28mself\u001b[39m\u001b[38;5;241m.\u001b[39m_timeout_occurred \u001b[38;5;241m=\u001b[39m \u001b[38;5;28;01mTrue\u001b[39;00m\n",
      "File \u001b[0;32m/data/ch52669/anaconda3/lib/python3.11/ssl.py:1278\u001b[0m, in \u001b[0;36mSSLSocket.recv_into\u001b[0;34m(self, buffer, nbytes, flags)\u001b[0m\n\u001b[1;32m   1274\u001b[0m     \u001b[38;5;28;01mif\u001b[39;00m flags \u001b[38;5;241m!=\u001b[39m \u001b[38;5;241m0\u001b[39m:\n\u001b[1;32m   1275\u001b[0m         \u001b[38;5;28;01mraise\u001b[39;00m \u001b[38;5;167;01mValueError\u001b[39;00m(\n\u001b[1;32m   1276\u001b[0m           \u001b[38;5;124m\"\u001b[39m\u001b[38;5;124mnon-zero flags not allowed in calls to recv_into() on \u001b[39m\u001b[38;5;132;01m%s\u001b[39;00m\u001b[38;5;124m\"\u001b[39m \u001b[38;5;241m%\u001b[39m\n\u001b[1;32m   1277\u001b[0m           \u001b[38;5;28mself\u001b[39m\u001b[38;5;241m.\u001b[39m\u001b[38;5;18m__class__\u001b[39m)\n\u001b[0;32m-> 1278\u001b[0m     \u001b[38;5;28;01mreturn\u001b[39;00m \u001b[38;5;28mself\u001b[39m\u001b[38;5;241m.\u001b[39mread(nbytes, buffer)\n\u001b[1;32m   1279\u001b[0m \u001b[38;5;28;01melse\u001b[39;00m:\n\u001b[1;32m   1280\u001b[0m     \u001b[38;5;28;01mreturn\u001b[39;00m \u001b[38;5;28msuper\u001b[39m()\u001b[38;5;241m.\u001b[39mrecv_into(buffer, nbytes, flags)\n",
      "File \u001b[0;32m/data/ch52669/anaconda3/lib/python3.11/ssl.py:1134\u001b[0m, in \u001b[0;36mSSLSocket.read\u001b[0;34m(self, len, buffer)\u001b[0m\n\u001b[1;32m   1132\u001b[0m \u001b[38;5;28;01mtry\u001b[39;00m:\n\u001b[1;32m   1133\u001b[0m     \u001b[38;5;28;01mif\u001b[39;00m buffer \u001b[38;5;129;01mis\u001b[39;00m \u001b[38;5;129;01mnot\u001b[39;00m \u001b[38;5;28;01mNone\u001b[39;00m:\n\u001b[0;32m-> 1134\u001b[0m         \u001b[38;5;28;01mreturn\u001b[39;00m \u001b[38;5;28mself\u001b[39m\u001b[38;5;241m.\u001b[39m_sslobj\u001b[38;5;241m.\u001b[39mread(\u001b[38;5;28mlen\u001b[39m, buffer)\n\u001b[1;32m   1135\u001b[0m     \u001b[38;5;28;01melse\u001b[39;00m:\n\u001b[1;32m   1136\u001b[0m         \u001b[38;5;28;01mreturn\u001b[39;00m \u001b[38;5;28mself\u001b[39m\u001b[38;5;241m.\u001b[39m_sslobj\u001b[38;5;241m.\u001b[39mread(\u001b[38;5;28mlen\u001b[39m)\n",
      "\u001b[0;31mKeyboardInterrupt\u001b[0m: "
     ]
    }
   ],
   "source": [
    "import argparse\n",
    "\n",
    "medagents_config = {'model_name':'gpt-4-1106-preview', \\\n",
    "                    'method':'syn_verif', \\\n",
    "                    'max_attempt_vote':3,\\\n",
    "                    'ans_num':2,\\\n",
    "                    'numerical':True\n",
    "                   }\n",
    "\n",
    "tot_config = {'backend':'gpt-4-1106-preview', 'temperature':0.7, 'task':'bio_name', 'naive_run':False, \\\n",
    "              'prompt_sample':None, 'method_generate':'sample_bionames', \\\n",
    "              'method_evaluate':'medagents_w_tools', 'method_select':'greedy', \\\n",
    "              'n_generate_sample':3, 'n_evaluate_sample':2, 'n_select_sample':2, \\\n",
    "              'source':'GO:BP', 'bio_type':\"Biological Process\",'filter_method':'sim', \\\n",
    "              'filter_size':5, 'voting_setting':None}\n",
    "\n",
    "args_config = {**medagents_config, **tot_config}\n",
    "args = argparse.Namespace(**args_config)\n",
    "task_medagents_gprofiler = Bio_Name()\n",
    "save_file = 'medagents_results/eval_medagents_gprofiler_step3'\n",
    "eval_100(task_medagents_gprofiler, save_file, args, 30, 50)"
   ]
  },
  {
   "cell_type": "code",
   "execution_count": 4,
   "metadata": {},
   "outputs": [],
   "source": [
    "import pickle\n",
    "with open('medagents_results/eval_medagents_gprofiler_0_99.pkl', 'rb') as f:\n",
    "    results = pickle.load(f)"
   ]
  },
  {
   "cell_type": "code",
   "execution_count": 6,
   "metadata": {
    "scrolled": false
   },
   "outputs": [
    {
     "data": {
      "text/plain": [
       "[{'index': 0,\n",
       "  'final answer': 'Formation of clathrin-coated pits during LDL endocytosis',\n",
       "  'ys': ['{\"Step\": \"5\", \"Relation\": \"has part\", \"Reason\": \"Formation of clathrin-coated pits is a fundamental part of the clathrin-mediated endocytosis pathway, where clathrin and adaptor proteins, potentially including ANXA2, initiate the creation of a vesicle by forming a coated pit.\", \"Biological Process\": \"Formation of clathrin-coated pits during LDL endocytosis\"}',\n",
       "   '{\"Step\": \"5\", \"Relation\": \"has part\", \"Reason\": \"After endocytosis, LDL receptors are sorted in endosomes before recycling to the cell surface. This sorting is a part of the overall recycling process and is where proteins like LDLRAP1 would be involved in recognizing and sorting LDL receptors for recycling, distinguishing them from other endosomal contents.\", \"Biological Process\": \"LDL receptor sorting in endosomes\"}'],\n",
       "  'steps': {'steps': [{'step': 0,\n",
       "     'x': 'LDLRAP1 SCP2D1 ANXA2 SCP2',\n",
       "     'ys': [''],\n",
       "     'new_ys': ['{\"Step\": \"1\", \"Biological Process\": \"Lipid metabolic process\", \"Reason\": \"LDLRAP1 is associated with the receptor-mediated endocytosis of low-density lipoproteins, which is a part of lipid metabolism. SCP2 (Sterol carrier protein 2) is involved in the intracellular transport of lipids, indicating a role in lipid metabolism. ANXA2 (Annexin A2) has a broader range of functions, but is also implicated in membrane-related processes that can affect lipid metabolism.\"}',\n",
       "      '{\"Step\": \"1\", \"Biological Process\": \"Cellular protein localization\", \"Reason\": \"LDLRAP1 is involved in the localization of LDL receptors, which is a protein localization process. The function of SCP2D1 is not well characterized, but based on its similarity with SCP2, it may be involved in the transport and localization of proteins or lipids within the cell.\"}',\n",
       "      '{\"Step\": \"1\", \"Biological Process\": \"Membrane organization\", \"Reason\": \"ANXA2 is implicated in membrane organization and dynamics, and SCP2 is involved in lipid transport, which is crucial for membrane structure and function. Proteins involved in endocytosis and intracellular transport, such as LDLRAP1, also play significant roles in membrane organization.\"}'],\n",
       "     'values': [1, 0, 1],\n",
       "     'select_new_ys': ['{\"Step\": \"1\", \"Biological Process\": \"Lipid metabolic process\", \"Reason\": \"LDLRAP1 is associated with the receptor-mediated endocytosis of low-density lipoproteins, which is a part of lipid metabolism. SCP2 (Sterol carrier protein 2) is involved in the intracellular transport of lipids, indicating a role in lipid metabolism. ANXA2 (Annexin A2) has a broader range of functions, but is also implicated in membrane-related processes that can affect lipid metabolism.\"}',\n",
       "      '{\"Step\": \"1\", \"Biological Process\": \"Membrane organization\", \"Reason\": \"ANXA2 is implicated in membrane organization and dynamics, and SCP2 is involved in lipid transport, which is crucial for membrane structure and function. Proteins involved in endocytosis and intracellular transport, such as LDLRAP1, also play significant roles in membrane organization.\"}']},\n",
       "    {'step': 1,\n",
       "     'x': 'LDLRAP1 SCP2D1 ANXA2 SCP2',\n",
       "     'ys': ['{\"Step\": \"1\", \"Biological Process\": \"Lipid metabolic process\", \"Reason\": \"LDLRAP1 is associated with the receptor-mediated endocytosis of low-density lipoproteins, which is a part of lipid metabolism. SCP2 (Sterol carrier protein 2) is involved in the intracellular transport of lipids, indicating a role in lipid metabolism. ANXA2 (Annexin A2) has a broader range of functions, but is also implicated in membrane-related processes that can affect lipid metabolism.\"}',\n",
       "      '{\"Step\": \"1\", \"Biological Process\": \"Membrane organization\", \"Reason\": \"ANXA2 is implicated in membrane organization and dynamics, and SCP2 is involved in lipid transport, which is crucial for membrane structure and function. Proteins involved in endocytosis and intracellular transport, such as LDLRAP1, also play significant roles in membrane organization.\"}'],\n",
       "     'new_ys': ['{\"Step\": \"2\", \"Relation\": \"part of\", \"Reason\": \"LDLRAP1 plays a critical role in the endocytosis of cholesterol-rich low-density lipoproteins (LDL), which is a key step in maintaining cholesterol balance within the body. Cholesterol homeostasis is a specific aspect of the broader lipid metabolic process.\", \"Biological Process\": \"Cholesterol homeostasis\"}',\n",
       "      '{\"Step\": \"2\", \"Relation\": \"is a\", \"Reason\": \"SCP2 is a sterol carrier protein that is specifically known to be involved in the transport of phospholipids, which are a class of lipids. This specific transport process is a subtype of the broader lipid metabolic process.\", \"Biological Process\": \"Phospholipid transport\"}',\n",
       "      '{\"Step\": \"2\", \"Relation\": \"has part\", \"Reason\": \"LDLRAP1 is directly involved in the receptor-mediated endocytosis of lipoproteins, such as LDL. This process is a necessary component of lipid metabolism as it is required for the cellular uptake of lipids from the extracellular space.\", \"Biological Process\": \"Endocytosis of lipoproteins\"}',\n",
       "      '{\"Step\": \"2\", \"Relation\": \"is a\", \"Reason\": \"Lipid rafts are specialized membrane microdomains rich in cholesterol and sphingolipids. SCP2 is involved in lipid transport, which can contribute to the localized concentration of lipids necessary for raft assembly. ANXA2 has been implicated in the organization of lipid rafts, which is more specific than general membrane organization.\", \"Biological Process\": \"Lipid raft assembly\"}',\n",
       "      '{\"Step\": \"2\", \"Relation\": \"has part\", \"Reason\": \"Endocytic vesicle formation is a process that is a part of overall membrane organization, during which membrane invaginations lead to the formation of vesicles. LDLRAP1 is a protein that interacts with receptors like the LDL receptor during clathrin-mediated endocytosis, and is thus directly involved in the formation of endocytic vesicles.\", \"Biological Process\": \"Endocytic vesicle formation\"}',\n",
       "      '{\"Step\": \"2\", \"Relation\": \"part of\", \"Reason\": \"Phospholipid translocation refers to the movement of phospholipids between the leaflets of a membrane bilayer, which contributes to membrane asymmetry and organization. ANXA2 is associated with phospholipid-binding and may be involved in their translocation across the membrane, making this process a more specific aspect of membrane organization.\", \"Biological Process\": \"Phospholipid translocation\"}'],\n",
       "     'values': [1, 0, 1, 0, 0, 0],\n",
       "     'select_new_ys': ['{\"Step\": \"2\", \"Relation\": \"part of\", \"Reason\": \"LDLRAP1 plays a critical role in the endocytosis of cholesterol-rich low-density lipoproteins (LDL), which is a key step in maintaining cholesterol balance within the body. Cholesterol homeostasis is a specific aspect of the broader lipid metabolic process.\", \"Biological Process\": \"Cholesterol homeostasis\"}',\n",
       "      '{\"Step\": \"2\", \"Relation\": \"has part\", \"Reason\": \"LDLRAP1 is directly involved in the receptor-mediated endocytosis of lipoproteins, such as LDL. This process is a necessary component of lipid metabolism as it is required for the cellular uptake of lipids from the extracellular space.\", \"Biological Process\": \"Endocytosis of lipoproteins\"}']},\n",
       "    {'step': 2,\n",
       "     'x': 'LDLRAP1 SCP2D1 ANXA2 SCP2',\n",
       "     'ys': ['{\"Step\": \"2\", \"Relation\": \"part of\", \"Reason\": \"LDLRAP1 plays a critical role in the endocytosis of cholesterol-rich low-density lipoproteins (LDL), which is a key step in maintaining cholesterol balance within the body. Cholesterol homeostasis is a specific aspect of the broader lipid metabolic process.\", \"Biological Process\": \"Cholesterol homeostasis\"}',\n",
       "      '{\"Step\": \"2\", \"Relation\": \"has part\", \"Reason\": \"LDLRAP1 is directly involved in the receptor-mediated endocytosis of lipoproteins, such as LDL. This process is a necessary component of lipid metabolism as it is required for the cellular uptake of lipids from the extracellular space.\", \"Biological Process\": \"Endocytosis of lipoproteins\"}'],\n",
       "     'new_ys': ['{\"Step\": \"3\", \"Relation\": \"part of\", \"Reason\": \"LDL receptor-mediated endocytosis is a more specific process within cholesterol homeostasis. LDLRAP1 is a gene that encodes a protein necessary for the proper function of the LDL receptor in endocytosis.\", \"Biological Process\": \"LDL receptor-mediated endocytosis\"}',\n",
       "      '{\"Step\": \"3\", \"Relation\": \"part of\", \"Reason\": \"Intracellular cholesterol transport is a component of cholesterol homeostasis, ensuring that cholesterol is correctly distributed within the cell. SCP2 (Sterol Carrier Protein 2) is involved in the intracellular transport of lipids, including cholesterol.\", \"Biological Process\": \"Intracellular cholesterol transport\"}',\n",
       "      '{\"Step\": \"3\", \"Relation\": \"part of\", \"Reason\": \"Phospholipid efflux is a process that contributes to cholesterol homeostasis by moving phospholipids, which can affect cholesterol distribution and efflux from cells. ANXA2 (Annexin A2) has a role in membrane-related events along with cholesterol regulation.\", \"Biological Process\": \"Phospholipid efflux\"}',\n",
       "      '{\"Step\": \"3\", \"Relation\": \"is a\", \"Reason\": \"LDLRAP1 is critical for the internalization of LDL via the LDL receptor; this process is a more specific instance of endocytosis of lipoproteins, focusing on the subtype of lipoproteins and the receptor involved.\", \"Biological Process\": \"Low-density lipoprotein (LDL) receptor-mediated endocytosis\"}',\n",
       "      '{\"Step\": \"3\", \"Relation\": \"is a\", \"Reason\": \"The interaction of LDLRAP1 with the clathrin and adaptor protein complexes suggests that the endocytosis of lipoproteins involving this gene is specifically mediated by clathrin, thus narrowing down the general process of lipoprotein endocytosis.\", \"Biological Process\": \"Clathrin-mediated endocytosis of lipoproteins\"}',\n",
       "      '{\"Step\": \"3\", \"Relation\": \"has part\", \"Reason\": \"After endocytosis, lipoproteins such as LDL are transported to endosomes where they are sorted for lysosomal degradation or recycling. This sorting process is a part of the broader endocytosis process and is influenced by LDLRAP1\\'s function.\", \"Biological Process\": \"Endosomal sorting of ingested lipoproteins\"}'],\n",
       "     'values': [1, 1, 0, 0, 0, 0],\n",
       "     'select_new_ys': ['{\"Step\": \"3\", \"Relation\": \"part of\", \"Reason\": \"LDL receptor-mediated endocytosis is a more specific process within cholesterol homeostasis. LDLRAP1 is a gene that encodes a protein necessary for the proper function of the LDL receptor in endocytosis.\", \"Biological Process\": \"LDL receptor-mediated endocytosis\"}',\n",
       "      '{\"Step\": \"3\", \"Relation\": \"part of\", \"Reason\": \"Intracellular cholesterol transport is a component of cholesterol homeostasis, ensuring that cholesterol is correctly distributed within the cell. SCP2 (Sterol Carrier Protein 2) is involved in the intracellular transport of lipids, including cholesterol.\", \"Biological Process\": \"Intracellular cholesterol transport\"}']},\n",
       "    {'step': 3,\n",
       "     'x': 'LDLRAP1 SCP2D1 ANXA2 SCP2',\n",
       "     'ys': ['{\"Step\": \"3\", \"Relation\": \"part of\", \"Reason\": \"LDL receptor-mediated endocytosis is a more specific process within cholesterol homeostasis. LDLRAP1 is a gene that encodes a protein necessary for the proper function of the LDL receptor in endocytosis.\", \"Biological Process\": \"LDL receptor-mediated endocytosis\"}',\n",
       "      '{\"Step\": \"3\", \"Relation\": \"part of\", \"Reason\": \"Intracellular cholesterol transport is a component of cholesterol homeostasis, ensuring that cholesterol is correctly distributed within the cell. SCP2 (Sterol Carrier Protein 2) is involved in the intracellular transport of lipids, including cholesterol.\", \"Biological Process\": \"Intracellular cholesterol transport\"}'],\n",
       "     'new_ys': ['{\"Step\": \"4\", \"Relation\": \"is a\", \"Reason\": \"Clathrin-mediated endocytosis is a subtype of LDL receptor-mediated endocytosis, which is the specific pathway through which LDL particles are internalized into the cell. This process is more specific and involves the LDLRAP1 gene, which is thought to interact with clathrin and adaptor proteins during the formation of endocytic vesicles.\", \"Biological Process\": \"Clathrin-mediated endocytosis of LDL\"}',\n",
       "      '{\"Step\": \"4\", \"Relation\": \"part of\", \"Reason\": \"The formation of LDL receptor-ligand complexes is a part of the LDL receptor-mediated endocytosis process. This step is crucial for the internalization of LDL and involves the initial binding of LDL particles to LDL receptors on the cell surface, which is influenced by proteins encoded by genes such as LDLRAP1.\", \"Biological Process\": \"Formation of LDL receptor-ligand complexes\"}',\n",
       "      '{\"Step\": \"4\", \"Relation\": \"has part\", \"Reason\": \"The recycling of LDL receptors is a component of the LDL receptor-mediated endocytosis process that ensures the receptors are returned to the cell surface after endocytosis and dissociation of the LDL particle. LDLRAP1 gene plays a role in this process by mediating the dissociation of LDL receptors from endocytic vesicles, allowing their recycling to the plasma membrane.\", \"Biological Process\": \"Recycling of LDL receptors\"}',\n",
       "      '{\"Step\": \"4\", \"Relation\": \"is a\", \"Reason\": \"Endosomal LDL cholesterol trafficking is a more specific process within the intracellular cholesterol transport system, focusing on the movement of cholesterol from LDL particles within endosomes. LDLRAP1 (LDL receptor adaptor protein 1) is specifically involved in the internalization and trafficking of LDL-derived cholesterol in endosomes.\", \"Biological Process\": \"Endosomal LDL cholesterol trafficking\"}',\n",
       "      '{\"Step\": \"4\", \"Relation\": \"is a\", \"Reason\": \"Intracellular sterol distribution is a more specific biological process that includes the transport of not only cholesterol but also other sterols within the cell. SCP2 (Sterol Carrier Protein 2) plays a role in the intracellular transport and distribution of sterols, including cholesterol.\", \"Biological Process\": \"Intracellular sterol distribution\"}',\n",
       "      '{\"Step\": \"4\", \"Relation\": \"is a\", \"Reason\": \"Cholesterol trafficking to the plasma membrane is a more specific process involved in the delivery of cholesterol to the plasma membrane, which is a critical aspect of maintaining membrane fluidity and function. ANXA2 (Annexin A2) has been implicated in the exocytosis process, which can include the transport of cholesterol to the plasma membrane.\", \"Biological Process\": \"Cholesterol trafficking to plasma membrane\"}'],\n",
       "     'values': [1, 0, 1, 0, 0, 0],\n",
       "     'select_new_ys': ['{\"Step\": \"4\", \"Relation\": \"is a\", \"Reason\": \"Clathrin-mediated endocytosis is a subtype of LDL receptor-mediated endocytosis, which is the specific pathway through which LDL particles are internalized into the cell. This process is more specific and involves the LDLRAP1 gene, which is thought to interact with clathrin and adaptor proteins during the formation of endocytic vesicles.\", \"Biological Process\": \"Clathrin-mediated endocytosis of LDL\"}',\n",
       "      '{\"Step\": \"4\", \"Relation\": \"has part\", \"Reason\": \"The recycling of LDL receptors is a component of the LDL receptor-mediated endocytosis process that ensures the receptors are returned to the cell surface after endocytosis and dissociation of the LDL particle. LDLRAP1 gene plays a role in this process by mediating the dissociation of LDL receptors from endocytic vesicles, allowing their recycling to the plasma membrane.\", \"Biological Process\": \"Recycling of LDL receptors\"}']},\n",
       "    {'step': 4,\n",
       "     'x': 'LDLRAP1 SCP2D1 ANXA2 SCP2',\n",
       "     'ys': ['{\"Step\": \"4\", \"Relation\": \"is a\", \"Reason\": \"Clathrin-mediated endocytosis is a subtype of LDL receptor-mediated endocytosis, which is the specific pathway through which LDL particles are internalized into the cell. This process is more specific and involves the LDLRAP1 gene, which is thought to interact with clathrin and adaptor proteins during the formation of endocytic vesicles.\", \"Biological Process\": \"Clathrin-mediated endocytosis of LDL\"}',\n",
       "      '{\"Step\": \"4\", \"Relation\": \"has part\", \"Reason\": \"The recycling of LDL receptors is a component of the LDL receptor-mediated endocytosis process that ensures the receptors are returned to the cell surface after endocytosis and dissociation of the LDL particle. LDLRAP1 gene plays a role in this process by mediating the dissociation of LDL receptors from endocytic vesicles, allowing their recycling to the plasma membrane.\", \"Biological Process\": \"Recycling of LDL receptors\"}'],\n",
       "     'new_ys': ['{\"Step\": \"5\", \"Relation\": \"has part\", \"Reason\": \"Formation of clathrin-coated pits is a fundamental part of the clathrin-mediated endocytosis pathway, where clathrin and adaptor proteins, potentially including ANXA2, initiate the creation of a vesicle by forming a coated pit.\", \"Biological Process\": \"Formation of clathrin-coated pits during LDL endocytosis\"}',\n",
       "      '{\"Step\": \"5\", \"Relation\": \"has part\", \"Reason\": \"Cargo selection and receptor clustering are specific events within clathrin-mediated endocytosis where LDL particles are recognized and concentrated, which would involve the LDL receptor and possibly the LDLRAP1 gene that interacts with adaptor proteins.\", \"Biological Process\": \"Cargo selection and receptor clustering in LDL endocytosis\"}',\n",
       "      '{\"Step\": \"5\", \"Relation\": \"has part\", \"Reason\": \"After the formation of the clathrin-coated vesicle and its internalization, the uncoating process releases the clathrin shell and facilitates the release of the LDL cargo into the cell, which is a more specific aspect of the endocytic process.\", \"Biological Process\": \"Vesicle uncoating and cargo release in LDL endocytosis\"}',\n",
       "      '{\"Step\": \"5\", \"Relation\": \"is a\", \"Reason\": \"The clathrin-mediated endocytosis is a more specific subtype of the recycling of LDL receptors, where clathrin plays a critical role in the formation of vesicles that transport LDL receptors back to the plasma membrane. Genes like LDLRAP1 are relevant to this process; it interacts with clathrin and adaptor proteins to mediate receptor recycling.\", \"Biological Process\": \"Clathrin-mediated LDL receptor recycling\"}',\n",
       "      '{\"Step\": \"5\", \"Relation\": \"has part\", \"Reason\": \"After endocytosis, LDL receptors are sorted in endosomes before recycling to the cell surface. This sorting is a part of the overall recycling process and is where proteins like LDLRAP1 would be involved in recognizing and sorting LDL receptors for recycling, distinguishing them from other endosomal contents.\", \"Biological Process\": \"LDL receptor sorting in endosomes\"}',\n",
       "      '{\"Step\": \"5\", \"Relation\": \"regulates\", \"Reason\": \"Phosphatidylinositol signaling can regulate the recycling process of LDL receptors by affecting the intracellular trafficking pathways. ANXA2 gene product annexin A2 has a role in this regulation by binding to phospholipids and potentially influencing endocytic recycling pathways.\", \"Biological Process\": \"Regulation of LDL receptor recycling by phosphatidylinositol signaling\"}'],\n",
       "     'values': [1, 0, 0, 0, 1, 0],\n",
       "     'select_new_ys': ['{\"Step\": \"5\", \"Relation\": \"has part\", \"Reason\": \"Formation of clathrin-coated pits is a fundamental part of the clathrin-mediated endocytosis pathway, where clathrin and adaptor proteins, potentially including ANXA2, initiate the creation of a vesicle by forming a coated pit.\", \"Biological Process\": \"Formation of clathrin-coated pits during LDL endocytosis\"}',\n",
       "      '{\"Step\": \"5\", \"Relation\": \"has part\", \"Reason\": \"After endocytosis, LDL receptors are sorted in endosomes before recycling to the cell surface. This sorting is a part of the overall recycling process and is where proteins like LDLRAP1 would be involved in recognizing and sorting LDL receptors for recycling, distinguishing them from other endosomal contents.\", \"Biological Process\": \"LDL receptor sorting in endosomes\"}']},\n",
       "    {'step': 5,\n",
       "     'x': 'LDLRAP1 SCP2D1 ANXA2 SCP2',\n",
       "     'ys': ['{\"Step\": \"5\", \"Relation\": \"has part\", \"Reason\": \"Formation of clathrin-coated pits is a fundamental part of the clathrin-mediated endocytosis pathway, where clathrin and adaptor proteins, potentially including ANXA2, initiate the creation of a vesicle by forming a coated pit.\", \"Biological Process\": \"Formation of clathrin-coated pits during LDL endocytosis\"}',\n",
       "      '{\"Step\": \"5\", \"Relation\": \"has part\", \"Reason\": \"After endocytosis, LDL receptors are sorted in endosomes before recycling to the cell surface. This sorting is a part of the overall recycling process and is where proteins like LDLRAP1 would be involved in recognizing and sorting LDL receptors for recycling, distinguishing them from other endosomal contents.\", \"Biological Process\": \"LDL receptor sorting in endosomes\"}'],\n",
       "     'new_ys': 'LDLRAP1 is known to be involved in the clathrin-mediated endocytosis of low-density lipoprotein (LDL) receptors, which is consistent with the proposed biological process of formation of clathrin-coated pits during LDL endocytosis. ANXA2, or Annexin A2, has been implicated in membrane-related events and may play a role in the formation of endocytic vesicles such as clathrin-coated pits. While SCP2D1 and SCP2 (Sterol Carrier Protein 2) are generally involved in lipid transport and metabolism, their direct involvement in clathrin-coated pit formation is less clear. Therefore, the best biological process associated with these genes, particularly LDLRAP1 and ANXA2, is the formation of clathrin-coated pits during LDL endocytosis.',\n",
       "     'values': None,\n",
       "     'select_new_ys': None}]},\n",
       "  'label': 'positive regulation of intracellular cholesterol transport',\n",
       "  'final answer similarity score': 0.3979488,\n",
       "  'best candidate process': 'Intracellular cholesterol transport',\n",
       "  'best similarity score': 0.811226,\n",
       "  'final answer similarity quantile': 0.9417062387424268,\n",
       "  'best candidate similarity quantile': 0.999263140658261,\n",
       "  'trie': <tot.methods.bfs.Trie at 0x7f89e8289910>}]"
      ]
     },
     "execution_count": 6,
     "metadata": {},
     "output_type": "execute_result"
    }
   ],
   "source": [
    "results"
   ]
  },
  {
   "cell_type": "code",
   "execution_count": 24,
   "metadata": {},
   "outputs": [
    {
     "ename": "NameError",
     "evalue": "name 'results' is not defined",
     "output_type": "error",
     "traceback": [
      "\u001b[0;31m---------------------------------------------------------------------------\u001b[0m",
      "\u001b[0;31mNameError\u001b[0m                                 Traceback (most recent call last)",
      "Cell \u001b[0;32mIn[24], line 3\u001b[0m\n\u001b[1;32m      1\u001b[0m final_ans_count \u001b[38;5;241m=\u001b[39m \u001b[38;5;241m0\u001b[39m\n\u001b[1;32m      2\u001b[0m best_candidate_count \u001b[38;5;241m=\u001b[39m \u001b[38;5;241m0\u001b[39m\n\u001b[0;32m----> 3\u001b[0m \u001b[38;5;28;01mfor\u001b[39;00m res \u001b[38;5;129;01min\u001b[39;00m results:\n\u001b[1;32m      4\u001b[0m     final_ans_count \u001b[38;5;241m+\u001b[39m\u001b[38;5;241m=\u001b[39m \u001b[38;5;28mint\u001b[39m(res[\u001b[38;5;124m'\u001b[39m\u001b[38;5;124mfinal answer similarity quantile\u001b[39m\u001b[38;5;124m'\u001b[39m] \u001b[38;5;241m>\u001b[39m\u001b[38;5;241m=\u001b[39m \u001b[38;5;241m.98\u001b[39m)\n\u001b[1;32m      5\u001b[0m     best_candidate_count \u001b[38;5;241m+\u001b[39m\u001b[38;5;241m=\u001b[39m \u001b[38;5;28mint\u001b[39m(res[\u001b[38;5;124m'\u001b[39m\u001b[38;5;124mbest candidate similarity quantile\u001b[39m\u001b[38;5;124m'\u001b[39m] \u001b[38;5;241m>\u001b[39m\u001b[38;5;241m=\u001b[39m \u001b[38;5;241m.98\u001b[39m)\n",
      "\u001b[0;31mNameError\u001b[0m: name 'results' is not defined"
     ]
    }
   ],
   "source": [
    "final_ans_count = 0\n",
    "best_candidate_count = 0\n",
    "for res in results:\n",
    "    final_ans_count += int(res['final answer similarity quantile'] >= .98)\n",
    "    best_candidate_count += int(res['best candidate similarity quantile'] >= .98)"
   ]
  },
  {
   "cell_type": "code",
   "execution_count": 30,
   "metadata": {},
   "outputs": [
    {
     "data": {
      "text/plain": [
       "(8, 15)"
      ]
     },
     "execution_count": 30,
     "metadata": {},
     "output_type": "execute_result"
    }
   ],
   "source": [
    "final_ans_count, best_candidate_count"
   ]
  },
  {
   "cell_type": "code",
   "execution_count": 34,
   "metadata": {},
   "outputs": [
    {
     "data": {
      "image/png": "[encoded data removed]",
      "text/plain": [
       "<Figure size 640x480 with 1 Axes>"
      ]
     },
     "metadata": {},
     "output_type": "display_data"
    }
   ],
   "source": [
    "final_ans_scores = []\n",
    "best_candidate_scores = []\n",
    "for res in results:\n",
    "    final_ans_scores.append(res['final answer similarity score'])\n",
    "    best_candidate_scores.append(res['best similarity score'])\n",
    "\n",
    "import matplotlib.pyplot as plt\n",
    "plt.hist(final_ans_scores, alpha=0.7, label='Final Answer', color='blue', density=True)\n",
    "plt.hist(best_candidate_scores, alpha=0.7, label='Best Candidate', color='seagreen', density=True)\n",
    "plt.xlabel('Similarity Score')\n",
    "plt.ylabel('Count')\n",
    "plt.legend(['Final Answer', 'Best Candidate'])\n",
    "plt.show()"
   ]
  },
  {
   "cell_type": "code",
   "execution_count": null,
   "metadata": {},
   "outputs": [],
   "source": []
  }
 ],
 "metadata": {
  "kernelspec": {
   "display_name": "Python 3 (ipykernel)",
   "language": "python",
   "name": "python3"
  },
  "language_info": {
   "codemirror_mode": {
    "name": "ipython",
    "version": 3
   },
   "file_extension": ".py",
   "mimetype": "text/x-python",
   "name": "python",
   "nbconvert_exporter": "python",
   "pygments_lexer": "ipython3",
   "version": "3.11.4"
  }
 },
 "nbformat": 4,
 "nbformat_minor": 2
}
