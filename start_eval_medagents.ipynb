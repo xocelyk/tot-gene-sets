{
 "cells": [
  {
   "cell_type": "code",
   "execution_count": 1,
   "metadata": {},
   "outputs": [],
   "source": [
    "import sys\n",
    "sys.path.insert(0, 'src') \n",
    "import os\n",
    "import json\n",
    "from functools import partial\n",
    "import numpy as np\n",
    "import pandas as pd\n",
    "import matplotlib.pyplot as plt\n",
    "import seaborn as sns\n",
    "import pickle\n",
    "import time\n",
    "import pickle\n",
    "from tqdm import tqdm"
   ]
  },
  {
   "cell_type": "markdown",
   "metadata": {},
   "source": [
    "TODO:\n",
    "- Pickle all of the trees that are generated (so we can retroactively do different evals)\n",
    "- Cache BP embeddings, pass list of embeddings to BERT to generate background distribution\n",
    "- Increase number of layers to 5\n",
    "- Zero-shot and few-shot"
   ]
  },
  {
   "cell_type": "code",
   "execution_count": 2,
   "metadata": {},
   "outputs": [],
   "source": [
    "%reload_ext autoreload\n",
    "%autoreload 2"
   ]
  },
  {
   "cell_type": "code",
   "execution_count": 3,
   "metadata": {},
   "outputs": [],
   "source": [
    "import argparse\n",
    "from tot.methods.bfs import solve\n",
    "from tot.tasks.bio_name import Bio_Name"
   ]
  },
  {
   "cell_type": "code",
   "execution_count": 4,
   "metadata": {},
   "outputs": [],
   "source": [
    "args = argparse.Namespace(backend='gpt-4-1106-preview', temperature=0.7, task='bio_name', naive_run=False, prompt_sample=None, method_generate='sample_bionames', method_evaluate='votes_for_bionames', method_select='greedy', n_generate_sample=3, n_evaluate_sample=2, n_select_sample=2)\n",
    "# args = argparse.Namespace(backend='gpt-3.5-turbo-1106', temperature=0.7, task='bio_name', naive_run=False, prompt_sample=None, method_generate='sample_bionames', method_evaluate='votes_for_bionames', method_select='greedy', n_generate_sample=3, n_evaluate_sample=2, n_select_sample=2)\n",
    "task = Bio_Name()"
   ]
  },
  {
   "cell_type": "markdown",
   "metadata": {},
   "source": []
  },
  {
   "cell_type": "code",
   "execution_count": 5,
   "metadata": {},
   "outputs": [],
   "source": [
    "# import pandas as pd\n",
    "# filename = 'src/tot/data/gene_sets/go_terms.csv'\n",
    "# df = pd.read_csv(filename, header=None, encoding='latin1')\n",
    "# df.dropna(inplace=True)\n",
    "# df.columns = ['_', '_', 'genes', 'count', 'process']\n",
    "# df.head()"
   ]
  },
  {
   "cell_type": "code",
   "execution_count": 6,
   "metadata": {},
   "outputs": [],
   "source": [
    "# x = df['genes'].tolist()\n",
    "# y = df['process'].tolist()\n",
    "# with open('src/tot/data/gene_sets/x.txt', 'w') as f:\n",
    "#     for el in x:\n",
    "#         f.write(el + '\\n')\n",
    "        \n",
    "# with open('src/tot/data/gene_sets/y.txt', 'w') as f:\n",
    "#     for el in y:\n",
    "#         f.write(el + '\\n')"
   ]
  },
  {
   "cell_type": "code",
   "execution_count": 7,
   "metadata": {},
   "outputs": [],
   "source": [
    "# import pandas as pd\n",
    "# filename = 'src/tot/data/gene_sets/1000_selected_go_terms.csv'\n",
    "# df = pd.read_csv(filename, header=0, encoding='latin1')\n",
    "# print(df.head())\n",
    "# df.dropna(inplace=True)\n",
    "# df.columns = ['_', 'genes', 'count', 'process']\n",
    "# df.head()"
   ]
  },
  {
   "cell_type": "code",
   "execution_count": 8,
   "metadata": {},
   "outputs": [],
   "source": [
    "# x = df['genes'].tolist()\n",
    "# y = df['process'].tolist()\n",
    "# with open('src/tot/data/gene_sets/x_eval.txt', 'w') as f:\n",
    "#     for el in x:\n",
    "#         f.write(el + '\\n')\n",
    "        \n",
    "# with open('src/tot/data/gene_sets/y_eval.txt', 'w') as f:\n",
    "#     for el in y:\n",
    "#         f.write(el + '\\n')"
   ]
  },
  {
   "cell_type": "code",
   "execution_count": 9,
   "metadata": {},
   "outputs": [],
   "source": [
    "from transformers import AutoTokenizer, AutoModel\n",
    "from sklearn.metrics.pairwise import cosine_similarity\n",
    "import numpy as np\n",
    "import torch\n",
    "\n",
    "SapBERT_tokenizer = AutoTokenizer.from_pretrained('cambridgeltl/SapBERT-from-PubMedBERT-fulltext')\n",
    "SapBERT_model = AutoModel.from_pretrained('cambridgeltl/SapBERT-from-PubMedBERT-fulltext')"
   ]
  },
  {
   "cell_type": "code",
   "execution_count": 10,
   "metadata": {},
   "outputs": [],
   "source": [
    "def mean_pooling(model_output, attention_mask):\n",
    "    token_embeddings = model_output[0] #First element of model_output contains all token embeddings\n",
    "    input_mask_expanded = attention_mask.unsqueeze(-1).expand(token_embeddings.size()).float()\n",
    "    return torch.sum(token_embeddings * input_mask_expanded, 1) / torch.clamp(input_mask_expanded.sum(1), min=1e-9)"
   ]
  },
  {
   "cell_type": "code",
   "execution_count": 11,
   "metadata": {},
   "outputs": [],
   "source": [
    "def getSentenceEmbedding(sentence, tokenizer, model):\n",
    "    # Tokenize sentences\n",
    "    encoded_input = tokenizer(sentence, padding=True, truncation=True, return_tensors='pt')\n",
    "\n",
    "    # Compute token embeddings\n",
    "    with torch.no_grad():\n",
    "        model_output = model(**encoded_input)\n",
    "        \n",
    "    # Perform pooling. In this case, mean pooling.\n",
    "    sentence_embedding = mean_pooling(model_output, encoded_input['attention_mask'])\n",
    "    \n",
    "    return sentence_embedding"
   ]
  },
  {
   "cell_type": "code",
   "execution_count": 12,
   "metadata": {},
   "outputs": [],
   "source": [
    "# filename = 'src/tot/data/gene_sets/go_terms.csv'\n",
    "# all_terms_df = pd.read_csv(filename, header=None, encoding='latin1')\n",
    "# all_terms_df.dropna(inplace=True)\n",
    "# all_terms_df.columns = ['_', '_', 'genes', 'count', 'process']"
   ]
  },
  {
   "cell_type": "code",
   "execution_count": 13,
   "metadata": {},
   "outputs": [],
   "source": [
    "# # get embedding for all biological processes\n",
    "# from tqdm import tqdm\n",
    "# all_go_terms = all_terms_df['process'].unique().tolist()\n",
    "# all_go_terms_embeddings_dict = {}\n",
    "# for term in tqdm(all_go_terms):\n",
    "#     all_go_terms_embeddings_dict[term] = getSentenceEmbedding(term, SapBERT_tokenizer, SapBERT_model).numpy()"
   ]
  },
  {
   "cell_type": "code",
   "execution_count": 14,
   "metadata": {},
   "outputs": [],
   "source": [
    "# import pickle\n",
    "# with open('src/tot/data/gene_sets/all_go_terms_embeddings_dict.pkl', 'wb') as f:\n",
    "#     pickle.dump(all_go_terms_embeddings_dict, f)"
   ]
  },
  {
   "cell_type": "code",
   "execution_count": 15,
   "metadata": {},
   "outputs": [],
   "source": [
    "all_go_terms_embeddings_dict = pickle.load(open('src/tot/data/gene_sets/all_go_terms_embeddings_dict.pkl', 'rb'))"
   ]
  },
  {
   "cell_type": "code",
   "execution_count": 16,
   "metadata": {},
   "outputs": [],
   "source": [
    "# def getSentenceSimilarity(sentence1, sentence2, tokenizer, model, simMetric):\n",
    "#     if sentence1 in embeddings_dict.keys():\n",
    "#         sentence1_embedding = embeddings_dict[sentence1]\n",
    "#     else:\n",
    "#         sentence1_embedding = getSentenceEmbedding(sentence1, tokenizer, model)\n",
    "#     if sentence2 not in embeddings_dict.keys():\n",
    "#         sentence2_embedding = embeddings_dict[sentence2]\n",
    "#     else:\n",
    "#         sentence2_embedding = getSentenceEmbedding(sentence2, tokenizer, model)\n",
    "    \n",
    "#     if simMetric == \"cosine_similarity\":\n",
    "#         sentenceSim = cosine_similarity(sentence1_embedding, sentence2_embedding)[0][0]\n",
    "#     # ToDo: add other simMetrics\n",
    "#     #elif simMetric == \"cosine_similarity_primitive\": # use primitive operations\n",
    "#    #     sentenceSim = np.dot(sentence1_embedding, sentence2_embedding)/(norm(sentence1_embedding)*norm(sentence2_embedding))\n",
    "    \n",
    "#     return sentenceSim, sentence1_embedding, sentence2_embedding"
   ]
  },
  {
   "cell_type": "code",
   "execution_count": 17,
   "metadata": {},
   "outputs": [],
   "source": [
    "# def similarity_score(x, y):\n",
    "#     return getSentenceSimilarity(x, y, SapBERT_tokenizer, SapBERT_model, \"cosine_similarity\")[0]"
   ]
  },
  {
   "cell_type": "code",
   "execution_count": 18,
   "metadata": {},
   "outputs": [],
   "source": [
    "def similarity_score(pred, label):\n",
    "    pred_embedding = getSentenceEmbedding(pred, SapBERT_tokenizer, SapBERT_model)\n",
    "    label_embedding = all_go_terms_embeddings_dict[label]\n",
    "    similarity_score = cosine_similarity(pred_embedding, label_embedding)[0][0]\n",
    "    return similarity_score\n",
    "\n",
    "def similarity_percentile(similarity_score, pred):\n",
    "    pred_embedding = getSentenceEmbedding(pred, SapBERT_tokenizer, SapBERT_model)\n",
    "    null_dist = []\n",
    "    for term in all_go_terms_embeddings_dict.keys():\n",
    "        term_embedding = all_go_terms_embeddings_dict[term]\n",
    "        sentenceSim = cosine_similarity(pred_embedding, term_embedding)[0][0]\n",
    "        null_dist.append(sentenceSim)\n",
    "    # get similarity percentile\n",
    "    null_dist = np.array(null_dist)\n",
    "    # return the fraction of scores that are smaller than the candidate\n",
    "    percentile = (null_dist < similarity_score).mean()\n",
    "    return percentile"
   ]
  },
  {
   "cell_type": "markdown",
   "metadata": {},
   "source": [
    "null distribution of sim scores: random assignment of different pairs of labels\n",
    "compare the sim score of the answer to true label to null distribution -> p value (sim score greater than 98% of random sim scores for example)\n",
    "500/1000 had p > .98"
   ]
  },
  {
   "cell_type": "code",
   "execution_count": 19,
   "metadata": {},
   "outputs": [],
   "source": [
    "def test_example(args, task, idx):\n",
    "    label = task.get_label(idx)\n",
    "    final_answer, ys, steps, trie = solve(args, task, idx)\n",
    "    return final_answer, ys, steps, trie, label\n"
   ]
  },
  {
   "cell_type": "code",
   "execution_count": 20,
   "metadata": {},
   "outputs": [],
   "source": [
    "def get_all_candidate_bio_processes(steps):\n",
    "    candidate_processes = []\n",
    "    step_count = 0\n",
    "    for step in steps['steps'][:-1]:\n",
    "        step_count += 1\n",
    "        new_ys = [json.loads(step['new_ys'][i]) for i in range(len(step['new_ys']))]\n",
    "        new_bio_processes = [y['Biological Process'] for y in new_ys]\n",
    "        candidate_processes.extend(new_bio_processes)\n",
    "    candidate_processes = list(set(candidate_processes))\n",
    "    return candidate_processes\n",
    "    "
   ]
  },
  {
   "cell_type": "code",
   "execution_count": 21,
   "metadata": {},
   "outputs": [],
   "source": [
    "def get_best_candidate_bio_process(candidate_processes, label):\n",
    "    scores = [similarity_score(candidate_process, label) for candidate_process in candidate_processes]\n",
    "    best_candidate_process = candidate_processes[np.argmax(scores)]\n",
    "    return best_candidate_process, np.max(scores)"
   ]
  },
  {
   "cell_type": "code",
   "execution_count": 22,
   "metadata": {},
   "outputs": [],
   "source": [
    "from tot.models import *\n",
    "gpt = partial(gpt, model=args.backend, temperature=args.temperature)\n",
    "def get_gpt_similarity_score(process1, process2):\n",
    "    system_message, user_message = task.similarity_prompt_wrap(process1, process2)\n",
    "    response = gpt(system_message, user_message)\n",
    "    similarity_score = task.unwrap_similarity(response)\n",
    "    return similarity_score"
   ]
  },
  {
   "cell_type": "code",
   "execution_count": 23,
   "metadata": {},
   "outputs": [],
   "source": [
    "import os\n",
    "os.environ[\"TOKENIZERS_PARALLELISM\"] = \"false\"\n"
   ]
  },
  {
   "cell_type": "code",
   "execution_count": 24,
   "metadata": {},
   "outputs": [],
   "source": [
    "def test_example_wrap(idx, task, args):\n",
    "    final_answer, ys, steps, trie, label = test_example(args, task, idx)\n",
    "    print(f'idx: {idx} done')\n",
    "    candidate_processes = get_all_candidate_bio_processes(steps)\n",
    "    best_candidate_process, best_candidate_similarity_score = get_best_candidate_bio_process(candidate_processes, label)\n",
    "    final_answer_similarity_score = similarity_score(final_answer, label)\n",
    "    final_answer_similarity_quantile = similarity_percentile(final_answer_similarity_score, final_answer)\n",
    "    best_candidate_similarity_quantile = similarity_percentile(best_candidate_similarity_score, best_candidate_process)\n",
    "    print('Index:', idx)\n",
    "    print('Final answer:', final_answer)\n",
    "    print('True answer:', label.strip())\n",
    "    print('Final answer similarity score:', similarity_score(final_answer, label))\n",
    "    print('Best candidate process:', best_candidate_process)\n",
    "    print('Best candidate similarity score:', best_candidate_similarity_score)\n",
    "    print('Final Answer Similarity Quantile:', final_answer_similarity_quantile)\n",
    "    print('Best Candidate Similarity Quantile:', best_candidate_similarity_quantile)\n",
    "    print()\n",
    "    return {'index': idx, 'final answer': final_answer, 'ys': ys, 'steps': steps, 'label': label, 'final answer similarity score': final_answer_similarity_score,'best candidate process': best_candidate_process, 'best similarity score': best_candidate_similarity_score,\n",
    "            'final answer similarity quantile': final_answer_similarity_quantile, 'best candidate similarity quantile': best_candidate_similarity_quantile, 'trie': trie}"
   ]
  },
  {
   "cell_type": "code",
   "execution_count": 25,
   "metadata": {},
   "outputs": [],
   "source": [
    "# save_file = 'results/eval_tot_0_99.pkl'\n",
    "# eval_indices = range(12, 50)\n",
    "# results = []\n",
    "# for idx in tqdm(eval_indices):\n",
    "#     start = time.time()\n",
    "#     results.append(test_example_wrap(idx, task_tot))\n",
    "#     with open(save_file, 'wb') as f:\n",
    "#         pickle.dump(results, f)\n",
    "#     print('Time taken:', time.time() - start)\n",
    "#     print()"
   ]
  },
  {
   "cell_type": "code",
   "execution_count": 26,
   "metadata": {},
   "outputs": [],
   "source": [
    "def eval_100(task, save_filename, args):\n",
    "    eval_indices = range(0, 50)\n",
    "    results = []\n",
    "    for idx in tqdm(eval_indices):\n",
    "        start = time.time()\n",
    "        results.append(test_example_wrap(idx, task, args))\n",
    "        with open(save_filename, 'wb') as f:\n",
    "            pickle.dump(results, f)\n",
    "        print('Time taken:', time.time() - start)\n",
    "        print()"
   ]
  },
  {
   "cell_type": "code",
   "execution_count": 27,
   "metadata": {},
   "outputs": [],
   "source": [
    "# args = argparse.Namespace(backend='gpt-4-1106-preview', temperature=0.7, \\\n",
    "#                           task='bio_name', naive_run=False, prompt_sample=None, \\\n",
    "#                           method_generate='sample_bionames', method_evaluate='votes_for_bionames', \\\n",
    "#                           method_select='greedy', n_generate_sample=3, n_evaluate_sample=2, n_select_sample=2)\n",
    "# # args = argparse.Namespace(backend='gpt-3.5-turbo-1106', temperature=0.7, task='bio_name', naive_run=False, prompt_sample=None, method_generate='sample_bionames', method_evaluate='votes_for_bionames', method_select='greedy', n_generate_sample=3, n_evaluate_sample=2, n_select_sample=2)\n",
    "# task_tot = Bio_Name()\n",
    "# save_file = 'results/eval_tot_0_99.pkl'\n",
    "# eval_100(task_tot, save_file)"
   ]
  },
  {
   "cell_type": "code",
   "execution_count": 28,
   "metadata": {},
   "outputs": [],
   "source": [
    "# args = argparse.Namespace(backend='gpt-4-1106-preview', temperature=0.7, task='bio_name', naive_run=False, \\\n",
    "#                           prompt_sample=None, method_generate='sample_bionames', \\\n",
    "#                           method_evaluate='multi_voters', method_select='greedy', n_generate_sample=3, \\\n",
    "#                           n_evaluate_sample=2, n_select_sample=2, \\\n",
    "#                           source='GO:BP', bio_type=\"Biological Process\",filter_method='sim', filter_size=5, voting_setting=None,\\\n",
    "#                          )\n",
    "            \n",
    "# task_gprofiler = Bio_Name()\n",
    "# save_file = 'results/eval_gprofiler_0_99.pkl'\n",
    "# eval_100(task_gprofiler, save_file, args)"
   ]
  },
  {
   "cell_type": "code",
   "execution_count": null,
   "metadata": {
    "scrolled": false
   },
   "outputs": [
    {
     "name": "stderr",
     "output_type": "stream",
     "text": [
      "\r",
      "  0%|                                                                                            | 0/50 [00:00<?, ?it/s]"
     ]
    },
    {
     "name": "stdout",
     "output_type": "stream",
     "text": [
      "running 0/5 step\n"
     ]
    },
    {
     "name": "stderr",
     "output_type": "stream",
     "text": [
      "Asking to truncate to max_length but no maximum length is provided and the model has no predefined maximum length. Default to no truncation.\n"
     ]
    },
    {
     "name": "stdout",
     "output_type": "stream",
     "text": [
      "Generating response for engine:  gpt-4-1106-preview\n",
      "Finish!\n",
      "Time taken:  3.8327243328094482\n",
      "Generating response for engine:  gpt-4-1106-preview\n",
      "Finish!\n",
      "Time taken:  2.1497368812561035\n",
      "Generating response for engine:  gpt-4-1106-preview\n",
      "Finish!\n",
      "Time taken:  29.95856237411499\n",
      "Generating response for engine:  gpt-4-1106-preview\n",
      "Finish!\n",
      "Time taken:  16.522950887680054\n",
      "Generating response for engine:  gpt-4-1106-preview\n",
      "Finish!\n",
      "Time taken:  13.552570104598999\n",
      "Generating response for engine:  gpt-4-1106-preview\n",
      "Finish!\n",
      "Time taken:  23.358925819396973\n",
      "Generating response for engine:  gpt-4-1106-preview\n",
      "Finish!\n",
      "Time taken:  15.956515073776245\n",
      "Generating response for engine:  gpt-4-1106-preview\n",
      "Finish!\n",
      "Time taken:  13.31221628189087\n",
      "Generating response for engine:  gpt-4-1106-preview\n",
      "Finish!\n",
      "Time taken:  27.3569495677948\n",
      "Generating response for engine:  gpt-4-1106-preview\n",
      "Finish!\n",
      "Time taken:  34.2289502620697\n",
      "Generating response for engine:  gpt-4-1106-preview\n",
      "Finish!\n",
      "Time taken:  0.5583467483520508\n",
      "Molecular Biology domain_opinion yes\n",
      "Generating response for engine:  gpt-4-1106-preview\n",
      "Finish!\n",
      "Time taken:  1.852738857269287\n",
      "Genetics domain_opinion yes\n",
      "Generating response for engine:  gpt-4-1106-preview\n",
      "Finish!\n",
      "Time taken:  0.9049718379974365\n",
      "Biochemistry domain_opinion yes\n",
      "Generating response for engine:  gpt-4-1106-preview\n",
      "Finish!\n",
      "Time taken:  0.9692986011505127\n",
      "Cell Biology domain_opinion yes\n",
      "Generating response for engine:  gpt-4-1106-preview\n",
      "Finish!\n",
      "Time taken:  1.9696002006530762\n",
      "Systems Biology domain_opinion yes\n",
      "Generating response for engine:  gpt-4-1106-preview\n",
      "Finish!\n",
      "Time taken:  0.5637485980987549\n",
      "Molecular Biology domain_opinion yes\n",
      "Generating response for engine:  gpt-4-1106-preview\n",
      "Finish!\n",
      "Time taken:  1.0645952224731445\n",
      "Cell Biology domain_opinion yes\n",
      "Generating response for engine:  gpt-4-1106-preview\n",
      "Finish!\n",
      "Time taken:  1.90390944480896\n",
      "Time taken: 216.2651355266571\n",
      "running 1/5 step\n"
     ]
    }
   ],
   "source": [
    "import argparse\n",
    "\n",
    "medagents_config = {'model_name':'gpt-4-1106-preview', \\\n",
    "                    'method':'syn_verif', \\\n",
    "                    'max_attempt_vote':3,\\\n",
    "                    'ans_num':2,\\\n",
    "                    'numerical':True\n",
    "                   }\n",
    "\n",
    "tot_config = {'backend':'gpt-4-1106-preview', 'temperature':0.7, 'task':'bio_name', 'naive_run':False, \\\n",
    "              'prompt_sample':None, 'method_generate':'sample_bionames', \\\n",
    "              'method_evaluate':'medagents_w_tools', 'method_select':'greedy', \\\n",
    "              'n_generate_sample':3, 'n_evaluate_sample':2, 'n_select_sample':2, \\\n",
    "              'source':'GO:BP', 'bio_type':\"Biological Process\",'filter_method':'sim', \\\n",
    "              'filter_size':5, 'voting_setting':None}\n",
    "\n",
    "args_config = {**medagents_config, **tot_config}\n",
    "args = argparse.Namespace(**args_config)\n",
    "task_medagents_gprofiler = Bio_Name()\n",
    "save_file = 'results/eval_medagents_gprofiler_0_99.pkl'\n",
    "eval_100(task_medagents_gprofiler, save_file, args)"
   ]
  },
  {
   "cell_type": "code",
   "execution_count": 29,
   "metadata": {},
   "outputs": [],
   "source": [
    "final_ans_count = 0\n",
    "best_candidate_count = 0\n",
    "for res in results:\n",
    "    final_ans_count += int(res['final answer similarity quantile'] >= .98)\n",
    "    best_candidate_count += int(res['best candidate similarity quantile'] >= .98)"
   ]
  },
  {
   "cell_type": "code",
   "execution_count": 30,
   "metadata": {},
   "outputs": [
    {
     "data": {
      "text/plain": [
       "(8, 15)"
      ]
     },
     "execution_count": 30,
     "metadata": {},
     "output_type": "execute_result"
    }
   ],
   "source": [
    "final_ans_count, best_candidate_count"
   ]
  },
  {
   "cell_type": "code",
   "execution_count": 34,
   "metadata": {},
   "outputs": [
    {
     "data": {
      "image/png": "[encoded data removed]",
      "text/plain": [
       "<Figure size 640x480 with 1 Axes>"
      ]
     },
     "metadata": {},
     "output_type": "display_data"
    }
   ],
   "source": [
    "final_ans_scores = []\n",
    "best_candidate_scores = []\n",
    "for res in results:\n",
    "    final_ans_scores.append(res['final answer similarity score'])\n",
    "    best_candidate_scores.append(res['best similarity score'])\n",
    "\n",
    "import matplotlib.pyplot as plt\n",
    "plt.hist(final_ans_scores, alpha=0.7, label='Final Answer', color='blue', density=True)\n",
    "plt.hist(best_candidate_scores, alpha=0.7, label='Best Candidate', color='seagreen', density=True)\n",
    "plt.xlabel('Similarity Score')\n",
    "plt.ylabel('Count')\n",
    "plt.legend(['Final Answer', 'Best Candidate'])\n",
    "plt.show()"
   ]
  },
  {
   "cell_type": "code",
   "execution_count": null,
   "metadata": {},
   "outputs": [],
   "source": []
  }
 ],
 "metadata": {
  "kernelspec": {
   "display_name": "Python 3 (ipykernel)",
   "language": "python",
   "name": "python3"
  },
  "language_info": {
   "codemirror_mode": {
    "name": "ipython",
    "version": 3
   },
   "file_extension": ".py",
   "mimetype": "text/x-python",
   "name": "python",
   "nbconvert_exporter": "python",
   "pygments_lexer": "ipython3",
   "version": "3.11.4"
  }
 },
 "nbformat": 4,
 "nbformat_minor": 2
}
