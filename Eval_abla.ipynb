{
 "cells": [
  {
   "cell_type": "code",
   "execution_count": 1,
   "id": "81953d0d",
   "metadata": {},
   "outputs": [],
   "source": [
    "import pickle\n",
    "\n",
    "import sys\n",
    "sys.path.insert(0, 'src') \n",
    "sys.path.insert(0, '/data/ch52669/gene_interaction/tot-gene-sets/MedAgents') \n",
    "import os\n",
    "import json\n",
    "from functools import partial\n",
    "\n",
    "import seaborn as sns"
   ]
  },
  {
   "cell_type": "code",
   "execution_count": 19,
   "id": "5001b370",
   "metadata": {},
   "outputs": [],
   "source": [
    "import matplotlib.pyplot as plt\n",
    "import seaborn as sns"
   ]
  },
  {
   "cell_type": "code",
   "execution_count": 10,
   "id": "d6531390",
   "metadata": {},
   "outputs": [],
   "source": [
    "import numpy as np\n",
    "from transformers import AutoTokenizer, AutoModel\n",
    "from sklearn.metrics.pairwise import cosine_similarity\n",
    "import torch\n",
    "from scipy.stats import pearsonr, spearmanr\n",
    "\n",
    "    \n",
    "SapBERT_tokenizer = AutoTokenizer.from_pretrained('cambridgeltl/SapBERT-from-PubMedBERT-fulltext')\n",
    "SapBERT_model = AutoModel.from_pretrained('cambridgeltl/SapBERT-from-PubMedBERT-fulltext')"
   ]
  },
  {
   "cell_type": "code",
   "execution_count": 101,
   "id": "09678592",
   "metadata": {},
   "outputs": [
    {
     "name": "stdout",
     "output_type": "stream",
     "text": [
      "50\n",
      "50\n",
      "50\n",
      "29\n",
      "43\n",
      "29\n"
     ]
    }
   ],
   "source": [
    "data_size = 50\n",
    "\n",
    "with open('results2/tot_eval_uncertainty_5steps_abla_uncertain_False.pkl', 'rb') as f:\n",
    "    tot_results_gpt3_abla = pickle.load(f)\n",
    "    tot_results_gpt3_abla = tot_results_gpt3_abla[:data_size]\n",
    "    print(len(tot_results_gpt3_abla))\n",
    "    \n",
    "\n",
    "with open('results2/tot_eval_uncertainty_5steps_3.pkl', 'rb') as f:\n",
    "    tot_results_gpt3 = pickle.load(f)\n",
    "    tot_results_gpt3 = tot_results_gpt3[:data_size]\n",
    "    print(len(tot_results_gpt3))\n",
    "    \n",
    "with open('results2/tot_eval_uncertainty_5steps_abla_uncertain_False_th08.pkl', 'rb') as f:\n",
    "    tot_results_gpt3_abla08 = pickle.load(f)\n",
    "    tot_results_gpt3_abla08 = tot_results_gpt3_abla08[:data_size]\n",
    "    print(len(tot_results_gpt3_abla08))\n",
    "    \n",
    "with open('results2/tot_eval_uncertainty_5steps_abla_uncertain_False_th05.pkl', 'rb') as f:\n",
    "    tot_results_gpt3_abla05 = pickle.load(f)\n",
    "    tot_results_gpt3_abla05 = tot_results_gpt3_abla05[26:30] + tot_results_gpt3_abla05[:25] #+ tot_results_gpt3_abla05[32:]\n",
    "    print(len(tot_results_gpt3_abla05))\n",
    "    \n",
    "with open('results2/tot_eval_uncertainty_5steps_abla_uncertain_False_th098.pkl', 'rb') as f:\n",
    "    tot_results_gpt3_abla098 = pickle.load(f)\n",
    "    tot_results_gpt3_abla098 = tot_results_gpt3_abla098[:data_size]\n",
    "    print(len(tot_results_gpt3_abla098))\n",
    "\n",
    "with open('results2/tot_eval_uncertainty_5steps_15gen_th09.pkl', 'rb') as f:\n",
    "    tot_results_abla_15gen_th09 = pickle.load(f)\n",
    "    tot_results_abla_15gen_th09 = tot_results_abla_15gen_th09[:data_size]\n",
    "    print(len(tot_results_abla_15gen_th09))"
   ]
  },
  {
   "cell_type": "code",
   "execution_count": 102,
   "id": "d5f97de3",
   "metadata": {
    "scrolled": true
   },
   "outputs": [
    {
     "name": "stdout",
     "output_type": "stream",
     "text": [
      "0\n",
      "1\n",
      "2\n",
      "3\n",
      "4\n",
      "5\n",
      "6\n",
      "7\n",
      "8\n",
      "9\n",
      "10\n",
      "11\n",
      "12\n",
      "13\n",
      "14\n",
      "15\n",
      "16\n",
      "17\n",
      "18\n",
      "19\n",
      "20\n",
      "21\n",
      "22\n",
      "23\n",
      "24\n",
      "25\n",
      "26\n",
      "27\n",
      "28\n",
      "28\n",
      "29\n",
      "30\n",
      "31\n",
      "32\n",
      "33\n",
      "34\n",
      "35\n",
      "36\n",
      "37\n",
      "38\n",
      "39\n",
      "40\n",
      "41\n"
     ]
    }
   ],
   "source": [
    "for i in tot_results_gpt3_abla098:\n",
    "    print(i['index'])"
   ]
  },
  {
   "cell_type": "code",
   "execution_count": 37,
   "id": "ac94eaeb",
   "metadata": {},
   "outputs": [],
   "source": [
    "def getSentenceEmbedding(sentence, tokenizer, model):\n",
    "    # Tokenize sentences\n",
    "    encoded_input = tokenizer(sentence, padding=True, truncation=True, return_tensors='pt')\n",
    "\n",
    "    # Compute token embeddings\n",
    "    with torch.no_grad():\n",
    "        model_output = model(**encoded_input)\n",
    "        \n",
    "    # Perform pooling. In this case, mean pooling.\n",
    "    sentence_embedding = model_output.last_hidden_state.mean(dim=1)#mean_pooling(model_output, encoded_input['attention_mask'])\n",
    "    \n",
    "    return sentence_embedding\n"
   ]
  },
  {
   "cell_type": "code",
   "execution_count": 13,
   "id": "1524d080",
   "metadata": {},
   "outputs": [
    {
     "name": "stderr",
     "output_type": "stream",
     "text": [
      "/tmp/ipykernel_3614049/3675436393.py:5: TqdmDeprecationWarning: This function will be removed in tqdm==5.0.0\n",
      "Please use `tqdm.notebook.tqdm` instead of `tqdm.tqdm_notebook`\n",
      "  for result in tqdm_notebook(result):\n"
     ]
    },
    {
     "data": {
      "application/vnd.jupyter.widget-view+json": {
       "model_id": "69b0d165cf9942f2ab5a54dd4475d7fb",
       "version_major": 2,
       "version_minor": 0
      },
      "text/plain": [
       "  0%|          | 0/100 [00:00<?, ?it/s]"
      ]
     },
     "metadata": {},
     "output_type": "display_data"
    },
    {
     "data": {
      "application/vnd.jupyter.widget-view+json": {
       "model_id": "1954bc110dd8460b81301cd8d8d1a2ac",
       "version_major": 2,
       "version_minor": 0
      },
      "text/plain": [
       "  0%|          | 0/100 [00:00<?, ?it/s]"
      ]
     },
     "metadata": {},
     "output_type": "display_data"
    }
   ],
   "source": [
    "from tqdm import tqdm_notebook\n",
    "\n",
    "def process_result(result):\n",
    "    all_list = []\n",
    "    for result in tqdm_notebook(result):\n",
    "        label = result['label']\n",
    "        name_all_list = {'layer':[], 'label':label}\n",
    "        for i, t in enumerate(result['steps']['steps']):\n",
    "            x = t['x']\n",
    "            if i == len(result['steps']['steps'])-1:\n",
    "                break\n",
    "            name_all_list['layer'].append({'names':[]})\n",
    "            freqeuncy = []\n",
    "            for item in t['sorted_grouped_items']:\n",
    "                names = list(item[1])[0]\n",
    "                names = names.split(', ')\n",
    "                occur = len(names)\n",
    "                name = names[0]\n",
    "                name_all_list['layer'][i]['names'].append(name)\n",
    "                freqeuncy.append(occur)\n",
    "            freqeuncy = [f/sum(freqeuncy) for f in freqeuncy]\n",
    "    #         votes = t['votes']\n",
    "            values = t['values']\n",
    "            name_all_list['layer'][i].update({'frequency':freqeuncy})\n",
    "    #         entropy = normalized_compute_entropy(np.array(freqeuncy))\n",
    "    #         name_all_list['layer'][i].update({'entropy':entropy})\n",
    "    #         name_all_list['layer'][i].update({'genes':x})\n",
    "    #         name_all_list['layer'][i].update({'votes':votes})\n",
    "            name_all_list['layer'][i].update({'values':values})\n",
    "        all_list.append(name_all_list)\n",
    "    return all_list\n",
    "\n",
    "process_tot_results_gpt3_abla = process_result(tot_results_gpt3_abla)\n",
    "process_tot_results_gpt3 = process_result(tot_results_gpt3)"
   ]
  },
  {
   "cell_type": "code",
   "execution_count": 20,
   "id": "f9eff6e4",
   "metadata": {},
   "outputs": [
    {
     "name": "stdout",
     "output_type": "stream",
     "text": [
      "Layer_1\n",
      "avg sim: 0.35741055755087964\n",
      "Layer_2\n",
      "avg sim: 0.41049347147628834\n",
      "Layer_3\n",
      "avg sim: 0.4221210677236994\n",
      "Layer_4\n",
      "avg sim: 0.4280878739162119\n",
      "Layer_5\n",
      "avg sim: 0.41882533007226563\n"
     ]
    },
    {
     "data": {
      "image/png": "[encoded data removed]",
      "text/plain": [
       "<Figure size 1200x600 with 1 Axes>"
      ]
     },
     "metadata": {},
     "output_type": "display_data"
    },
    {
     "name": "stdout",
     "output_type": "stream",
     "text": [
      "\n",
      "Layer_1\n",
      "avg sim: 0.3584295341736107\n",
      "Layer_2\n",
      "avg sim: 0.4011301269249399\n",
      "Layer_3\n",
      "avg sim: 0.42656513144540936\n",
      "Layer_4\n",
      "avg sim: 0.4267903152132815\n",
      "Layer_5\n",
      "avg sim: 0.4202187155186228\n"
     ]
    },
    {
     "data": {
      "image/png": "[encoded data removed]",
      "text/plain": [
       "<Figure size 1200x600 with 1 Axes>"
      ]
     },
     "metadata": {},
     "output_type": "display_data"
    }
   ],
   "source": [
    "def sim_report(all_list):\n",
    "    all_sim_list = []\n",
    "    for i in range(5):\n",
    "        print(f'Layer_{i+1}')\n",
    "        list_to_eval = [[],[]]\n",
    "        for name_all_list in all_list:\n",
    "            label = name_all_list['label']\n",
    "        #     for n in name_all_list['layer']:\n",
    "            n = name_all_list['layer'][i]\n",
    "            names = n['names']\n",
    "            name_eval = names + [label]\n",
    "            # Get embeddings for all items, considering duplicates \n",
    "            all_items_embeddings = getSentenceEmbedding(name_eval, SapBERT_tokenizer, SapBERT_model)\n",
    "            # Calculate cosine similarity between all items\n",
    "            similarity_matrix = cosine_similarity(all_items_embeddings)[-1][:-1]\n",
    "            list_to_eval[0].extend(similarity_matrix)\n",
    "            list_to_eval[1].extend(n['frequency'])\n",
    "        all_sim_list.append(list_to_eval[0])\n",
    "        print(f'avg sim: {sum(list_to_eval[0])/len(list_to_eval[0])}')\n",
    "    plt.figure(figsize=(12, 6))\n",
    "\n",
    "    # Box plot\n",
    "    plt.subplot(1, 2, 1)\n",
    "    sns.boxplot(data=all_sim_list)\n",
    "    plt.title('Box Plot of Similarity Scores by Layer')\n",
    "    plt.xlabel('Layer')\n",
    "    plt.ylabel('Similarity Score')\n",
    "\n",
    "    plt.xticks([0,1,2,3,4], [1,2,3,4,5])  # Set new labels\n",
    "    # Adjust layout and display the plots\n",
    "    plt.tight_layout()\n",
    "    plt.show()\n",
    "    \n",
    "sim_report(process_tot_results_gpt3_abla)\n",
    "print()\n",
    "sim_report(process_tot_results_gpt3)"
   ]
  },
  {
   "cell_type": "code",
   "execution_count": 98,
   "id": "516110c5",
   "metadata": {
    "scrolled": false
   },
   "outputs": [
    {
     "name": "stdout",
     "output_type": "stream",
     "text": [
      "tot_results_gpt3_abla05\n",
      "skip\n",
      "skip\n",
      "skip\n",
      "skip\n",
      "layer: 1, average_similarity: 0.4533761143684387\n",
      "skip\n",
      "skip\n",
      "skip\n",
      "layer: 2, average_similarity: 0.38237088521321616\n",
      "skip\n",
      "skip\n",
      "layer: 3, average_similarity: 0.2649385929107666\n",
      "skip\n",
      "skip\n",
      "layer: 4, average_similarity: 0.3671204249064128\n",
      "skip\n",
      "skip\n",
      "layer: 5, average_similarity: 0.4832983414332072\n",
      "\n",
      "tot_results_gpt3_abla08\n",
      "layer: 1, average_similarity: 0.4763530549548921\n",
      "layer: 2, average_similarity: 0.42401403850979275\n",
      "layer: 3, average_similarity: 0.5230084525214301\n",
      "layer: 4, average_similarity: 0.5077494303385417\n",
      "layer: 5, average_similarity: 0.4286104679107666\n",
      "\n",
      "tot_results_gpt3_abla098\n",
      "layer: 1, average_similarity: 0.5103974342346191\n",
      "layer: 2, average_similarity: 0.5171507321871244\n",
      "layer: 3, average_similarity: 0.47050966853983917\n",
      "layer: 4, average_similarity: 0.5689953193462715\n",
      "layer: 5, average_similarity: 0.517486572265625\n",
      "\n",
      "tot_results_abla_15gen_th09\n",
      "skip\n",
      "skip\n",
      "skip\n",
      "skip\n",
      "skip\n",
      "skip\n",
      "skip\n",
      "skip\n",
      "skip\n",
      "skip\n",
      "skip\n",
      "skip\n",
      "skip\n",
      "layer: 1, average_similarity: 0.4675939877827962\n",
      "skip\n",
      "skip\n",
      "skip\n",
      "skip\n",
      "skip\n",
      "skip\n",
      "skip\n",
      "skip\n",
      "layer: 2, average_similarity: 0.41870490709940594\n",
      "skip\n",
      "layer: 3, average_similarity: 0.5944794178009033\n",
      "layer: 4, average_similarity: 0.570690409342448\n",
      "layer: 5, average_similarity: 0.6094670613606771\n",
      "\n"
     ]
    }
   ],
   "source": [
    "import json\n",
    "# for item1, item2, item3 in [tot_results_gpt3_abla05, tot_results_gpt3_abla08, tot_results_gpt3_abla098]:\n",
    "\n",
    "def get_layer_sim_among_names(result):\n",
    "    for k in range(5):\n",
    "        sims = []\n",
    "        for item in result:\n",
    "            i = item['steps']['steps'][k]\n",
    "            layer_name = []\n",
    "            for y in i['sorted_grouped_items']:\n",
    "                first_names = y[1]['grouped_names'].split(', ')[0]\n",
    "                layer_name.append(first_names)\n",
    "#             print(layer_name)\n",
    "            all_items_embeddings = getSentenceEmbedding(layer_name, SapBERT_tokenizer, SapBERT_model)\n",
    "            # Calculate cosine similarity between all items\n",
    "            similarity_matrix = cosine_similarity(all_items_embeddings)\n",
    "            # Calculate the sum of all pairwise similarities, excluding self-comparisons\n",
    "            sum_of_similarities = np.sum(similarity_matrix) - np.trace(similarity_matrix)\n",
    "#             print(similarity_matrix)\n",
    "            # Calculate the number of comparisons (excluding self-comparisons)\n",
    "            num_comparisons = len(layer_name) * (len(layer_name) - 1)\n",
    "#             error\n",
    "            if num_comparisons == 0:\n",
    "                print('skip')\n",
    "                continue\n",
    "            # Calculate the average similarity\n",
    "            average_similarity = sum_of_similarities / num_comparisons\n",
    "#             print(average_similarity)\n",
    "            sims.append(average_similarity)\n",
    "        print(f'layer: {k+1}, average_similarity: {average_similarity}')\n",
    "        \n",
    "        \n",
    "print('tot_results_gpt3_abla05')\n",
    "get_layer_sim_among_names(tot_results_gpt3_abla05)\n",
    "print()            \n",
    "\n",
    "print('tot_results_gpt3_abla08')\n",
    "get_layer_sim_among_names(tot_results_gpt3_abla08)\n",
    "print()\n",
    "\n",
    "print('tot_results_gpt3_abla098')\n",
    "get_layer_sim_among_names(tot_results_gpt3_abla098)\n",
    "print()\n",
    "\n",
    "print('tot_results_abla_15gen_th09')\n",
    "get_layer_sim_among_names(tot_results_abla_15gen_th09)\n",
    "print()"
   ]
  },
  {
   "cell_type": "code",
   "execution_count": 107,
   "id": "a0107d8c",
   "metadata": {},
   "outputs": [
    {
     "data": {
      "text/plain": [
       "array([1., 2., 3.])"
      ]
     },
     "execution_count": 107,
     "metadata": {},
     "output_type": "execute_result"
    }
   ],
   "source": [
    "\n",
    "import json\n",
    "from transformers import AutoTokenizer, AutoModel\n",
    "from sklearn.metrics.pairwise import cosine_similarity\n",
    "import torch\n",
    "from collections import Counter, defaultdict\n",
    "from typing import List\n",
    "    \n",
    "import numpy as np\n",
    "\n",
    "def explore_step_threshold_random_sample(ys_list: List[List[str]], exploration_rate: float=0.1) -> List:\n",
    "    '''\n",
    "    ys_list should be an array of num_samples x num_bio_processes (in our case, 3)\n",
    "    We want do sampling over each column of ys_list, i.e. for each bio_process index\n",
    "    For each bio process index, with probability exploration_rate, choose a random term from the column;\n",
    "    with probability 1-exploration_rate, choose the term with the highest frequency\n",
    "    '''\n",
    "\n",
    "    num_samples = len(ys_list)\n",
    "    num_bio_processes = len(ys_list[0])\n",
    "    results = np.zeros(num_bio_processes)\n",
    "    for i in range(num_bio_processes):\n",
    "        bio_process_terms = [ys_list[j][i] for j in range(num_samples)]\n",
    "        if np.random.rand() < exploration_rate:\n",
    "            results[i] = np.random.choice(bio_process_terms)\n",
    "        else:\n",
    "            results[i] = Counter(bio_process_terms).most_common(1)[0][0]\n",
    "    return results\n",
    "\n",
    "ys = [\n",
    "        [1, 2, 3],\n",
    "        [1, 2, 3],\n",
    "        [3, 2, 1],\n",
    "        [3, 1, 2],\n",
    "        [2, 1, 3],\n",
    "      ]\n",
    "explore_step_threshold_random_sample(ys, 0.0)"
   ]
  },
  {
   "cell_type": "code",
   "execution_count": null,
   "id": "83feeb23",
   "metadata": {},
   "outputs": [],
   "source": []
  }
 ],
 "metadata": {
  "kernelspec": {
   "display_name": "Python 3 (ipykernel)",
   "language": "python",
   "name": "python3"
  },
  "language_info": {
   "codemirror_mode": {
    "name": "ipython",
    "version": 3
   },
   "file_extension": ".py",
   "mimetype": "text/x-python",
   "name": "python",
   "nbconvert_exporter": "python",
   "pygments_lexer": "ipython3",
   "version": "3.11.4"
  }
 },
 "nbformat": 4,
 "nbformat_minor": 5
}
